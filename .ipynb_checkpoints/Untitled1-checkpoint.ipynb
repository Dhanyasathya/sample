{
 "cells": [
  {
   "cell_type": "code",
   "execution_count": 1,
   "metadata": {},
   "outputs": [],
   "source": [
    "import numpy as np\n",
    "from flask import Flask, request, jsonify, render_template, url_for\n",
    "import pickle\n",
    "import matplotlib\n",
    "matplotlib.use('Agg')\n",
    "import matplotlib.pyplot as plt\n",
    "from io import BytesIO\n",
    "import base64\n",
    "import pandas as pd\n",
    "from datetime import datetime as dt\n",
    "import pandas_gbq\n",
    "import pandas as pd"
   ]
  },
  {
   "cell_type": "code",
   "execution_count": 2,
   "metadata": {},
   "outputs": [
    {
     "name": "stderr",
     "output_type": "stream",
     "text": [
      "UsageError: Cell magic `%%bigquery` not found.\n"
     ]
    }
   ],
   "source": [
    "%%bigquery graph\n",
    "select * from arvind_dataset.arvind_datasets"
   ]
  },
  {
   "cell_type": "code",
   "execution_count": 3,
   "metadata": {},
   "outputs": [
    {
     "ename": "SyntaxError",
     "evalue": "invalid syntax (<ipython-input-3-cbebccc1d9f6>, line 15)",
     "output_type": "error",
     "traceback": [
      "\u001b[1;36m  File \u001b[1;32m\"<ipython-input-3-cbebccc1d9f6>\"\u001b[1;36m, line \u001b[1;32m15\u001b[0m\n\u001b[1;33m    select * from arvind_dataset.arvind_datasets\u001b[0m\n\u001b[1;37m                ^\u001b[0m\n\u001b[1;31mSyntaxError\u001b[0m\u001b[1;31m:\u001b[0m invalid syntax\n"
     ]
    }
   ],
   "source": [
    "import numpy as np\n",
    "from flask import Flask, request, jsonify, render_template, url_for\n",
    "import pickle\n",
    "import matplotlib\n",
    "matplotlib.use('Agg')\n",
    "import matplotlib.pyplot as plt\n",
    "from io import BytesIO\n",
    "import base64\n",
    "import pandas as pd\n",
    "from datetime import datetime as dt\n",
    "import pandas_gbq\n",
    "import pandas as pd\n",
    "\n",
    "%%bigquery graph\n",
    "select * from arvind_dataset.arvind_datasets\n",
    "\n",
    "# global graph\n",
    "# project_id = \"arvind-machinelearning-dhanya\"\n",
    "# graph = pandas_gbq.read_gbq('SELECT * FROM predicted_value.df', project_id=project_id\n",
    "#                           )\n",
    "\n",
    "#from regression import final_value\n",
    "\n",
    "#global final_value\n",
    "app = Flask(__name__)\n",
    "model = pickle.load(open('classifier.pkl','rb'))\n",
    "\n",
    "\n",
    "@app.route('/')\n",
    "def home():\n",
    "    #return 'Hello World'\n",
    "    return render_template('home.html')\n",
    "    #return render_template('index.html')\n",
    "\n",
    "@app.route('/predict',methods = ['POST'])\n",
    "def predict():\n",
    "    int_features = [x for x in request.form.values()]\n",
    "    final_features = [np.array(int_features)]\n",
    "    store_id = final_features[0][0]\n",
    "    date_value = str(final_features[0][1])\n",
    "    df_foo = pd.DataFrame([date_value],columns=['string_val'])\n",
    "    date_final = pd.to_datetime(df_foo[\"string_val\"])\n",
    "    df_foo[\"Year\"] = date_final.dt.year\n",
    "    df_foo[\"Month\"] = date_final.dt.month\n",
    "    df_foo[\"Day\"] = date_final.dt.day\n",
    "    df_foo[\"Week\"] = date_final.dt.week\n",
    "    print(df_foo.head())\n",
    "    pred = [x for x in df_foo.columns if x  in ['Year' , 'Month' , 'Day' , 'Week']]\n",
    "\n",
    "    prediction = model.predict(df_foo[pred])\n",
    "    output_val = np.exp(prediction)\n",
    "    print(prediction[0])\n",
    "\n",
    "    #output = round(prediction[0], 2)\n",
    "    return render_template('home.html', prediction_text=\"Predicted Sales values is {}\".format(output_val[0]))\n",
    "\n",
    "@app.route('/predict_api',methods=['POST'])\n",
    "def predict_api():\n",
    "    '''\n",
    "    For direct API calls trought request\n",
    "    '''\n",
    "    data = request.get_json(force=True)\n",
    "    prediction = model.predict([np.array(list(data.values()))])\n",
    "\n",
    "    output = prediction[0]\n",
    "    return jsonify(output)\n",
    "\n",
    "@app.route('/plot',methods=['GET','POST'])\n",
    "\n",
    "def plot():\n",
    "        \n",
    "        img = BytesIO()\n",
    "        dtf = pd.DataFrame.from_records(graph,columns=['BUSINESS_DATE','predict_sales_real', 'act_sales_real'])\n",
    "        dtf.plot(x='BUSINESS_DATE', y=['predict_sales_real', 'act_sales_real'], figsize=(10,5), grid=True)\n",
    "        fig = plt.gcf()\n",
    "        fig.savefig(img, format='png')\n",
    "        plt.close()\n",
    "        img.seek(0)\n",
    "        plot_url = base64.b64encode(img.getvalue()).decode('utf8')\n",
    "\n",
    "        return render_template('plot.html', plot_url=plot_url)\n",
    "\n",
    "if __name__ == '__main__':\n",
    "    app.run(debug=True)"
   ]
  },
  {
   "cell_type": "code",
   "execution_count": null,
   "metadata": {},
   "outputs": [],
   "source": []
  }
 ],
 "metadata": {
  "kernelspec": {
   "display_name": "Python 3",
   "language": "python",
   "name": "python3"
  },
  "language_info": {
   "codemirror_mode": {
    "name": "ipython",
    "version": 3
   },
   "file_extension": ".py",
   "mimetype": "text/x-python",
   "name": "python",
   "nbconvert_exporter": "python",
   "pygments_lexer": "ipython3",
   "version": "3.7.4"
  }
 },
 "nbformat": 4,
 "nbformat_minor": 2
}
