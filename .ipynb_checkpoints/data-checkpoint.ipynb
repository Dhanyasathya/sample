{
 "cells": [
  {
   "cell_type": "code",
   "execution_count": 23,
   "metadata": {},
   "outputs": [
    {
     "name": "stderr",
     "output_type": "stream",
     "text": [
      "Downloading: 100%|█████████████████████████████████████████████████████████| 329055/329055 [01:41<00:00, 3257.92rows/s]\n"
     ]
    },
    {
     "name": "stdout",
     "output_type": "stream",
     "text": [
      "<class 'pandas.core.frame.DataFrame'>\n",
      "RangeIndex: 329055 entries, 0 to 329054\n",
      "Data columns (total 37 columns):\n",
      "CHANNEL            329055 non-null object\n",
      "SAP_STORE_ID       329055 non-null object\n",
      "XSTORE_STORE_ID    329055 non-null int64\n",
      "STORE_NAME         329055 non-null object\n",
      "OWNERSHIP_TYPE     329055 non-null object\n",
      "CITY               329055 non-null object\n",
      "STATE              329055 non-null object\n",
      "GSTIN_NO           329055 non-null object\n",
      "OLD_INVOICE_NO     329055 non-null int64\n",
      "NEW_INVOICE_NO     329055 non-null int64\n",
      "BUSINESS_DATE      329055 non-null datetime64[ns]\n",
      "SALE_TYPE          329055 non-null object\n",
      "BRAND              325846 non-null object\n",
      "SUBBRAND           325846 non-null object\n",
      "CLASS              317302 non-null object\n",
      "SUB_CLASS          321787 non-null object\n",
      "MATERIAL_TYPE      329008 non-null object\n",
      "MANUFACTURER       323153 non-null object\n",
      "BARCODE            325825 non-null float64\n",
      "ITEM               329055 non-null object\n",
      "STYLE              329055 non-null object\n",
      "MRP                329055 non-null float64\n",
      "QUANTITY           329055 non-null int64\n",
      "DISCOUNT           329055 non-null float64\n",
      "TAXABLE_AMOUNT     329053 non-null float64\n",
      "HSN_CODE           328330 non-null float64\n",
      "SGST               328975 non-null float64\n",
      "CGST               328975 non-null float64\n",
      "IGST               328975 non-null float64\n",
      "CESS               329055 non-null float64\n",
      "TAX_RATE           328975 non-null float64\n",
      "NET_AMOUNT         329053 non-null float64\n",
      "ORDER_TYPE         329055 non-null object\n",
      "EXTERNAL_SYSTEM    329053 non-null object\n",
      "AIL_ORDER_ID       73752 non-null object\n",
      "AIL_ORDER_STATE    64152 non-null object\n",
      "PO_REF_NBR         329055 non-null object\n",
      "dtypes: datetime64[ns](1), float64(11), int64(4), object(21)\n",
      "memory usage: 92.9+ MB\n"
     ]
    },
    {
     "data": {
      "text/html": [
       "<div>\n",
       "<style scoped>\n",
       "    .dataframe tbody tr th:only-of-type {\n",
       "        vertical-align: middle;\n",
       "    }\n",
       "\n",
       "    .dataframe tbody tr th {\n",
       "        vertical-align: top;\n",
       "    }\n",
       "\n",
       "    .dataframe thead th {\n",
       "        text-align: right;\n",
       "    }\n",
       "</style>\n",
       "<table border=\"1\" class=\"dataframe\">\n",
       "  <thead>\n",
       "    <tr style=\"text-align: right;\">\n",
       "      <th></th>\n",
       "      <th>CHANNEL</th>\n",
       "      <th>SAP_STORE_ID</th>\n",
       "      <th>XSTORE_STORE_ID</th>\n",
       "      <th>STORE_NAME</th>\n",
       "      <th>OWNERSHIP_TYPE</th>\n",
       "      <th>CITY</th>\n",
       "      <th>STATE</th>\n",
       "      <th>GSTIN_NO</th>\n",
       "      <th>OLD_INVOICE_NO</th>\n",
       "      <th>NEW_INVOICE_NO</th>\n",
       "      <th>...</th>\n",
       "      <th>CGST</th>\n",
       "      <th>IGST</th>\n",
       "      <th>CESS</th>\n",
       "      <th>TAX_RATE</th>\n",
       "      <th>NET_AMOUNT</th>\n",
       "      <th>ORDER_TYPE</th>\n",
       "      <th>EXTERNAL_SYSTEM</th>\n",
       "      <th>AIL_ORDER_ID</th>\n",
       "      <th>AIL_ORDER_STATE</th>\n",
       "      <th>PO_REF_NBR</th>\n",
       "    </tr>\n",
       "  </thead>\n",
       "  <tbody>\n",
       "    <tr>\n",
       "      <td>0</td>\n",
       "      <td>EB</td>\n",
       "      <td>7501</td>\n",
       "      <td>7501</td>\n",
       "      <td>ColeHaan Moi</td>\n",
       "      <td>OWN STORE</td>\n",
       "      <td>NOIDA</td>\n",
       "      <td>UTTAR PRADESH</td>\n",
       "      <td>09AAACH7252A1ZX</td>\n",
       "      <td>75010011828</td>\n",
       "      <td>7501010001828</td>\n",
       "      <td>...</td>\n",
       "      <td>0.0</td>\n",
       "      <td>0.0</td>\n",
       "      <td>0.0</td>\n",
       "      <td>0.0</td>\n",
       "      <td>9498.5</td>\n",
       "      <td>TATACLIQ</td>\n",
       "      <td>FMS</td>\n",
       "      <td>200815-008-596161</td>\n",
       "      <td>124904011160110</td>\n",
       "      <td>7501FC200816</td>\n",
       "    </tr>\n",
       "    <tr>\n",
       "      <td>1</td>\n",
       "      <td>EB</td>\n",
       "      <td>7501</td>\n",
       "      <td>7501</td>\n",
       "      <td>ColeHaan Moi</td>\n",
       "      <td>OWN STORE</td>\n",
       "      <td>NOIDA</td>\n",
       "      <td>UTTAR PRADESH</td>\n",
       "      <td>09AAACH7252A1ZX</td>\n",
       "      <td>75010011833</td>\n",
       "      <td>7501010001833</td>\n",
       "      <td>...</td>\n",
       "      <td>0.0</td>\n",
       "      <td>0.0</td>\n",
       "      <td>0.0</td>\n",
       "      <td>0.0</td>\n",
       "      <td>6498.5</td>\n",
       "      <td>TATACLIQ</td>\n",
       "      <td>FMS</td>\n",
       "      <td>200815-008-596889</td>\n",
       "      <td>124904011161638</td>\n",
       "      <td>7501FC200816</td>\n",
       "    </tr>\n",
       "    <tr>\n",
       "      <td>2</td>\n",
       "      <td>EB</td>\n",
       "      <td>7501</td>\n",
       "      <td>7501</td>\n",
       "      <td>ColeHaan Moi</td>\n",
       "      <td>OWN STORE</td>\n",
       "      <td>NOIDA</td>\n",
       "      <td>UTTAR PRADESH</td>\n",
       "      <td>09AAACH7252A1ZX</td>\n",
       "      <td>75010011838</td>\n",
       "      <td>7501010001838</td>\n",
       "      <td>...</td>\n",
       "      <td>0.0</td>\n",
       "      <td>0.0</td>\n",
       "      <td>0.0</td>\n",
       "      <td>0.0</td>\n",
       "      <td>9498.5</td>\n",
       "      <td>TATACLIQ</td>\n",
       "      <td>FMS</td>\n",
       "      <td>200816-008-614235</td>\n",
       "      <td>124904011196215</td>\n",
       "      <td>7501FC200816</td>\n",
       "    </tr>\n",
       "    <tr>\n",
       "      <td>3</td>\n",
       "      <td>EB</td>\n",
       "      <td>7501</td>\n",
       "      <td>7501</td>\n",
       "      <td>ColeHaan Moi</td>\n",
       "      <td>OWN STORE</td>\n",
       "      <td>NOIDA</td>\n",
       "      <td>UTTAR PRADESH</td>\n",
       "      <td>09AAACH7252A1ZX</td>\n",
       "      <td>75010011855</td>\n",
       "      <td>7501010001855</td>\n",
       "      <td>...</td>\n",
       "      <td>0.0</td>\n",
       "      <td>0.0</td>\n",
       "      <td>0.0</td>\n",
       "      <td>0.0</td>\n",
       "      <td>7498.5</td>\n",
       "      <td>TATACLIQ</td>\n",
       "      <td>FMS</td>\n",
       "      <td>200817-008-642963</td>\n",
       "      <td>124904011252064</td>\n",
       "      <td>7501FC200817</td>\n",
       "    </tr>\n",
       "    <tr>\n",
       "      <td>4</td>\n",
       "      <td>EC</td>\n",
       "      <td>7502</td>\n",
       "      <td>7502</td>\n",
       "      <td>Cole Haan- Palladium</td>\n",
       "      <td>OWN STORE</td>\n",
       "      <td>MUMBAI</td>\n",
       "      <td>MAHARASHTRA</td>\n",
       "      <td>27AAACH7252A1ZZ</td>\n",
       "      <td>75020012078</td>\n",
       "      <td>7502010002078</td>\n",
       "      <td>...</td>\n",
       "      <td>0.0</td>\n",
       "      <td>0.0</td>\n",
       "      <td>0.0</td>\n",
       "      <td>0.0</td>\n",
       "      <td>17999.0</td>\n",
       "      <td>TATACLIQ</td>\n",
       "      <td>FMS</td>\n",
       "      <td>200818-008-657583</td>\n",
       "      <td>124904011277252</td>\n",
       "      <td>7502FC200819</td>\n",
       "    </tr>\n",
       "  </tbody>\n",
       "</table>\n",
       "<p>5 rows × 37 columns</p>\n",
       "</div>"
      ],
      "text/plain": [
       "  CHANNEL SAP_STORE_ID  XSTORE_STORE_ID            STORE_NAME OWNERSHIP_TYPE  \\\n",
       "0      EB         7501             7501          ColeHaan Moi      OWN STORE   \n",
       "1      EB         7501             7501          ColeHaan Moi      OWN STORE   \n",
       "2      EB         7501             7501          ColeHaan Moi      OWN STORE   \n",
       "3      EB         7501             7501          ColeHaan Moi      OWN STORE   \n",
       "4      EC         7502             7502  Cole Haan- Palladium      OWN STORE   \n",
       "\n",
       "     CITY          STATE         GSTIN_NO  OLD_INVOICE_NO  NEW_INVOICE_NO  \\\n",
       "0   NOIDA  UTTAR PRADESH  09AAACH7252A1ZX     75010011828   7501010001828   \n",
       "1   NOIDA  UTTAR PRADESH  09AAACH7252A1ZX     75010011833   7501010001833   \n",
       "2   NOIDA  UTTAR PRADESH  09AAACH7252A1ZX     75010011838   7501010001838   \n",
       "3   NOIDA  UTTAR PRADESH  09AAACH7252A1ZX     75010011855   7501010001855   \n",
       "4  MUMBAI    MAHARASHTRA  27AAACH7252A1ZZ     75020012078   7502010002078   \n",
       "\n",
       "   ... CGST IGST CESS TAX_RATE NET_AMOUNT ORDER_TYPE EXTERNAL_SYSTEM  \\\n",
       "0  ...  0.0  0.0  0.0      0.0     9498.5   TATACLIQ             FMS   \n",
       "1  ...  0.0  0.0  0.0      0.0     6498.5   TATACLIQ             FMS   \n",
       "2  ...  0.0  0.0  0.0      0.0     9498.5   TATACLIQ             FMS   \n",
       "3  ...  0.0  0.0  0.0      0.0     7498.5   TATACLIQ             FMS   \n",
       "4  ...  0.0  0.0  0.0      0.0    17999.0   TATACLIQ             FMS   \n",
       "\n",
       "        AIL_ORDER_ID  AIL_ORDER_STATE    PO_REF_NBR  \n",
       "0  200815-008-596161  124904011160110  7501FC200816  \n",
       "1  200815-008-596889  124904011161638  7501FC200816  \n",
       "2  200816-008-614235  124904011196215  7501FC200816  \n",
       "3  200817-008-642963  124904011252064  7501FC200817  \n",
       "4  200818-008-657583  124904011277252  7502FC200819  \n",
       "\n",
       "[5 rows x 37 columns]"
      ]
     },
     "execution_count": 23,
     "metadata": {},
     "output_type": "execute_result"
    }
   ],
   "source": [
    "import pandas_gbq\n",
    "\n",
    "project_id = \"arvind-machinelearning-dhanya\"\n",
    "\n",
    "df = pandas_gbq.read_gbq('SELECT * FROM arvind_dataset.arvind_datasets', project_id=project_id,\n",
    "                         dialect='legacy')\n",
    "\n",
    "df.info()\n",
    "df.head()"
   ]
  },
  {
   "cell_type": "code",
   "execution_count": 25,
   "metadata": {},
   "outputs": [],
   "source": [
    "df.head()\n",
    "sample = df"
   ]
  },
  {
   "cell_type": "code",
   "execution_count": 27,
   "metadata": {},
   "outputs": [
    {
     "name": "stdout",
     "output_type": "stream",
     "text": [
      "<class 'pandas.core.frame.DataFrame'>\n",
      "RangeIndex: 329055 entries, 0 to 329054\n",
      "Data columns (total 37 columns):\n",
      "CHANNEL            329055 non-null object\n",
      "SAP_STORE_ID       329055 non-null object\n",
      "XSTORE_STORE_ID    329055 non-null int64\n",
      "STORE_NAME         329055 non-null object\n",
      "OWNERSHIP_TYPE     329055 non-null object\n",
      "CITY               329055 non-null object\n",
      "STATE              329055 non-null object\n",
      "GSTIN_NO           329055 non-null object\n",
      "OLD_INVOICE_NO     329055 non-null int64\n",
      "NEW_INVOICE_NO     329055 non-null int64\n",
      "BUSINESS_DATE      329055 non-null datetime64[ns]\n",
      "SALE_TYPE          329055 non-null object\n",
      "BRAND              325846 non-null object\n",
      "SUBBRAND           325846 non-null object\n",
      "CLASS              317302 non-null object\n",
      "SUB_CLASS          321787 non-null object\n",
      "MATERIAL_TYPE      329008 non-null object\n",
      "MANUFACTURER       323153 non-null object\n",
      "BARCODE            325825 non-null float64\n",
      "ITEM               329055 non-null object\n",
      "STYLE              329055 non-null object\n",
      "MRP                329055 non-null float64\n",
      "QUANTITY           329055 non-null int64\n",
      "DISCOUNT           329055 non-null float64\n",
      "TAXABLE_AMOUNT     329053 non-null float64\n",
      "HSN_CODE           328330 non-null float64\n",
      "SGST               328975 non-null float64\n",
      "CGST               328975 non-null float64\n",
      "IGST               328975 non-null float64\n",
      "CESS               329055 non-null float64\n",
      "TAX_RATE           328975 non-null float64\n",
      "NET_AMOUNT         329053 non-null float64\n",
      "ORDER_TYPE         329055 non-null object\n",
      "EXTERNAL_SYSTEM    329053 non-null object\n",
      "AIL_ORDER_ID       73752 non-null object\n",
      "AIL_ORDER_STATE    64152 non-null object\n",
      "PO_REF_NBR         329055 non-null object\n",
      "dtypes: datetime64[ns](1), float64(11), int64(4), object(21)\n",
      "memory usage: 92.9+ MB\n"
     ]
    }
   ],
   "source": [
    "sample.head()\n",
    "sample.info()"
   ]
  },
  {
   "cell_type": "code",
   "execution_count": 13,
   "metadata": {},
   "outputs": [
    {
     "data": {
      "text/html": [
       "<div>\n",
       "<style scoped>\n",
       "    .dataframe tbody tr th:only-of-type {\n",
       "        vertical-align: middle;\n",
       "    }\n",
       "\n",
       "    .dataframe tbody tr th {\n",
       "        vertical-align: top;\n",
       "    }\n",
       "\n",
       "    .dataframe thead th {\n",
       "        text-align: right;\n",
       "    }\n",
       "</style>\n",
       "<table border=\"1\" class=\"dataframe\">\n",
       "  <thead>\n",
       "    <tr style=\"text-align: right;\">\n",
       "      <th></th>\n",
       "      <th>CHANNEL</th>\n",
       "      <th>SAP_STORE_ID</th>\n",
       "      <th>XSTORE_STORE_ID</th>\n",
       "      <th>STORE_NAME</th>\n",
       "      <th>OWNERSHIP_TYPE</th>\n",
       "      <th>CITY</th>\n",
       "      <th>STATE</th>\n",
       "      <th>GSTIN NO</th>\n",
       "      <th>OLD_INVOICE NO</th>\n",
       "      <th>NEW_INVOICE NO</th>\n",
       "      <th>...</th>\n",
       "      <th>CGST</th>\n",
       "      <th>IGST</th>\n",
       "      <th>CESS</th>\n",
       "      <th>TAX RATE</th>\n",
       "      <th>NET AMOUNT</th>\n",
       "      <th>ORDER TYPE</th>\n",
       "      <th>EXTERNAL SYSTEM</th>\n",
       "      <th>AIL_ORDER_ID</th>\n",
       "      <th>AIL_ORDER_STATE</th>\n",
       "      <th>PO_REF_NBR</th>\n",
       "    </tr>\n",
       "  </thead>\n",
       "  <tbody>\n",
       "    <tr>\n",
       "      <td>0</td>\n",
       "      <td>EO</td>\n",
       "      <td>116495</td>\n",
       "      <td>40137</td>\n",
       "      <td>USPA BHAVNAGAR</td>\n",
       "      <td>FRANCHISEE</td>\n",
       "      <td>BHAVNAGAR</td>\n",
       "      <td>GUJARAT</td>\n",
       "      <td>24AOCPS9271B1ZZ</td>\n",
       "      <td>4.013700e+11</td>\n",
       "      <td>4.013700e+13</td>\n",
       "      <td>...</td>\n",
       "      <td>0.05</td>\n",
       "      <td>0.0</td>\n",
       "      <td>0.0</td>\n",
       "      <td>12.0</td>\n",
       "      <td>1.0</td>\n",
       "      <td>POS</td>\n",
       "      <td>FMS</td>\n",
       "      <td>NaN</td>\n",
       "      <td>NaN</td>\n",
       "      <td>116495US2008241270</td>\n",
       "    </tr>\n",
       "    <tr>\n",
       "      <td>1</td>\n",
       "      <td>ER</td>\n",
       "      <td>115770</td>\n",
       "      <td>4893</td>\n",
       "      <td>US FM-TRENDSET FASHIONS</td>\n",
       "      <td>FRANCHISEE</td>\n",
       "      <td>NELLORE</td>\n",
       "      <td>ANDHRA PRADESH</td>\n",
       "      <td>37AAKFT7621C1Z5</td>\n",
       "      <td>4.893001e+10</td>\n",
       "      <td>4.893010e+12</td>\n",
       "      <td>...</td>\n",
       "      <td>0.08</td>\n",
       "      <td>0.0</td>\n",
       "      <td>0.0</td>\n",
       "      <td>18.0</td>\n",
       "      <td>1.0</td>\n",
       "      <td>POS</td>\n",
       "      <td>SAP</td>\n",
       "      <td>NaN</td>\n",
       "      <td>NaN</td>\n",
       "      <td>115770US2008241270</td>\n",
       "    </tr>\n",
       "    <tr>\n",
       "      <td>2</td>\n",
       "      <td>EB</td>\n",
       "      <td>111729</td>\n",
       "      <td>3108</td>\n",
       "      <td>KAPSONS AGENGIES PVT LTD</td>\n",
       "      <td>FRANCHISEE</td>\n",
       "      <td>CHANDIGARH</td>\n",
       "      <td>CHANDIGARH</td>\n",
       "      <td>04AACCK3368C1ZX</td>\n",
       "      <td>3.108001e+10</td>\n",
       "      <td>3.108010e+12</td>\n",
       "      <td>...</td>\n",
       "      <td>80.30</td>\n",
       "      <td>0.0</td>\n",
       "      <td>0.0</td>\n",
       "      <td>12.0</td>\n",
       "      <td>1499.0</td>\n",
       "      <td>POS</td>\n",
       "      <td>FMS</td>\n",
       "      <td>NaN</td>\n",
       "      <td>NaN</td>\n",
       "      <td>111729UK2008241270</td>\n",
       "    </tr>\n",
       "    <tr>\n",
       "      <td>3</td>\n",
       "      <td>EB</td>\n",
       "      <td>116195</td>\n",
       "      <td>3160</td>\n",
       "      <td>USPA KIDS-FM VASANT KUNJ</td>\n",
       "      <td>OWN STORE</td>\n",
       "      <td>New delhi</td>\n",
       "      <td>NEW DELHI</td>\n",
       "      <td>07AAACH7252A1Z1</td>\n",
       "      <td>3.160002e+10</td>\n",
       "      <td>3.160010e+12</td>\n",
       "      <td>...</td>\n",
       "      <td>80.30</td>\n",
       "      <td>0.0</td>\n",
       "      <td>0.0</td>\n",
       "      <td>12.0</td>\n",
       "      <td>1499.0</td>\n",
       "      <td>POS</td>\n",
       "      <td>FMS</td>\n",
       "      <td>NaN</td>\n",
       "      <td>NaN</td>\n",
       "      <td>116195UK2008241270</td>\n",
       "    </tr>\n",
       "    <tr>\n",
       "      <td>4</td>\n",
       "      <td>ER</td>\n",
       "      <td>115934</td>\n",
       "      <td>4915</td>\n",
       "      <td>USPA CIVIL LINES ALLAHABAD</td>\n",
       "      <td>FRANCHISEE</td>\n",
       "      <td>ALLAHABAD</td>\n",
       "      <td>UTTAR PRADESH</td>\n",
       "      <td>09AAKCA1885G1ZF</td>\n",
       "      <td>4.915002e+10</td>\n",
       "      <td>4.915010e+12</td>\n",
       "      <td>...</td>\n",
       "      <td>70.68</td>\n",
       "      <td>0.0</td>\n",
       "      <td>0.0</td>\n",
       "      <td>12.0</td>\n",
       "      <td>1319.4</td>\n",
       "      <td>POS</td>\n",
       "      <td>SAP</td>\n",
       "      <td>NaN</td>\n",
       "      <td>NaN</td>\n",
       "      <td>115934UD2008241270</td>\n",
       "    </tr>\n",
       "  </tbody>\n",
       "</table>\n",
       "<p>5 rows × 37 columns</p>\n",
       "</div>"
      ],
      "text/plain": [
       "  CHANNEL SAP_STORE_ID  XSTORE_STORE_ID                  STORE_NAME  \\\n",
       "0      EO       116495            40137              USPA BHAVNAGAR   \n",
       "1      ER       115770             4893     US FM-TRENDSET FASHIONS   \n",
       "2      EB       111729             3108    KAPSONS AGENGIES PVT LTD   \n",
       "3      EB       116195             3160    USPA KIDS-FM VASANT KUNJ   \n",
       "4      ER       115934             4915  USPA CIVIL LINES ALLAHABAD   \n",
       "\n",
       "  OWNERSHIP_TYPE        CITY           STATE         GSTIN NO  OLD_INVOICE NO  \\\n",
       "0     FRANCHISEE   BHAVNAGAR         GUJARAT  24AOCPS9271B1ZZ    4.013700e+11   \n",
       "1     FRANCHISEE     NELLORE  ANDHRA PRADESH  37AAKFT7621C1Z5    4.893001e+10   \n",
       "2     FRANCHISEE  CHANDIGARH      CHANDIGARH  04AACCK3368C1ZX    3.108001e+10   \n",
       "3      OWN STORE   New delhi       NEW DELHI  07AAACH7252A1Z1    3.160002e+10   \n",
       "4     FRANCHISEE   ALLAHABAD   UTTAR PRADESH  09AAKCA1885G1ZF    4.915002e+10   \n",
       "\n",
       "   NEW_INVOICE NO  ...   CGST IGST CESS TAX RATE NET AMOUNT ORDER TYPE  \\\n",
       "0    4.013700e+13  ...   0.05  0.0  0.0     12.0        1.0        POS   \n",
       "1    4.893010e+12  ...   0.08  0.0  0.0     18.0        1.0        POS   \n",
       "2    3.108010e+12  ...  80.30  0.0  0.0     12.0     1499.0        POS   \n",
       "3    3.160010e+12  ...  80.30  0.0  0.0     12.0     1499.0        POS   \n",
       "4    4.915010e+12  ...  70.68  0.0  0.0     12.0     1319.4        POS   \n",
       "\n",
       "  EXTERNAL SYSTEM AIL_ORDER_ID  AIL_ORDER_STATE          PO_REF_NBR  \n",
       "0             FMS          NaN              NaN  116495US2008241270  \n",
       "1             SAP          NaN              NaN  115770US2008241270  \n",
       "2             FMS          NaN              NaN  111729UK2008241270  \n",
       "3             FMS          NaN              NaN  116195UK2008241270  \n",
       "4             SAP          NaN              NaN  115934UD2008241270  \n",
       "\n",
       "[5 rows x 37 columns]"
      ]
     },
     "execution_count": 13,
     "metadata": {},
     "output_type": "execute_result"
    }
   ],
   "source": [
    "import pandas as pd\n",
    "train_data = pd.read_csv('ARV_XSTORE.csv')\n",
    "train_data.head()"
   ]
  },
  {
   "cell_type": "code",
   "execution_count": 22,
   "metadata": {},
   "outputs": [
    {
     "name": "stdout",
     "output_type": "stream",
     "text": [
      "<class 'pandas.core.frame.DataFrame'>\n",
      "RangeIndex: 329055 entries, 0 to 329054\n",
      "Data columns (total 37 columns):\n",
      "CHANNEL            329055 non-null object\n",
      "SAP_STORE_ID       329055 non-null object\n",
      "XSTORE_STORE_ID    329055 non-null int64\n",
      "STORE_NAME         329055 non-null object\n",
      "OWNERSHIP_TYPE     325657 non-null object\n",
      "CITY               329055 non-null object\n",
      "STATE              329055 non-null object\n",
      "GSTIN NO           329055 non-null object\n",
      "OLD_INVOICE NO     329055 non-null float64\n",
      "NEW_INVOICE NO     329055 non-null float64\n",
      "BUSINESS DATE      329055 non-null object\n",
      "SALE TYPE          329055 non-null object\n",
      "BRAND              325846 non-null object\n",
      "SUBBRAND           325846 non-null object\n",
      "CLASS              317302 non-null object\n",
      "SUB CLASS          321787 non-null object\n",
      "MATERIAL TYPE      329008 non-null object\n",
      "MANUFACTURER       323153 non-null object\n",
      "BARCODE            325825 non-null float64\n",
      "ITEM               329055 non-null object\n",
      "STYLE              329055 non-null object\n",
      "MRP                329055 non-null float64\n",
      "QUANTITY           329055 non-null int64\n",
      "DISCOUNT           329055 non-null float64\n",
      "TAXABLE AMOUNT     329053 non-null float64\n",
      "HSN CODE           328330 non-null float64\n",
      "SGST               328975 non-null float64\n",
      "CGST               328975 non-null float64\n",
      "IGST               328975 non-null float64\n",
      "CESS               329055 non-null float64\n",
      "TAX RATE           328975 non-null float64\n",
      "NET AMOUNT         329053 non-null float64\n",
      "ORDER TYPE         329055 non-null object\n",
      "EXTERNAL SYSTEM    329053 non-null object\n",
      "AIL_ORDER_ID       73752 non-null object\n",
      "AIL_ORDER_STATE    64152 non-null object\n",
      "PO_REF_NBR         329055 non-null object\n",
      "dtypes: float64(13), int64(2), object(22)\n",
      "memory usage: 92.9+ MB\n"
     ]
    }
   ],
   "source": [
    "train_data.info()"
   ]
  },
  {
   "cell_type": "raw",
   "metadata": {},
   "source": [
    "train_data[\"CHANNEL\"]"
   ]
  },
  {
   "cell_type": "code",
   "execution_count": 16,
   "metadata": {},
   "outputs": [
    {
     "ename": "KeyError",
     "evalue": "'BUSINESS_DATE'",
     "output_type": "error",
     "traceback": [
      "\u001b[1;31m---------------------------------------------------------------------------\u001b[0m",
      "\u001b[1;31mKeyError\u001b[0m                                  Traceback (most recent call last)",
      "\u001b[1;32m~\\AppData\\Local\\Continuum\\anaconda3\\lib\\site-packages\\pandas\\core\\indexes\\base.py\u001b[0m in \u001b[0;36mget_loc\u001b[1;34m(self, key, method, tolerance)\u001b[0m\n\u001b[0;32m   2896\u001b[0m             \u001b[1;32mtry\u001b[0m\u001b[1;33m:\u001b[0m\u001b[1;33m\u001b[0m\u001b[1;33m\u001b[0m\u001b[0m\n\u001b[1;32m-> 2897\u001b[1;33m                 \u001b[1;32mreturn\u001b[0m \u001b[0mself\u001b[0m\u001b[1;33m.\u001b[0m\u001b[0m_engine\u001b[0m\u001b[1;33m.\u001b[0m\u001b[0mget_loc\u001b[0m\u001b[1;33m(\u001b[0m\u001b[0mkey\u001b[0m\u001b[1;33m)\u001b[0m\u001b[1;33m\u001b[0m\u001b[1;33m\u001b[0m\u001b[0m\n\u001b[0m\u001b[0;32m   2898\u001b[0m             \u001b[1;32mexcept\u001b[0m \u001b[0mKeyError\u001b[0m\u001b[1;33m:\u001b[0m\u001b[1;33m\u001b[0m\u001b[1;33m\u001b[0m\u001b[0m\n",
      "\u001b[1;32mpandas\\_libs\\index.pyx\u001b[0m in \u001b[0;36mpandas._libs.index.IndexEngine.get_loc\u001b[1;34m()\u001b[0m\n",
      "\u001b[1;32mpandas\\_libs\\index.pyx\u001b[0m in \u001b[0;36mpandas._libs.index.IndexEngine.get_loc\u001b[1;34m()\u001b[0m\n",
      "\u001b[1;32mpandas\\_libs\\hashtable_class_helper.pxi\u001b[0m in \u001b[0;36mpandas._libs.hashtable.PyObjectHashTable.get_item\u001b[1;34m()\u001b[0m\n",
      "\u001b[1;32mpandas\\_libs\\hashtable_class_helper.pxi\u001b[0m in \u001b[0;36mpandas._libs.hashtable.PyObjectHashTable.get_item\u001b[1;34m()\u001b[0m\n",
      "\u001b[1;31mKeyError\u001b[0m: 'BUSINESS_DATE'",
      "\nDuring handling of the above exception, another exception occurred:\n",
      "\u001b[1;31mKeyError\u001b[0m                                  Traceback (most recent call last)",
      "\u001b[1;32m<ipython-input-16-a829d3249026>\u001b[0m in \u001b[0;36m<module>\u001b[1;34m\u001b[0m\n\u001b[1;32m----> 1\u001b[1;33m \u001b[0mtrain_data\u001b[0m\u001b[1;33m[\u001b[0m\u001b[1;34m\"BUSINESS_DATE\"\u001b[0m\u001b[1;33m]\u001b[0m\u001b[1;33m\u001b[0m\u001b[1;33m\u001b[0m\u001b[0m\n\u001b[0m",
      "\u001b[1;32m~\\AppData\\Local\\Continuum\\anaconda3\\lib\\site-packages\\pandas\\core\\frame.py\u001b[0m in \u001b[0;36m__getitem__\u001b[1;34m(self, key)\u001b[0m\n\u001b[0;32m   2978\u001b[0m             \u001b[1;32mif\u001b[0m \u001b[0mself\u001b[0m\u001b[1;33m.\u001b[0m\u001b[0mcolumns\u001b[0m\u001b[1;33m.\u001b[0m\u001b[0mnlevels\u001b[0m \u001b[1;33m>\u001b[0m \u001b[1;36m1\u001b[0m\u001b[1;33m:\u001b[0m\u001b[1;33m\u001b[0m\u001b[1;33m\u001b[0m\u001b[0m\n\u001b[0;32m   2979\u001b[0m                 \u001b[1;32mreturn\u001b[0m \u001b[0mself\u001b[0m\u001b[1;33m.\u001b[0m\u001b[0m_getitem_multilevel\u001b[0m\u001b[1;33m(\u001b[0m\u001b[0mkey\u001b[0m\u001b[1;33m)\u001b[0m\u001b[1;33m\u001b[0m\u001b[1;33m\u001b[0m\u001b[0m\n\u001b[1;32m-> 2980\u001b[1;33m             \u001b[0mindexer\u001b[0m \u001b[1;33m=\u001b[0m \u001b[0mself\u001b[0m\u001b[1;33m.\u001b[0m\u001b[0mcolumns\u001b[0m\u001b[1;33m.\u001b[0m\u001b[0mget_loc\u001b[0m\u001b[1;33m(\u001b[0m\u001b[0mkey\u001b[0m\u001b[1;33m)\u001b[0m\u001b[1;33m\u001b[0m\u001b[1;33m\u001b[0m\u001b[0m\n\u001b[0m\u001b[0;32m   2981\u001b[0m             \u001b[1;32mif\u001b[0m \u001b[0mis_integer\u001b[0m\u001b[1;33m(\u001b[0m\u001b[0mindexer\u001b[0m\u001b[1;33m)\u001b[0m\u001b[1;33m:\u001b[0m\u001b[1;33m\u001b[0m\u001b[1;33m\u001b[0m\u001b[0m\n\u001b[0;32m   2982\u001b[0m                 \u001b[0mindexer\u001b[0m \u001b[1;33m=\u001b[0m \u001b[1;33m[\u001b[0m\u001b[0mindexer\u001b[0m\u001b[1;33m]\u001b[0m\u001b[1;33m\u001b[0m\u001b[1;33m\u001b[0m\u001b[0m\n",
      "\u001b[1;32m~\\AppData\\Local\\Continuum\\anaconda3\\lib\\site-packages\\pandas\\core\\indexes\\base.py\u001b[0m in \u001b[0;36mget_loc\u001b[1;34m(self, key, method, tolerance)\u001b[0m\n\u001b[0;32m   2897\u001b[0m                 \u001b[1;32mreturn\u001b[0m \u001b[0mself\u001b[0m\u001b[1;33m.\u001b[0m\u001b[0m_engine\u001b[0m\u001b[1;33m.\u001b[0m\u001b[0mget_loc\u001b[0m\u001b[1;33m(\u001b[0m\u001b[0mkey\u001b[0m\u001b[1;33m)\u001b[0m\u001b[1;33m\u001b[0m\u001b[1;33m\u001b[0m\u001b[0m\n\u001b[0;32m   2898\u001b[0m             \u001b[1;32mexcept\u001b[0m \u001b[0mKeyError\u001b[0m\u001b[1;33m:\u001b[0m\u001b[1;33m\u001b[0m\u001b[1;33m\u001b[0m\u001b[0m\n\u001b[1;32m-> 2899\u001b[1;33m                 \u001b[1;32mreturn\u001b[0m \u001b[0mself\u001b[0m\u001b[1;33m.\u001b[0m\u001b[0m_engine\u001b[0m\u001b[1;33m.\u001b[0m\u001b[0mget_loc\u001b[0m\u001b[1;33m(\u001b[0m\u001b[0mself\u001b[0m\u001b[1;33m.\u001b[0m\u001b[0m_maybe_cast_indexer\u001b[0m\u001b[1;33m(\u001b[0m\u001b[0mkey\u001b[0m\u001b[1;33m)\u001b[0m\u001b[1;33m)\u001b[0m\u001b[1;33m\u001b[0m\u001b[1;33m\u001b[0m\u001b[0m\n\u001b[0m\u001b[0;32m   2900\u001b[0m         \u001b[0mindexer\u001b[0m \u001b[1;33m=\u001b[0m \u001b[0mself\u001b[0m\u001b[1;33m.\u001b[0m\u001b[0mget_indexer\u001b[0m\u001b[1;33m(\u001b[0m\u001b[1;33m[\u001b[0m\u001b[0mkey\u001b[0m\u001b[1;33m]\u001b[0m\u001b[1;33m,\u001b[0m \u001b[0mmethod\u001b[0m\u001b[1;33m=\u001b[0m\u001b[0mmethod\u001b[0m\u001b[1;33m,\u001b[0m \u001b[0mtolerance\u001b[0m\u001b[1;33m=\u001b[0m\u001b[0mtolerance\u001b[0m\u001b[1;33m)\u001b[0m\u001b[1;33m\u001b[0m\u001b[1;33m\u001b[0m\u001b[0m\n\u001b[0;32m   2901\u001b[0m         \u001b[1;32mif\u001b[0m \u001b[0mindexer\u001b[0m\u001b[1;33m.\u001b[0m\u001b[0mndim\u001b[0m \u001b[1;33m>\u001b[0m \u001b[1;36m1\u001b[0m \u001b[1;32mor\u001b[0m \u001b[0mindexer\u001b[0m\u001b[1;33m.\u001b[0m\u001b[0msize\u001b[0m \u001b[1;33m>\u001b[0m \u001b[1;36m1\u001b[0m\u001b[1;33m:\u001b[0m\u001b[1;33m\u001b[0m\u001b[1;33m\u001b[0m\u001b[0m\n",
      "\u001b[1;32mpandas\\_libs\\index.pyx\u001b[0m in \u001b[0;36mpandas._libs.index.IndexEngine.get_loc\u001b[1;34m()\u001b[0m\n",
      "\u001b[1;32mpandas\\_libs\\index.pyx\u001b[0m in \u001b[0;36mpandas._libs.index.IndexEngine.get_loc\u001b[1;34m()\u001b[0m\n",
      "\u001b[1;32mpandas\\_libs\\hashtable_class_helper.pxi\u001b[0m in \u001b[0;36mpandas._libs.hashtable.PyObjectHashTable.get_item\u001b[1;34m()\u001b[0m\n",
      "\u001b[1;32mpandas\\_libs\\hashtable_class_helper.pxi\u001b[0m in \u001b[0;36mpandas._libs.hashtable.PyObjectHashTable.get_item\u001b[1;34m()\u001b[0m\n",
      "\u001b[1;31mKeyError\u001b[0m: 'BUSINESS_DATE'"
     ]
    }
   ],
   "source": [
    "train_data[\"BUSINESS_DATE\"]\n",
    "train_data[\"CHANNEL\"]"
   ]
  },
  {
   "cell_type": "code",
   "execution_count": 20,
   "metadata": {},
   "outputs": [
    {
     "data": {
      "text/plain": [
       "0          BHAVNAGAR\n",
       "1            NELLORE\n",
       "2         CHANDIGARH\n",
       "3          New delhi\n",
       "4          ALLAHABAD\n",
       "             ...    \n",
       "329050     BANGALORE\n",
       "329051        BHOPAL\n",
       "329052        MYSORE\n",
       "329053     NIZAMABAD\n",
       "329054     HYDERABAD\n",
       "Name: CITY, Length: 329055, dtype: object"
      ]
     },
     "execution_count": 20,
     "metadata": {},
     "output_type": "execute_result"
    }
   ],
   "source": [
    "train_data[\"CITY\"]"
   ]
  },
  {
   "cell_type": "raw",
   "metadata": {},
   "source": []
  },
  {
   "cell_type": "code",
   "execution_count": 8,
   "metadata": {},
   "outputs": [
    {
     "name": "stderr",
     "output_type": "stream",
     "text": [
      "Using TensorFlow backend.\n"
     ]
    }
   ],
   "source": [
    "from datetime import datetime, timedelta,date\n",
    "import pandas as pd\n",
    "%matplotlib inline\n",
    "import matplotlib.pyplot as plt\n",
    "import numpy as np\n",
    "\n",
    "\n",
    "import warnings\n",
    "warnings.filterwarnings(\"ignore\")\n",
    "\n",
    "#import plotly.plotly as py\n",
    "#import plotly.offline as pyoff\n",
    "#import plotly.graph_objs as go\n",
    "\n",
    "#import Keras\n",
    "import keras\n",
    "from keras.layers import Dense\n",
    "from keras.models import Sequential\n",
    "from keras.optimizers import Adam \n",
    "from keras.callbacks import EarlyStopping\n",
    "from keras.utils import np_utils\n",
    "from keras.layers import LSTM\n",
    "from sklearn.model_selection import KFold, cross_val_score, train_test_split\n",
    "\n"
   ]
  },
  {
   "cell_type": "code",
   "execution_count": 17,
   "metadata": {},
   "outputs": [
    {
     "ename": "KeyError",
     "evalue": "'BUSINESS_DATE'",
     "output_type": "error",
     "traceback": [
      "\u001b[1;31m---------------------------------------------------------------------------\u001b[0m",
      "\u001b[1;31mKeyError\u001b[0m                                  Traceback (most recent call last)",
      "\u001b[1;32m~\\AppData\\Local\\Continuum\\anaconda3\\lib\\site-packages\\pandas\\core\\indexes\\base.py\u001b[0m in \u001b[0;36mget_loc\u001b[1;34m(self, key, method, tolerance)\u001b[0m\n\u001b[0;32m   2896\u001b[0m             \u001b[1;32mtry\u001b[0m\u001b[1;33m:\u001b[0m\u001b[1;33m\u001b[0m\u001b[1;33m\u001b[0m\u001b[0m\n\u001b[1;32m-> 2897\u001b[1;33m                 \u001b[1;32mreturn\u001b[0m \u001b[0mself\u001b[0m\u001b[1;33m.\u001b[0m\u001b[0m_engine\u001b[0m\u001b[1;33m.\u001b[0m\u001b[0mget_loc\u001b[0m\u001b[1;33m(\u001b[0m\u001b[0mkey\u001b[0m\u001b[1;33m)\u001b[0m\u001b[1;33m\u001b[0m\u001b[1;33m\u001b[0m\u001b[0m\n\u001b[0m\u001b[0;32m   2898\u001b[0m             \u001b[1;32mexcept\u001b[0m \u001b[0mKeyError\u001b[0m\u001b[1;33m:\u001b[0m\u001b[1;33m\u001b[0m\u001b[1;33m\u001b[0m\u001b[0m\n",
      "\u001b[1;32mpandas\\_libs\\index.pyx\u001b[0m in \u001b[0;36mpandas._libs.index.IndexEngine.get_loc\u001b[1;34m()\u001b[0m\n",
      "\u001b[1;32mpandas\\_libs\\index.pyx\u001b[0m in \u001b[0;36mpandas._libs.index.IndexEngine.get_loc\u001b[1;34m()\u001b[0m\n",
      "\u001b[1;32mpandas\\_libs\\hashtable_class_helper.pxi\u001b[0m in \u001b[0;36mpandas._libs.hashtable.PyObjectHashTable.get_item\u001b[1;34m()\u001b[0m\n",
      "\u001b[1;32mpandas\\_libs\\hashtable_class_helper.pxi\u001b[0m in \u001b[0;36mpandas._libs.hashtable.PyObjectHashTable.get_item\u001b[1;34m()\u001b[0m\n",
      "\u001b[1;31mKeyError\u001b[0m: 'BUSINESS_DATE'",
      "\nDuring handling of the above exception, another exception occurred:\n",
      "\u001b[1;31mKeyError\u001b[0m                                  Traceback (most recent call last)",
      "\u001b[1;32m<ipython-input-17-4a5392ff511b>\u001b[0m in \u001b[0;36m<module>\u001b[1;34m\u001b[0m\n\u001b[0;32m      1\u001b[0m \u001b[1;31m#convert date field from string to datetime\u001b[0m\u001b[1;33m\u001b[0m\u001b[1;33m\u001b[0m\u001b[1;33m\u001b[0m\u001b[0m\n\u001b[1;32m----> 2\u001b[1;33m \u001b[0mtrain_data\u001b[0m\u001b[1;33m[\u001b[0m\u001b[1;34m'DATE'\u001b[0m\u001b[1;33m]\u001b[0m \u001b[1;33m=\u001b[0m \u001b[0mtrain_data\u001b[0m\u001b[1;33m[\u001b[0m\u001b[1;34m'BUSINESS_DATE'\u001b[0m\u001b[1;33m]\u001b[0m\u001b[1;33m\u001b[0m\u001b[1;33m\u001b[0m\u001b[0m\n\u001b[0m\u001b[0;32m      3\u001b[0m \u001b[1;33m\u001b[0m\u001b[0m\n\u001b[0;32m      4\u001b[0m \u001b[1;31m#show first 10 rows\u001b[0m\u001b[1;33m\u001b[0m\u001b[1;33m\u001b[0m\u001b[1;33m\u001b[0m\u001b[0m\n\u001b[0;32m      5\u001b[0m \u001b[0mtrain_data\u001b[0m\u001b[1;33m.\u001b[0m\u001b[0mhead\u001b[0m\u001b[1;33m(\u001b[0m\u001b[1;36m10\u001b[0m\u001b[1;33m)\u001b[0m\u001b[1;33m\u001b[0m\u001b[1;33m\u001b[0m\u001b[0m\n",
      "\u001b[1;32m~\\AppData\\Local\\Continuum\\anaconda3\\lib\\site-packages\\pandas\\core\\frame.py\u001b[0m in \u001b[0;36m__getitem__\u001b[1;34m(self, key)\u001b[0m\n\u001b[0;32m   2978\u001b[0m             \u001b[1;32mif\u001b[0m \u001b[0mself\u001b[0m\u001b[1;33m.\u001b[0m\u001b[0mcolumns\u001b[0m\u001b[1;33m.\u001b[0m\u001b[0mnlevels\u001b[0m \u001b[1;33m>\u001b[0m \u001b[1;36m1\u001b[0m\u001b[1;33m:\u001b[0m\u001b[1;33m\u001b[0m\u001b[1;33m\u001b[0m\u001b[0m\n\u001b[0;32m   2979\u001b[0m                 \u001b[1;32mreturn\u001b[0m \u001b[0mself\u001b[0m\u001b[1;33m.\u001b[0m\u001b[0m_getitem_multilevel\u001b[0m\u001b[1;33m(\u001b[0m\u001b[0mkey\u001b[0m\u001b[1;33m)\u001b[0m\u001b[1;33m\u001b[0m\u001b[1;33m\u001b[0m\u001b[0m\n\u001b[1;32m-> 2980\u001b[1;33m             \u001b[0mindexer\u001b[0m \u001b[1;33m=\u001b[0m \u001b[0mself\u001b[0m\u001b[1;33m.\u001b[0m\u001b[0mcolumns\u001b[0m\u001b[1;33m.\u001b[0m\u001b[0mget_loc\u001b[0m\u001b[1;33m(\u001b[0m\u001b[0mkey\u001b[0m\u001b[1;33m)\u001b[0m\u001b[1;33m\u001b[0m\u001b[1;33m\u001b[0m\u001b[0m\n\u001b[0m\u001b[0;32m   2981\u001b[0m             \u001b[1;32mif\u001b[0m \u001b[0mis_integer\u001b[0m\u001b[1;33m(\u001b[0m\u001b[0mindexer\u001b[0m\u001b[1;33m)\u001b[0m\u001b[1;33m:\u001b[0m\u001b[1;33m\u001b[0m\u001b[1;33m\u001b[0m\u001b[0m\n\u001b[0;32m   2982\u001b[0m                 \u001b[0mindexer\u001b[0m \u001b[1;33m=\u001b[0m \u001b[1;33m[\u001b[0m\u001b[0mindexer\u001b[0m\u001b[1;33m]\u001b[0m\u001b[1;33m\u001b[0m\u001b[1;33m\u001b[0m\u001b[0m\n",
      "\u001b[1;32m~\\AppData\\Local\\Continuum\\anaconda3\\lib\\site-packages\\pandas\\core\\indexes\\base.py\u001b[0m in \u001b[0;36mget_loc\u001b[1;34m(self, key, method, tolerance)\u001b[0m\n\u001b[0;32m   2897\u001b[0m                 \u001b[1;32mreturn\u001b[0m \u001b[0mself\u001b[0m\u001b[1;33m.\u001b[0m\u001b[0m_engine\u001b[0m\u001b[1;33m.\u001b[0m\u001b[0mget_loc\u001b[0m\u001b[1;33m(\u001b[0m\u001b[0mkey\u001b[0m\u001b[1;33m)\u001b[0m\u001b[1;33m\u001b[0m\u001b[1;33m\u001b[0m\u001b[0m\n\u001b[0;32m   2898\u001b[0m             \u001b[1;32mexcept\u001b[0m \u001b[0mKeyError\u001b[0m\u001b[1;33m:\u001b[0m\u001b[1;33m\u001b[0m\u001b[1;33m\u001b[0m\u001b[0m\n\u001b[1;32m-> 2899\u001b[1;33m                 \u001b[1;32mreturn\u001b[0m \u001b[0mself\u001b[0m\u001b[1;33m.\u001b[0m\u001b[0m_engine\u001b[0m\u001b[1;33m.\u001b[0m\u001b[0mget_loc\u001b[0m\u001b[1;33m(\u001b[0m\u001b[0mself\u001b[0m\u001b[1;33m.\u001b[0m\u001b[0m_maybe_cast_indexer\u001b[0m\u001b[1;33m(\u001b[0m\u001b[0mkey\u001b[0m\u001b[1;33m)\u001b[0m\u001b[1;33m)\u001b[0m\u001b[1;33m\u001b[0m\u001b[1;33m\u001b[0m\u001b[0m\n\u001b[0m\u001b[0;32m   2900\u001b[0m         \u001b[0mindexer\u001b[0m \u001b[1;33m=\u001b[0m \u001b[0mself\u001b[0m\u001b[1;33m.\u001b[0m\u001b[0mget_indexer\u001b[0m\u001b[1;33m(\u001b[0m\u001b[1;33m[\u001b[0m\u001b[0mkey\u001b[0m\u001b[1;33m]\u001b[0m\u001b[1;33m,\u001b[0m \u001b[0mmethod\u001b[0m\u001b[1;33m=\u001b[0m\u001b[0mmethod\u001b[0m\u001b[1;33m,\u001b[0m \u001b[0mtolerance\u001b[0m\u001b[1;33m=\u001b[0m\u001b[0mtolerance\u001b[0m\u001b[1;33m)\u001b[0m\u001b[1;33m\u001b[0m\u001b[1;33m\u001b[0m\u001b[0m\n\u001b[0;32m   2901\u001b[0m         \u001b[1;32mif\u001b[0m \u001b[0mindexer\u001b[0m\u001b[1;33m.\u001b[0m\u001b[0mndim\u001b[0m \u001b[1;33m>\u001b[0m \u001b[1;36m1\u001b[0m \u001b[1;32mor\u001b[0m \u001b[0mindexer\u001b[0m\u001b[1;33m.\u001b[0m\u001b[0msize\u001b[0m \u001b[1;33m>\u001b[0m \u001b[1;36m1\u001b[0m\u001b[1;33m:\u001b[0m\u001b[1;33m\u001b[0m\u001b[1;33m\u001b[0m\u001b[0m\n",
      "\u001b[1;32mpandas\\_libs\\index.pyx\u001b[0m in \u001b[0;36mpandas._libs.index.IndexEngine.get_loc\u001b[1;34m()\u001b[0m\n",
      "\u001b[1;32mpandas\\_libs\\index.pyx\u001b[0m in \u001b[0;36mpandas._libs.index.IndexEngine.get_loc\u001b[1;34m()\u001b[0m\n",
      "\u001b[1;32mpandas\\_libs\\hashtable_class_helper.pxi\u001b[0m in \u001b[0;36mpandas._libs.hashtable.PyObjectHashTable.get_item\u001b[1;34m()\u001b[0m\n",
      "\u001b[1;32mpandas\\_libs\\hashtable_class_helper.pxi\u001b[0m in \u001b[0;36mpandas._libs.hashtable.PyObjectHashTable.get_item\u001b[1;34m()\u001b[0m\n",
      "\u001b[1;31mKeyError\u001b[0m: 'BUSINESS_DATE'"
     ]
    }
   ],
   "source": [
    "\n",
    "\n",
    "\n",
    "#convert date field from string to datetime\n",
    "train_data['DATE'] = train_data['BUSINESS_DATE']\n",
    "\n",
    "#show first 10 rows\n",
    "train_data.head(10)"
   ]
  },
  {
   "cell_type": "code",
   "execution_count": 31,
   "metadata": {},
   "outputs": [],
   "source": [
    "df[\"Date\"] = df['BUSINESS_DATE']\n",
    "\n",
    "#show first 10 rows\n"
   ]
  },
  {
   "cell_type": "code",
   "execution_count": 32,
   "metadata": {},
   "outputs": [
    {
     "name": "stdout",
     "output_type": "stream",
     "text": [
      "<class 'pandas.core.frame.DataFrame'>\n",
      "RangeIndex: 329055 entries, 0 to 329054\n",
      "Data columns (total 38 columns):\n",
      "CHANNEL            329055 non-null object\n",
      "SAP_STORE_ID       329055 non-null object\n",
      "XSTORE_STORE_ID    329055 non-null int64\n",
      "STORE_NAME         329055 non-null object\n",
      "OWNERSHIP_TYPE     329055 non-null object\n",
      "CITY               329055 non-null object\n",
      "STATE              329055 non-null object\n",
      "GSTIN_NO           329055 non-null object\n",
      "OLD_INVOICE_NO     329055 non-null int64\n",
      "NEW_INVOICE_NO     329055 non-null int64\n",
      "BUSINESS_DATE      329055 non-null datetime64[ns]\n",
      "SALE_TYPE          329055 non-null object\n",
      "BRAND              325846 non-null object\n",
      "SUBBRAND           325846 non-null object\n",
      "CLASS              317302 non-null object\n",
      "SUB_CLASS          321787 non-null object\n",
      "MATERIAL_TYPE      329008 non-null object\n",
      "MANUFACTURER       323153 non-null object\n",
      "BARCODE            325825 non-null float64\n",
      "ITEM               329055 non-null object\n",
      "STYLE              329055 non-null object\n",
      "MRP                329055 non-null float64\n",
      "QUANTITY           329055 non-null int64\n",
      "DISCOUNT           329055 non-null float64\n",
      "TAXABLE_AMOUNT     329053 non-null float64\n",
      "HSN_CODE           328330 non-null float64\n",
      "SGST               328975 non-null float64\n",
      "CGST               328975 non-null float64\n",
      "IGST               328975 non-null float64\n",
      "CESS               329055 non-null float64\n",
      "TAX_RATE           328975 non-null float64\n",
      "NET_AMOUNT         329053 non-null float64\n",
      "ORDER_TYPE         329055 non-null object\n",
      "EXTERNAL_SYSTEM    329053 non-null object\n",
      "AIL_ORDER_ID       73752 non-null object\n",
      "AIL_ORDER_STATE    64152 non-null object\n",
      "PO_REF_NBR         329055 non-null object\n",
      "Date               329055 non-null datetime64[ns]\n",
      "dtypes: datetime64[ns](2), float64(11), int64(4), object(21)\n",
      "memory usage: 95.4+ MB\n"
     ]
    }
   ],
   "source": [
    "df.info()"
   ]
  },
  {
   "cell_type": "code",
   "execution_count": 77,
   "metadata": {},
   "outputs": [
    {
     "data": {
      "text/html": [
       "<div>\n",
       "<style scoped>\n",
       "    .dataframe tbody tr th:only-of-type {\n",
       "        vertical-align: middle;\n",
       "    }\n",
       "\n",
       "    .dataframe tbody tr th {\n",
       "        vertical-align: top;\n",
       "    }\n",
       "\n",
       "    .dataframe thead th {\n",
       "        text-align: right;\n",
       "    }\n",
       "</style>\n",
       "<table border=\"1\" class=\"dataframe\">\n",
       "  <thead>\n",
       "    <tr style=\"text-align: right;\">\n",
       "      <th></th>\n",
       "      <th>Date</th>\n",
       "      <th>XSTORE_STORE_ID</th>\n",
       "      <th>NET_AMOUNT</th>\n",
       "      <th>ITEM</th>\n",
       "    </tr>\n",
       "  </thead>\n",
       "  <tbody>\n",
       "    <tr>\n",
       "      <td>0</td>\n",
       "      <td>2020-08-16</td>\n",
       "      <td>7501</td>\n",
       "      <td>9498.5</td>\n",
       "      <td>2541908719004</td>\n",
       "    </tr>\n",
       "    <tr>\n",
       "      <td>1</td>\n",
       "      <td>2020-08-16</td>\n",
       "      <td>7501</td>\n",
       "      <td>6498.5</td>\n",
       "      <td>1541910005003</td>\n",
       "    </tr>\n",
       "    <tr>\n",
       "      <td>2</td>\n",
       "      <td>2020-08-16</td>\n",
       "      <td>7501</td>\n",
       "      <td>9498.5</td>\n",
       "      <td>2541908719003</td>\n",
       "    </tr>\n",
       "    <tr>\n",
       "      <td>3</td>\n",
       "      <td>2020-08-17</td>\n",
       "      <td>7501</td>\n",
       "      <td>7498.5</td>\n",
       "      <td>2541911605003</td>\n",
       "    </tr>\n",
       "    <tr>\n",
       "      <td>4</td>\n",
       "      <td>2020-08-19</td>\n",
       "      <td>7502</td>\n",
       "      <td>17999.0</td>\n",
       "      <td>2FC20073Z01005</td>\n",
       "    </tr>\n",
       "    <tr>\n",
       "      <td>...</td>\n",
       "      <td>...</td>\n",
       "      <td>...</td>\n",
       "      <td>...</td>\n",
       "      <td>...</td>\n",
       "    </tr>\n",
       "    <tr>\n",
       "      <td>329050</td>\n",
       "      <td>2020-08-28</td>\n",
       "      <td>98057</td>\n",
       "      <td>539.4</td>\n",
       "      <td>FMTS3121XL1</td>\n",
       "    </tr>\n",
       "    <tr>\n",
       "      <td>329051</td>\n",
       "      <td>2020-08-29</td>\n",
       "      <td>98057</td>\n",
       "      <td>399.5</td>\n",
       "      <td>FMTS3096XL1</td>\n",
       "    </tr>\n",
       "    <tr>\n",
       "      <td>329052</td>\n",
       "      <td>2020-08-26</td>\n",
       "      <td>98057</td>\n",
       "      <td>1499.4</td>\n",
       "      <td>FMTR4280381</td>\n",
       "    </tr>\n",
       "    <tr>\n",
       "      <td>329053</td>\n",
       "      <td>2020-08-26</td>\n",
       "      <td>98057</td>\n",
       "      <td>1499.4</td>\n",
       "      <td>FMTR4280361</td>\n",
       "    </tr>\n",
       "    <tr>\n",
       "      <td>329054</td>\n",
       "      <td>2020-08-27</td>\n",
       "      <td>98057</td>\n",
       "      <td>1499.4</td>\n",
       "      <td>FMTR4280341</td>\n",
       "    </tr>\n",
       "  </tbody>\n",
       "</table>\n",
       "<p>329055 rows × 4 columns</p>\n",
       "</div>"
      ],
      "text/plain": [
       "             Date  XSTORE_STORE_ID  NET_AMOUNT            ITEM\n",
       "0      2020-08-16             7501      9498.5   2541908719004\n",
       "1      2020-08-16             7501      6498.5   1541910005003\n",
       "2      2020-08-16             7501      9498.5   2541908719003\n",
       "3      2020-08-17             7501      7498.5   2541911605003\n",
       "4      2020-08-19             7502     17999.0  2FC20073Z01005\n",
       "...           ...              ...         ...             ...\n",
       "329050 2020-08-28            98057       539.4     FMTS3121XL1\n",
       "329051 2020-08-29            98057       399.5     FMTS3096XL1\n",
       "329052 2020-08-26            98057      1499.4     FMTR4280381\n",
       "329053 2020-08-26            98057      1499.4     FMTR4280361\n",
       "329054 2020-08-27            98057      1499.4     FMTR4280341\n",
       "\n",
       "[329055 rows x 4 columns]"
      ]
     },
     "execution_count": 77,
     "metadata": {},
     "output_type": "execute_result"
    }
   ],
   "source": [
    "df_sales = pd.DataFrame(df, columns = ['Date','XSTORE_STORE_ID','NET_AMOUNT','ITEM']) \n",
    "  \n",
    "# print dataframe. \n",
    "df_sales"
   ]
  },
  {
   "cell_type": "code",
   "execution_count": 93,
   "metadata": {},
   "outputs": [
    {
     "data": {
      "text/html": [
       "<div>\n",
       "<style scoped>\n",
       "    .dataframe tbody tr th:only-of-type {\n",
       "        vertical-align: middle;\n",
       "    }\n",
       "\n",
       "    .dataframe tbody tr th {\n",
       "        vertical-align: top;\n",
       "    }\n",
       "\n",
       "    .dataframe thead th {\n",
       "        text-align: right;\n",
       "    }\n",
       "</style>\n",
       "<table border=\"1\" class=\"dataframe\">\n",
       "  <thead>\n",
       "    <tr style=\"text-align: right;\">\n",
       "      <th></th>\n",
       "      <th>Date</th>\n",
       "      <th>XSTORE_STORE_ID</th>\n",
       "      <th>NET_AMOUNT</th>\n",
       "      <th>ITEM</th>\n",
       "    </tr>\n",
       "  </thead>\n",
       "  <tbody>\n",
       "    <tr>\n",
       "      <td>11180</td>\n",
       "      <td>2020-08-07</td>\n",
       "      <td>2001</td>\n",
       "      <td>1999.0</td>\n",
       "      <td>ARES0888B461</td>\n",
       "    </tr>\n",
       "    <tr>\n",
       "      <td>11181</td>\n",
       "      <td>2020-08-15</td>\n",
       "      <td>2001</td>\n",
       "      <td>1350.0</td>\n",
       "      <td>ANXBZ5825381</td>\n",
       "    </tr>\n",
       "    <tr>\n",
       "      <td>11182</td>\n",
       "      <td>2020-08-16</td>\n",
       "      <td>2001</td>\n",
       "      <td>4680.0</td>\n",
       "      <td>ANXSU5702381</td>\n",
       "    </tr>\n",
       "    <tr>\n",
       "      <td>11183</td>\n",
       "      <td>2020-08-21</td>\n",
       "      <td>2001</td>\n",
       "      <td>618.0</td>\n",
       "      <td>ARWAI8102OP1</td>\n",
       "    </tr>\n",
       "    <tr>\n",
       "      <td>11184</td>\n",
       "      <td>2020-08-25</td>\n",
       "      <td>2001</td>\n",
       "      <td>600.0</td>\n",
       "      <td>ARWPS8703OP1</td>\n",
       "    </tr>\n",
       "  </tbody>\n",
       "</table>\n",
       "</div>"
      ],
      "text/plain": [
       "            Date  XSTORE_STORE_ID  NET_AMOUNT          ITEM\n",
       "11180 2020-08-07             2001      1999.0  ARES0888B461\n",
       "11181 2020-08-15             2001      1350.0  ANXBZ5825381\n",
       "11182 2020-08-16             2001      4680.0  ANXSU5702381\n",
       "11183 2020-08-21             2001       618.0  ARWAI8102OP1\n",
       "11184 2020-08-25             2001       600.0  ARWPS8703OP1"
      ]
     },
     "execution_count": 93,
     "metadata": {},
     "output_type": "execute_result"
    }
   ],
   "source": [
    "grouped = df_sales.groupby('XSTORE_STORE_ID')\n",
    "value = grouped.get_group(2001)\n",
    "value.head()"
   ]
  },
  {
   "cell_type": "code",
   "execution_count": 94,
   "metadata": {},
   "outputs": [],
   "source": [
    "#df_sales['Date'] = df_sales['Date'].dt.year.astype('str') + '-' + df_sales['Date'].dt.month.astype('str') + '-01'\n",
    "#df_sales['Date'] = pd.to_datetime(df_sales['Date'])\n",
    "#groupby date and sum the sales\n",
    "value = value.groupby(\"Date\").NET_AMOUNT.sum().reset_index()"
   ]
  },
  {
   "cell_type": "code",
   "execution_count": 95,
   "metadata": {},
   "outputs": [
    {
     "data": {
      "text/html": [
       "<div>\n",
       "<style scoped>\n",
       "    .dataframe tbody tr th:only-of-type {\n",
       "        vertical-align: middle;\n",
       "    }\n",
       "\n",
       "    .dataframe tbody tr th {\n",
       "        vertical-align: top;\n",
       "    }\n",
       "\n",
       "    .dataframe thead th {\n",
       "        text-align: right;\n",
       "    }\n",
       "</style>\n",
       "<table border=\"1\" class=\"dataframe\">\n",
       "  <thead>\n",
       "    <tr style=\"text-align: right;\">\n",
       "      <th></th>\n",
       "      <th>Date</th>\n",
       "      <th>NET_AMOUNT</th>\n",
       "    </tr>\n",
       "  </thead>\n",
       "  <tbody>\n",
       "    <tr>\n",
       "      <td>0</td>\n",
       "      <td>2020-08-01</td>\n",
       "      <td>7797.44</td>\n",
       "    </tr>\n",
       "    <tr>\n",
       "      <td>1</td>\n",
       "      <td>2020-08-02</td>\n",
       "      <td>23010.71</td>\n",
       "    </tr>\n",
       "    <tr>\n",
       "      <td>2</td>\n",
       "      <td>2020-08-03</td>\n",
       "      <td>18153.12</td>\n",
       "    </tr>\n",
       "    <tr>\n",
       "      <td>3</td>\n",
       "      <td>2020-08-04</td>\n",
       "      <td>7654.93</td>\n",
       "    </tr>\n",
       "    <tr>\n",
       "      <td>4</td>\n",
       "      <td>2020-08-05</td>\n",
       "      <td>27110.34</td>\n",
       "    </tr>\n",
       "    <tr>\n",
       "      <td>5</td>\n",
       "      <td>2020-08-06</td>\n",
       "      <td>22473.58</td>\n",
       "    </tr>\n",
       "    <tr>\n",
       "      <td>6</td>\n",
       "      <td>2020-08-07</td>\n",
       "      <td>51151.61</td>\n",
       "    </tr>\n",
       "    <tr>\n",
       "      <td>7</td>\n",
       "      <td>2020-08-08</td>\n",
       "      <td>53458.77</td>\n",
       "    </tr>\n",
       "    <tr>\n",
       "      <td>8</td>\n",
       "      <td>2020-08-09</td>\n",
       "      <td>37105.22</td>\n",
       "    </tr>\n",
       "    <tr>\n",
       "      <td>9</td>\n",
       "      <td>2020-08-10</td>\n",
       "      <td>16683.19</td>\n",
       "    </tr>\n",
       "    <tr>\n",
       "      <td>10</td>\n",
       "      <td>2020-08-11</td>\n",
       "      <td>36555.25</td>\n",
       "    </tr>\n",
       "    <tr>\n",
       "      <td>11</td>\n",
       "      <td>2020-08-12</td>\n",
       "      <td>25182.85</td>\n",
       "    </tr>\n",
       "    <tr>\n",
       "      <td>12</td>\n",
       "      <td>2020-08-13</td>\n",
       "      <td>58663.07</td>\n",
       "    </tr>\n",
       "    <tr>\n",
       "      <td>13</td>\n",
       "      <td>2020-08-14</td>\n",
       "      <td>20433.53</td>\n",
       "    </tr>\n",
       "    <tr>\n",
       "      <td>14</td>\n",
       "      <td>2020-08-15</td>\n",
       "      <td>49150.45</td>\n",
       "    </tr>\n",
       "    <tr>\n",
       "      <td>15</td>\n",
       "      <td>2020-08-16</td>\n",
       "      <td>28861.96</td>\n",
       "    </tr>\n",
       "    <tr>\n",
       "      <td>16</td>\n",
       "      <td>2020-08-17</td>\n",
       "      <td>32792.32</td>\n",
       "    </tr>\n",
       "    <tr>\n",
       "      <td>17</td>\n",
       "      <td>2020-08-18</td>\n",
       "      <td>4527.34</td>\n",
       "    </tr>\n",
       "    <tr>\n",
       "      <td>18</td>\n",
       "      <td>2020-08-19</td>\n",
       "      <td>9795.18</td>\n",
       "    </tr>\n",
       "    <tr>\n",
       "      <td>19</td>\n",
       "      <td>2020-08-20</td>\n",
       "      <td>6883.00</td>\n",
       "    </tr>\n",
       "    <tr>\n",
       "      <td>20</td>\n",
       "      <td>2020-08-21</td>\n",
       "      <td>54625.11</td>\n",
       "    </tr>\n",
       "    <tr>\n",
       "      <td>21</td>\n",
       "      <td>2020-08-22</td>\n",
       "      <td>40550.40</td>\n",
       "    </tr>\n",
       "    <tr>\n",
       "      <td>22</td>\n",
       "      <td>2020-08-23</td>\n",
       "      <td>67238.07</td>\n",
       "    </tr>\n",
       "    <tr>\n",
       "      <td>23</td>\n",
       "      <td>2020-08-24</td>\n",
       "      <td>20272.43</td>\n",
       "    </tr>\n",
       "    <tr>\n",
       "      <td>24</td>\n",
       "      <td>2020-08-25</td>\n",
       "      <td>12789.18</td>\n",
       "    </tr>\n",
       "    <tr>\n",
       "      <td>25</td>\n",
       "      <td>2020-08-26</td>\n",
       "      <td>29792.17</td>\n",
       "    </tr>\n",
       "    <tr>\n",
       "      <td>26</td>\n",
       "      <td>2020-08-27</td>\n",
       "      <td>44028.60</td>\n",
       "    </tr>\n",
       "    <tr>\n",
       "      <td>27</td>\n",
       "      <td>2020-08-28</td>\n",
       "      <td>33380.93</td>\n",
       "    </tr>\n",
       "    <tr>\n",
       "      <td>28</td>\n",
       "      <td>2020-08-29</td>\n",
       "      <td>39622.97</td>\n",
       "    </tr>\n",
       "    <tr>\n",
       "      <td>29</td>\n",
       "      <td>2020-08-30</td>\n",
       "      <td>86005.99</td>\n",
       "    </tr>\n",
       "  </tbody>\n",
       "</table>\n",
       "</div>"
      ],
      "text/plain": [
       "         Date  NET_AMOUNT\n",
       "0  2020-08-01     7797.44\n",
       "1  2020-08-02    23010.71\n",
       "2  2020-08-03    18153.12\n",
       "3  2020-08-04     7654.93\n",
       "4  2020-08-05    27110.34\n",
       "5  2020-08-06    22473.58\n",
       "6  2020-08-07    51151.61\n",
       "7  2020-08-08    53458.77\n",
       "8  2020-08-09    37105.22\n",
       "9  2020-08-10    16683.19\n",
       "10 2020-08-11    36555.25\n",
       "11 2020-08-12    25182.85\n",
       "12 2020-08-13    58663.07\n",
       "13 2020-08-14    20433.53\n",
       "14 2020-08-15    49150.45\n",
       "15 2020-08-16    28861.96\n",
       "16 2020-08-17    32792.32\n",
       "17 2020-08-18     4527.34\n",
       "18 2020-08-19     9795.18\n",
       "19 2020-08-20     6883.00\n",
       "20 2020-08-21    54625.11\n",
       "21 2020-08-22    40550.40\n",
       "22 2020-08-23    67238.07\n",
       "23 2020-08-24    20272.43\n",
       "24 2020-08-25    12789.18\n",
       "25 2020-08-26    29792.17\n",
       "26 2020-08-27    44028.60\n",
       "27 2020-08-28    33380.93\n",
       "28 2020-08-29    39622.97\n",
       "29 2020-08-30    86005.99"
      ]
     },
     "execution_count": 95,
     "metadata": {},
     "output_type": "execute_result"
    }
   ],
   "source": [
    "value"
   ]
  },
  {
   "cell_type": "code",
   "execution_count": 46,
   "metadata": {},
   "outputs": [
    {
     "ename": "AttributeError",
     "evalue": "'Series' object has no attribute 'valuecount'",
     "output_type": "error",
     "traceback": [
      "\u001b[1;31m---------------------------------------------------------------------------\u001b[0m",
      "\u001b[1;31mAttributeError\u001b[0m                            Traceback (most recent call last)",
      "\u001b[1;32m<ipython-input-46-7c883c77fa03>\u001b[0m in \u001b[0;36m<module>\u001b[1;34m\u001b[0m\n\u001b[1;32m----> 1\u001b[1;33m \u001b[0mdf_sales\u001b[0m\u001b[1;33m[\u001b[0m\u001b[1;34m\"XSTORE_STORE_ID\"\u001b[0m\u001b[1;33m]\u001b[0m\u001b[1;33m.\u001b[0m\u001b[0mvaluecount\u001b[0m\u001b[1;33m(\u001b[0m\u001b[1;33m)\u001b[0m\u001b[1;33m\u001b[0m\u001b[1;33m\u001b[0m\u001b[0m\n\u001b[0m",
      "\u001b[1;32m~\\AppData\\Local\\Continuum\\anaconda3\\lib\\site-packages\\pandas\\core\\generic.py\u001b[0m in \u001b[0;36m__getattr__\u001b[1;34m(self, name)\u001b[0m\n\u001b[0;32m   5177\u001b[0m             \u001b[1;32mif\u001b[0m \u001b[0mself\u001b[0m\u001b[1;33m.\u001b[0m\u001b[0m_info_axis\u001b[0m\u001b[1;33m.\u001b[0m\u001b[0m_can_hold_identifiers_and_holds_name\u001b[0m\u001b[1;33m(\u001b[0m\u001b[0mname\u001b[0m\u001b[1;33m)\u001b[0m\u001b[1;33m:\u001b[0m\u001b[1;33m\u001b[0m\u001b[1;33m\u001b[0m\u001b[0m\n\u001b[0;32m   5178\u001b[0m                 \u001b[1;32mreturn\u001b[0m \u001b[0mself\u001b[0m\u001b[1;33m[\u001b[0m\u001b[0mname\u001b[0m\u001b[1;33m]\u001b[0m\u001b[1;33m\u001b[0m\u001b[1;33m\u001b[0m\u001b[0m\n\u001b[1;32m-> 5179\u001b[1;33m             \u001b[1;32mreturn\u001b[0m \u001b[0mobject\u001b[0m\u001b[1;33m.\u001b[0m\u001b[0m__getattribute__\u001b[0m\u001b[1;33m(\u001b[0m\u001b[0mself\u001b[0m\u001b[1;33m,\u001b[0m \u001b[0mname\u001b[0m\u001b[1;33m)\u001b[0m\u001b[1;33m\u001b[0m\u001b[1;33m\u001b[0m\u001b[0m\n\u001b[0m\u001b[0;32m   5180\u001b[0m \u001b[1;33m\u001b[0m\u001b[0m\n\u001b[0;32m   5181\u001b[0m     \u001b[1;32mdef\u001b[0m \u001b[0m__setattr__\u001b[0m\u001b[1;33m(\u001b[0m\u001b[0mself\u001b[0m\u001b[1;33m,\u001b[0m \u001b[0mname\u001b[0m\u001b[1;33m,\u001b[0m \u001b[0mvalue\u001b[0m\u001b[1;33m)\u001b[0m\u001b[1;33m:\u001b[0m\u001b[1;33m\u001b[0m\u001b[1;33m\u001b[0m\u001b[0m\n",
      "\u001b[1;31mAttributeError\u001b[0m: 'Series' object has no attribute 'valuecount'"
     ]
    }
   ],
   "source": []
  },
  {
   "cell_type": "code",
   "execution_count": 97,
   "metadata": {},
   "outputs": [
    {
     "data": {
      "application/vnd.plotly.v1+json": {
       "config": {
        "linkText": "Export to plot.ly",
        "plotlyServerURL": "https://plot.ly",
        "showLink": false
       },
       "data": [
        {
         "type": "scatter",
         "x": [
          "2020-08-01T00:00:00",
          "2020-08-02T00:00:00",
          "2020-08-03T00:00:00",
          "2020-08-04T00:00:00",
          "2020-08-05T00:00:00",
          "2020-08-06T00:00:00",
          "2020-08-07T00:00:00",
          "2020-08-08T00:00:00",
          "2020-08-09T00:00:00",
          "2020-08-10T00:00:00",
          "2020-08-11T00:00:00",
          "2020-08-12T00:00:00",
          "2020-08-13T00:00:00",
          "2020-08-14T00:00:00",
          "2020-08-15T00:00:00",
          "2020-08-16T00:00:00",
          "2020-08-17T00:00:00",
          "2020-08-18T00:00:00",
          "2020-08-19T00:00:00",
          "2020-08-20T00:00:00",
          "2020-08-21T00:00:00",
          "2020-08-22T00:00:00",
          "2020-08-23T00:00:00",
          "2020-08-24T00:00:00",
          "2020-08-25T00:00:00",
          "2020-08-26T00:00:00",
          "2020-08-27T00:00:00",
          "2020-08-28T00:00:00",
          "2020-08-29T00:00:00",
          "2020-08-30T00:00:00"
         ],
         "y": [
          7797.4400000000005,
          23010.710000000003,
          18153.12,
          7654.93,
          27110.34,
          22473.58,
          51151.610000000015,
          53458.77,
          37105.22,
          16683.19,
          36555.24999999999,
          25182.85,
          58663.069999999985,
          20433.530000000002,
          49150.44999999999,
          28861.959999999992,
          32792.32000000001,
          4527.34,
          9795.18,
          6883,
          54625.11,
          40550.40000000001,
          67238.07,
          20272.429999999997,
          12789.18,
          29792.170000000006,
          44028.60000000001,
          33380.93,
          39622.96999999999,
          86005.98999999998
         ]
        }
       ],
       "layout": {
        "template": {
         "data": {
          "bar": [
           {
            "error_x": {
             "color": "#2a3f5f"
            },
            "error_y": {
             "color": "#2a3f5f"
            },
            "marker": {
             "line": {
              "color": "#E5ECF6",
              "width": 0.5
             }
            },
            "type": "bar"
           }
          ],
          "barpolar": [
           {
            "marker": {
             "line": {
              "color": "#E5ECF6",
              "width": 0.5
             }
            },
            "type": "barpolar"
           }
          ],
          "carpet": [
           {
            "aaxis": {
             "endlinecolor": "#2a3f5f",
             "gridcolor": "white",
             "linecolor": "white",
             "minorgridcolor": "white",
             "startlinecolor": "#2a3f5f"
            },
            "baxis": {
             "endlinecolor": "#2a3f5f",
             "gridcolor": "white",
             "linecolor": "white",
             "minorgridcolor": "white",
             "startlinecolor": "#2a3f5f"
            },
            "type": "carpet"
           }
          ],
          "choropleth": [
           {
            "colorbar": {
             "outlinewidth": 0,
             "ticks": ""
            },
            "type": "choropleth"
           }
          ],
          "contour": [
           {
            "colorbar": {
             "outlinewidth": 0,
             "ticks": ""
            },
            "colorscale": [
             [
              0,
              "#0d0887"
             ],
             [
              0.1111111111111111,
              "#46039f"
             ],
             [
              0.2222222222222222,
              "#7201a8"
             ],
             [
              0.3333333333333333,
              "#9c179e"
             ],
             [
              0.4444444444444444,
              "#bd3786"
             ],
             [
              0.5555555555555556,
              "#d8576b"
             ],
             [
              0.6666666666666666,
              "#ed7953"
             ],
             [
              0.7777777777777778,
              "#fb9f3a"
             ],
             [
              0.8888888888888888,
              "#fdca26"
             ],
             [
              1,
              "#f0f921"
             ]
            ],
            "type": "contour"
           }
          ],
          "contourcarpet": [
           {
            "colorbar": {
             "outlinewidth": 0,
             "ticks": ""
            },
            "type": "contourcarpet"
           }
          ],
          "heatmap": [
           {
            "colorbar": {
             "outlinewidth": 0,
             "ticks": ""
            },
            "colorscale": [
             [
              0,
              "#0d0887"
             ],
             [
              0.1111111111111111,
              "#46039f"
             ],
             [
              0.2222222222222222,
              "#7201a8"
             ],
             [
              0.3333333333333333,
              "#9c179e"
             ],
             [
              0.4444444444444444,
              "#bd3786"
             ],
             [
              0.5555555555555556,
              "#d8576b"
             ],
             [
              0.6666666666666666,
              "#ed7953"
             ],
             [
              0.7777777777777778,
              "#fb9f3a"
             ],
             [
              0.8888888888888888,
              "#fdca26"
             ],
             [
              1,
              "#f0f921"
             ]
            ],
            "type": "heatmap"
           }
          ],
          "heatmapgl": [
           {
            "colorbar": {
             "outlinewidth": 0,
             "ticks": ""
            },
            "colorscale": [
             [
              0,
              "#0d0887"
             ],
             [
              0.1111111111111111,
              "#46039f"
             ],
             [
              0.2222222222222222,
              "#7201a8"
             ],
             [
              0.3333333333333333,
              "#9c179e"
             ],
             [
              0.4444444444444444,
              "#bd3786"
             ],
             [
              0.5555555555555556,
              "#d8576b"
             ],
             [
              0.6666666666666666,
              "#ed7953"
             ],
             [
              0.7777777777777778,
              "#fb9f3a"
             ],
             [
              0.8888888888888888,
              "#fdca26"
             ],
             [
              1,
              "#f0f921"
             ]
            ],
            "type": "heatmapgl"
           }
          ],
          "histogram": [
           {
            "marker": {
             "colorbar": {
              "outlinewidth": 0,
              "ticks": ""
             }
            },
            "type": "histogram"
           }
          ],
          "histogram2d": [
           {
            "colorbar": {
             "outlinewidth": 0,
             "ticks": ""
            },
            "colorscale": [
             [
              0,
              "#0d0887"
             ],
             [
              0.1111111111111111,
              "#46039f"
             ],
             [
              0.2222222222222222,
              "#7201a8"
             ],
             [
              0.3333333333333333,
              "#9c179e"
             ],
             [
              0.4444444444444444,
              "#bd3786"
             ],
             [
              0.5555555555555556,
              "#d8576b"
             ],
             [
              0.6666666666666666,
              "#ed7953"
             ],
             [
              0.7777777777777778,
              "#fb9f3a"
             ],
             [
              0.8888888888888888,
              "#fdca26"
             ],
             [
              1,
              "#f0f921"
             ]
            ],
            "type": "histogram2d"
           }
          ],
          "histogram2dcontour": [
           {
            "colorbar": {
             "outlinewidth": 0,
             "ticks": ""
            },
            "colorscale": [
             [
              0,
              "#0d0887"
             ],
             [
              0.1111111111111111,
              "#46039f"
             ],
             [
              0.2222222222222222,
              "#7201a8"
             ],
             [
              0.3333333333333333,
              "#9c179e"
             ],
             [
              0.4444444444444444,
              "#bd3786"
             ],
             [
              0.5555555555555556,
              "#d8576b"
             ],
             [
              0.6666666666666666,
              "#ed7953"
             ],
             [
              0.7777777777777778,
              "#fb9f3a"
             ],
             [
              0.8888888888888888,
              "#fdca26"
             ],
             [
              1,
              "#f0f921"
             ]
            ],
            "type": "histogram2dcontour"
           }
          ],
          "mesh3d": [
           {
            "colorbar": {
             "outlinewidth": 0,
             "ticks": ""
            },
            "type": "mesh3d"
           }
          ],
          "parcoords": [
           {
            "line": {
             "colorbar": {
              "outlinewidth": 0,
              "ticks": ""
             }
            },
            "type": "parcoords"
           }
          ],
          "pie": [
           {
            "automargin": true,
            "type": "pie"
           }
          ],
          "scatter": [
           {
            "marker": {
             "colorbar": {
              "outlinewidth": 0,
              "ticks": ""
             }
            },
            "type": "scatter"
           }
          ],
          "scatter3d": [
           {
            "line": {
             "colorbar": {
              "outlinewidth": 0,
              "ticks": ""
             }
            },
            "marker": {
             "colorbar": {
              "outlinewidth": 0,
              "ticks": ""
             }
            },
            "type": "scatter3d"
           }
          ],
          "scattercarpet": [
           {
            "marker": {
             "colorbar": {
              "outlinewidth": 0,
              "ticks": ""
             }
            },
            "type": "scattercarpet"
           }
          ],
          "scattergeo": [
           {
            "marker": {
             "colorbar": {
              "outlinewidth": 0,
              "ticks": ""
             }
            },
            "type": "scattergeo"
           }
          ],
          "scattergl": [
           {
            "marker": {
             "colorbar": {
              "outlinewidth": 0,
              "ticks": ""
             }
            },
            "type": "scattergl"
           }
          ],
          "scattermapbox": [
           {
            "marker": {
             "colorbar": {
              "outlinewidth": 0,
              "ticks": ""
             }
            },
            "type": "scattermapbox"
           }
          ],
          "scatterpolar": [
           {
            "marker": {
             "colorbar": {
              "outlinewidth": 0,
              "ticks": ""
             }
            },
            "type": "scatterpolar"
           }
          ],
          "scatterpolargl": [
           {
            "marker": {
             "colorbar": {
              "outlinewidth": 0,
              "ticks": ""
             }
            },
            "type": "scatterpolargl"
           }
          ],
          "scatterternary": [
           {
            "marker": {
             "colorbar": {
              "outlinewidth": 0,
              "ticks": ""
             }
            },
            "type": "scatterternary"
           }
          ],
          "surface": [
           {
            "colorbar": {
             "outlinewidth": 0,
             "ticks": ""
            },
            "colorscale": [
             [
              0,
              "#0d0887"
             ],
             [
              0.1111111111111111,
              "#46039f"
             ],
             [
              0.2222222222222222,
              "#7201a8"
             ],
             [
              0.3333333333333333,
              "#9c179e"
             ],
             [
              0.4444444444444444,
              "#bd3786"
             ],
             [
              0.5555555555555556,
              "#d8576b"
             ],
             [
              0.6666666666666666,
              "#ed7953"
             ],
             [
              0.7777777777777778,
              "#fb9f3a"
             ],
             [
              0.8888888888888888,
              "#fdca26"
             ],
             [
              1,
              "#f0f921"
             ]
            ],
            "type": "surface"
           }
          ],
          "table": [
           {
            "cells": {
             "fill": {
              "color": "#EBF0F8"
             },
             "line": {
              "color": "white"
             }
            },
            "header": {
             "fill": {
              "color": "#C8D4E3"
             },
             "line": {
              "color": "white"
             }
            },
            "type": "table"
           }
          ]
         },
         "layout": {
          "annotationdefaults": {
           "arrowcolor": "#2a3f5f",
           "arrowhead": 0,
           "arrowwidth": 1
          },
          "coloraxis": {
           "colorbar": {
            "outlinewidth": 0,
            "ticks": ""
           }
          },
          "colorscale": {
           "diverging": [
            [
             0,
             "#8e0152"
            ],
            [
             0.1,
             "#c51b7d"
            ],
            [
             0.2,
             "#de77ae"
            ],
            [
             0.3,
             "#f1b6da"
            ],
            [
             0.4,
             "#fde0ef"
            ],
            [
             0.5,
             "#f7f7f7"
            ],
            [
             0.6,
             "#e6f5d0"
            ],
            [
             0.7,
             "#b8e186"
            ],
            [
             0.8,
             "#7fbc41"
            ],
            [
             0.9,
             "#4d9221"
            ],
            [
             1,
             "#276419"
            ]
           ],
           "sequential": [
            [
             0,
             "#0d0887"
            ],
            [
             0.1111111111111111,
             "#46039f"
            ],
            [
             0.2222222222222222,
             "#7201a8"
            ],
            [
             0.3333333333333333,
             "#9c179e"
            ],
            [
             0.4444444444444444,
             "#bd3786"
            ],
            [
             0.5555555555555556,
             "#d8576b"
            ],
            [
             0.6666666666666666,
             "#ed7953"
            ],
            [
             0.7777777777777778,
             "#fb9f3a"
            ],
            [
             0.8888888888888888,
             "#fdca26"
            ],
            [
             1,
             "#f0f921"
            ]
           ],
           "sequentialminus": [
            [
             0,
             "#0d0887"
            ],
            [
             0.1111111111111111,
             "#46039f"
            ],
            [
             0.2222222222222222,
             "#7201a8"
            ],
            [
             0.3333333333333333,
             "#9c179e"
            ],
            [
             0.4444444444444444,
             "#bd3786"
            ],
            [
             0.5555555555555556,
             "#d8576b"
            ],
            [
             0.6666666666666666,
             "#ed7953"
            ],
            [
             0.7777777777777778,
             "#fb9f3a"
            ],
            [
             0.8888888888888888,
             "#fdca26"
            ],
            [
             1,
             "#f0f921"
            ]
           ]
          },
          "colorway": [
           "#636efa",
           "#EF553B",
           "#00cc96",
           "#ab63fa",
           "#FFA15A",
           "#19d3f3",
           "#FF6692",
           "#B6E880",
           "#FF97FF",
           "#FECB52"
          ],
          "font": {
           "color": "#2a3f5f"
          },
          "geo": {
           "bgcolor": "white",
           "lakecolor": "white",
           "landcolor": "#E5ECF6",
           "showlakes": true,
           "showland": true,
           "subunitcolor": "white"
          },
          "hoverlabel": {
           "align": "left"
          },
          "hovermode": "closest",
          "mapbox": {
           "style": "light"
          },
          "paper_bgcolor": "white",
          "plot_bgcolor": "#E5ECF6",
          "polar": {
           "angularaxis": {
            "gridcolor": "white",
            "linecolor": "white",
            "ticks": ""
           },
           "bgcolor": "#E5ECF6",
           "radialaxis": {
            "gridcolor": "white",
            "linecolor": "white",
            "ticks": ""
           }
          },
          "scene": {
           "xaxis": {
            "backgroundcolor": "#E5ECF6",
            "gridcolor": "white",
            "gridwidth": 2,
            "linecolor": "white",
            "showbackground": true,
            "ticks": "",
            "zerolinecolor": "white"
           },
           "yaxis": {
            "backgroundcolor": "#E5ECF6",
            "gridcolor": "white",
            "gridwidth": 2,
            "linecolor": "white",
            "showbackground": true,
            "ticks": "",
            "zerolinecolor": "white"
           },
           "zaxis": {
            "backgroundcolor": "#E5ECF6",
            "gridcolor": "white",
            "gridwidth": 2,
            "linecolor": "white",
            "showbackground": true,
            "ticks": "",
            "zerolinecolor": "white"
           }
          },
          "shapedefaults": {
           "line": {
            "color": "#2a3f5f"
           }
          },
          "ternary": {
           "aaxis": {
            "gridcolor": "white",
            "linecolor": "white",
            "ticks": ""
           },
           "baxis": {
            "gridcolor": "white",
            "linecolor": "white",
            "ticks": ""
           },
           "bgcolor": "#E5ECF6",
           "caxis": {
            "gridcolor": "white",
            "linecolor": "white",
            "ticks": ""
           }
          },
          "title": {
           "x": 0.05
          },
          "xaxis": {
           "automargin": true,
           "gridcolor": "white",
           "linecolor": "white",
           "ticks": "",
           "title": {
            "standoff": 15
           },
           "zerolinecolor": "white",
           "zerolinewidth": 2
          },
          "yaxis": {
           "automargin": true,
           "gridcolor": "white",
           "linecolor": "white",
           "ticks": "",
           "title": {
            "standoff": 15
           },
           "zerolinecolor": "white",
           "zerolinewidth": 2
          }
         }
        },
        "title": {
         "text": "Daily Sales"
        }
       }
      },
      "text/html": [
       "<div>                            <div id=\"cb625f72-141d-4d66-b96a-9d7eb3bc7803\" class=\"plotly-graph-div\" style=\"height:525px; width:100%;\"></div>            <script type=\"text/javascript\">                require([\"plotly\"], function(Plotly) {                    window.PLOTLYENV=window.PLOTLYENV || {};                                    if (document.getElementById(\"cb625f72-141d-4d66-b96a-9d7eb3bc7803\")) {                    Plotly.newPlot(                        \"cb625f72-141d-4d66-b96a-9d7eb3bc7803\",                        [{\"type\": \"scatter\", \"x\": [\"2020-08-01T00:00:00\", \"2020-08-02T00:00:00\", \"2020-08-03T00:00:00\", \"2020-08-04T00:00:00\", \"2020-08-05T00:00:00\", \"2020-08-06T00:00:00\", \"2020-08-07T00:00:00\", \"2020-08-08T00:00:00\", \"2020-08-09T00:00:00\", \"2020-08-10T00:00:00\", \"2020-08-11T00:00:00\", \"2020-08-12T00:00:00\", \"2020-08-13T00:00:00\", \"2020-08-14T00:00:00\", \"2020-08-15T00:00:00\", \"2020-08-16T00:00:00\", \"2020-08-17T00:00:00\", \"2020-08-18T00:00:00\", \"2020-08-19T00:00:00\", \"2020-08-20T00:00:00\", \"2020-08-21T00:00:00\", \"2020-08-22T00:00:00\", \"2020-08-23T00:00:00\", \"2020-08-24T00:00:00\", \"2020-08-25T00:00:00\", \"2020-08-26T00:00:00\", \"2020-08-27T00:00:00\", \"2020-08-28T00:00:00\", \"2020-08-29T00:00:00\", \"2020-08-30T00:00:00\"], \"y\": [7797.4400000000005, 23010.710000000003, 18153.12, 7654.93, 27110.34, 22473.58, 51151.610000000015, 53458.77, 37105.22, 16683.19, 36555.24999999999, 25182.85, 58663.069999999985, 20433.530000000002, 49150.44999999999, 28861.959999999992, 32792.32000000001, 4527.34, 9795.18, 6883.0, 54625.11, 40550.40000000001, 67238.07, 20272.429999999997, 12789.18, 29792.170000000006, 44028.60000000001, 33380.93, 39622.96999999999, 86005.98999999998]}],                        {\"template\": {\"data\": {\"bar\": [{\"error_x\": {\"color\": \"#2a3f5f\"}, \"error_y\": {\"color\": \"#2a3f5f\"}, \"marker\": {\"line\": {\"color\": \"#E5ECF6\", \"width\": 0.5}}, \"type\": \"bar\"}], \"barpolar\": [{\"marker\": {\"line\": {\"color\": \"#E5ECF6\", \"width\": 0.5}}, \"type\": \"barpolar\"}], \"carpet\": [{\"aaxis\": {\"endlinecolor\": \"#2a3f5f\", \"gridcolor\": \"white\", \"linecolor\": \"white\", \"minorgridcolor\": \"white\", \"startlinecolor\": \"#2a3f5f\"}, \"baxis\": {\"endlinecolor\": \"#2a3f5f\", \"gridcolor\": \"white\", \"linecolor\": \"white\", \"minorgridcolor\": \"white\", \"startlinecolor\": \"#2a3f5f\"}, \"type\": \"carpet\"}], \"choropleth\": [{\"colorbar\": {\"outlinewidth\": 0, \"ticks\": \"\"}, \"type\": \"choropleth\"}], \"contour\": [{\"colorbar\": {\"outlinewidth\": 0, \"ticks\": \"\"}, \"colorscale\": [[0.0, \"#0d0887\"], [0.1111111111111111, \"#46039f\"], [0.2222222222222222, \"#7201a8\"], [0.3333333333333333, \"#9c179e\"], [0.4444444444444444, \"#bd3786\"], [0.5555555555555556, \"#d8576b\"], [0.6666666666666666, \"#ed7953\"], [0.7777777777777778, \"#fb9f3a\"], [0.8888888888888888, \"#fdca26\"], [1.0, \"#f0f921\"]], \"type\": \"contour\"}], \"contourcarpet\": [{\"colorbar\": {\"outlinewidth\": 0, \"ticks\": \"\"}, \"type\": \"contourcarpet\"}], \"heatmap\": [{\"colorbar\": {\"outlinewidth\": 0, \"ticks\": \"\"}, \"colorscale\": [[0.0, \"#0d0887\"], [0.1111111111111111, \"#46039f\"], [0.2222222222222222, \"#7201a8\"], [0.3333333333333333, \"#9c179e\"], [0.4444444444444444, \"#bd3786\"], [0.5555555555555556, \"#d8576b\"], [0.6666666666666666, \"#ed7953\"], [0.7777777777777778, \"#fb9f3a\"], [0.8888888888888888, \"#fdca26\"], [1.0, \"#f0f921\"]], \"type\": \"heatmap\"}], \"heatmapgl\": [{\"colorbar\": {\"outlinewidth\": 0, \"ticks\": \"\"}, \"colorscale\": [[0.0, \"#0d0887\"], [0.1111111111111111, \"#46039f\"], [0.2222222222222222, \"#7201a8\"], [0.3333333333333333, \"#9c179e\"], [0.4444444444444444, \"#bd3786\"], [0.5555555555555556, \"#d8576b\"], [0.6666666666666666, \"#ed7953\"], [0.7777777777777778, \"#fb9f3a\"], [0.8888888888888888, \"#fdca26\"], [1.0, \"#f0f921\"]], \"type\": \"heatmapgl\"}], \"histogram\": [{\"marker\": {\"colorbar\": {\"outlinewidth\": 0, \"ticks\": \"\"}}, \"type\": \"histogram\"}], \"histogram2d\": [{\"colorbar\": {\"outlinewidth\": 0, \"ticks\": \"\"}, \"colorscale\": [[0.0, \"#0d0887\"], [0.1111111111111111, \"#46039f\"], [0.2222222222222222, \"#7201a8\"], [0.3333333333333333, \"#9c179e\"], [0.4444444444444444, \"#bd3786\"], [0.5555555555555556, \"#d8576b\"], [0.6666666666666666, \"#ed7953\"], [0.7777777777777778, \"#fb9f3a\"], [0.8888888888888888, \"#fdca26\"], [1.0, \"#f0f921\"]], \"type\": \"histogram2d\"}], \"histogram2dcontour\": [{\"colorbar\": {\"outlinewidth\": 0, \"ticks\": \"\"}, \"colorscale\": [[0.0, \"#0d0887\"], [0.1111111111111111, \"#46039f\"], [0.2222222222222222, \"#7201a8\"], [0.3333333333333333, \"#9c179e\"], [0.4444444444444444, \"#bd3786\"], [0.5555555555555556, \"#d8576b\"], [0.6666666666666666, \"#ed7953\"], [0.7777777777777778, \"#fb9f3a\"], [0.8888888888888888, \"#fdca26\"], [1.0, \"#f0f921\"]], \"type\": \"histogram2dcontour\"}], \"mesh3d\": [{\"colorbar\": {\"outlinewidth\": 0, \"ticks\": \"\"}, \"type\": \"mesh3d\"}], \"parcoords\": [{\"line\": {\"colorbar\": {\"outlinewidth\": 0, \"ticks\": \"\"}}, \"type\": \"parcoords\"}], \"pie\": [{\"automargin\": true, \"type\": \"pie\"}], \"scatter\": [{\"marker\": {\"colorbar\": {\"outlinewidth\": 0, \"ticks\": \"\"}}, \"type\": \"scatter\"}], \"scatter3d\": [{\"line\": {\"colorbar\": {\"outlinewidth\": 0, \"ticks\": \"\"}}, \"marker\": {\"colorbar\": {\"outlinewidth\": 0, \"ticks\": \"\"}}, \"type\": \"scatter3d\"}], \"scattercarpet\": [{\"marker\": {\"colorbar\": {\"outlinewidth\": 0, \"ticks\": \"\"}}, \"type\": \"scattercarpet\"}], \"scattergeo\": [{\"marker\": {\"colorbar\": {\"outlinewidth\": 0, \"ticks\": \"\"}}, \"type\": \"scattergeo\"}], \"scattergl\": [{\"marker\": {\"colorbar\": {\"outlinewidth\": 0, \"ticks\": \"\"}}, \"type\": \"scattergl\"}], \"scattermapbox\": [{\"marker\": {\"colorbar\": {\"outlinewidth\": 0, \"ticks\": \"\"}}, \"type\": \"scattermapbox\"}], \"scatterpolar\": [{\"marker\": {\"colorbar\": {\"outlinewidth\": 0, \"ticks\": \"\"}}, \"type\": \"scatterpolar\"}], \"scatterpolargl\": [{\"marker\": {\"colorbar\": {\"outlinewidth\": 0, \"ticks\": \"\"}}, \"type\": \"scatterpolargl\"}], \"scatterternary\": [{\"marker\": {\"colorbar\": {\"outlinewidth\": 0, \"ticks\": \"\"}}, \"type\": \"scatterternary\"}], \"surface\": [{\"colorbar\": {\"outlinewidth\": 0, \"ticks\": \"\"}, \"colorscale\": [[0.0, \"#0d0887\"], [0.1111111111111111, \"#46039f\"], [0.2222222222222222, \"#7201a8\"], [0.3333333333333333, \"#9c179e\"], [0.4444444444444444, \"#bd3786\"], [0.5555555555555556, \"#d8576b\"], [0.6666666666666666, \"#ed7953\"], [0.7777777777777778, \"#fb9f3a\"], [0.8888888888888888, \"#fdca26\"], [1.0, \"#f0f921\"]], \"type\": \"surface\"}], \"table\": [{\"cells\": {\"fill\": {\"color\": \"#EBF0F8\"}, \"line\": {\"color\": \"white\"}}, \"header\": {\"fill\": {\"color\": \"#C8D4E3\"}, \"line\": {\"color\": \"white\"}}, \"type\": \"table\"}]}, \"layout\": {\"annotationdefaults\": {\"arrowcolor\": \"#2a3f5f\", \"arrowhead\": 0, \"arrowwidth\": 1}, \"coloraxis\": {\"colorbar\": {\"outlinewidth\": 0, \"ticks\": \"\"}}, \"colorscale\": {\"diverging\": [[0, \"#8e0152\"], [0.1, \"#c51b7d\"], [0.2, \"#de77ae\"], [0.3, \"#f1b6da\"], [0.4, \"#fde0ef\"], [0.5, \"#f7f7f7\"], [0.6, \"#e6f5d0\"], [0.7, \"#b8e186\"], [0.8, \"#7fbc41\"], [0.9, \"#4d9221\"], [1, \"#276419\"]], \"sequential\": [[0.0, \"#0d0887\"], [0.1111111111111111, \"#46039f\"], [0.2222222222222222, \"#7201a8\"], [0.3333333333333333, \"#9c179e\"], [0.4444444444444444, \"#bd3786\"], [0.5555555555555556, \"#d8576b\"], [0.6666666666666666, \"#ed7953\"], [0.7777777777777778, \"#fb9f3a\"], [0.8888888888888888, \"#fdca26\"], [1.0, \"#f0f921\"]], \"sequentialminus\": [[0.0, \"#0d0887\"], [0.1111111111111111, \"#46039f\"], [0.2222222222222222, \"#7201a8\"], [0.3333333333333333, \"#9c179e\"], [0.4444444444444444, \"#bd3786\"], [0.5555555555555556, \"#d8576b\"], [0.6666666666666666, \"#ed7953\"], [0.7777777777777778, \"#fb9f3a\"], [0.8888888888888888, \"#fdca26\"], [1.0, \"#f0f921\"]]}, \"colorway\": [\"#636efa\", \"#EF553B\", \"#00cc96\", \"#ab63fa\", \"#FFA15A\", \"#19d3f3\", \"#FF6692\", \"#B6E880\", \"#FF97FF\", \"#FECB52\"], \"font\": {\"color\": \"#2a3f5f\"}, \"geo\": {\"bgcolor\": \"white\", \"lakecolor\": \"white\", \"landcolor\": \"#E5ECF6\", \"showlakes\": true, \"showland\": true, \"subunitcolor\": \"white\"}, \"hoverlabel\": {\"align\": \"left\"}, \"hovermode\": \"closest\", \"mapbox\": {\"style\": \"light\"}, \"paper_bgcolor\": \"white\", \"plot_bgcolor\": \"#E5ECF6\", \"polar\": {\"angularaxis\": {\"gridcolor\": \"white\", \"linecolor\": \"white\", \"ticks\": \"\"}, \"bgcolor\": \"#E5ECF6\", \"radialaxis\": {\"gridcolor\": \"white\", \"linecolor\": \"white\", \"ticks\": \"\"}}, \"scene\": {\"xaxis\": {\"backgroundcolor\": \"#E5ECF6\", \"gridcolor\": \"white\", \"gridwidth\": 2, \"linecolor\": \"white\", \"showbackground\": true, \"ticks\": \"\", \"zerolinecolor\": \"white\"}, \"yaxis\": {\"backgroundcolor\": \"#E5ECF6\", \"gridcolor\": \"white\", \"gridwidth\": 2, \"linecolor\": \"white\", \"showbackground\": true, \"ticks\": \"\", \"zerolinecolor\": \"white\"}, \"zaxis\": {\"backgroundcolor\": \"#E5ECF6\", \"gridcolor\": \"white\", \"gridwidth\": 2, \"linecolor\": \"white\", \"showbackground\": true, \"ticks\": \"\", \"zerolinecolor\": \"white\"}}, \"shapedefaults\": {\"line\": {\"color\": \"#2a3f5f\"}}, \"ternary\": {\"aaxis\": {\"gridcolor\": \"white\", \"linecolor\": \"white\", \"ticks\": \"\"}, \"baxis\": {\"gridcolor\": \"white\", \"linecolor\": \"white\", \"ticks\": \"\"}, \"bgcolor\": \"#E5ECF6\", \"caxis\": {\"gridcolor\": \"white\", \"linecolor\": \"white\", \"ticks\": \"\"}}, \"title\": {\"x\": 0.05}, \"xaxis\": {\"automargin\": true, \"gridcolor\": \"white\", \"linecolor\": \"white\", \"ticks\": \"\", \"title\": {\"standoff\": 15}, \"zerolinecolor\": \"white\", \"zerolinewidth\": 2}, \"yaxis\": {\"automargin\": true, \"gridcolor\": \"white\", \"linecolor\": \"white\", \"ticks\": \"\", \"title\": {\"standoff\": 15}, \"zerolinecolor\": \"white\", \"zerolinewidth\": 2}}}, \"title\": {\"text\": \"Daily Sales\"}},                        {\"responsive\": true}                    ).then(function(){\n",
       "                            \n",
       "var gd = document.getElementById('cb625f72-141d-4d66-b96a-9d7eb3bc7803');\n",
       "var x = new MutationObserver(function (mutations, observer) {{\n",
       "        var display = window.getComputedStyle(gd).display;\n",
       "        if (!display || display === 'none') {{\n",
       "            console.log([gd, 'removed!']);\n",
       "            Plotly.purge(gd);\n",
       "            observer.disconnect();\n",
       "        }}\n",
       "}});\n",
       "\n",
       "// Listen for the removal of the full notebook cells\n",
       "var notebookContainer = gd.closest('#notebook-container');\n",
       "if (notebookContainer) {{\n",
       "    x.observe(notebookContainer, {childList: true});\n",
       "}}\n",
       "\n",
       "// Listen for the clearing of the current output cell\n",
       "var outputEl = gd.closest('.output');\n",
       "if (outputEl) {{\n",
       "    x.observe(outputEl, {childList: true});\n",
       "}}\n",
       "\n",
       "                        })                };                });            </script>        </div>"
      ]
     },
     "metadata": {},
     "output_type": "display_data"
    }
   ],
   "source": [
    "#plot monthly sales\n",
    "plot_data = [\n",
    "    go.Scatter(\n",
    "        x=value['Date'],\n",
    "        y=value['NET_AMOUNT'],\n",
    "    )\n",
    "]\n",
    "plot_layout = go.Layout(\n",
    "        title='Daily Sales'\n",
    "    )\n",
    "fig = go.Figure(data=plot_data, layout=plot_layout)\n",
    "pyoff.iplot(fig)"
   ]
  },
  {
   "cell_type": "code",
   "execution_count": 75,
   "metadata": {},
   "outputs": [],
   "source": [
    "import plotly.graph_objs as go\n",
    "import plotly.offline as pyoff"
   ]
  },
  {
   "cell_type": "code",
   "execution_count": 111,
   "metadata": {},
   "outputs": [
    {
     "data": {
      "text/html": [
       "<div>\n",
       "<style scoped>\n",
       "    .dataframe tbody tr th:only-of-type {\n",
       "        vertical-align: middle;\n",
       "    }\n",
       "\n",
       "    .dataframe tbody tr th {\n",
       "        vertical-align: top;\n",
       "    }\n",
       "\n",
       "    .dataframe thead th {\n",
       "        text-align: right;\n",
       "    }\n",
       "</style>\n",
       "<table border=\"1\" class=\"dataframe\">\n",
       "  <thead>\n",
       "    <tr style=\"text-align: right;\">\n",
       "      <th></th>\n",
       "      <th>Date</th>\n",
       "      <th>NET_AMOUNT</th>\n",
       "      <th>prev_sales</th>\n",
       "      <th>diff</th>\n",
       "    </tr>\n",
       "  </thead>\n",
       "  <tbody>\n",
       "    <tr>\n",
       "      <td>1</td>\n",
       "      <td>2020-08-02</td>\n",
       "      <td>23010.71</td>\n",
       "      <td>7797.44</td>\n",
       "      <td>15213.27</td>\n",
       "    </tr>\n",
       "    <tr>\n",
       "      <td>2</td>\n",
       "      <td>2020-08-03</td>\n",
       "      <td>18153.12</td>\n",
       "      <td>23010.71</td>\n",
       "      <td>-4857.59</td>\n",
       "    </tr>\n",
       "    <tr>\n",
       "      <td>3</td>\n",
       "      <td>2020-08-04</td>\n",
       "      <td>7654.93</td>\n",
       "      <td>18153.12</td>\n",
       "      <td>-10498.19</td>\n",
       "    </tr>\n",
       "    <tr>\n",
       "      <td>4</td>\n",
       "      <td>2020-08-05</td>\n",
       "      <td>27110.34</td>\n",
       "      <td>7654.93</td>\n",
       "      <td>19455.41</td>\n",
       "    </tr>\n",
       "    <tr>\n",
       "      <td>5</td>\n",
       "      <td>2020-08-06</td>\n",
       "      <td>22473.58</td>\n",
       "      <td>27110.34</td>\n",
       "      <td>-4636.76</td>\n",
       "    </tr>\n",
       "    <tr>\n",
       "      <td>6</td>\n",
       "      <td>2020-08-07</td>\n",
       "      <td>51151.61</td>\n",
       "      <td>22473.58</td>\n",
       "      <td>28678.03</td>\n",
       "    </tr>\n",
       "    <tr>\n",
       "      <td>7</td>\n",
       "      <td>2020-08-08</td>\n",
       "      <td>53458.77</td>\n",
       "      <td>51151.61</td>\n",
       "      <td>2307.16</td>\n",
       "    </tr>\n",
       "    <tr>\n",
       "      <td>8</td>\n",
       "      <td>2020-08-09</td>\n",
       "      <td>37105.22</td>\n",
       "      <td>53458.77</td>\n",
       "      <td>-16353.55</td>\n",
       "    </tr>\n",
       "    <tr>\n",
       "      <td>9</td>\n",
       "      <td>2020-08-10</td>\n",
       "      <td>16683.19</td>\n",
       "      <td>37105.22</td>\n",
       "      <td>-20422.03</td>\n",
       "    </tr>\n",
       "    <tr>\n",
       "      <td>10</td>\n",
       "      <td>2020-08-11</td>\n",
       "      <td>36555.25</td>\n",
       "      <td>16683.19</td>\n",
       "      <td>19872.06</td>\n",
       "    </tr>\n",
       "  </tbody>\n",
       "</table>\n",
       "</div>"
      ],
      "text/plain": [
       "         Date  NET_AMOUNT  prev_sales      diff\n",
       "1  2020-08-02    23010.71     7797.44  15213.27\n",
       "2  2020-08-03    18153.12    23010.71  -4857.59\n",
       "3  2020-08-04     7654.93    18153.12 -10498.19\n",
       "4  2020-08-05    27110.34     7654.93  19455.41\n",
       "5  2020-08-06    22473.58    27110.34  -4636.76\n",
       "6  2020-08-07    51151.61    22473.58  28678.03\n",
       "7  2020-08-08    53458.77    51151.61   2307.16\n",
       "8  2020-08-09    37105.22    53458.77 -16353.55\n",
       "9  2020-08-10    16683.19    37105.22 -20422.03\n",
       "10 2020-08-11    36555.25    16683.19  19872.06"
      ]
     },
     "execution_count": 111,
     "metadata": {},
     "output_type": "execute_result"
    }
   ],
   "source": [
    "df_diff = value.copy()\n",
    "#add previous sales to the next row\n",
    "df_diff['prev_sales'] = df_diff['NET_AMOUNT'].shift(1)\n",
    "#drop the null values and calculate the difference\n",
    "df_diff = df_diff.dropna()\n",
    "df_diff['diff'] = (df_diff['NET_AMOUNT'] - df_diff['prev_sales'])\n",
    "df_diff.head(10)"
   ]
  },
  {
   "cell_type": "code",
   "execution_count": 102,
   "metadata": {},
   "outputs": [
    {
     "data": {
      "application/vnd.plotly.v1+json": {
       "config": {
        "linkText": "Export to plot.ly",
        "plotlyServerURL": "https://plot.ly",
        "showLink": false
       },
       "data": [
        {
         "type": "scatter",
         "x": [
          "2020-08-02T00:00:00",
          "2020-08-03T00:00:00",
          "2020-08-04T00:00:00",
          "2020-08-05T00:00:00",
          "2020-08-06T00:00:00",
          "2020-08-07T00:00:00",
          "2020-08-08T00:00:00",
          "2020-08-09T00:00:00",
          "2020-08-10T00:00:00",
          "2020-08-11T00:00:00",
          "2020-08-12T00:00:00",
          "2020-08-13T00:00:00",
          "2020-08-14T00:00:00",
          "2020-08-15T00:00:00",
          "2020-08-16T00:00:00",
          "2020-08-17T00:00:00",
          "2020-08-18T00:00:00",
          "2020-08-19T00:00:00",
          "2020-08-20T00:00:00",
          "2020-08-21T00:00:00",
          "2020-08-22T00:00:00",
          "2020-08-23T00:00:00",
          "2020-08-24T00:00:00",
          "2020-08-25T00:00:00",
          "2020-08-26T00:00:00",
          "2020-08-27T00:00:00",
          "2020-08-28T00:00:00",
          "2020-08-29T00:00:00",
          "2020-08-30T00:00:00"
         ],
         "y": [
          15213.270000000002,
          -4857.590000000004,
          -10498.189999999999,
          19455.41,
          -4636.759999999998,
          28678.030000000013,
          2307.1599999999817,
          -16353.549999999996,
          -20422.030000000002,
          19872.059999999994,
          -11372.399999999994,
          33480.21999999999,
          -38229.53999999998,
          28716.919999999987,
          -20288.489999999998,
          3930.360000000015,
          -28264.980000000007,
          5267.84,
          -2912.1800000000003,
          47742.11,
          -14074.709999999992,
          26687.67,
          -46965.640000000014,
          -7483.249999999996,
          17002.990000000005,
          14236.430000000008,
          -10647.670000000013,
          6242.039999999986,
          46383.01999999999
         ]
        }
       ],
       "layout": {
        "template": {
         "data": {
          "bar": [
           {
            "error_x": {
             "color": "#2a3f5f"
            },
            "error_y": {
             "color": "#2a3f5f"
            },
            "marker": {
             "line": {
              "color": "#E5ECF6",
              "width": 0.5
             }
            },
            "type": "bar"
           }
          ],
          "barpolar": [
           {
            "marker": {
             "line": {
              "color": "#E5ECF6",
              "width": 0.5
             }
            },
            "type": "barpolar"
           }
          ],
          "carpet": [
           {
            "aaxis": {
             "endlinecolor": "#2a3f5f",
             "gridcolor": "white",
             "linecolor": "white",
             "minorgridcolor": "white",
             "startlinecolor": "#2a3f5f"
            },
            "baxis": {
             "endlinecolor": "#2a3f5f",
             "gridcolor": "white",
             "linecolor": "white",
             "minorgridcolor": "white",
             "startlinecolor": "#2a3f5f"
            },
            "type": "carpet"
           }
          ],
          "choropleth": [
           {
            "colorbar": {
             "outlinewidth": 0,
             "ticks": ""
            },
            "type": "choropleth"
           }
          ],
          "contour": [
           {
            "colorbar": {
             "outlinewidth": 0,
             "ticks": ""
            },
            "colorscale": [
             [
              0,
              "#0d0887"
             ],
             [
              0.1111111111111111,
              "#46039f"
             ],
             [
              0.2222222222222222,
              "#7201a8"
             ],
             [
              0.3333333333333333,
              "#9c179e"
             ],
             [
              0.4444444444444444,
              "#bd3786"
             ],
             [
              0.5555555555555556,
              "#d8576b"
             ],
             [
              0.6666666666666666,
              "#ed7953"
             ],
             [
              0.7777777777777778,
              "#fb9f3a"
             ],
             [
              0.8888888888888888,
              "#fdca26"
             ],
             [
              1,
              "#f0f921"
             ]
            ],
            "type": "contour"
           }
          ],
          "contourcarpet": [
           {
            "colorbar": {
             "outlinewidth": 0,
             "ticks": ""
            },
            "type": "contourcarpet"
           }
          ],
          "heatmap": [
           {
            "colorbar": {
             "outlinewidth": 0,
             "ticks": ""
            },
            "colorscale": [
             [
              0,
              "#0d0887"
             ],
             [
              0.1111111111111111,
              "#46039f"
             ],
             [
              0.2222222222222222,
              "#7201a8"
             ],
             [
              0.3333333333333333,
              "#9c179e"
             ],
             [
              0.4444444444444444,
              "#bd3786"
             ],
             [
              0.5555555555555556,
              "#d8576b"
             ],
             [
              0.6666666666666666,
              "#ed7953"
             ],
             [
              0.7777777777777778,
              "#fb9f3a"
             ],
             [
              0.8888888888888888,
              "#fdca26"
             ],
             [
              1,
              "#f0f921"
             ]
            ],
            "type": "heatmap"
           }
          ],
          "heatmapgl": [
           {
            "colorbar": {
             "outlinewidth": 0,
             "ticks": ""
            },
            "colorscale": [
             [
              0,
              "#0d0887"
             ],
             [
              0.1111111111111111,
              "#46039f"
             ],
             [
              0.2222222222222222,
              "#7201a8"
             ],
             [
              0.3333333333333333,
              "#9c179e"
             ],
             [
              0.4444444444444444,
              "#bd3786"
             ],
             [
              0.5555555555555556,
              "#d8576b"
             ],
             [
              0.6666666666666666,
              "#ed7953"
             ],
             [
              0.7777777777777778,
              "#fb9f3a"
             ],
             [
              0.8888888888888888,
              "#fdca26"
             ],
             [
              1,
              "#f0f921"
             ]
            ],
            "type": "heatmapgl"
           }
          ],
          "histogram": [
           {
            "marker": {
             "colorbar": {
              "outlinewidth": 0,
              "ticks": ""
             }
            },
            "type": "histogram"
           }
          ],
          "histogram2d": [
           {
            "colorbar": {
             "outlinewidth": 0,
             "ticks": ""
            },
            "colorscale": [
             [
              0,
              "#0d0887"
             ],
             [
              0.1111111111111111,
              "#46039f"
             ],
             [
              0.2222222222222222,
              "#7201a8"
             ],
             [
              0.3333333333333333,
              "#9c179e"
             ],
             [
              0.4444444444444444,
              "#bd3786"
             ],
             [
              0.5555555555555556,
              "#d8576b"
             ],
             [
              0.6666666666666666,
              "#ed7953"
             ],
             [
              0.7777777777777778,
              "#fb9f3a"
             ],
             [
              0.8888888888888888,
              "#fdca26"
             ],
             [
              1,
              "#f0f921"
             ]
            ],
            "type": "histogram2d"
           }
          ],
          "histogram2dcontour": [
           {
            "colorbar": {
             "outlinewidth": 0,
             "ticks": ""
            },
            "colorscale": [
             [
              0,
              "#0d0887"
             ],
             [
              0.1111111111111111,
              "#46039f"
             ],
             [
              0.2222222222222222,
              "#7201a8"
             ],
             [
              0.3333333333333333,
              "#9c179e"
             ],
             [
              0.4444444444444444,
              "#bd3786"
             ],
             [
              0.5555555555555556,
              "#d8576b"
             ],
             [
              0.6666666666666666,
              "#ed7953"
             ],
             [
              0.7777777777777778,
              "#fb9f3a"
             ],
             [
              0.8888888888888888,
              "#fdca26"
             ],
             [
              1,
              "#f0f921"
             ]
            ],
            "type": "histogram2dcontour"
           }
          ],
          "mesh3d": [
           {
            "colorbar": {
             "outlinewidth": 0,
             "ticks": ""
            },
            "type": "mesh3d"
           }
          ],
          "parcoords": [
           {
            "line": {
             "colorbar": {
              "outlinewidth": 0,
              "ticks": ""
             }
            },
            "type": "parcoords"
           }
          ],
          "pie": [
           {
            "automargin": true,
            "type": "pie"
           }
          ],
          "scatter": [
           {
            "marker": {
             "colorbar": {
              "outlinewidth": 0,
              "ticks": ""
             }
            },
            "type": "scatter"
           }
          ],
          "scatter3d": [
           {
            "line": {
             "colorbar": {
              "outlinewidth": 0,
              "ticks": ""
             }
            },
            "marker": {
             "colorbar": {
              "outlinewidth": 0,
              "ticks": ""
             }
            },
            "type": "scatter3d"
           }
          ],
          "scattercarpet": [
           {
            "marker": {
             "colorbar": {
              "outlinewidth": 0,
              "ticks": ""
             }
            },
            "type": "scattercarpet"
           }
          ],
          "scattergeo": [
           {
            "marker": {
             "colorbar": {
              "outlinewidth": 0,
              "ticks": ""
             }
            },
            "type": "scattergeo"
           }
          ],
          "scattergl": [
           {
            "marker": {
             "colorbar": {
              "outlinewidth": 0,
              "ticks": ""
             }
            },
            "type": "scattergl"
           }
          ],
          "scattermapbox": [
           {
            "marker": {
             "colorbar": {
              "outlinewidth": 0,
              "ticks": ""
             }
            },
            "type": "scattermapbox"
           }
          ],
          "scatterpolar": [
           {
            "marker": {
             "colorbar": {
              "outlinewidth": 0,
              "ticks": ""
             }
            },
            "type": "scatterpolar"
           }
          ],
          "scatterpolargl": [
           {
            "marker": {
             "colorbar": {
              "outlinewidth": 0,
              "ticks": ""
             }
            },
            "type": "scatterpolargl"
           }
          ],
          "scatterternary": [
           {
            "marker": {
             "colorbar": {
              "outlinewidth": 0,
              "ticks": ""
             }
            },
            "type": "scatterternary"
           }
          ],
          "surface": [
           {
            "colorbar": {
             "outlinewidth": 0,
             "ticks": ""
            },
            "colorscale": [
             [
              0,
              "#0d0887"
             ],
             [
              0.1111111111111111,
              "#46039f"
             ],
             [
              0.2222222222222222,
              "#7201a8"
             ],
             [
              0.3333333333333333,
              "#9c179e"
             ],
             [
              0.4444444444444444,
              "#bd3786"
             ],
             [
              0.5555555555555556,
              "#d8576b"
             ],
             [
              0.6666666666666666,
              "#ed7953"
             ],
             [
              0.7777777777777778,
              "#fb9f3a"
             ],
             [
              0.8888888888888888,
              "#fdca26"
             ],
             [
              1,
              "#f0f921"
             ]
            ],
            "type": "surface"
           }
          ],
          "table": [
           {
            "cells": {
             "fill": {
              "color": "#EBF0F8"
             },
             "line": {
              "color": "white"
             }
            },
            "header": {
             "fill": {
              "color": "#C8D4E3"
             },
             "line": {
              "color": "white"
             }
            },
            "type": "table"
           }
          ]
         },
         "layout": {
          "annotationdefaults": {
           "arrowcolor": "#2a3f5f",
           "arrowhead": 0,
           "arrowwidth": 1
          },
          "coloraxis": {
           "colorbar": {
            "outlinewidth": 0,
            "ticks": ""
           }
          },
          "colorscale": {
           "diverging": [
            [
             0,
             "#8e0152"
            ],
            [
             0.1,
             "#c51b7d"
            ],
            [
             0.2,
             "#de77ae"
            ],
            [
             0.3,
             "#f1b6da"
            ],
            [
             0.4,
             "#fde0ef"
            ],
            [
             0.5,
             "#f7f7f7"
            ],
            [
             0.6,
             "#e6f5d0"
            ],
            [
             0.7,
             "#b8e186"
            ],
            [
             0.8,
             "#7fbc41"
            ],
            [
             0.9,
             "#4d9221"
            ],
            [
             1,
             "#276419"
            ]
           ],
           "sequential": [
            [
             0,
             "#0d0887"
            ],
            [
             0.1111111111111111,
             "#46039f"
            ],
            [
             0.2222222222222222,
             "#7201a8"
            ],
            [
             0.3333333333333333,
             "#9c179e"
            ],
            [
             0.4444444444444444,
             "#bd3786"
            ],
            [
             0.5555555555555556,
             "#d8576b"
            ],
            [
             0.6666666666666666,
             "#ed7953"
            ],
            [
             0.7777777777777778,
             "#fb9f3a"
            ],
            [
             0.8888888888888888,
             "#fdca26"
            ],
            [
             1,
             "#f0f921"
            ]
           ],
           "sequentialminus": [
            [
             0,
             "#0d0887"
            ],
            [
             0.1111111111111111,
             "#46039f"
            ],
            [
             0.2222222222222222,
             "#7201a8"
            ],
            [
             0.3333333333333333,
             "#9c179e"
            ],
            [
             0.4444444444444444,
             "#bd3786"
            ],
            [
             0.5555555555555556,
             "#d8576b"
            ],
            [
             0.6666666666666666,
             "#ed7953"
            ],
            [
             0.7777777777777778,
             "#fb9f3a"
            ],
            [
             0.8888888888888888,
             "#fdca26"
            ],
            [
             1,
             "#f0f921"
            ]
           ]
          },
          "colorway": [
           "#636efa",
           "#EF553B",
           "#00cc96",
           "#ab63fa",
           "#FFA15A",
           "#19d3f3",
           "#FF6692",
           "#B6E880",
           "#FF97FF",
           "#FECB52"
          ],
          "font": {
           "color": "#2a3f5f"
          },
          "geo": {
           "bgcolor": "white",
           "lakecolor": "white",
           "landcolor": "#E5ECF6",
           "showlakes": true,
           "showland": true,
           "subunitcolor": "white"
          },
          "hoverlabel": {
           "align": "left"
          },
          "hovermode": "closest",
          "mapbox": {
           "style": "light"
          },
          "paper_bgcolor": "white",
          "plot_bgcolor": "#E5ECF6",
          "polar": {
           "angularaxis": {
            "gridcolor": "white",
            "linecolor": "white",
            "ticks": ""
           },
           "bgcolor": "#E5ECF6",
           "radialaxis": {
            "gridcolor": "white",
            "linecolor": "white",
            "ticks": ""
           }
          },
          "scene": {
           "xaxis": {
            "backgroundcolor": "#E5ECF6",
            "gridcolor": "white",
            "gridwidth": 2,
            "linecolor": "white",
            "showbackground": true,
            "ticks": "",
            "zerolinecolor": "white"
           },
           "yaxis": {
            "backgroundcolor": "#E5ECF6",
            "gridcolor": "white",
            "gridwidth": 2,
            "linecolor": "white",
            "showbackground": true,
            "ticks": "",
            "zerolinecolor": "white"
           },
           "zaxis": {
            "backgroundcolor": "#E5ECF6",
            "gridcolor": "white",
            "gridwidth": 2,
            "linecolor": "white",
            "showbackground": true,
            "ticks": "",
            "zerolinecolor": "white"
           }
          },
          "shapedefaults": {
           "line": {
            "color": "#2a3f5f"
           }
          },
          "ternary": {
           "aaxis": {
            "gridcolor": "white",
            "linecolor": "white",
            "ticks": ""
           },
           "baxis": {
            "gridcolor": "white",
            "linecolor": "white",
            "ticks": ""
           },
           "bgcolor": "#E5ECF6",
           "caxis": {
            "gridcolor": "white",
            "linecolor": "white",
            "ticks": ""
           }
          },
          "title": {
           "x": 0.05
          },
          "xaxis": {
           "automargin": true,
           "gridcolor": "white",
           "linecolor": "white",
           "ticks": "",
           "title": {
            "standoff": 15
           },
           "zerolinecolor": "white",
           "zerolinewidth": 2
          },
          "yaxis": {
           "automargin": true,
           "gridcolor": "white",
           "linecolor": "white",
           "ticks": "",
           "title": {
            "standoff": 15
           },
           "zerolinecolor": "white",
           "zerolinewidth": 2
          }
         }
        },
        "title": {
         "text": "Daily Sales Diff"
        }
       }
      },
      "text/html": [
       "<div>                            <div id=\"2346b4e7-afcd-4fec-813a-d9fc9687e78d\" class=\"plotly-graph-div\" style=\"height:525px; width:100%;\"></div>            <script type=\"text/javascript\">                require([\"plotly\"], function(Plotly) {                    window.PLOTLYENV=window.PLOTLYENV || {};                                    if (document.getElementById(\"2346b4e7-afcd-4fec-813a-d9fc9687e78d\")) {                    Plotly.newPlot(                        \"2346b4e7-afcd-4fec-813a-d9fc9687e78d\",                        [{\"type\": \"scatter\", \"x\": [\"2020-08-02T00:00:00\", \"2020-08-03T00:00:00\", \"2020-08-04T00:00:00\", \"2020-08-05T00:00:00\", \"2020-08-06T00:00:00\", \"2020-08-07T00:00:00\", \"2020-08-08T00:00:00\", \"2020-08-09T00:00:00\", \"2020-08-10T00:00:00\", \"2020-08-11T00:00:00\", \"2020-08-12T00:00:00\", \"2020-08-13T00:00:00\", \"2020-08-14T00:00:00\", \"2020-08-15T00:00:00\", \"2020-08-16T00:00:00\", \"2020-08-17T00:00:00\", \"2020-08-18T00:00:00\", \"2020-08-19T00:00:00\", \"2020-08-20T00:00:00\", \"2020-08-21T00:00:00\", \"2020-08-22T00:00:00\", \"2020-08-23T00:00:00\", \"2020-08-24T00:00:00\", \"2020-08-25T00:00:00\", \"2020-08-26T00:00:00\", \"2020-08-27T00:00:00\", \"2020-08-28T00:00:00\", \"2020-08-29T00:00:00\", \"2020-08-30T00:00:00\"], \"y\": [15213.270000000002, -4857.590000000004, -10498.189999999999, 19455.41, -4636.759999999998, 28678.030000000013, 2307.1599999999817, -16353.549999999996, -20422.030000000002, 19872.059999999994, -11372.399999999994, 33480.21999999999, -38229.53999999998, 28716.919999999987, -20288.489999999998, 3930.360000000015, -28264.980000000007, 5267.84, -2912.1800000000003, 47742.11, -14074.709999999992, 26687.67, -46965.640000000014, -7483.249999999996, 17002.990000000005, 14236.430000000008, -10647.670000000013, 6242.039999999986, 46383.01999999999]}],                        {\"template\": {\"data\": {\"bar\": [{\"error_x\": {\"color\": \"#2a3f5f\"}, \"error_y\": {\"color\": \"#2a3f5f\"}, \"marker\": {\"line\": {\"color\": \"#E5ECF6\", \"width\": 0.5}}, \"type\": \"bar\"}], \"barpolar\": [{\"marker\": {\"line\": {\"color\": \"#E5ECF6\", \"width\": 0.5}}, \"type\": \"barpolar\"}], \"carpet\": [{\"aaxis\": {\"endlinecolor\": \"#2a3f5f\", \"gridcolor\": \"white\", \"linecolor\": \"white\", \"minorgridcolor\": \"white\", \"startlinecolor\": \"#2a3f5f\"}, \"baxis\": {\"endlinecolor\": \"#2a3f5f\", \"gridcolor\": \"white\", \"linecolor\": \"white\", \"minorgridcolor\": \"white\", \"startlinecolor\": \"#2a3f5f\"}, \"type\": \"carpet\"}], \"choropleth\": [{\"colorbar\": {\"outlinewidth\": 0, \"ticks\": \"\"}, \"type\": \"choropleth\"}], \"contour\": [{\"colorbar\": {\"outlinewidth\": 0, \"ticks\": \"\"}, \"colorscale\": [[0.0, \"#0d0887\"], [0.1111111111111111, \"#46039f\"], [0.2222222222222222, \"#7201a8\"], [0.3333333333333333, \"#9c179e\"], [0.4444444444444444, \"#bd3786\"], [0.5555555555555556, \"#d8576b\"], [0.6666666666666666, \"#ed7953\"], [0.7777777777777778, \"#fb9f3a\"], [0.8888888888888888, \"#fdca26\"], [1.0, \"#f0f921\"]], \"type\": \"contour\"}], \"contourcarpet\": [{\"colorbar\": {\"outlinewidth\": 0, \"ticks\": \"\"}, \"type\": \"contourcarpet\"}], \"heatmap\": [{\"colorbar\": {\"outlinewidth\": 0, \"ticks\": \"\"}, \"colorscale\": [[0.0, \"#0d0887\"], [0.1111111111111111, \"#46039f\"], [0.2222222222222222, \"#7201a8\"], [0.3333333333333333, \"#9c179e\"], [0.4444444444444444, \"#bd3786\"], [0.5555555555555556, \"#d8576b\"], [0.6666666666666666, \"#ed7953\"], [0.7777777777777778, \"#fb9f3a\"], [0.8888888888888888, \"#fdca26\"], [1.0, \"#f0f921\"]], \"type\": \"heatmap\"}], \"heatmapgl\": [{\"colorbar\": {\"outlinewidth\": 0, \"ticks\": \"\"}, \"colorscale\": [[0.0, \"#0d0887\"], [0.1111111111111111, \"#46039f\"], [0.2222222222222222, \"#7201a8\"], [0.3333333333333333, \"#9c179e\"], [0.4444444444444444, \"#bd3786\"], [0.5555555555555556, \"#d8576b\"], [0.6666666666666666, \"#ed7953\"], [0.7777777777777778, \"#fb9f3a\"], [0.8888888888888888, \"#fdca26\"], [1.0, \"#f0f921\"]], \"type\": \"heatmapgl\"}], \"histogram\": [{\"marker\": {\"colorbar\": {\"outlinewidth\": 0, \"ticks\": \"\"}}, \"type\": \"histogram\"}], \"histogram2d\": [{\"colorbar\": {\"outlinewidth\": 0, \"ticks\": \"\"}, \"colorscale\": [[0.0, \"#0d0887\"], [0.1111111111111111, \"#46039f\"], [0.2222222222222222, \"#7201a8\"], [0.3333333333333333, \"#9c179e\"], [0.4444444444444444, \"#bd3786\"], [0.5555555555555556, \"#d8576b\"], [0.6666666666666666, \"#ed7953\"], [0.7777777777777778, \"#fb9f3a\"], [0.8888888888888888, \"#fdca26\"], [1.0, \"#f0f921\"]], \"type\": \"histogram2d\"}], \"histogram2dcontour\": [{\"colorbar\": {\"outlinewidth\": 0, \"ticks\": \"\"}, \"colorscale\": [[0.0, \"#0d0887\"], [0.1111111111111111, \"#46039f\"], [0.2222222222222222, \"#7201a8\"], [0.3333333333333333, \"#9c179e\"], [0.4444444444444444, \"#bd3786\"], [0.5555555555555556, \"#d8576b\"], [0.6666666666666666, \"#ed7953\"], [0.7777777777777778, \"#fb9f3a\"], [0.8888888888888888, \"#fdca26\"], [1.0, \"#f0f921\"]], \"type\": \"histogram2dcontour\"}], \"mesh3d\": [{\"colorbar\": {\"outlinewidth\": 0, \"ticks\": \"\"}, \"type\": \"mesh3d\"}], \"parcoords\": [{\"line\": {\"colorbar\": {\"outlinewidth\": 0, \"ticks\": \"\"}}, \"type\": \"parcoords\"}], \"pie\": [{\"automargin\": true, \"type\": \"pie\"}], \"scatter\": [{\"marker\": {\"colorbar\": {\"outlinewidth\": 0, \"ticks\": \"\"}}, \"type\": \"scatter\"}], \"scatter3d\": [{\"line\": {\"colorbar\": {\"outlinewidth\": 0, \"ticks\": \"\"}}, \"marker\": {\"colorbar\": {\"outlinewidth\": 0, \"ticks\": \"\"}}, \"type\": \"scatter3d\"}], \"scattercarpet\": [{\"marker\": {\"colorbar\": {\"outlinewidth\": 0, \"ticks\": \"\"}}, \"type\": \"scattercarpet\"}], \"scattergeo\": [{\"marker\": {\"colorbar\": {\"outlinewidth\": 0, \"ticks\": \"\"}}, \"type\": \"scattergeo\"}], \"scattergl\": [{\"marker\": {\"colorbar\": {\"outlinewidth\": 0, \"ticks\": \"\"}}, \"type\": \"scattergl\"}], \"scattermapbox\": [{\"marker\": {\"colorbar\": {\"outlinewidth\": 0, \"ticks\": \"\"}}, \"type\": \"scattermapbox\"}], \"scatterpolar\": [{\"marker\": {\"colorbar\": {\"outlinewidth\": 0, \"ticks\": \"\"}}, \"type\": \"scatterpolar\"}], \"scatterpolargl\": [{\"marker\": {\"colorbar\": {\"outlinewidth\": 0, \"ticks\": \"\"}}, \"type\": \"scatterpolargl\"}], \"scatterternary\": [{\"marker\": {\"colorbar\": {\"outlinewidth\": 0, \"ticks\": \"\"}}, \"type\": \"scatterternary\"}], \"surface\": [{\"colorbar\": {\"outlinewidth\": 0, \"ticks\": \"\"}, \"colorscale\": [[0.0, \"#0d0887\"], [0.1111111111111111, \"#46039f\"], [0.2222222222222222, \"#7201a8\"], [0.3333333333333333, \"#9c179e\"], [0.4444444444444444, \"#bd3786\"], [0.5555555555555556, \"#d8576b\"], [0.6666666666666666, \"#ed7953\"], [0.7777777777777778, \"#fb9f3a\"], [0.8888888888888888, \"#fdca26\"], [1.0, \"#f0f921\"]], \"type\": \"surface\"}], \"table\": [{\"cells\": {\"fill\": {\"color\": \"#EBF0F8\"}, \"line\": {\"color\": \"white\"}}, \"header\": {\"fill\": {\"color\": \"#C8D4E3\"}, \"line\": {\"color\": \"white\"}}, \"type\": \"table\"}]}, \"layout\": {\"annotationdefaults\": {\"arrowcolor\": \"#2a3f5f\", \"arrowhead\": 0, \"arrowwidth\": 1}, \"coloraxis\": {\"colorbar\": {\"outlinewidth\": 0, \"ticks\": \"\"}}, \"colorscale\": {\"diverging\": [[0, \"#8e0152\"], [0.1, \"#c51b7d\"], [0.2, \"#de77ae\"], [0.3, \"#f1b6da\"], [0.4, \"#fde0ef\"], [0.5, \"#f7f7f7\"], [0.6, \"#e6f5d0\"], [0.7, \"#b8e186\"], [0.8, \"#7fbc41\"], [0.9, \"#4d9221\"], [1, \"#276419\"]], \"sequential\": [[0.0, \"#0d0887\"], [0.1111111111111111, \"#46039f\"], [0.2222222222222222, \"#7201a8\"], [0.3333333333333333, \"#9c179e\"], [0.4444444444444444, \"#bd3786\"], [0.5555555555555556, \"#d8576b\"], [0.6666666666666666, \"#ed7953\"], [0.7777777777777778, \"#fb9f3a\"], [0.8888888888888888, \"#fdca26\"], [1.0, \"#f0f921\"]], \"sequentialminus\": [[0.0, \"#0d0887\"], [0.1111111111111111, \"#46039f\"], [0.2222222222222222, \"#7201a8\"], [0.3333333333333333, \"#9c179e\"], [0.4444444444444444, \"#bd3786\"], [0.5555555555555556, \"#d8576b\"], [0.6666666666666666, \"#ed7953\"], [0.7777777777777778, \"#fb9f3a\"], [0.8888888888888888, \"#fdca26\"], [1.0, \"#f0f921\"]]}, \"colorway\": [\"#636efa\", \"#EF553B\", \"#00cc96\", \"#ab63fa\", \"#FFA15A\", \"#19d3f3\", \"#FF6692\", \"#B6E880\", \"#FF97FF\", \"#FECB52\"], \"font\": {\"color\": \"#2a3f5f\"}, \"geo\": {\"bgcolor\": \"white\", \"lakecolor\": \"white\", \"landcolor\": \"#E5ECF6\", \"showlakes\": true, \"showland\": true, \"subunitcolor\": \"white\"}, \"hoverlabel\": {\"align\": \"left\"}, \"hovermode\": \"closest\", \"mapbox\": {\"style\": \"light\"}, \"paper_bgcolor\": \"white\", \"plot_bgcolor\": \"#E5ECF6\", \"polar\": {\"angularaxis\": {\"gridcolor\": \"white\", \"linecolor\": \"white\", \"ticks\": \"\"}, \"bgcolor\": \"#E5ECF6\", \"radialaxis\": {\"gridcolor\": \"white\", \"linecolor\": \"white\", \"ticks\": \"\"}}, \"scene\": {\"xaxis\": {\"backgroundcolor\": \"#E5ECF6\", \"gridcolor\": \"white\", \"gridwidth\": 2, \"linecolor\": \"white\", \"showbackground\": true, \"ticks\": \"\", \"zerolinecolor\": \"white\"}, \"yaxis\": {\"backgroundcolor\": \"#E5ECF6\", \"gridcolor\": \"white\", \"gridwidth\": 2, \"linecolor\": \"white\", \"showbackground\": true, \"ticks\": \"\", \"zerolinecolor\": \"white\"}, \"zaxis\": {\"backgroundcolor\": \"#E5ECF6\", \"gridcolor\": \"white\", \"gridwidth\": 2, \"linecolor\": \"white\", \"showbackground\": true, \"ticks\": \"\", \"zerolinecolor\": \"white\"}}, \"shapedefaults\": {\"line\": {\"color\": \"#2a3f5f\"}}, \"ternary\": {\"aaxis\": {\"gridcolor\": \"white\", \"linecolor\": \"white\", \"ticks\": \"\"}, \"baxis\": {\"gridcolor\": \"white\", \"linecolor\": \"white\", \"ticks\": \"\"}, \"bgcolor\": \"#E5ECF6\", \"caxis\": {\"gridcolor\": \"white\", \"linecolor\": \"white\", \"ticks\": \"\"}}, \"title\": {\"x\": 0.05}, \"xaxis\": {\"automargin\": true, \"gridcolor\": \"white\", \"linecolor\": \"white\", \"ticks\": \"\", \"title\": {\"standoff\": 15}, \"zerolinecolor\": \"white\", \"zerolinewidth\": 2}, \"yaxis\": {\"automargin\": true, \"gridcolor\": \"white\", \"linecolor\": \"white\", \"ticks\": \"\", \"title\": {\"standoff\": 15}, \"zerolinecolor\": \"white\", \"zerolinewidth\": 2}}}, \"title\": {\"text\": \"Daily Sales Diff\"}},                        {\"responsive\": true}                    ).then(function(){\n",
       "                            \n",
       "var gd = document.getElementById('2346b4e7-afcd-4fec-813a-d9fc9687e78d');\n",
       "var x = new MutationObserver(function (mutations, observer) {{\n",
       "        var display = window.getComputedStyle(gd).display;\n",
       "        if (!display || display === 'none') {{\n",
       "            console.log([gd, 'removed!']);\n",
       "            Plotly.purge(gd);\n",
       "            observer.disconnect();\n",
       "        }}\n",
       "}});\n",
       "\n",
       "// Listen for the removal of the full notebook cells\n",
       "var notebookContainer = gd.closest('#notebook-container');\n",
       "if (notebookContainer) {{\n",
       "    x.observe(notebookContainer, {childList: true});\n",
       "}}\n",
       "\n",
       "// Listen for the clearing of the current output cell\n",
       "var outputEl = gd.closest('.output');\n",
       "if (outputEl) {{\n",
       "    x.observe(outputEl, {childList: true});\n",
       "}}\n",
       "\n",
       "                        })                };                });            </script>        </div>"
      ]
     },
     "metadata": {},
     "output_type": "display_data"
    }
   ],
   "source": [
    "#plot sales diff\n",
    "plot_data = [\n",
    "    go.Scatter(\n",
    "        x=df_diff['Date'],\n",
    "        y=df_diff['diff'],\n",
    "    )\n",
    "]\n",
    "plot_layout = go.Layout(\n",
    "        title='Daily Sales Diff'\n",
    "    )\n",
    "fig = go.Figure(data=plot_data, layout=plot_layout)\n",
    "pyoff.iplot(fig)"
   ]
  },
  {
   "cell_type": "code",
   "execution_count": 114,
   "metadata": {},
   "outputs": [
    {
     "data": {
      "text/html": [
       "<div>\n",
       "<style scoped>\n",
       "    .dataframe tbody tr th:only-of-type {\n",
       "        vertical-align: middle;\n",
       "    }\n",
       "\n",
       "    .dataframe tbody tr th {\n",
       "        vertical-align: top;\n",
       "    }\n",
       "\n",
       "    .dataframe thead th {\n",
       "        text-align: right;\n",
       "    }\n",
       "</style>\n",
       "<table border=\"1\" class=\"dataframe\">\n",
       "  <thead>\n",
       "    <tr style=\"text-align: right;\">\n",
       "      <th></th>\n",
       "      <th>Date</th>\n",
       "      <th>NET_AMOUNT</th>\n",
       "      <th>diff</th>\n",
       "    </tr>\n",
       "  </thead>\n",
       "  <tbody>\n",
       "    <tr>\n",
       "      <td>0</td>\n",
       "      <td>2020-08-02</td>\n",
       "      <td>23010.71</td>\n",
       "      <td>15213.27</td>\n",
       "    </tr>\n",
       "    <tr>\n",
       "      <td>1</td>\n",
       "      <td>2020-08-03</td>\n",
       "      <td>18153.12</td>\n",
       "      <td>-4857.59</td>\n",
       "    </tr>\n",
       "    <tr>\n",
       "      <td>2</td>\n",
       "      <td>2020-08-04</td>\n",
       "      <td>7654.93</td>\n",
       "      <td>-10498.19</td>\n",
       "    </tr>\n",
       "    <tr>\n",
       "      <td>3</td>\n",
       "      <td>2020-08-05</td>\n",
       "      <td>27110.34</td>\n",
       "      <td>19455.41</td>\n",
       "    </tr>\n",
       "    <tr>\n",
       "      <td>4</td>\n",
       "      <td>2020-08-06</td>\n",
       "      <td>22473.58</td>\n",
       "      <td>-4636.76</td>\n",
       "    </tr>\n",
       "  </tbody>\n",
       "</table>\n",
       "</div>"
      ],
      "text/plain": [
       "        Date  NET_AMOUNT      diff\n",
       "0 2020-08-02    23010.71  15213.27\n",
       "1 2020-08-03    18153.12  -4857.59\n",
       "2 2020-08-04     7654.93 -10498.19\n",
       "3 2020-08-05    27110.34  19455.41\n",
       "4 2020-08-06    22473.58  -4636.76"
      ]
     },
     "execution_count": 114,
     "metadata": {},
     "output_type": "execute_result"
    }
   ],
   "source": [
    "#create dataframe for transformation from time series to supervised\n",
    "df_supervised = df_diff.drop(['prev_sales'],axis=1)\n",
    "#adding lags\n",
    "for inc in range(1,1):\n",
    "    field_name = 'lag_' + str(inc)\n",
    "    df_supervised[field_name] = df_supervised['diff'].shift(inc)\n",
    "#drop null values\n",
    "df_supervised = df_supervised.dropna().reset_index(drop=True)\n",
    "df_supervised.head()"
   ]
  },
  {
   "cell_type": "code",
   "execution_count": 115,
   "metadata": {},
   "outputs": [
    {
     "ename": "PatsyError",
     "evalue": "Error evaluating factor: NameError: name 'lag_1' is not defined\n    diff ~ lag_1\n           ^^^^^",
     "output_type": "error",
     "traceback": [
      "\u001b[1;31m---------------------------------------------------------------------------\u001b[0m",
      "\u001b[1;31mNameError\u001b[0m                                 Traceback (most recent call last)",
      "\u001b[1;32m~\\AppData\\Local\\Continuum\\anaconda3\\lib\\site-packages\\patsy\\compat.py\u001b[0m in \u001b[0;36mcall_and_wrap_exc\u001b[1;34m(msg, origin, f, *args, **kwargs)\u001b[0m\n\u001b[0;32m     35\u001b[0m     \u001b[1;32mtry\u001b[0m\u001b[1;33m:\u001b[0m\u001b[1;33m\u001b[0m\u001b[1;33m\u001b[0m\u001b[0m\n\u001b[1;32m---> 36\u001b[1;33m         \u001b[1;32mreturn\u001b[0m \u001b[0mf\u001b[0m\u001b[1;33m(\u001b[0m\u001b[1;33m*\u001b[0m\u001b[0margs\u001b[0m\u001b[1;33m,\u001b[0m \u001b[1;33m**\u001b[0m\u001b[0mkwargs\u001b[0m\u001b[1;33m)\u001b[0m\u001b[1;33m\u001b[0m\u001b[1;33m\u001b[0m\u001b[0m\n\u001b[0m\u001b[0;32m     37\u001b[0m     \u001b[1;32mexcept\u001b[0m \u001b[0mException\u001b[0m \u001b[1;32mas\u001b[0m \u001b[0me\u001b[0m\u001b[1;33m:\u001b[0m\u001b[1;33m\u001b[0m\u001b[1;33m\u001b[0m\u001b[0m\n",
      "\u001b[1;32m~\\AppData\\Local\\Continuum\\anaconda3\\lib\\site-packages\\patsy\\eval.py\u001b[0m in \u001b[0;36meval\u001b[1;34m(self, expr, source_name, inner_namespace)\u001b[0m\n\u001b[0;32m    165\u001b[0m         return eval(code, {}, VarLookupDict([inner_namespace]\n\u001b[1;32m--> 166\u001b[1;33m                                             + self._namespaces))\n\u001b[0m\u001b[0;32m    167\u001b[0m \u001b[1;33m\u001b[0m\u001b[0m\n",
      "\u001b[1;32m<string>\u001b[0m in \u001b[0;36m<module>\u001b[1;34m\u001b[0m\n",
      "\u001b[1;31mNameError\u001b[0m: name 'lag_1' is not defined",
      "\nThe above exception was the direct cause of the following exception:\n",
      "\u001b[1;31mPatsyError\u001b[0m                                Traceback (most recent call last)",
      "\u001b[1;32m<ipython-input-115-2e0c3feec2a1>\u001b[0m in \u001b[0;36m<module>\u001b[1;34m\u001b[0m\n\u001b[0;32m      1\u001b[0m \u001b[1;32mimport\u001b[0m \u001b[0mstatsmodels\u001b[0m\u001b[1;33m.\u001b[0m\u001b[0mformula\u001b[0m\u001b[1;33m.\u001b[0m\u001b[0mapi\u001b[0m \u001b[1;32mas\u001b[0m \u001b[0msmf\u001b[0m\u001b[1;33m\u001b[0m\u001b[1;33m\u001b[0m\u001b[0m\n\u001b[0;32m      2\u001b[0m \u001b[1;31m# Define the regression formula\u001b[0m\u001b[1;33m\u001b[0m\u001b[1;33m\u001b[0m\u001b[1;33m\u001b[0m\u001b[0m\n\u001b[1;32m----> 3\u001b[1;33m \u001b[0mmodel\u001b[0m \u001b[1;33m=\u001b[0m \u001b[0msmf\u001b[0m\u001b[1;33m.\u001b[0m\u001b[0mols\u001b[0m\u001b[1;33m(\u001b[0m\u001b[0mformula\u001b[0m\u001b[1;33m=\u001b[0m\u001b[1;34m'diff ~ lag_1'\u001b[0m\u001b[1;33m,\u001b[0m \u001b[0mdata\u001b[0m\u001b[1;33m=\u001b[0m\u001b[0mdf_supervised\u001b[0m\u001b[1;33m)\u001b[0m\u001b[1;33m\u001b[0m\u001b[1;33m\u001b[0m\u001b[0m\n\u001b[0m\u001b[0;32m      4\u001b[0m \u001b[1;31m# Fit the regression\u001b[0m\u001b[1;33m\u001b[0m\u001b[1;33m\u001b[0m\u001b[1;33m\u001b[0m\u001b[0m\n\u001b[0;32m      5\u001b[0m \u001b[0mmodel_fit\u001b[0m \u001b[1;33m=\u001b[0m \u001b[0mmodel\u001b[0m\u001b[1;33m.\u001b[0m\u001b[0mfit\u001b[0m\u001b[1;33m(\u001b[0m\u001b[1;33m)\u001b[0m\u001b[1;33m\u001b[0m\u001b[1;33m\u001b[0m\u001b[0m\n",
      "\u001b[1;32m~\\AppData\\Local\\Continuum\\anaconda3\\lib\\site-packages\\statsmodels\\base\\model.py\u001b[0m in \u001b[0;36mfrom_formula\u001b[1;34m(cls, formula, data, subset, drop_cols, *args, **kwargs)\u001b[0m\n\u001b[0;32m    157\u001b[0m \u001b[1;33m\u001b[0m\u001b[0m\n\u001b[0;32m    158\u001b[0m         tmp = handle_formula_data(data, None, formula, depth=eval_env,\n\u001b[1;32m--> 159\u001b[1;33m                                   missing=missing)\n\u001b[0m\u001b[0;32m    160\u001b[0m         \u001b[1;33m(\u001b[0m\u001b[1;33m(\u001b[0m\u001b[0mendog\u001b[0m\u001b[1;33m,\u001b[0m \u001b[0mexog\u001b[0m\u001b[1;33m)\u001b[0m\u001b[1;33m,\u001b[0m \u001b[0mmissing_idx\u001b[0m\u001b[1;33m,\u001b[0m \u001b[0mdesign_info\u001b[0m\u001b[1;33m)\u001b[0m \u001b[1;33m=\u001b[0m \u001b[0mtmp\u001b[0m\u001b[1;33m\u001b[0m\u001b[1;33m\u001b[0m\u001b[0m\n\u001b[0;32m    161\u001b[0m \u001b[1;33m\u001b[0m\u001b[0m\n",
      "\u001b[1;32m~\\AppData\\Local\\Continuum\\anaconda3\\lib\\site-packages\\statsmodels\\formula\\formulatools.py\u001b[0m in \u001b[0;36mhandle_formula_data\u001b[1;34m(Y, X, formula, depth, missing)\u001b[0m\n\u001b[0;32m     63\u001b[0m         \u001b[1;32mif\u001b[0m \u001b[0mdata_util\u001b[0m\u001b[1;33m.\u001b[0m\u001b[0m_is_using_pandas\u001b[0m\u001b[1;33m(\u001b[0m\u001b[0mY\u001b[0m\u001b[1;33m,\u001b[0m \u001b[1;32mNone\u001b[0m\u001b[1;33m)\u001b[0m\u001b[1;33m:\u001b[0m\u001b[1;33m\u001b[0m\u001b[1;33m\u001b[0m\u001b[0m\n\u001b[0;32m     64\u001b[0m             result = dmatrices(formula, Y, depth, return_type='dataframe',\n\u001b[1;32m---> 65\u001b[1;33m                                NA_action=na_action)\n\u001b[0m\u001b[0;32m     66\u001b[0m         \u001b[1;32melse\u001b[0m\u001b[1;33m:\u001b[0m\u001b[1;33m\u001b[0m\u001b[1;33m\u001b[0m\u001b[0m\n\u001b[0;32m     67\u001b[0m             result = dmatrices(formula, Y, depth, return_type='dataframe',\n",
      "\u001b[1;32m~\\AppData\\Local\\Continuum\\anaconda3\\lib\\site-packages\\patsy\\highlevel.py\u001b[0m in \u001b[0;36mdmatrices\u001b[1;34m(formula_like, data, eval_env, NA_action, return_type)\u001b[0m\n\u001b[0;32m    308\u001b[0m     \u001b[0meval_env\u001b[0m \u001b[1;33m=\u001b[0m \u001b[0mEvalEnvironment\u001b[0m\u001b[1;33m.\u001b[0m\u001b[0mcapture\u001b[0m\u001b[1;33m(\u001b[0m\u001b[0meval_env\u001b[0m\u001b[1;33m,\u001b[0m \u001b[0mreference\u001b[0m\u001b[1;33m=\u001b[0m\u001b[1;36m1\u001b[0m\u001b[1;33m)\u001b[0m\u001b[1;33m\u001b[0m\u001b[1;33m\u001b[0m\u001b[0m\n\u001b[0;32m    309\u001b[0m     (lhs, rhs) = _do_highlevel_design(formula_like, data, eval_env,\n\u001b[1;32m--> 310\u001b[1;33m                                       NA_action, return_type)\n\u001b[0m\u001b[0;32m    311\u001b[0m     \u001b[1;32mif\u001b[0m \u001b[0mlhs\u001b[0m\u001b[1;33m.\u001b[0m\u001b[0mshape\u001b[0m\u001b[1;33m[\u001b[0m\u001b[1;36m1\u001b[0m\u001b[1;33m]\u001b[0m \u001b[1;33m==\u001b[0m \u001b[1;36m0\u001b[0m\u001b[1;33m:\u001b[0m\u001b[1;33m\u001b[0m\u001b[1;33m\u001b[0m\u001b[0m\n\u001b[0;32m    312\u001b[0m         \u001b[1;32mraise\u001b[0m \u001b[0mPatsyError\u001b[0m\u001b[1;33m(\u001b[0m\u001b[1;34m\"model is missing required outcome variables\"\u001b[0m\u001b[1;33m)\u001b[0m\u001b[1;33m\u001b[0m\u001b[1;33m\u001b[0m\u001b[0m\n",
      "\u001b[1;32m~\\AppData\\Local\\Continuum\\anaconda3\\lib\\site-packages\\patsy\\highlevel.py\u001b[0m in \u001b[0;36m_do_highlevel_design\u001b[1;34m(formula_like, data, eval_env, NA_action, return_type)\u001b[0m\n\u001b[0;32m    163\u001b[0m         \u001b[1;32mreturn\u001b[0m \u001b[0miter\u001b[0m\u001b[1;33m(\u001b[0m\u001b[1;33m[\u001b[0m\u001b[0mdata\u001b[0m\u001b[1;33m]\u001b[0m\u001b[1;33m)\u001b[0m\u001b[1;33m\u001b[0m\u001b[1;33m\u001b[0m\u001b[0m\n\u001b[0;32m    164\u001b[0m     design_infos = _try_incr_builders(formula_like, data_iter_maker, eval_env,\n\u001b[1;32m--> 165\u001b[1;33m                                       NA_action)\n\u001b[0m\u001b[0;32m    166\u001b[0m     \u001b[1;32mif\u001b[0m \u001b[0mdesign_infos\u001b[0m \u001b[1;32mis\u001b[0m \u001b[1;32mnot\u001b[0m \u001b[1;32mNone\u001b[0m\u001b[1;33m:\u001b[0m\u001b[1;33m\u001b[0m\u001b[1;33m\u001b[0m\u001b[0m\n\u001b[0;32m    167\u001b[0m         return build_design_matrices(design_infos, data,\n",
      "\u001b[1;32m~\\AppData\\Local\\Continuum\\anaconda3\\lib\\site-packages\\patsy\\highlevel.py\u001b[0m in \u001b[0;36m_try_incr_builders\u001b[1;34m(formula_like, data_iter_maker, eval_env, NA_action)\u001b[0m\n\u001b[0;32m     68\u001b[0m                                       \u001b[0mdata_iter_maker\u001b[0m\u001b[1;33m,\u001b[0m\u001b[1;33m\u001b[0m\u001b[1;33m\u001b[0m\u001b[0m\n\u001b[0;32m     69\u001b[0m                                       \u001b[0meval_env\u001b[0m\u001b[1;33m,\u001b[0m\u001b[1;33m\u001b[0m\u001b[1;33m\u001b[0m\u001b[0m\n\u001b[1;32m---> 70\u001b[1;33m                                       NA_action)\n\u001b[0m\u001b[0;32m     71\u001b[0m     \u001b[1;32melse\u001b[0m\u001b[1;33m:\u001b[0m\u001b[1;33m\u001b[0m\u001b[1;33m\u001b[0m\u001b[0m\n\u001b[0;32m     72\u001b[0m         \u001b[1;32mreturn\u001b[0m \u001b[1;32mNone\u001b[0m\u001b[1;33m\u001b[0m\u001b[1;33m\u001b[0m\u001b[0m\n",
      "\u001b[1;32m~\\AppData\\Local\\Continuum\\anaconda3\\lib\\site-packages\\patsy\\build.py\u001b[0m in \u001b[0;36mdesign_matrix_builders\u001b[1;34m(termlists, data_iter_maker, eval_env, NA_action)\u001b[0m\n\u001b[0;32m    694\u001b[0m                                                    \u001b[0mfactor_states\u001b[0m\u001b[1;33m,\u001b[0m\u001b[1;33m\u001b[0m\u001b[1;33m\u001b[0m\u001b[0m\n\u001b[0;32m    695\u001b[0m                                                    \u001b[0mdata_iter_maker\u001b[0m\u001b[1;33m,\u001b[0m\u001b[1;33m\u001b[0m\u001b[1;33m\u001b[0m\u001b[0m\n\u001b[1;32m--> 696\u001b[1;33m                                                    NA_action)\n\u001b[0m\u001b[0;32m    697\u001b[0m     \u001b[1;31m# Now we need the factor infos, which encapsulate the knowledge of\u001b[0m\u001b[1;33m\u001b[0m\u001b[1;33m\u001b[0m\u001b[1;33m\u001b[0m\u001b[0m\n\u001b[0;32m    698\u001b[0m     \u001b[1;31m# how to turn any given factor into a chunk of data:\u001b[0m\u001b[1;33m\u001b[0m\u001b[1;33m\u001b[0m\u001b[1;33m\u001b[0m\u001b[0m\n",
      "\u001b[1;32m~\\AppData\\Local\\Continuum\\anaconda3\\lib\\site-packages\\patsy\\build.py\u001b[0m in \u001b[0;36m_examine_factor_types\u001b[1;34m(factors, factor_states, data_iter_maker, NA_action)\u001b[0m\n\u001b[0;32m    441\u001b[0m     \u001b[1;32mfor\u001b[0m \u001b[0mdata\u001b[0m \u001b[1;32min\u001b[0m \u001b[0mdata_iter_maker\u001b[0m\u001b[1;33m(\u001b[0m\u001b[1;33m)\u001b[0m\u001b[1;33m:\u001b[0m\u001b[1;33m\u001b[0m\u001b[1;33m\u001b[0m\u001b[0m\n\u001b[0;32m    442\u001b[0m         \u001b[1;32mfor\u001b[0m \u001b[0mfactor\u001b[0m \u001b[1;32min\u001b[0m \u001b[0mlist\u001b[0m\u001b[1;33m(\u001b[0m\u001b[0mexamine_needed\u001b[0m\u001b[1;33m)\u001b[0m\u001b[1;33m:\u001b[0m\u001b[1;33m\u001b[0m\u001b[1;33m\u001b[0m\u001b[0m\n\u001b[1;32m--> 443\u001b[1;33m             \u001b[0mvalue\u001b[0m \u001b[1;33m=\u001b[0m \u001b[0mfactor\u001b[0m\u001b[1;33m.\u001b[0m\u001b[0meval\u001b[0m\u001b[1;33m(\u001b[0m\u001b[0mfactor_states\u001b[0m\u001b[1;33m[\u001b[0m\u001b[0mfactor\u001b[0m\u001b[1;33m]\u001b[0m\u001b[1;33m,\u001b[0m \u001b[0mdata\u001b[0m\u001b[1;33m)\u001b[0m\u001b[1;33m\u001b[0m\u001b[1;33m\u001b[0m\u001b[0m\n\u001b[0m\u001b[0;32m    444\u001b[0m             \u001b[1;32mif\u001b[0m \u001b[0mfactor\u001b[0m \u001b[1;32min\u001b[0m \u001b[0mcat_sniffers\u001b[0m \u001b[1;32mor\u001b[0m \u001b[0mguess_categorical\u001b[0m\u001b[1;33m(\u001b[0m\u001b[0mvalue\u001b[0m\u001b[1;33m)\u001b[0m\u001b[1;33m:\u001b[0m\u001b[1;33m\u001b[0m\u001b[1;33m\u001b[0m\u001b[0m\n\u001b[0;32m    445\u001b[0m                 \u001b[1;32mif\u001b[0m \u001b[0mfactor\u001b[0m \u001b[1;32mnot\u001b[0m \u001b[1;32min\u001b[0m \u001b[0mcat_sniffers\u001b[0m\u001b[1;33m:\u001b[0m\u001b[1;33m\u001b[0m\u001b[1;33m\u001b[0m\u001b[0m\n",
      "\u001b[1;32m~\\AppData\\Local\\Continuum\\anaconda3\\lib\\site-packages\\patsy\\eval.py\u001b[0m in \u001b[0;36meval\u001b[1;34m(self, memorize_state, data)\u001b[0m\n\u001b[0;32m    564\u001b[0m         return self._eval(memorize_state[\"eval_code\"],\n\u001b[0;32m    565\u001b[0m                           \u001b[0mmemorize_state\u001b[0m\u001b[1;33m,\u001b[0m\u001b[1;33m\u001b[0m\u001b[1;33m\u001b[0m\u001b[0m\n\u001b[1;32m--> 566\u001b[1;33m                           data)\n\u001b[0m\u001b[0;32m    567\u001b[0m \u001b[1;33m\u001b[0m\u001b[0m\n\u001b[0;32m    568\u001b[0m     \u001b[0m__getstate__\u001b[0m \u001b[1;33m=\u001b[0m \u001b[0mno_pickling\u001b[0m\u001b[1;33m\u001b[0m\u001b[1;33m\u001b[0m\u001b[0m\n",
      "\u001b[1;32m~\\AppData\\Local\\Continuum\\anaconda3\\lib\\site-packages\\patsy\\eval.py\u001b[0m in \u001b[0;36m_eval\u001b[1;34m(self, code, memorize_state, data)\u001b[0m\n\u001b[0;32m    549\u001b[0m                                  \u001b[0mmemorize_state\u001b[0m\u001b[1;33m[\u001b[0m\u001b[1;34m\"eval_env\"\u001b[0m\u001b[1;33m]\u001b[0m\u001b[1;33m.\u001b[0m\u001b[0meval\u001b[0m\u001b[1;33m,\u001b[0m\u001b[1;33m\u001b[0m\u001b[1;33m\u001b[0m\u001b[0m\n\u001b[0;32m    550\u001b[0m                                  \u001b[0mcode\u001b[0m\u001b[1;33m,\u001b[0m\u001b[1;33m\u001b[0m\u001b[1;33m\u001b[0m\u001b[0m\n\u001b[1;32m--> 551\u001b[1;33m                                  inner_namespace=inner_namespace)\n\u001b[0m\u001b[0;32m    552\u001b[0m \u001b[1;33m\u001b[0m\u001b[0m\n\u001b[0;32m    553\u001b[0m     \u001b[1;32mdef\u001b[0m \u001b[0mmemorize_chunk\u001b[0m\u001b[1;33m(\u001b[0m\u001b[0mself\u001b[0m\u001b[1;33m,\u001b[0m \u001b[0mstate\u001b[0m\u001b[1;33m,\u001b[0m \u001b[0mwhich_pass\u001b[0m\u001b[1;33m,\u001b[0m \u001b[0mdata\u001b[0m\u001b[1;33m)\u001b[0m\u001b[1;33m:\u001b[0m\u001b[1;33m\u001b[0m\u001b[1;33m\u001b[0m\u001b[0m\n",
      "\u001b[1;32m~\\AppData\\Local\\Continuum\\anaconda3\\lib\\site-packages\\patsy\\compat.py\u001b[0m in \u001b[0;36mcall_and_wrap_exc\u001b[1;34m(msg, origin, f, *args, **kwargs)\u001b[0m\n\u001b[0;32m     41\u001b[0m                                  origin)\n\u001b[0;32m     42\u001b[0m             \u001b[1;31m# Use 'exec' to hide this syntax from the Python 2 parser:\u001b[0m\u001b[1;33m\u001b[0m\u001b[1;33m\u001b[0m\u001b[1;33m\u001b[0m\u001b[0m\n\u001b[1;32m---> 43\u001b[1;33m             \u001b[0mexec\u001b[0m\u001b[1;33m(\u001b[0m\u001b[1;34m\"raise new_exc from e\"\u001b[0m\u001b[1;33m)\u001b[0m\u001b[1;33m\u001b[0m\u001b[1;33m\u001b[0m\u001b[0m\n\u001b[0m\u001b[0;32m     44\u001b[0m         \u001b[1;32melse\u001b[0m\u001b[1;33m:\u001b[0m\u001b[1;33m\u001b[0m\u001b[1;33m\u001b[0m\u001b[0m\n\u001b[0;32m     45\u001b[0m             \u001b[1;31m# In python 2, we just let the original exception escape -- better\u001b[0m\u001b[1;33m\u001b[0m\u001b[1;33m\u001b[0m\u001b[1;33m\u001b[0m\u001b[0m\n",
      "\u001b[1;32m~\\AppData\\Local\\Continuum\\anaconda3\\lib\\site-packages\\patsy\\compat.py\u001b[0m in \u001b[0;36m<module>\u001b[1;34m\u001b[0m\n",
      "\u001b[1;31mPatsyError\u001b[0m: Error evaluating factor: NameError: name 'lag_1' is not defined\n    diff ~ lag_1\n           ^^^^^"
     ]
    }
   ],
   "source": [
    "import statsmodels.formula.api as smf\n",
    "# Define the regression formula\n",
    "model = smf.ols(formula='diff ~ lag_1', data=df_supervised)\n",
    "# Fit the regression\n",
    "model_fit = model.fit()\n",
    "# Extract the adjusted r-squared\n",
    "regression_adj_rsq = model_fit.rsquared_adj\n",
    "print(regression_adj_rsq)"
   ]
  },
  {
   "cell_type": "code",
   "execution_count": 118,
   "metadata": {},
   "outputs": [],
   "source": [
    "#import MinMaxScaler and create a new dataframe for LSTM model\n",
    "from sklearn.preprocessing import MinMaxScaler\n",
    "df_model = df_supervised.drop(['NET_AMOUNT','Date'],axis=1)\n",
    "#split train and test set\n",
    "train_set, test_set = df_model[0:-6].values, df_model[-6:].values"
   ]
  },
  {
   "cell_type": "code",
   "execution_count": 124,
   "metadata": {},
   "outputs": [
    {
     "data": {
      "text/plain": [
       "array([[-0.16622684],\n",
       "       [ 0.35086368],\n",
       "       [ 0.29244059],\n",
       "       [-0.23305178],\n",
       "       [ 0.12361829],\n",
       "       [ 0.97129929]])"
      ]
     },
     "execution_count": 124,
     "metadata": {},
     "output_type": "execute_result"
    }
   ],
   "source": [
    "#apply Min Max Scaler\n",
    "scaler = MinMaxScaler(feature_range=(-1, 1))\n",
    "scaler = scaler.fit(train_set)\n",
    "# reshape training set\n",
    "train_set = train_set.reshape(train_set.shape[0], train_set.shape[1])\n",
    "train_set_scaled = scaler.transform(train_set)\n",
    "# reshape test set\n",
    "test_set = test_set.reshape(test_set.shape[0], test_set.shape[1])\n",
    "test_set_scaled = scaler.transform(test_set)\n",
    "test_set_scaled"
   ]
  },
  {
   "cell_type": "code",
   "execution_count": 125,
   "metadata": {},
   "outputs": [],
   "source": [
    "X_train, y_train = train_set_scaled[:, 1:], train_set_scaled[:, 0:1]\n",
    "X_train = X_train.reshape(X_train.shape[0], 1, X_train.shape[1])\n",
    "X_test, y_test = test_set_scaled[:, 1:], test_set_scaled[:, 0:1]\n",
    "X_test = X_test.reshape(X_test.shape[0], 1, X_test.shape[1])"
   ]
  },
  {
   "cell_type": "code",
   "execution_count": 123,
   "metadata": {},
   "outputs": [
    {
     "data": {
      "text/plain": [
       "array([], shape=(6, 1, 0), dtype=float64)"
      ]
     },
     "execution_count": 123,
     "metadata": {},
     "output_type": "execute_result"
    }
   ],
   "source": [
    "X_test"
   ]
  },
  {
   "cell_type": "code",
   "execution_count": 128,
   "metadata": {},
   "outputs": [
    {
     "ename": "ValueError",
     "evalue": "In a stateful network, you should only pass inputs with a number of samples that can be divided by the batch size. Found: 23 samples",
     "output_type": "error",
     "traceback": [
      "\u001b[1;31m---------------------------------------------------------------------------\u001b[0m",
      "\u001b[1;31mValueError\u001b[0m                                Traceback (most recent call last)",
      "\u001b[1;32m<ipython-input-128-aada17074969>\u001b[0m in \u001b[0;36m<module>\u001b[1;34m\u001b[0m\n\u001b[0;32m      3\u001b[0m \u001b[0mmodel\u001b[0m\u001b[1;33m.\u001b[0m\u001b[0madd\u001b[0m\u001b[1;33m(\u001b[0m\u001b[0mDense\u001b[0m\u001b[1;33m(\u001b[0m\u001b[1;36m1\u001b[0m\u001b[1;33m)\u001b[0m\u001b[1;33m)\u001b[0m\u001b[1;33m\u001b[0m\u001b[1;33m\u001b[0m\u001b[0m\n\u001b[0;32m      4\u001b[0m \u001b[0mmodel\u001b[0m\u001b[1;33m.\u001b[0m\u001b[0mcompile\u001b[0m\u001b[1;33m(\u001b[0m\u001b[0mloss\u001b[0m\u001b[1;33m=\u001b[0m\u001b[1;34m'mean_squared_error'\u001b[0m\u001b[1;33m,\u001b[0m \u001b[0moptimizer\u001b[0m\u001b[1;33m=\u001b[0m\u001b[1;34m'adam'\u001b[0m\u001b[1;33m)\u001b[0m\u001b[1;33m\u001b[0m\u001b[1;33m\u001b[0m\u001b[0m\n\u001b[1;32m----> 5\u001b[1;33m \u001b[0mmodel\u001b[0m\u001b[1;33m.\u001b[0m\u001b[0mfit\u001b[0m\u001b[1;33m(\u001b[0m\u001b[0mX_train\u001b[0m\u001b[1;33m,\u001b[0m \u001b[0my_train\u001b[0m\u001b[1;33m)\u001b[0m\u001b[1;33m\u001b[0m\u001b[1;33m\u001b[0m\u001b[0m\n\u001b[0m",
      "\u001b[1;32m~\\AppData\\Local\\Continuum\\anaconda3\\lib\\site-packages\\keras\\engine\\training.py\u001b[0m in \u001b[0;36mfit\u001b[1;34m(self, x, y, batch_size, epochs, verbose, callbacks, validation_split, validation_data, shuffle, class_weight, sample_weight, initial_epoch, steps_per_epoch, validation_steps, validation_freq, max_queue_size, workers, use_multiprocessing, **kwargs)\u001b[0m\n\u001b[0;32m   1152\u001b[0m             \u001b[0msample_weight\u001b[0m\u001b[1;33m=\u001b[0m\u001b[0msample_weight\u001b[0m\u001b[1;33m,\u001b[0m\u001b[1;33m\u001b[0m\u001b[1;33m\u001b[0m\u001b[0m\n\u001b[0;32m   1153\u001b[0m             \u001b[0mclass_weight\u001b[0m\u001b[1;33m=\u001b[0m\u001b[0mclass_weight\u001b[0m\u001b[1;33m,\u001b[0m\u001b[1;33m\u001b[0m\u001b[1;33m\u001b[0m\u001b[0m\n\u001b[1;32m-> 1154\u001b[1;33m             batch_size=batch_size)\n\u001b[0m\u001b[0;32m   1155\u001b[0m \u001b[1;33m\u001b[0m\u001b[0m\n\u001b[0;32m   1156\u001b[0m         \u001b[1;31m# Prepare validation data.\u001b[0m\u001b[1;33m\u001b[0m\u001b[1;33m\u001b[0m\u001b[1;33m\u001b[0m\u001b[0m\n",
      "\u001b[1;32m~\\AppData\\Local\\Continuum\\anaconda3\\lib\\site-packages\\keras\\engine\\training.py\u001b[0m in \u001b[0;36m_standardize_user_data\u001b[1;34m(self, x, y, sample_weight, class_weight, check_array_lengths, batch_size)\u001b[0m\n\u001b[0;32m    653\u001b[0m                                  \u001b[1;34m'a number of samples that can be '\u001b[0m\u001b[1;33m\u001b[0m\u001b[1;33m\u001b[0m\u001b[0m\n\u001b[0;32m    654\u001b[0m                                  \u001b[1;34m'divided by the batch size. Found: '\u001b[0m \u001b[1;33m+\u001b[0m\u001b[1;33m\u001b[0m\u001b[1;33m\u001b[0m\u001b[0m\n\u001b[1;32m--> 655\u001b[1;33m                                  str(x[0].shape[0]) + ' samples')\n\u001b[0m\u001b[0;32m    656\u001b[0m         \u001b[1;32mreturn\u001b[0m \u001b[0mx\u001b[0m\u001b[1;33m,\u001b[0m \u001b[0my\u001b[0m\u001b[1;33m,\u001b[0m \u001b[0msample_weights\u001b[0m\u001b[1;33m\u001b[0m\u001b[1;33m\u001b[0m\u001b[0m\n\u001b[0;32m    657\u001b[0m \u001b[1;33m\u001b[0m\u001b[0m\n",
      "\u001b[1;31mValueError\u001b[0m: In a stateful network, you should only pass inputs with a number of samples that can be divided by the batch size. Found: 23 samples"
     ]
    }
   ],
   "source": [
    "model = Sequential()\n",
    "model.add(LSTM(4, batch_input_shape=(1, X_train.shape[1], X_train.shape[2]), stateful=True))\n",
    "model.add(Dense(1))\n",
    "model.compile(loss='mean_squared_error', optimizer='adam')\n",
    "model.fit(X_train, y_train)"
   ]
  },
  {
   "cell_type": "code",
   "execution_count": 453,
   "metadata": {},
   "outputs": [],
   "source": [
    "from sklearn.linear_model import LinearRegression\n",
    "model = LinearRegression()"
   ]
  },
  {
   "cell_type": "code",
   "execution_count": 455,
   "metadata": {},
   "outputs": [
    {
     "data": {
      "text/plain": [
       "LinearRegression(copy_X=True, fit_intercept=True, n_jobs=None, normalize=False)"
      ]
     },
     "execution_count": 455,
     "metadata": {},
     "output_type": "execute_result"
    }
   ],
   "source": [
    "model.fit(X_train[predictors], y_train)"
   ]
  },
  {
   "cell_type": "code",
   "execution_count": 134,
   "metadata": {},
   "outputs": [
    {
     "ename": "NameError",
     "evalue": "name 'y_pred' is not defined",
     "output_type": "error",
     "traceback": [
      "\u001b[1;31m---------------------------------------------------------------------------\u001b[0m",
      "\u001b[1;31mNameError\u001b[0m                                 Traceback (most recent call last)",
      "\u001b[1;32m<ipython-input-134-3dc690157e3f>\u001b[0m in \u001b[0;36m<module>\u001b[1;34m\u001b[0m\n\u001b[1;32m----> 1\u001b[1;33m \u001b[0my_pred\u001b[0m \u001b[1;33m=\u001b[0m \u001b[0my_pred\u001b[0m\u001b[1;33m.\u001b[0m\u001b[0mreshape\u001b[0m\u001b[1;33m(\u001b[0m\u001b[0my_pred\u001b[0m\u001b[1;33m.\u001b[0m\u001b[0mshape\u001b[0m\u001b[1;33m[\u001b[0m\u001b[1;36m0\u001b[0m\u001b[1;33m]\u001b[0m\u001b[1;33m,\u001b[0m \u001b[1;36m1\u001b[0m\u001b[1;33m,\u001b[0m \u001b[0my_pred\u001b[0m\u001b[1;33m.\u001b[0m\u001b[0mshape\u001b[0m\u001b[1;33m[\u001b[0m\u001b[1;36m1\u001b[0m\u001b[1;33m]\u001b[0m\u001b[1;33m)\u001b[0m\u001b[1;33m\u001b[0m\u001b[1;33m\u001b[0m\u001b[0m\n\u001b[0m\u001b[0;32m      2\u001b[0m \u001b[1;31m#rebuild test set for inverse transform\u001b[0m\u001b[1;33m\u001b[0m\u001b[1;33m\u001b[0m\u001b[1;33m\u001b[0m\u001b[0m\n\u001b[0;32m      3\u001b[0m \u001b[0mpred_test_set\u001b[0m \u001b[1;33m=\u001b[0m \u001b[1;33m[\u001b[0m\u001b[1;33m]\u001b[0m\u001b[1;33m\u001b[0m\u001b[1;33m\u001b[0m\u001b[0m\n\u001b[0;32m      4\u001b[0m \u001b[1;32mfor\u001b[0m \u001b[0mindex\u001b[0m \u001b[1;32min\u001b[0m \u001b[0mrange\u001b[0m\u001b[1;33m(\u001b[0m\u001b[1;36m0\u001b[0m\u001b[1;33m,\u001b[0m\u001b[0mlen\u001b[0m\u001b[1;33m(\u001b[0m\u001b[0my_pred\u001b[0m\u001b[1;33m)\u001b[0m\u001b[1;33m)\u001b[0m\u001b[1;33m:\u001b[0m\u001b[1;33m\u001b[0m\u001b[1;33m\u001b[0m\u001b[0m\n\u001b[0;32m      5\u001b[0m     \u001b[0mprint\u001b[0m\u001b[1;33m(\u001b[0m\u001b[0mnp\u001b[0m\u001b[1;33m.\u001b[0m\u001b[0mconcatenate\u001b[0m\u001b[1;33m(\u001b[0m\u001b[1;33m[\u001b[0m\u001b[0my_pred\u001b[0m\u001b[1;33m[\u001b[0m\u001b[0mindex\u001b[0m\u001b[1;33m]\u001b[0m\u001b[1;33m,\u001b[0m\u001b[0mX_test\u001b[0m\u001b[1;33m[\u001b[0m\u001b[0mindex\u001b[0m\u001b[1;33m]\u001b[0m\u001b[1;33m]\u001b[0m\u001b[1;33m,\u001b[0m\u001b[0maxis\u001b[0m\u001b[1;33m=\u001b[0m\u001b[1;36m1\u001b[0m\u001b[1;33m)\u001b[0m\u001b[1;33m)\u001b[0m\u001b[1;33m\u001b[0m\u001b[1;33m\u001b[0m\u001b[0m\n",
      "\u001b[1;31mNameError\u001b[0m: name 'y_pred' is not defined"
     ]
    }
   ],
   "source": [
    "y_pred = y_pred.reshape(y_pred.shape[0], 1, y_pred.shape[1])\n",
    "#rebuild test set for inverse transform\n",
    "pred_test_set = []\n",
    "for index in range(0,len(y_pred)):\n",
    "    print(np.concatenate([y_pred[indy_pred = model.predict(X_test,batch_size=1)\n",
    "#for multistep prediction, you need to replace X_test values with the predictions coming from t-1ex],X_test[index]],axis=1))\n",
    "    pred_test_set.append(np.concatenate([y_pred[index],X_test[index]],axis=1))\n",
    "#reshape pred_test_set\n",
    "pred_test_set = np.array(pred_test_set)\n",
    "pred_test_set = pred_test_set.reshape(pred_test_set.shape[0], pred_test_set.shape[2])\n",
    "#inverse transform\n",
    "pred_test_set_inverted = scaler.inverse_transform(pred_test_set)"
   ]
  },
  {
   "cell_type": "code",
   "execution_count": 136,
   "metadata": {},
   "outputs": [
    {
     "ename": "NotFittedError",
     "evalue": "This LinearRegression instance is not fitted yet. Call 'fit' with appropriate arguments before using this method.",
     "output_type": "error",
     "traceback": [
      "\u001b[1;31m---------------------------------------------------------------------------\u001b[0m",
      "\u001b[1;31mNotFittedError\u001b[0m                            Traceback (most recent call last)",
      "\u001b[1;32m<ipython-input-136-477e56f8904b>\u001b[0m in \u001b[0;36m<module>\u001b[1;34m\u001b[0m\n\u001b[1;32m----> 1\u001b[1;33m \u001b[0my_pred\u001b[0m \u001b[1;33m=\u001b[0m \u001b[0mmodel\u001b[0m\u001b[1;33m.\u001b[0m\u001b[0mpredict\u001b[0m\u001b[1;33m(\u001b[0m\u001b[0mX_test\u001b[0m\u001b[1;33m)\u001b[0m\u001b[1;33m\u001b[0m\u001b[1;33m\u001b[0m\u001b[0m\n\u001b[0m\u001b[0;32m      2\u001b[0m \u001b[1;31m#for multistep prediction, you need to replace X_test values with the predictions coming from t-1\u001b[0m\u001b[1;33m\u001b[0m\u001b[1;33m\u001b[0m\u001b[1;33m\u001b[0m\u001b[0m\n",
      "\u001b[1;32m~\\AppData\\Local\\Continuum\\anaconda3\\lib\\site-packages\\sklearn\\linear_model\\base.py\u001b[0m in \u001b[0;36mpredict\u001b[1;34m(self, X)\u001b[0m\n\u001b[0;32m    219\u001b[0m             \u001b[0mReturns\u001b[0m \u001b[0mpredicted\u001b[0m \u001b[0mvalues\u001b[0m\u001b[1;33m.\u001b[0m\u001b[1;33m\u001b[0m\u001b[1;33m\u001b[0m\u001b[0m\n\u001b[0;32m    220\u001b[0m         \"\"\"\n\u001b[1;32m--> 221\u001b[1;33m         \u001b[1;32mreturn\u001b[0m \u001b[0mself\u001b[0m\u001b[1;33m.\u001b[0m\u001b[0m_decision_function\u001b[0m\u001b[1;33m(\u001b[0m\u001b[0mX\u001b[0m\u001b[1;33m)\u001b[0m\u001b[1;33m\u001b[0m\u001b[1;33m\u001b[0m\u001b[0m\n\u001b[0m\u001b[0;32m    222\u001b[0m \u001b[1;33m\u001b[0m\u001b[0m\n\u001b[0;32m    223\u001b[0m     \u001b[0m_preprocess_data\u001b[0m \u001b[1;33m=\u001b[0m \u001b[0mstaticmethod\u001b[0m\u001b[1;33m(\u001b[0m\u001b[0m_preprocess_data\u001b[0m\u001b[1;33m)\u001b[0m\u001b[1;33m\u001b[0m\u001b[1;33m\u001b[0m\u001b[0m\n",
      "\u001b[1;32m~\\AppData\\Local\\Continuum\\anaconda3\\lib\\site-packages\\sklearn\\linear_model\\base.py\u001b[0m in \u001b[0;36m_decision_function\u001b[1;34m(self, X)\u001b[0m\n\u001b[0;32m    200\u001b[0m \u001b[1;33m\u001b[0m\u001b[0m\n\u001b[0;32m    201\u001b[0m     \u001b[1;32mdef\u001b[0m \u001b[0m_decision_function\u001b[0m\u001b[1;33m(\u001b[0m\u001b[0mself\u001b[0m\u001b[1;33m,\u001b[0m \u001b[0mX\u001b[0m\u001b[1;33m)\u001b[0m\u001b[1;33m:\u001b[0m\u001b[1;33m\u001b[0m\u001b[1;33m\u001b[0m\u001b[0m\n\u001b[1;32m--> 202\u001b[1;33m         \u001b[0mcheck_is_fitted\u001b[0m\u001b[1;33m(\u001b[0m\u001b[0mself\u001b[0m\u001b[1;33m,\u001b[0m \u001b[1;34m\"coef_\"\u001b[0m\u001b[1;33m)\u001b[0m\u001b[1;33m\u001b[0m\u001b[1;33m\u001b[0m\u001b[0m\n\u001b[0m\u001b[0;32m    203\u001b[0m \u001b[1;33m\u001b[0m\u001b[0m\n\u001b[0;32m    204\u001b[0m         \u001b[0mX\u001b[0m \u001b[1;33m=\u001b[0m \u001b[0mcheck_array\u001b[0m\u001b[1;33m(\u001b[0m\u001b[0mX\u001b[0m\u001b[1;33m,\u001b[0m \u001b[0maccept_sparse\u001b[0m\u001b[1;33m=\u001b[0m\u001b[1;33m[\u001b[0m\u001b[1;34m'csr'\u001b[0m\u001b[1;33m,\u001b[0m \u001b[1;34m'csc'\u001b[0m\u001b[1;33m,\u001b[0m \u001b[1;34m'coo'\u001b[0m\u001b[1;33m]\u001b[0m\u001b[1;33m)\u001b[0m\u001b[1;33m\u001b[0m\u001b[1;33m\u001b[0m\u001b[0m\n",
      "\u001b[1;32m~\\AppData\\Local\\Continuum\\anaconda3\\lib\\site-packages\\sklearn\\utils\\validation.py\u001b[0m in \u001b[0;36mcheck_is_fitted\u001b[1;34m(estimator, attributes, msg, all_or_any)\u001b[0m\n\u001b[0;32m    912\u001b[0m \u001b[1;33m\u001b[0m\u001b[0m\n\u001b[0;32m    913\u001b[0m     \u001b[1;32mif\u001b[0m \u001b[1;32mnot\u001b[0m \u001b[0mall_or_any\u001b[0m\u001b[1;33m(\u001b[0m\u001b[1;33m[\u001b[0m\u001b[0mhasattr\u001b[0m\u001b[1;33m(\u001b[0m\u001b[0mestimator\u001b[0m\u001b[1;33m,\u001b[0m \u001b[0mattr\u001b[0m\u001b[1;33m)\u001b[0m \u001b[1;32mfor\u001b[0m \u001b[0mattr\u001b[0m \u001b[1;32min\u001b[0m \u001b[0mattributes\u001b[0m\u001b[1;33m]\u001b[0m\u001b[1;33m)\u001b[0m\u001b[1;33m:\u001b[0m\u001b[1;33m\u001b[0m\u001b[1;33m\u001b[0m\u001b[0m\n\u001b[1;32m--> 914\u001b[1;33m         \u001b[1;32mraise\u001b[0m \u001b[0mNotFittedError\u001b[0m\u001b[1;33m(\u001b[0m\u001b[0mmsg\u001b[0m \u001b[1;33m%\u001b[0m \u001b[1;33m{\u001b[0m\u001b[1;34m'name'\u001b[0m\u001b[1;33m:\u001b[0m \u001b[0mtype\u001b[0m\u001b[1;33m(\u001b[0m\u001b[0mestimator\u001b[0m\u001b[1;33m)\u001b[0m\u001b[1;33m.\u001b[0m\u001b[0m__name__\u001b[0m\u001b[1;33m}\u001b[0m\u001b[1;33m)\u001b[0m\u001b[1;33m\u001b[0m\u001b[1;33m\u001b[0m\u001b[0m\n\u001b[0m\u001b[0;32m    915\u001b[0m \u001b[1;33m\u001b[0m\u001b[0m\n\u001b[0;32m    916\u001b[0m \u001b[1;33m\u001b[0m\u001b[0m\n",
      "\u001b[1;31mNotFittedError\u001b[0m: This LinearRegression instance is not fitted yet. Call 'fit' with appropriate arguments before using this method."
     ]
    }
   ],
   "source": [
    "y_pred = model.predict(X_test)\n",
    "#for multistep prediction, you need to replace X_test values with the predictions coming from t-1"
   ]
  },
  {
   "cell_type": "code",
   "execution_count": 137,
   "metadata": {},
   "outputs": [
    {
     "data": {
      "text/plain": [
       "<matplotlib.axes._subplots.AxesSubplot at 0x1ad015c9888>"
      ]
     },
     "execution_count": 137,
     "metadata": {},
     "output_type": "execute_result"
    },
    {
     "data": {
      "image/png": "[encoded data removed]",
      "text/plain": [
       "<Figure size 432x288 with 2 Axes>"
      ]
     },
     "metadata": {
      "needs_background": "light"
     },
     "output_type": "display_data"
    }
   ],
   "source": [
    "import seaborn as sns\n",
    "corr1 = df.corr()                             #importing seaborn model for plotting graph\n",
    "sns.heatmap(corr1)"
   ]
  },
  {
   "cell_type": "code",
   "execution_count": 138,
   "metadata": {},
   "outputs": [],
   "source": [
    "sales1 = df['NET_AMOUNT']"
   ]
  },
  {
   "cell_type": "code",
   "execution_count": 139,
   "metadata": {},
   "outputs": [
    {
     "ename": "TypeError",
     "evalue": "Only valid with DatetimeIndex, TimedeltaIndex or PeriodIndex, but got an instance of 'RangeIndex'",
     "output_type": "error",
     "traceback": [
      "\u001b[1;31m---------------------------------------------------------------------------\u001b[0m",
      "\u001b[1;31mTypeError\u001b[0m                                 Traceback (most recent call last)",
      "\u001b[1;32m<ipython-input-139-f77b37b0e53d>\u001b[0m in \u001b[0;36m<module>\u001b[1;34m\u001b[0m\n\u001b[1;32m----> 1\u001b[1;33m \u001b[0msales1\u001b[0m\u001b[1;33m.\u001b[0m\u001b[0mresample\u001b[0m\u001b[1;33m(\u001b[0m\u001b[1;34m'W'\u001b[0m\u001b[1;33m)\u001b[0m\u001b[1;33m.\u001b[0m\u001b[0msum\u001b[0m\u001b[1;33m(\u001b[0m\u001b[1;33m)\u001b[0m\u001b[1;33m\u001b[0m\u001b[1;33m\u001b[0m\u001b[0m\n\u001b[0m",
      "\u001b[1;32m~\\AppData\\Local\\Continuum\\anaconda3\\lib\\site-packages\\pandas\\core\\generic.py\u001b[0m in \u001b[0;36mresample\u001b[1;34m(self, rule, how, axis, fill_method, closed, label, convention, kind, loffset, limit, base, on, level)\u001b[0m\n\u001b[0;32m   8447\u001b[0m             \u001b[0mbase\u001b[0m\u001b[1;33m=\u001b[0m\u001b[0mbase\u001b[0m\u001b[1;33m,\u001b[0m\u001b[1;33m\u001b[0m\u001b[1;33m\u001b[0m\u001b[0m\n\u001b[0;32m   8448\u001b[0m             \u001b[0mkey\u001b[0m\u001b[1;33m=\u001b[0m\u001b[0mon\u001b[0m\u001b[1;33m,\u001b[0m\u001b[1;33m\u001b[0m\u001b[1;33m\u001b[0m\u001b[0m\n\u001b[1;32m-> 8449\u001b[1;33m             \u001b[0mlevel\u001b[0m\u001b[1;33m=\u001b[0m\u001b[0mlevel\u001b[0m\u001b[1;33m,\u001b[0m\u001b[1;33m\u001b[0m\u001b[1;33m\u001b[0m\u001b[0m\n\u001b[0m\u001b[0;32m   8450\u001b[0m         )\n\u001b[0;32m   8451\u001b[0m         return _maybe_process_deprecations(\n",
      "\u001b[1;32m~\\AppData\\Local\\Continuum\\anaconda3\\lib\\site-packages\\pandas\\core\\resample.py\u001b[0m in \u001b[0;36mresample\u001b[1;34m(obj, kind, **kwds)\u001b[0m\n\u001b[0;32m   1304\u001b[0m     \"\"\"\n\u001b[0;32m   1305\u001b[0m     \u001b[0mtg\u001b[0m \u001b[1;33m=\u001b[0m \u001b[0mTimeGrouper\u001b[0m\u001b[1;33m(\u001b[0m\u001b[1;33m**\u001b[0m\u001b[0mkwds\u001b[0m\u001b[1;33m)\u001b[0m\u001b[1;33m\u001b[0m\u001b[1;33m\u001b[0m\u001b[0m\n\u001b[1;32m-> 1306\u001b[1;33m     \u001b[1;32mreturn\u001b[0m \u001b[0mtg\u001b[0m\u001b[1;33m.\u001b[0m\u001b[0m_get_resampler\u001b[0m\u001b[1;33m(\u001b[0m\u001b[0mobj\u001b[0m\u001b[1;33m,\u001b[0m \u001b[0mkind\u001b[0m\u001b[1;33m=\u001b[0m\u001b[0mkind\u001b[0m\u001b[1;33m)\u001b[0m\u001b[1;33m\u001b[0m\u001b[1;33m\u001b[0m\u001b[0m\n\u001b[0m\u001b[0;32m   1307\u001b[0m \u001b[1;33m\u001b[0m\u001b[0m\n\u001b[0;32m   1308\u001b[0m \u001b[1;33m\u001b[0m\u001b[0m\n",
      "\u001b[1;32m~\\AppData\\Local\\Continuum\\anaconda3\\lib\\site-packages\\pandas\\core\\resample.py\u001b[0m in \u001b[0;36m_get_resampler\u001b[1;34m(self, obj, kind)\u001b[0m\n\u001b[0;32m   1441\u001b[0m             \u001b[1;34m\"Only valid with DatetimeIndex, \"\u001b[0m\u001b[1;33m\u001b[0m\u001b[1;33m\u001b[0m\u001b[0m\n\u001b[0;32m   1442\u001b[0m             \u001b[1;34m\"TimedeltaIndex or PeriodIndex, \"\u001b[0m\u001b[1;33m\u001b[0m\u001b[1;33m\u001b[0m\u001b[0m\n\u001b[1;32m-> 1443\u001b[1;33m             \u001b[1;34m\"but got an instance of %r\"\u001b[0m \u001b[1;33m%\u001b[0m \u001b[0mtype\u001b[0m\u001b[1;33m(\u001b[0m\u001b[0max\u001b[0m\u001b[1;33m)\u001b[0m\u001b[1;33m.\u001b[0m\u001b[0m__name__\u001b[0m\u001b[1;33m\u001b[0m\u001b[1;33m\u001b[0m\u001b[0m\n\u001b[0m\u001b[0;32m   1444\u001b[0m         )\n\u001b[0;32m   1445\u001b[0m \u001b[1;33m\u001b[0m\u001b[0m\n",
      "\u001b[1;31mTypeError\u001b[0m: Only valid with DatetimeIndex, TimedeltaIndex or PeriodIndex, but got an instance of 'RangeIndex'"
     ]
    }
   ],
   "source": [
    "import matplotlib.pyplot as plt\n",
    "f, (ax1) = plt.subplots(1, figsize = (10, 5))                                                       #plot of weekly sales data\n",
    "sales1.resample('W').sum().plot(color = 'blue' , ax = ax1)"
   ]
  },
  {
   "cell_type": "code",
   "execution_count": 140,
   "metadata": {},
   "outputs": [
    {
     "data": {
      "application/vnd.plotly.v1+json": {
       "config": {
        "linkText": "Export to plot.ly",
        "plotlyServerURL": "https://plot.ly",
        "showLink": false
       },
       "data": [
        {
         "type": "scatter",
         "x": [
          "2020-08-01T00:00:00",
          "2020-08-02T00:00:00",
          "2020-08-03T00:00:00",
          "2020-08-04T00:00:00",
          "2020-08-05T00:00:00",
          "2020-08-06T00:00:00",
          "2020-08-07T00:00:00",
          "2020-08-08T00:00:00",
          "2020-08-09T00:00:00",
          "2020-08-10T00:00:00",
          "2020-08-11T00:00:00",
          "2020-08-12T00:00:00",
          "2020-08-13T00:00:00",
          "2020-08-14T00:00:00",
          "2020-08-15T00:00:00",
          "2020-08-16T00:00:00",
          "2020-08-17T00:00:00",
          "2020-08-18T00:00:00",
          "2020-08-19T00:00:00",
          "2020-08-20T00:00:00",
          "2020-08-21T00:00:00",
          "2020-08-22T00:00:00",
          "2020-08-23T00:00:00",
          "2020-08-24T00:00:00",
          "2020-08-25T00:00:00",
          "2020-08-26T00:00:00",
          "2020-08-27T00:00:00",
          "2020-08-28T00:00:00",
          "2020-08-29T00:00:00",
          "2020-08-30T00:00:00"
         ],
         "y": [
          7797.4400000000005,
          23010.710000000003,
          18153.12,
          7654.93,
          27110.34,
          22473.58,
          51151.610000000015,
          53458.77,
          37105.22,
          16683.19,
          36555.24999999999,
          25182.85,
          58663.069999999985,
          20433.530000000002,
          49150.44999999999,
          28861.959999999992,
          32792.32000000001,
          4527.34,
          9795.18,
          6883,
          54625.11,
          40550.40000000001,
          67238.07,
          20272.429999999997,
          12789.18,
          29792.170000000006,
          44028.60000000001,
          33380.93,
          39622.96999999999,
          86005.98999999998
         ]
        }
       ],
       "layout": {
        "template": {
         "data": {
          "bar": [
           {
            "error_x": {
             "color": "#2a3f5f"
            },
            "error_y": {
             "color": "#2a3f5f"
            },
            "marker": {
             "line": {
              "color": "#E5ECF6",
              "width": 0.5
             }
            },
            "type": "bar"
           }
          ],
          "barpolar": [
           {
            "marker": {
             "line": {
              "color": "#E5ECF6",
              "width": 0.5
             }
            },
            "type": "barpolar"
           }
          ],
          "carpet": [
           {
            "aaxis": {
             "endlinecolor": "#2a3f5f",
             "gridcolor": "white",
             "linecolor": "white",
             "minorgridcolor": "white",
             "startlinecolor": "#2a3f5f"
            },
            "baxis": {
             "endlinecolor": "#2a3f5f",
             "gridcolor": "white",
             "linecolor": "white",
             "minorgridcolor": "white",
             "startlinecolor": "#2a3f5f"
            },
            "type": "carpet"
           }
          ],
          "choropleth": [
           {
            "colorbar": {
             "outlinewidth": 0,
             "ticks": ""
            },
            "type": "choropleth"
           }
          ],
          "contour": [
           {
            "colorbar": {
             "outlinewidth": 0,
             "ticks": ""
            },
            "colorscale": [
             [
              0,
              "#0d0887"
             ],
             [
              0.1111111111111111,
              "#46039f"
             ],
             [
              0.2222222222222222,
              "#7201a8"
             ],
             [
              0.3333333333333333,
              "#9c179e"
             ],
             [
              0.4444444444444444,
              "#bd3786"
             ],
             [
              0.5555555555555556,
              "#d8576b"
             ],
             [
              0.6666666666666666,
              "#ed7953"
             ],
             [
              0.7777777777777778,
              "#fb9f3a"
             ],
             [
              0.8888888888888888,
              "#fdca26"
             ],
             [
              1,
              "#f0f921"
             ]
            ],
            "type": "contour"
           }
          ],
          "contourcarpet": [
           {
            "colorbar": {
             "outlinewidth": 0,
             "ticks": ""
            },
            "type": "contourcarpet"
           }
          ],
          "heatmap": [
           {
            "colorbar": {
             "outlinewidth": 0,
             "ticks": ""
            },
            "colorscale": [
             [
              0,
              "#0d0887"
             ],
             [
              0.1111111111111111,
              "#46039f"
             ],
             [
              0.2222222222222222,
              "#7201a8"
             ],
             [
              0.3333333333333333,
              "#9c179e"
             ],
             [
              0.4444444444444444,
              "#bd3786"
             ],
             [
              0.5555555555555556,
              "#d8576b"
             ],
             [
              0.6666666666666666,
              "#ed7953"
             ],
             [
              0.7777777777777778,
              "#fb9f3a"
             ],
             [
              0.8888888888888888,
              "#fdca26"
             ],
             [
              1,
              "#f0f921"
             ]
            ],
            "type": "heatmap"
           }
          ],
          "heatmapgl": [
           {
            "colorbar": {
             "outlinewidth": 0,
             "ticks": ""
            },
            "colorscale": [
             [
              0,
              "#0d0887"
             ],
             [
              0.1111111111111111,
              "#46039f"
             ],
             [
              0.2222222222222222,
              "#7201a8"
             ],
             [
              0.3333333333333333,
              "#9c179e"
             ],
             [
              0.4444444444444444,
              "#bd3786"
             ],
             [
              0.5555555555555556,
              "#d8576b"
             ],
             [
              0.6666666666666666,
              "#ed7953"
             ],
             [
              0.7777777777777778,
              "#fb9f3a"
             ],
             [
              0.8888888888888888,
              "#fdca26"
             ],
             [
              1,
              "#f0f921"
             ]
            ],
            "type": "heatmapgl"
           }
          ],
          "histogram": [
           {
            "marker": {
             "colorbar": {
              "outlinewidth": 0,
              "ticks": ""
             }
            },
            "type": "histogram"
           }
          ],
          "histogram2d": [
           {
            "colorbar": {
             "outlinewidth": 0,
             "ticks": ""
            },
            "colorscale": [
             [
              0,
              "#0d0887"
             ],
             [
              0.1111111111111111,
              "#46039f"
             ],
             [
              0.2222222222222222,
              "#7201a8"
             ],
             [
              0.3333333333333333,
              "#9c179e"
             ],
             [
              0.4444444444444444,
              "#bd3786"
             ],
             [
              0.5555555555555556,
              "#d8576b"
             ],
             [
              0.6666666666666666,
              "#ed7953"
             ],
             [
              0.7777777777777778,
              "#fb9f3a"
             ],
             [
              0.8888888888888888,
              "#fdca26"
             ],
             [
              1,
              "#f0f921"
             ]
            ],
            "type": "histogram2d"
           }
          ],
          "histogram2dcontour": [
           {
            "colorbar": {
             "outlinewidth": 0,
             "ticks": ""
            },
            "colorscale": [
             [
              0,
              "#0d0887"
             ],
             [
              0.1111111111111111,
              "#46039f"
             ],
             [
              0.2222222222222222,
              "#7201a8"
             ],
             [
              0.3333333333333333,
              "#9c179e"
             ],
             [
              0.4444444444444444,
              "#bd3786"
             ],
             [
              0.5555555555555556,
              "#d8576b"
             ],
             [
              0.6666666666666666,
              "#ed7953"
             ],
             [
              0.7777777777777778,
              "#fb9f3a"
             ],
             [
              0.8888888888888888,
              "#fdca26"
             ],
             [
              1,
              "#f0f921"
             ]
            ],
            "type": "histogram2dcontour"
           }
          ],
          "mesh3d": [
           {
            "colorbar": {
             "outlinewidth": 0,
             "ticks": ""
            },
            "type": "mesh3d"
           }
          ],
          "parcoords": [
           {
            "line": {
             "colorbar": {
              "outlinewidth": 0,
              "ticks": ""
             }
            },
            "type": "parcoords"
           }
          ],
          "pie": [
           {
            "automargin": true,
            "type": "pie"
           }
          ],
          "scatter": [
           {
            "marker": {
             "colorbar": {
              "outlinewidth": 0,
              "ticks": ""
             }
            },
            "type": "scatter"
           }
          ],
          "scatter3d": [
           {
            "line": {
             "colorbar": {
              "outlinewidth": 0,
              "ticks": ""
             }
            },
            "marker": {
             "colorbar": {
              "outlinewidth": 0,
              "ticks": ""
             }
            },
            "type": "scatter3d"
           }
          ],
          "scattercarpet": [
           {
            "marker": {
             "colorbar": {
              "outlinewidth": 0,
              "ticks": ""
             }
            },
            "type": "scattercarpet"
           }
          ],
          "scattergeo": [
           {
            "marker": {
             "colorbar": {
              "outlinewidth": 0,
              "ticks": ""
             }
            },
            "type": "scattergeo"
           }
          ],
          "scattergl": [
           {
            "marker": {
             "colorbar": {
              "outlinewidth": 0,
              "ticks": ""
             }
            },
            "type": "scattergl"
           }
          ],
          "scattermapbox": [
           {
            "marker": {
             "colorbar": {
              "outlinewidth": 0,
              "ticks": ""
             }
            },
            "type": "scattermapbox"
           }
          ],
          "scatterpolar": [
           {
            "marker": {
             "colorbar": {
              "outlinewidth": 0,
              "ticks": ""
             }
            },
            "type": "scatterpolar"
           }
          ],
          "scatterpolargl": [
           {
            "marker": {
             "colorbar": {
              "outlinewidth": 0,
              "ticks": ""
             }
            },
            "type": "scatterpolargl"
           }
          ],
          "scatterternary": [
           {
            "marker": {
             "colorbar": {
              "outlinewidth": 0,
              "ticks": ""
             }
            },
            "type": "scatterternary"
           }
          ],
          "surface": [
           {
            "colorbar": {
             "outlinewidth": 0,
             "ticks": ""
            },
            "colorscale": [
             [
              0,
              "#0d0887"
             ],
             [
              0.1111111111111111,
              "#46039f"
             ],
             [
              0.2222222222222222,
              "#7201a8"
             ],
             [
              0.3333333333333333,
              "#9c179e"
             ],
             [
              0.4444444444444444,
              "#bd3786"
             ],
             [
              0.5555555555555556,
              "#d8576b"
             ],
             [
              0.6666666666666666,
              "#ed7953"
             ],
             [
              0.7777777777777778,
              "#fb9f3a"
             ],
             [
              0.8888888888888888,
              "#fdca26"
             ],
             [
              1,
              "#f0f921"
             ]
            ],
            "type": "surface"
           }
          ],
          "table": [
           {
            "cells": {
             "fill": {
              "color": "#EBF0F8"
             },
             "line": {
              "color": "white"
             }
            },
            "header": {
             "fill": {
              "color": "#C8D4E3"
             },
             "line": {
              "color": "white"
             }
            },
            "type": "table"
           }
          ]
         },
         "layout": {
          "annotationdefaults": {
           "arrowcolor": "#2a3f5f",
           "arrowhead": 0,
           "arrowwidth": 1
          },
          "coloraxis": {
           "colorbar": {
            "outlinewidth": 0,
            "ticks": ""
           }
          },
          "colorscale": {
           "diverging": [
            [
             0,
             "#8e0152"
            ],
            [
             0.1,
             "#c51b7d"
            ],
            [
             0.2,
             "#de77ae"
            ],
            [
             0.3,
             "#f1b6da"
            ],
            [
             0.4,
             "#fde0ef"
            ],
            [
             0.5,
             "#f7f7f7"
            ],
            [
             0.6,
             "#e6f5d0"
            ],
            [
             0.7,
             "#b8e186"
            ],
            [
             0.8,
             "#7fbc41"
            ],
            [
             0.9,
             "#4d9221"
            ],
            [
             1,
             "#276419"
            ]
           ],
           "sequential": [
            [
             0,
             "#0d0887"
            ],
            [
             0.1111111111111111,
             "#46039f"
            ],
            [
             0.2222222222222222,
             "#7201a8"
            ],
            [
             0.3333333333333333,
             "#9c179e"
            ],
            [
             0.4444444444444444,
             "#bd3786"
            ],
            [
             0.5555555555555556,
             "#d8576b"
            ],
            [
             0.6666666666666666,
             "#ed7953"
            ],
            [
             0.7777777777777778,
             "#fb9f3a"
            ],
            [
             0.8888888888888888,
             "#fdca26"
            ],
            [
             1,
             "#f0f921"
            ]
           ],
           "sequentialminus": [
            [
             0,
             "#0d0887"
            ],
            [
             0.1111111111111111,
             "#46039f"
            ],
            [
             0.2222222222222222,
             "#7201a8"
            ],
            [
             0.3333333333333333,
             "#9c179e"
            ],
            [
             0.4444444444444444,
             "#bd3786"
            ],
            [
             0.5555555555555556,
             "#d8576b"
            ],
            [
             0.6666666666666666,
             "#ed7953"
            ],
            [
             0.7777777777777778,
             "#fb9f3a"
            ],
            [
             0.8888888888888888,
             "#fdca26"
            ],
            [
             1,
             "#f0f921"
            ]
           ]
          },
          "colorway": [
           "#636efa",
           "#EF553B",
           "#00cc96",
           "#ab63fa",
           "#FFA15A",
           "#19d3f3",
           "#FF6692",
           "#B6E880",
           "#FF97FF",
           "#FECB52"
          ],
          "font": {
           "color": "#2a3f5f"
          },
          "geo": {
           "bgcolor": "white",
           "lakecolor": "white",
           "landcolor": "#E5ECF6",
           "showlakes": true,
           "showland": true,
           "subunitcolor": "white"
          },
          "hoverlabel": {
           "align": "left"
          },
          "hovermode": "closest",
          "mapbox": {
           "style": "light"
          },
          "paper_bgcolor": "white",
          "plot_bgcolor": "#E5ECF6",
          "polar": {
           "angularaxis": {
            "gridcolor": "white",
            "linecolor": "white",
            "ticks": ""
           },
           "bgcolor": "#E5ECF6",
           "radialaxis": {
            "gridcolor": "white",
            "linecolor": "white",
            "ticks": ""
           }
          },
          "scene": {
           "xaxis": {
            "backgroundcolor": "#E5ECF6",
            "gridcolor": "white",
            "gridwidth": 2,
            "linecolor": "white",
            "showbackground": true,
            "ticks": "",
            "zerolinecolor": "white"
           },
           "yaxis": {
            "backgroundcolor": "#E5ECF6",
            "gridcolor": "white",
            "gridwidth": 2,
            "linecolor": "white",
            "showbackground": true,
            "ticks": "",
            "zerolinecolor": "white"
           },
           "zaxis": {
            "backgroundcolor": "#E5ECF6",
            "gridcolor": "white",
            "gridwidth": 2,
            "linecolor": "white",
            "showbackground": true,
            "ticks": "",
            "zerolinecolor": "white"
           }
          },
          "shapedefaults": {
           "line": {
            "color": "#2a3f5f"
           }
          },
          "ternary": {
           "aaxis": {
            "gridcolor": "white",
            "linecolor": "white",
            "ticks": ""
           },
           "baxis": {
            "gridcolor": "white",
            "linecolor": "white",
            "ticks": ""
           },
           "bgcolor": "#E5ECF6",
           "caxis": {
            "gridcolor": "white",
            "linecolor": "white",
            "ticks": ""
           }
          },
          "title": {
           "x": 0.05
          },
          "xaxis": {
           "automargin": true,
           "gridcolor": "white",
           "linecolor": "white",
           "ticks": "",
           "title": {
            "standoff": 15
           },
           "zerolinecolor": "white",
           "zerolinewidth": 2
          },
          "yaxis": {
           "automargin": true,
           "gridcolor": "white",
           "linecolor": "white",
           "ticks": "",
           "title": {
            "standoff": 15
           },
           "zerolinecolor": "white",
           "zerolinewidth": 2
          }
         }
        },
        "title": {
         "text": "Daily Sales Diff"
        }
       }
      },
      "text/html": [
       "<div>                            <div id=\"4aad876c-a17c-46ca-af55-2d680aeab9e3\" class=\"plotly-graph-div\" style=\"height:525px; width:100%;\"></div>            <script type=\"text/javascript\">                require([\"plotly\"], function(Plotly) {                    window.PLOTLYENV=window.PLOTLYENV || {};                                    if (document.getElementById(\"4aad876c-a17c-46ca-af55-2d680aeab9e3\")) {                    Plotly.newPlot(                        \"4aad876c-a17c-46ca-af55-2d680aeab9e3\",                        [{\"type\": \"scatter\", \"x\": [\"2020-08-01T00:00:00\", \"2020-08-02T00:00:00\", \"2020-08-03T00:00:00\", \"2020-08-04T00:00:00\", \"2020-08-05T00:00:00\", \"2020-08-06T00:00:00\", \"2020-08-07T00:00:00\", \"2020-08-08T00:00:00\", \"2020-08-09T00:00:00\", \"2020-08-10T00:00:00\", \"2020-08-11T00:00:00\", \"2020-08-12T00:00:00\", \"2020-08-13T00:00:00\", \"2020-08-14T00:00:00\", \"2020-08-15T00:00:00\", \"2020-08-16T00:00:00\", \"2020-08-17T00:00:00\", \"2020-08-18T00:00:00\", \"2020-08-19T00:00:00\", \"2020-08-20T00:00:00\", \"2020-08-21T00:00:00\", \"2020-08-22T00:00:00\", \"2020-08-23T00:00:00\", \"2020-08-24T00:00:00\", \"2020-08-25T00:00:00\", \"2020-08-26T00:00:00\", \"2020-08-27T00:00:00\", \"2020-08-28T00:00:00\", \"2020-08-29T00:00:00\", \"2020-08-30T00:00:00\"], \"y\": [7797.4400000000005, 23010.710000000003, 18153.12, 7654.93, 27110.34, 22473.58, 51151.610000000015, 53458.77, 37105.22, 16683.19, 36555.24999999999, 25182.85, 58663.069999999985, 20433.530000000002, 49150.44999999999, 28861.959999999992, 32792.32000000001, 4527.34, 9795.18, 6883.0, 54625.11, 40550.40000000001, 67238.07, 20272.429999999997, 12789.18, 29792.170000000006, 44028.60000000001, 33380.93, 39622.96999999999, 86005.98999999998]}],                        {\"template\": {\"data\": {\"bar\": [{\"error_x\": {\"color\": \"#2a3f5f\"}, \"error_y\": {\"color\": \"#2a3f5f\"}, \"marker\": {\"line\": {\"color\": \"#E5ECF6\", \"width\": 0.5}}, \"type\": \"bar\"}], \"barpolar\": [{\"marker\": {\"line\": {\"color\": \"#E5ECF6\", \"width\": 0.5}}, \"type\": \"barpolar\"}], \"carpet\": [{\"aaxis\": {\"endlinecolor\": \"#2a3f5f\", \"gridcolor\": \"white\", \"linecolor\": \"white\", \"minorgridcolor\": \"white\", \"startlinecolor\": \"#2a3f5f\"}, \"baxis\": {\"endlinecolor\": \"#2a3f5f\", \"gridcolor\": \"white\", \"linecolor\": \"white\", \"minorgridcolor\": \"white\", \"startlinecolor\": \"#2a3f5f\"}, \"type\": \"carpet\"}], \"choropleth\": [{\"colorbar\": {\"outlinewidth\": 0, \"ticks\": \"\"}, \"type\": \"choropleth\"}], \"contour\": [{\"colorbar\": {\"outlinewidth\": 0, \"ticks\": \"\"}, \"colorscale\": [[0.0, \"#0d0887\"], [0.1111111111111111, \"#46039f\"], [0.2222222222222222, \"#7201a8\"], [0.3333333333333333, \"#9c179e\"], [0.4444444444444444, \"#bd3786\"], [0.5555555555555556, \"#d8576b\"], [0.6666666666666666, \"#ed7953\"], [0.7777777777777778, \"#fb9f3a\"], [0.8888888888888888, \"#fdca26\"], [1.0, \"#f0f921\"]], \"type\": \"contour\"}], \"contourcarpet\": [{\"colorbar\": {\"outlinewidth\": 0, \"ticks\": \"\"}, \"type\": \"contourcarpet\"}], \"heatmap\": [{\"colorbar\": {\"outlinewidth\": 0, \"ticks\": \"\"}, \"colorscale\": [[0.0, \"#0d0887\"], [0.1111111111111111, \"#46039f\"], [0.2222222222222222, \"#7201a8\"], [0.3333333333333333, \"#9c179e\"], [0.4444444444444444, \"#bd3786\"], [0.5555555555555556, \"#d8576b\"], [0.6666666666666666, \"#ed7953\"], [0.7777777777777778, \"#fb9f3a\"], [0.8888888888888888, \"#fdca26\"], [1.0, \"#f0f921\"]], \"type\": \"heatmap\"}], \"heatmapgl\": [{\"colorbar\": {\"outlinewidth\": 0, \"ticks\": \"\"}, \"colorscale\": [[0.0, \"#0d0887\"], [0.1111111111111111, \"#46039f\"], [0.2222222222222222, \"#7201a8\"], [0.3333333333333333, \"#9c179e\"], [0.4444444444444444, \"#bd3786\"], [0.5555555555555556, \"#d8576b\"], [0.6666666666666666, \"#ed7953\"], [0.7777777777777778, \"#fb9f3a\"], [0.8888888888888888, \"#fdca26\"], [1.0, \"#f0f921\"]], \"type\": \"heatmapgl\"}], \"histogram\": [{\"marker\": {\"colorbar\": {\"outlinewidth\": 0, \"ticks\": \"\"}}, \"type\": \"histogram\"}], \"histogram2d\": [{\"colorbar\": {\"outlinewidth\": 0, \"ticks\": \"\"}, \"colorscale\": [[0.0, \"#0d0887\"], [0.1111111111111111, \"#46039f\"], [0.2222222222222222, \"#7201a8\"], [0.3333333333333333, \"#9c179e\"], [0.4444444444444444, \"#bd3786\"], [0.5555555555555556, \"#d8576b\"], [0.6666666666666666, \"#ed7953\"], [0.7777777777777778, \"#fb9f3a\"], [0.8888888888888888, \"#fdca26\"], [1.0, \"#f0f921\"]], \"type\": \"histogram2d\"}], \"histogram2dcontour\": [{\"colorbar\": {\"outlinewidth\": 0, \"ticks\": \"\"}, \"colorscale\": [[0.0, \"#0d0887\"], [0.1111111111111111, \"#46039f\"], [0.2222222222222222, \"#7201a8\"], [0.3333333333333333, \"#9c179e\"], [0.4444444444444444, \"#bd3786\"], [0.5555555555555556, \"#d8576b\"], [0.6666666666666666, \"#ed7953\"], [0.7777777777777778, \"#fb9f3a\"], [0.8888888888888888, \"#fdca26\"], [1.0, \"#f0f921\"]], \"type\": \"histogram2dcontour\"}], \"mesh3d\": [{\"colorbar\": {\"outlinewidth\": 0, \"ticks\": \"\"}, \"type\": \"mesh3d\"}], \"parcoords\": [{\"line\": {\"colorbar\": {\"outlinewidth\": 0, \"ticks\": \"\"}}, \"type\": \"parcoords\"}], \"pie\": [{\"automargin\": true, \"type\": \"pie\"}], \"scatter\": [{\"marker\": {\"colorbar\": {\"outlinewidth\": 0, \"ticks\": \"\"}}, \"type\": \"scatter\"}], \"scatter3d\": [{\"line\": {\"colorbar\": {\"outlinewidth\": 0, \"ticks\": \"\"}}, \"marker\": {\"colorbar\": {\"outlinewidth\": 0, \"ticks\": \"\"}}, \"type\": \"scatter3d\"}], \"scattercarpet\": [{\"marker\": {\"colorbar\": {\"outlinewidth\": 0, \"ticks\": \"\"}}, \"type\": \"scattercarpet\"}], \"scattergeo\": [{\"marker\": {\"colorbar\": {\"outlinewidth\": 0, \"ticks\": \"\"}}, \"type\": \"scattergeo\"}], \"scattergl\": [{\"marker\": {\"colorbar\": {\"outlinewidth\": 0, \"ticks\": \"\"}}, \"type\": \"scattergl\"}], \"scattermapbox\": [{\"marker\": {\"colorbar\": {\"outlinewidth\": 0, \"ticks\": \"\"}}, \"type\": \"scattermapbox\"}], \"scatterpolar\": [{\"marker\": {\"colorbar\": {\"outlinewidth\": 0, \"ticks\": \"\"}}, \"type\": \"scatterpolar\"}], \"scatterpolargl\": [{\"marker\": {\"colorbar\": {\"outlinewidth\": 0, \"ticks\": \"\"}}, \"type\": \"scatterpolargl\"}], \"scatterternary\": [{\"marker\": {\"colorbar\": {\"outlinewidth\": 0, \"ticks\": \"\"}}, \"type\": \"scatterternary\"}], \"surface\": [{\"colorbar\": {\"outlinewidth\": 0, \"ticks\": \"\"}, \"colorscale\": [[0.0, \"#0d0887\"], [0.1111111111111111, \"#46039f\"], [0.2222222222222222, \"#7201a8\"], [0.3333333333333333, \"#9c179e\"], [0.4444444444444444, \"#bd3786\"], [0.5555555555555556, \"#d8576b\"], [0.6666666666666666, \"#ed7953\"], [0.7777777777777778, \"#fb9f3a\"], [0.8888888888888888, \"#fdca26\"], [1.0, \"#f0f921\"]], \"type\": \"surface\"}], \"table\": [{\"cells\": {\"fill\": {\"color\": \"#EBF0F8\"}, \"line\": {\"color\": \"white\"}}, \"header\": {\"fill\": {\"color\": \"#C8D4E3\"}, \"line\": {\"color\": \"white\"}}, \"type\": \"table\"}]}, \"layout\": {\"annotationdefaults\": {\"arrowcolor\": \"#2a3f5f\", \"arrowhead\": 0, \"arrowwidth\": 1}, \"coloraxis\": {\"colorbar\": {\"outlinewidth\": 0, \"ticks\": \"\"}}, \"colorscale\": {\"diverging\": [[0, \"#8e0152\"], [0.1, \"#c51b7d\"], [0.2, \"#de77ae\"], [0.3, \"#f1b6da\"], [0.4, \"#fde0ef\"], [0.5, \"#f7f7f7\"], [0.6, \"#e6f5d0\"], [0.7, \"#b8e186\"], [0.8, \"#7fbc41\"], [0.9, \"#4d9221\"], [1, \"#276419\"]], \"sequential\": [[0.0, \"#0d0887\"], [0.1111111111111111, \"#46039f\"], [0.2222222222222222, \"#7201a8\"], [0.3333333333333333, \"#9c179e\"], [0.4444444444444444, \"#bd3786\"], [0.5555555555555556, \"#d8576b\"], [0.6666666666666666, \"#ed7953\"], [0.7777777777777778, \"#fb9f3a\"], [0.8888888888888888, \"#fdca26\"], [1.0, \"#f0f921\"]], \"sequentialminus\": [[0.0, \"#0d0887\"], [0.1111111111111111, \"#46039f\"], [0.2222222222222222, \"#7201a8\"], [0.3333333333333333, \"#9c179e\"], [0.4444444444444444, \"#bd3786\"], [0.5555555555555556, \"#d8576b\"], [0.6666666666666666, \"#ed7953\"], [0.7777777777777778, \"#fb9f3a\"], [0.8888888888888888, \"#fdca26\"], [1.0, \"#f0f921\"]]}, \"colorway\": [\"#636efa\", \"#EF553B\", \"#00cc96\", \"#ab63fa\", \"#FFA15A\", \"#19d3f3\", \"#FF6692\", \"#B6E880\", \"#FF97FF\", \"#FECB52\"], \"font\": {\"color\": \"#2a3f5f\"}, \"geo\": {\"bgcolor\": \"white\", \"lakecolor\": \"white\", \"landcolor\": \"#E5ECF6\", \"showlakes\": true, \"showland\": true, \"subunitcolor\": \"white\"}, \"hoverlabel\": {\"align\": \"left\"}, \"hovermode\": \"closest\", \"mapbox\": {\"style\": \"light\"}, \"paper_bgcolor\": \"white\", \"plot_bgcolor\": \"#E5ECF6\", \"polar\": {\"angularaxis\": {\"gridcolor\": \"white\", \"linecolor\": \"white\", \"ticks\": \"\"}, \"bgcolor\": \"#E5ECF6\", \"radialaxis\": {\"gridcolor\": \"white\", \"linecolor\": \"white\", \"ticks\": \"\"}}, \"scene\": {\"xaxis\": {\"backgroundcolor\": \"#E5ECF6\", \"gridcolor\": \"white\", \"gridwidth\": 2, \"linecolor\": \"white\", \"showbackground\": true, \"ticks\": \"\", \"zerolinecolor\": \"white\"}, \"yaxis\": {\"backgroundcolor\": \"#E5ECF6\", \"gridcolor\": \"white\", \"gridwidth\": 2, \"linecolor\": \"white\", \"showbackground\": true, \"ticks\": \"\", \"zerolinecolor\": \"white\"}, \"zaxis\": {\"backgroundcolor\": \"#E5ECF6\", \"gridcolor\": \"white\", \"gridwidth\": 2, \"linecolor\": \"white\", \"showbackground\": true, \"ticks\": \"\", \"zerolinecolor\": \"white\"}}, \"shapedefaults\": {\"line\": {\"color\": \"#2a3f5f\"}}, \"ternary\": {\"aaxis\": {\"gridcolor\": \"white\", \"linecolor\": \"white\", \"ticks\": \"\"}, \"baxis\": {\"gridcolor\": \"white\", \"linecolor\": \"white\", \"ticks\": \"\"}, \"bgcolor\": \"#E5ECF6\", \"caxis\": {\"gridcolor\": \"white\", \"linecolor\": \"white\", \"ticks\": \"\"}}, \"title\": {\"x\": 0.05}, \"xaxis\": {\"automargin\": true, \"gridcolor\": \"white\", \"linecolor\": \"white\", \"ticks\": \"\", \"title\": {\"standoff\": 15}, \"zerolinecolor\": \"white\", \"zerolinewidth\": 2}, \"yaxis\": {\"automargin\": true, \"gridcolor\": \"white\", \"linecolor\": \"white\", \"ticks\": \"\", \"title\": {\"standoff\": 15}, \"zerolinecolor\": \"white\", \"zerolinewidth\": 2}}}, \"title\": {\"text\": \"Daily Sales Diff\"}},                        {\"responsive\": true}                    ).then(function(){\n",
       "                            \n",
       "var gd = document.getElementById('4aad876c-a17c-46ca-af55-2d680aeab9e3');\n",
       "var x = new MutationObserver(function (mutations, observer) {{\n",
       "        var display = window.getComputedStyle(gd).display;\n",
       "        if (!display || display === 'none') {{\n",
       "            console.log([gd, 'removed!']);\n",
       "            Plotly.purge(gd);\n",
       "            observer.disconnect();\n",
       "        }}\n",
       "}});\n",
       "\n",
       "// Listen for the removal of the full notebook cells\n",
       "var notebookContainer = gd.closest('#notebook-container');\n",
       "if (notebookContainer) {{\n",
       "    x.observe(notebookContainer, {childList: true});\n",
       "}}\n",
       "\n",
       "// Listen for the clearing of the current output cell\n",
       "var outputEl = gd.closest('.output');\n",
       "if (outputEl) {{\n",
       "    x.observe(outputEl, {childList: true});\n",
       "}}\n",
       "\n",
       "                        })                };                });            </script>        </div>"
      ]
     },
     "metadata": {},
     "output_type": "display_data"
    }
   ],
   "source": [
    "plot_data = [\n",
    "    go.Scatter(\n",
    "        x=value['Date'],\n",
    "        y=value['NET_AMOUNT'],\n",
    "    )\n",
    "]\n",
    "plot_layout = go.Layout(\n",
    "        title='Daily Sales Diff'\n",
    "    )\n",
    "fig = go.Figure(data=plot_data, layout=plot_layout)\n",
    "pyoff.iplot(fig)"
   ]
  },
  {
   "cell_type": "code",
   "execution_count": 141,
   "metadata": {},
   "outputs": [],
   "source": [
    "value = value.groupby(\"Date\").NET_AMOUNT.sum().reset_index()"
   ]
  },
  {
   "cell_type": "code",
   "execution_count": 142,
   "metadata": {},
   "outputs": [
    {
     "data": {
      "text/html": [
       "<div>\n",
       "<style scoped>\n",
       "    .dataframe tbody tr th:only-of-type {\n",
       "        vertical-align: middle;\n",
       "    }\n",
       "\n",
       "    .dataframe tbody tr th {\n",
       "        vertical-align: top;\n",
       "    }\n",
       "\n",
       "    .dataframe thead th {\n",
       "        text-align: right;\n",
       "    }\n",
       "</style>\n",
       "<table border=\"1\" class=\"dataframe\">\n",
       "  <thead>\n",
       "    <tr style=\"text-align: right;\">\n",
       "      <th></th>\n",
       "      <th>Date</th>\n",
       "      <th>NET_AMOUNT</th>\n",
       "    </tr>\n",
       "  </thead>\n",
       "  <tbody>\n",
       "    <tr>\n",
       "      <td>0</td>\n",
       "      <td>2020-08-01</td>\n",
       "      <td>7797.44</td>\n",
       "    </tr>\n",
       "    <tr>\n",
       "      <td>1</td>\n",
       "      <td>2020-08-02</td>\n",
       "      <td>23010.71</td>\n",
       "    </tr>\n",
       "    <tr>\n",
       "      <td>2</td>\n",
       "      <td>2020-08-03</td>\n",
       "      <td>18153.12</td>\n",
       "    </tr>\n",
       "    <tr>\n",
       "      <td>3</td>\n",
       "      <td>2020-08-04</td>\n",
       "      <td>7654.93</td>\n",
       "    </tr>\n",
       "    <tr>\n",
       "      <td>4</td>\n",
       "      <td>2020-08-05</td>\n",
       "      <td>27110.34</td>\n",
       "    </tr>\n",
       "    <tr>\n",
       "      <td>5</td>\n",
       "      <td>2020-08-06</td>\n",
       "      <td>22473.58</td>\n",
       "    </tr>\n",
       "    <tr>\n",
       "      <td>6</td>\n",
       "      <td>2020-08-07</td>\n",
       "      <td>51151.61</td>\n",
       "    </tr>\n",
       "    <tr>\n",
       "      <td>7</td>\n",
       "      <td>2020-08-08</td>\n",
       "      <td>53458.77</td>\n",
       "    </tr>\n",
       "    <tr>\n",
       "      <td>8</td>\n",
       "      <td>2020-08-09</td>\n",
       "      <td>37105.22</td>\n",
       "    </tr>\n",
       "    <tr>\n",
       "      <td>9</td>\n",
       "      <td>2020-08-10</td>\n",
       "      <td>16683.19</td>\n",
       "    </tr>\n",
       "    <tr>\n",
       "      <td>10</td>\n",
       "      <td>2020-08-11</td>\n",
       "      <td>36555.25</td>\n",
       "    </tr>\n",
       "    <tr>\n",
       "      <td>11</td>\n",
       "      <td>2020-08-12</td>\n",
       "      <td>25182.85</td>\n",
       "    </tr>\n",
       "    <tr>\n",
       "      <td>12</td>\n",
       "      <td>2020-08-13</td>\n",
       "      <td>58663.07</td>\n",
       "    </tr>\n",
       "    <tr>\n",
       "      <td>13</td>\n",
       "      <td>2020-08-14</td>\n",
       "      <td>20433.53</td>\n",
       "    </tr>\n",
       "    <tr>\n",
       "      <td>14</td>\n",
       "      <td>2020-08-15</td>\n",
       "      <td>49150.45</td>\n",
       "    </tr>\n",
       "    <tr>\n",
       "      <td>15</td>\n",
       "      <td>2020-08-16</td>\n",
       "      <td>28861.96</td>\n",
       "    </tr>\n",
       "    <tr>\n",
       "      <td>16</td>\n",
       "      <td>2020-08-17</td>\n",
       "      <td>32792.32</td>\n",
       "    </tr>\n",
       "    <tr>\n",
       "      <td>17</td>\n",
       "      <td>2020-08-18</td>\n",
       "      <td>4527.34</td>\n",
       "    </tr>\n",
       "    <tr>\n",
       "      <td>18</td>\n",
       "      <td>2020-08-19</td>\n",
       "      <td>9795.18</td>\n",
       "    </tr>\n",
       "    <tr>\n",
       "      <td>19</td>\n",
       "      <td>2020-08-20</td>\n",
       "      <td>6883.00</td>\n",
       "    </tr>\n",
       "    <tr>\n",
       "      <td>20</td>\n",
       "      <td>2020-08-21</td>\n",
       "      <td>54625.11</td>\n",
       "    </tr>\n",
       "    <tr>\n",
       "      <td>21</td>\n",
       "      <td>2020-08-22</td>\n",
       "      <td>40550.40</td>\n",
       "    </tr>\n",
       "    <tr>\n",
       "      <td>22</td>\n",
       "      <td>2020-08-23</td>\n",
       "      <td>67238.07</td>\n",
       "    </tr>\n",
       "    <tr>\n",
       "      <td>23</td>\n",
       "      <td>2020-08-24</td>\n",
       "      <td>20272.43</td>\n",
       "    </tr>\n",
       "    <tr>\n",
       "      <td>24</td>\n",
       "      <td>2020-08-25</td>\n",
       "      <td>12789.18</td>\n",
       "    </tr>\n",
       "    <tr>\n",
       "      <td>25</td>\n",
       "      <td>2020-08-26</td>\n",
       "      <td>29792.17</td>\n",
       "    </tr>\n",
       "    <tr>\n",
       "      <td>26</td>\n",
       "      <td>2020-08-27</td>\n",
       "      <td>44028.60</td>\n",
       "    </tr>\n",
       "    <tr>\n",
       "      <td>27</td>\n",
       "      <td>2020-08-28</td>\n",
       "      <td>33380.93</td>\n",
       "    </tr>\n",
       "    <tr>\n",
       "      <td>28</td>\n",
       "      <td>2020-08-29</td>\n",
       "      <td>39622.97</td>\n",
       "    </tr>\n",
       "    <tr>\n",
       "      <td>29</td>\n",
       "      <td>2020-08-30</td>\n",
       "      <td>86005.99</td>\n",
       "    </tr>\n",
       "  </tbody>\n",
       "</table>\n",
       "</div>"
      ],
      "text/plain": [
       "         Date  NET_AMOUNT\n",
       "0  2020-08-01     7797.44\n",
       "1  2020-08-02    23010.71\n",
       "2  2020-08-03    18153.12\n",
       "3  2020-08-04     7654.93\n",
       "4  2020-08-05    27110.34\n",
       "5  2020-08-06    22473.58\n",
       "6  2020-08-07    51151.61\n",
       "7  2020-08-08    53458.77\n",
       "8  2020-08-09    37105.22\n",
       "9  2020-08-10    16683.19\n",
       "10 2020-08-11    36555.25\n",
       "11 2020-08-12    25182.85\n",
       "12 2020-08-13    58663.07\n",
       "13 2020-08-14    20433.53\n",
       "14 2020-08-15    49150.45\n",
       "15 2020-08-16    28861.96\n",
       "16 2020-08-17    32792.32\n",
       "17 2020-08-18     4527.34\n",
       "18 2020-08-19     9795.18\n",
       "19 2020-08-20     6883.00\n",
       "20 2020-08-21    54625.11\n",
       "21 2020-08-22    40550.40\n",
       "22 2020-08-23    67238.07\n",
       "23 2020-08-24    20272.43\n",
       "24 2020-08-25    12789.18\n",
       "25 2020-08-26    29792.17\n",
       "26 2020-08-27    44028.60\n",
       "27 2020-08-28    33380.93\n",
       "28 2020-08-29    39622.97\n",
       "29 2020-08-30    86005.99"
      ]
     },
     "execution_count": 142,
     "metadata": {},
     "output_type": "execute_result"
    }
   ],
   "source": [
    "value"
   ]
  },
  {
   "cell_type": "code",
   "execution_count": 229,
   "metadata": {},
   "outputs": [],
   "source": [
    "df_data['Year'] = df_data['Date'].dt.year\n",
    "df_data['Month'] = df_data['Date'].dt.month\n",
    "df_data['Day'] = df_data['Date'].dt.day"
   ]
  },
  {
   "cell_type": "code",
   "execution_count": 228,
   "metadata": {},
   "outputs": [
    {
     "data": {
      "text/html": [
       "<div>\n",
       "<style scoped>\n",
       "    .dataframe tbody tr th:only-of-type {\n",
       "        vertical-align: middle;\n",
       "    }\n",
       "\n",
       "    .dataframe tbody tr th {\n",
       "        vertical-align: top;\n",
       "    }\n",
       "\n",
       "    .dataframe thead th {\n",
       "        text-align: right;\n",
       "    }\n",
       "</style>\n",
       "<table border=\"1\" class=\"dataframe\">\n",
       "  <thead>\n",
       "    <tr style=\"text-align: right;\">\n",
       "      <th></th>\n",
       "      <th>Date</th>\n",
       "      <th>NET_AMOUNT</th>\n",
       "    </tr>\n",
       "  </thead>\n",
       "  <tbody>\n",
       "    <tr>\n",
       "      <td>0</td>\n",
       "      <td>2020-08-16</td>\n",
       "      <td>9498.5</td>\n",
       "    </tr>\n",
       "    <tr>\n",
       "      <td>1</td>\n",
       "      <td>2020-08-16</td>\n",
       "      <td>6498.5</td>\n",
       "    </tr>\n",
       "    <tr>\n",
       "      <td>2</td>\n",
       "      <td>2020-08-16</td>\n",
       "      <td>9498.5</td>\n",
       "    </tr>\n",
       "    <tr>\n",
       "      <td>3</td>\n",
       "      <td>2020-08-17</td>\n",
       "      <td>7498.5</td>\n",
       "    </tr>\n",
       "    <tr>\n",
       "      <td>4</td>\n",
       "      <td>2020-08-19</td>\n",
       "      <td>17999.0</td>\n",
       "    </tr>\n",
       "    <tr>\n",
       "      <td>...</td>\n",
       "      <td>...</td>\n",
       "      <td>...</td>\n",
       "    </tr>\n",
       "    <tr>\n",
       "      <td>329050</td>\n",
       "      <td>2020-08-28</td>\n",
       "      <td>539.4</td>\n",
       "    </tr>\n",
       "    <tr>\n",
       "      <td>329051</td>\n",
       "      <td>2020-08-29</td>\n",
       "      <td>399.5</td>\n",
       "    </tr>\n",
       "    <tr>\n",
       "      <td>329052</td>\n",
       "      <td>2020-08-26</td>\n",
       "      <td>1499.4</td>\n",
       "    </tr>\n",
       "    <tr>\n",
       "      <td>329053</td>\n",
       "      <td>2020-08-26</td>\n",
       "      <td>1499.4</td>\n",
       "    </tr>\n",
       "    <tr>\n",
       "      <td>329054</td>\n",
       "      <td>2020-08-27</td>\n",
       "      <td>1499.4</td>\n",
       "    </tr>\n",
       "  </tbody>\n",
       "</table>\n",
       "<p>329055 rows × 2 columns</p>\n",
       "</div>"
      ],
      "text/plain": [
       "             Date  NET_AMOUNT\n",
       "0      2020-08-16      9498.5\n",
       "1      2020-08-16      6498.5\n",
       "2      2020-08-16      9498.5\n",
       "3      2020-08-17      7498.5\n",
       "4      2020-08-19     17999.0\n",
       "...           ...         ...\n",
       "329050 2020-08-28       539.4\n",
       "329051 2020-08-29       399.5\n",
       "329052 2020-08-26      1499.4\n",
       "329053 2020-08-26      1499.4\n",
       "329054 2020-08-27      1499.4\n",
       "\n",
       "[329055 rows x 2 columns]"
      ]
     },
     "execution_count": 228,
     "metadata": {},
     "output_type": "execute_result"
    }
   ],
   "source": [
    "df_data = pd.DataFrame(df, columns = ['Date','NET_AMOUNT']) \n",
    "  \n",
    "# print dataframe. \n",
    "df_data"
   ]
  },
  {
   "cell_type": "code",
   "execution_count": 230,
   "metadata": {},
   "outputs": [],
   "source": [
    "df_data['week'] = df_data['Date'].dt.week"
   ]
  },
  {
   "cell_type": "code",
   "execution_count": 325,
   "metadata": {},
   "outputs": [
    {
     "data": {
      "text/html": [
       "<div>\n",
       "<style scoped>\n",
       "    .dataframe tbody tr th:only-of-type {\n",
       "        vertical-align: middle;\n",
       "    }\n",
       "\n",
       "    .dataframe tbody tr th {\n",
       "        vertical-align: top;\n",
       "    }\n",
       "\n",
       "    .dataframe thead th {\n",
       "        text-align: right;\n",
       "    }\n",
       "</style>\n",
       "<table border=\"1\" class=\"dataframe\">\n",
       "  <thead>\n",
       "    <tr style=\"text-align: right;\">\n",
       "      <th></th>\n",
       "      <th>Date</th>\n",
       "      <th>NET_AMOUNT</th>\n",
       "      <th>Year</th>\n",
       "      <th>Month</th>\n",
       "      <th>Day</th>\n",
       "      <th>week</th>\n",
       "    </tr>\n",
       "  </thead>\n",
       "  <tbody>\n",
       "    <tr>\n",
       "      <td>0</td>\n",
       "      <td>2020-08-16</td>\n",
       "      <td>9498.5</td>\n",
       "      <td>2020</td>\n",
       "      <td>8</td>\n",
       "      <td>16</td>\n",
       "      <td>33</td>\n",
       "    </tr>\n",
       "    <tr>\n",
       "      <td>1</td>\n",
       "      <td>2020-08-16</td>\n",
       "      <td>6498.5</td>\n",
       "      <td>2020</td>\n",
       "      <td>8</td>\n",
       "      <td>16</td>\n",
       "      <td>33</td>\n",
       "    </tr>\n",
       "    <tr>\n",
       "      <td>2</td>\n",
       "      <td>2020-08-16</td>\n",
       "      <td>9498.5</td>\n",
       "      <td>2020</td>\n",
       "      <td>8</td>\n",
       "      <td>16</td>\n",
       "      <td>33</td>\n",
       "    </tr>\n",
       "    <tr>\n",
       "      <td>3</td>\n",
       "      <td>2020-08-17</td>\n",
       "      <td>7498.5</td>\n",
       "      <td>2020</td>\n",
       "      <td>8</td>\n",
       "      <td>17</td>\n",
       "      <td>34</td>\n",
       "    </tr>\n",
       "    <tr>\n",
       "      <td>4</td>\n",
       "      <td>2020-08-19</td>\n",
       "      <td>17999.0</td>\n",
       "      <td>2020</td>\n",
       "      <td>8</td>\n",
       "      <td>19</td>\n",
       "      <td>34</td>\n",
       "    </tr>\n",
       "    <tr>\n",
       "      <td>...</td>\n",
       "      <td>...</td>\n",
       "      <td>...</td>\n",
       "      <td>...</td>\n",
       "      <td>...</td>\n",
       "      <td>...</td>\n",
       "      <td>...</td>\n",
       "    </tr>\n",
       "    <tr>\n",
       "      <td>329050</td>\n",
       "      <td>2020-08-28</td>\n",
       "      <td>539.4</td>\n",
       "      <td>2020</td>\n",
       "      <td>8</td>\n",
       "      <td>28</td>\n",
       "      <td>35</td>\n",
       "    </tr>\n",
       "    <tr>\n",
       "      <td>329051</td>\n",
       "      <td>2020-08-29</td>\n",
       "      <td>399.5</td>\n",
       "      <td>2020</td>\n",
       "      <td>8</td>\n",
       "      <td>29</td>\n",
       "      <td>35</td>\n",
       "    </tr>\n",
       "    <tr>\n",
       "      <td>329052</td>\n",
       "      <td>2020-08-26</td>\n",
       "      <td>1499.4</td>\n",
       "      <td>2020</td>\n",
       "      <td>8</td>\n",
       "      <td>26</td>\n",
       "      <td>35</td>\n",
       "    </tr>\n",
       "    <tr>\n",
       "      <td>329053</td>\n",
       "      <td>2020-08-26</td>\n",
       "      <td>1499.4</td>\n",
       "      <td>2020</td>\n",
       "      <td>8</td>\n",
       "      <td>26</td>\n",
       "      <td>35</td>\n",
       "    </tr>\n",
       "    <tr>\n",
       "      <td>329054</td>\n",
       "      <td>2020-08-27</td>\n",
       "      <td>1499.4</td>\n",
       "      <td>2020</td>\n",
       "      <td>8</td>\n",
       "      <td>27</td>\n",
       "      <td>35</td>\n",
       "    </tr>\n",
       "  </tbody>\n",
       "</table>\n",
       "<p>329053 rows × 6 columns</p>\n",
       "</div>"
      ],
      "text/plain": [
       "             Date  NET_AMOUNT  Year  Month  Day  week\n",
       "0      2020-08-16      9498.5  2020      8   16    33\n",
       "1      2020-08-16      6498.5  2020      8   16    33\n",
       "2      2020-08-16      9498.5  2020      8   16    33\n",
       "3      2020-08-17      7498.5  2020      8   17    34\n",
       "4      2020-08-19     17999.0  2020      8   19    34\n",
       "...           ...         ...   ...    ...  ...   ...\n",
       "329050 2020-08-28       539.4  2020      8   28    35\n",
       "329051 2020-08-29       399.5  2020      8   29    35\n",
       "329052 2020-08-26      1499.4  2020      8   26    35\n",
       "329053 2020-08-26      1499.4  2020      8   26    35\n",
       "329054 2020-08-27      1499.4  2020      8   27    35\n",
       "\n",
       "[329053 rows x 6 columns]"
      ]
     },
     "execution_count": 325,
     "metadata": {},
     "output_type": "execute_result"
    }
   ],
   "source": [
    "df_data"
   ]
  },
  {
   "cell_type": "code",
   "execution_count": 326,
   "metadata": {},
   "outputs": [],
   "source": [
    "df_data[\"NET_AMOUNT\"]=df_data[\"NET_AMOUNT\"].dropna(axis=0)"
   ]
  },
  {
   "cell_type": "code",
   "execution_count": 242,
   "metadata": {},
   "outputs": [],
   "source": [
    "df_data=df_data.dropna(axis=0)"
   ]
  },
  {
   "cell_type": "code",
   "execution_count": 327,
   "metadata": {},
   "outputs": [
    {
     "data": {
      "text/html": [
       "<div>\n",
       "<style scoped>\n",
       "    .dataframe tbody tr th:only-of-type {\n",
       "        vertical-align: middle;\n",
       "    }\n",
       "\n",
       "    .dataframe tbody tr th {\n",
       "        vertical-align: top;\n",
       "    }\n",
       "\n",
       "    .dataframe thead th {\n",
       "        text-align: right;\n",
       "    }\n",
       "</style>\n",
       "<table border=\"1\" class=\"dataframe\">\n",
       "  <thead>\n",
       "    <tr style=\"text-align: right;\">\n",
       "      <th></th>\n",
       "      <th>Date</th>\n",
       "      <th>NET_AMOUNT</th>\n",
       "      <th>Year</th>\n",
       "      <th>Month</th>\n",
       "      <th>Day</th>\n",
       "      <th>week</th>\n",
       "    </tr>\n",
       "  </thead>\n",
       "  <tbody>\n",
       "    <tr>\n",
       "      <td>0</td>\n",
       "      <td>2020-08-16</td>\n",
       "      <td>9498.5</td>\n",
       "      <td>2020</td>\n",
       "      <td>8</td>\n",
       "      <td>16</td>\n",
       "      <td>33</td>\n",
       "    </tr>\n",
       "    <tr>\n",
       "      <td>1</td>\n",
       "      <td>2020-08-16</td>\n",
       "      <td>6498.5</td>\n",
       "      <td>2020</td>\n",
       "      <td>8</td>\n",
       "      <td>16</td>\n",
       "      <td>33</td>\n",
       "    </tr>\n",
       "    <tr>\n",
       "      <td>2</td>\n",
       "      <td>2020-08-16</td>\n",
       "      <td>9498.5</td>\n",
       "      <td>2020</td>\n",
       "      <td>8</td>\n",
       "      <td>16</td>\n",
       "      <td>33</td>\n",
       "    </tr>\n",
       "    <tr>\n",
       "      <td>3</td>\n",
       "      <td>2020-08-17</td>\n",
       "      <td>7498.5</td>\n",
       "      <td>2020</td>\n",
       "      <td>8</td>\n",
       "      <td>17</td>\n",
       "      <td>34</td>\n",
       "    </tr>\n",
       "    <tr>\n",
       "      <td>4</td>\n",
       "      <td>2020-08-19</td>\n",
       "      <td>17999.0</td>\n",
       "      <td>2020</td>\n",
       "      <td>8</td>\n",
       "      <td>19</td>\n",
       "      <td>34</td>\n",
       "    </tr>\n",
       "    <tr>\n",
       "      <td>...</td>\n",
       "      <td>...</td>\n",
       "      <td>...</td>\n",
       "      <td>...</td>\n",
       "      <td>...</td>\n",
       "      <td>...</td>\n",
       "      <td>...</td>\n",
       "    </tr>\n",
       "    <tr>\n",
       "      <td>329050</td>\n",
       "      <td>2020-08-28</td>\n",
       "      <td>539.4</td>\n",
       "      <td>2020</td>\n",
       "      <td>8</td>\n",
       "      <td>28</td>\n",
       "      <td>35</td>\n",
       "    </tr>\n",
       "    <tr>\n",
       "      <td>329051</td>\n",
       "      <td>2020-08-29</td>\n",
       "      <td>399.5</td>\n",
       "      <td>2020</td>\n",
       "      <td>8</td>\n",
       "      <td>29</td>\n",
       "      <td>35</td>\n",
       "    </tr>\n",
       "    <tr>\n",
       "      <td>329052</td>\n",
       "      <td>2020-08-26</td>\n",
       "      <td>1499.4</td>\n",
       "      <td>2020</td>\n",
       "      <td>8</td>\n",
       "      <td>26</td>\n",
       "      <td>35</td>\n",
       "    </tr>\n",
       "    <tr>\n",
       "      <td>329053</td>\n",
       "      <td>2020-08-26</td>\n",
       "      <td>1499.4</td>\n",
       "      <td>2020</td>\n",
       "      <td>8</td>\n",
       "      <td>26</td>\n",
       "      <td>35</td>\n",
       "    </tr>\n",
       "    <tr>\n",
       "      <td>329054</td>\n",
       "      <td>2020-08-27</td>\n",
       "      <td>1499.4</td>\n",
       "      <td>2020</td>\n",
       "      <td>8</td>\n",
       "      <td>27</td>\n",
       "      <td>35</td>\n",
       "    </tr>\n",
       "  </tbody>\n",
       "</table>\n",
       "<p>329053 rows × 6 columns</p>\n",
       "</div>"
      ],
      "text/plain": [
       "             Date  NET_AMOUNT  Year  Month  Day  week\n",
       "0      2020-08-16      9498.5  2020      8   16    33\n",
       "1      2020-08-16      6498.5  2020      8   16    33\n",
       "2      2020-08-16      9498.5  2020      8   16    33\n",
       "3      2020-08-17      7498.5  2020      8   17    34\n",
       "4      2020-08-19     17999.0  2020      8   19    34\n",
       "...           ...         ...   ...    ...  ...   ...\n",
       "329050 2020-08-28       539.4  2020      8   28    35\n",
       "329051 2020-08-29       399.5  2020      8   29    35\n",
       "329052 2020-08-26      1499.4  2020      8   26    35\n",
       "329053 2020-08-26      1499.4  2020      8   26    35\n",
       "329054 2020-08-27      1499.4  2020      8   27    35\n",
       "\n",
       "[329053 rows x 6 columns]"
      ]
     },
     "execution_count": 327,
     "metadata": {},
     "output_type": "execute_result"
    }
   ],
   "source": [
    "df_data"
   ]
  },
  {
   "cell_type": "code",
   "execution_count": 328,
   "metadata": {},
   "outputs": [],
   "source": [
    "import numpy as np\n",
    "from sklearn.model_selection import train_test_split, GridSearchCV, RandomizedSearchCV\n",
    "predictors = [x for x in df_data.columns if x  in ['Month' , 'Day' , 'week']]\n"
   ]
  },
  {
   "cell_type": "code",
   "execution_count": null,
   "metadata": {},
   "outputs": [],
   "source": []
  },
  {
   "cell_type": "code",
   "execution_count": 173,
   "metadata": {},
   "outputs": [
    {
     "name": "stdout",
     "output_type": "stream",
     "text": [
      "<class 'pandas.core.frame.DataFrame'>\n",
      "RangeIndex: 329055 entries, 0 to 329054\n",
      "Data columns (total 42 columns):\n",
      "CHANNEL            329055 non-null object\n",
      "SAP_STORE_ID       329055 non-null object\n",
      "XSTORE_STORE_ID    329055 non-null int64\n",
      "STORE_NAME         329055 non-null object\n",
      "OWNERSHIP_TYPE     329055 non-null object\n",
      "CITY               329055 non-null object\n",
      "STATE              329055 non-null object\n",
      "GSTIN_NO           329055 non-null object\n",
      "OLD_INVOICE_NO     329055 non-null int64\n",
      "NEW_INVOICE_NO     329055 non-null int64\n",
      "BUSINESS_DATE      329055 non-null datetime64[ns]\n",
      "SALE_TYPE          329055 non-null object\n",
      "BRAND              325846 non-null object\n",
      "SUBBRAND           325846 non-null object\n",
      "CLASS              317302 non-null object\n",
      "SUB_CLASS          321787 non-null object\n",
      "MATERIAL_TYPE      329008 non-null object\n",
      "MANUFACTURER       323153 non-null object\n",
      "BARCODE            325825 non-null float64\n",
      "ITEM               329055 non-null object\n",
      "STYLE              329055 non-null object\n",
      "MRP                329055 non-null float64\n",
      "QUANTITY           329055 non-null int64\n",
      "DISCOUNT           329055 non-null float64\n",
      "TAXABLE_AMOUNT     329053 non-null float64\n",
      "HSN_CODE           328330 non-null float64\n",
      "SGST               328975 non-null float64\n",
      "CGST               328975 non-null float64\n",
      "IGST               328975 non-null float64\n",
      "CESS               329055 non-null float64\n",
      "TAX_RATE           328975 non-null float64\n",
      "NET_AMOUNT         329053 non-null float64\n",
      "ORDER_TYPE         329055 non-null object\n",
      "EXTERNAL_SYSTEM    329053 non-null object\n",
      "AIL_ORDER_ID       73752 non-null object\n",
      "AIL_ORDER_STATE    64152 non-null object\n",
      "PO_REF_NBR         329055 non-null object\n",
      "Date               329055 non-null datetime64[ns]\n",
      "Year               329055 non-null int64\n",
      "Month              329055 non-null int64\n",
      "Day                329055 non-null int64\n",
      "week               329055 non-null int64\n",
      "dtypes: datetime64[ns](2), float64(11), int64(8), object(21)\n",
      "memory usage: 105.4+ MB\n"
     ]
    }
   ],
   "source": [
    "df.info()"
   ]
  },
  {
   "cell_type": "code",
   "execution_count": 329,
   "metadata": {},
   "outputs": [],
   "source": [
    "y = df_data.NET_AMOUNT\n",
    "X = df_data"
   ]
  },
  {
   "cell_type": "code",
   "execution_count": 330,
   "metadata": {},
   "outputs": [
    {
     "data": {
      "text/html": [
       "<div>\n",
       "<style scoped>\n",
       "    .dataframe tbody tr th:only-of-type {\n",
       "        vertical-align: middle;\n",
       "    }\n",
       "\n",
       "    .dataframe tbody tr th {\n",
       "        vertical-align: top;\n",
       "    }\n",
       "\n",
       "    .dataframe thead th {\n",
       "        text-align: right;\n",
       "    }\n",
       "</style>\n",
       "<table border=\"1\" class=\"dataframe\">\n",
       "  <thead>\n",
       "    <tr style=\"text-align: right;\">\n",
       "      <th></th>\n",
       "      <th>Date</th>\n",
       "      <th>NET_AMOUNT</th>\n",
       "      <th>Year</th>\n",
       "      <th>Month</th>\n",
       "      <th>Day</th>\n",
       "      <th>week</th>\n",
       "    </tr>\n",
       "  </thead>\n",
       "  <tbody>\n",
       "    <tr>\n",
       "      <td>0</td>\n",
       "      <td>2020-08-16</td>\n",
       "      <td>9498.5</td>\n",
       "      <td>2020</td>\n",
       "      <td>8</td>\n",
       "      <td>16</td>\n",
       "      <td>33</td>\n",
       "    </tr>\n",
       "    <tr>\n",
       "      <td>1</td>\n",
       "      <td>2020-08-16</td>\n",
       "      <td>6498.5</td>\n",
       "      <td>2020</td>\n",
       "      <td>8</td>\n",
       "      <td>16</td>\n",
       "      <td>33</td>\n",
       "    </tr>\n",
       "    <tr>\n",
       "      <td>2</td>\n",
       "      <td>2020-08-16</td>\n",
       "      <td>9498.5</td>\n",
       "      <td>2020</td>\n",
       "      <td>8</td>\n",
       "      <td>16</td>\n",
       "      <td>33</td>\n",
       "    </tr>\n",
       "    <tr>\n",
       "      <td>3</td>\n",
       "      <td>2020-08-17</td>\n",
       "      <td>7498.5</td>\n",
       "      <td>2020</td>\n",
       "      <td>8</td>\n",
       "      <td>17</td>\n",
       "      <td>34</td>\n",
       "    </tr>\n",
       "    <tr>\n",
       "      <td>4</td>\n",
       "      <td>2020-08-19</td>\n",
       "      <td>17999.0</td>\n",
       "      <td>2020</td>\n",
       "      <td>8</td>\n",
       "      <td>19</td>\n",
       "      <td>34</td>\n",
       "    </tr>\n",
       "    <tr>\n",
       "      <td>...</td>\n",
       "      <td>...</td>\n",
       "      <td>...</td>\n",
       "      <td>...</td>\n",
       "      <td>...</td>\n",
       "      <td>...</td>\n",
       "      <td>...</td>\n",
       "    </tr>\n",
       "    <tr>\n",
       "      <td>329050</td>\n",
       "      <td>2020-08-28</td>\n",
       "      <td>539.4</td>\n",
       "      <td>2020</td>\n",
       "      <td>8</td>\n",
       "      <td>28</td>\n",
       "      <td>35</td>\n",
       "    </tr>\n",
       "    <tr>\n",
       "      <td>329051</td>\n",
       "      <td>2020-08-29</td>\n",
       "      <td>399.5</td>\n",
       "      <td>2020</td>\n",
       "      <td>8</td>\n",
       "      <td>29</td>\n",
       "      <td>35</td>\n",
       "    </tr>\n",
       "    <tr>\n",
       "      <td>329052</td>\n",
       "      <td>2020-08-26</td>\n",
       "      <td>1499.4</td>\n",
       "      <td>2020</td>\n",
       "      <td>8</td>\n",
       "      <td>26</td>\n",
       "      <td>35</td>\n",
       "    </tr>\n",
       "    <tr>\n",
       "      <td>329053</td>\n",
       "      <td>2020-08-26</td>\n",
       "      <td>1499.4</td>\n",
       "      <td>2020</td>\n",
       "      <td>8</td>\n",
       "      <td>26</td>\n",
       "      <td>35</td>\n",
       "    </tr>\n",
       "    <tr>\n",
       "      <td>329054</td>\n",
       "      <td>2020-08-27</td>\n",
       "      <td>1499.4</td>\n",
       "      <td>2020</td>\n",
       "      <td>8</td>\n",
       "      <td>27</td>\n",
       "      <td>35</td>\n",
       "    </tr>\n",
       "  </tbody>\n",
       "</table>\n",
       "<p>329053 rows × 6 columns</p>\n",
       "</div>"
      ],
      "text/plain": [
       "             Date  NET_AMOUNT  Year  Month  Day  week\n",
       "0      2020-08-16      9498.5  2020      8   16    33\n",
       "1      2020-08-16      6498.5  2020      8   16    33\n",
       "2      2020-08-16      9498.5  2020      8   16    33\n",
       "3      2020-08-17      7498.5  2020      8   17    34\n",
       "4      2020-08-19     17999.0  2020      8   19    34\n",
       "...           ...         ...   ...    ...  ...   ...\n",
       "329050 2020-08-28       539.4  2020      8   28    35\n",
       "329051 2020-08-29       399.5  2020      8   29    35\n",
       "329052 2020-08-26      1499.4  2020      8   26    35\n",
       "329053 2020-08-26      1499.4  2020      8   26    35\n",
       "329054 2020-08-27      1499.4  2020      8   27    35\n",
       "\n",
       "[329053 rows x 6 columns]"
      ]
     },
     "execution_count": 330,
     "metadata": {},
     "output_type": "execute_result"
    }
   ],
   "source": [
    "X"
   ]
  },
  {
   "cell_type": "code",
   "execution_count": 331,
   "metadata": {},
   "outputs": [
    {
     "data": {
      "text/plain": [
       "0          9498.5\n",
       "1          6498.5\n",
       "2          9498.5\n",
       "3          7498.5\n",
       "4         17999.0\n",
       "           ...   \n",
       "329050      539.4\n",
       "329051      399.5\n",
       "329052     1499.4\n",
       "329053     1499.4\n",
       "329054     1499.4\n",
       "Name: NET_AMOUNT, Length: 329053, dtype: float64"
      ]
     },
     "execution_count": 331,
     "metadata": {},
     "output_type": "execute_result"
    }
   ],
   "source": [
    "y"
   ]
  },
  {
   "cell_type": "code",
   "execution_count": 332,
   "metadata": {},
   "outputs": [],
   "source": [
    "X_train, X_test, y_train, y_test = train_test_split(X, y, \n",
    "                                                    test_size = 0.3, # 30% for the evaluation set\n",
    "                                                    random_state = 42)\n"
   ]
  },
  {
   "cell_type": "code",
   "execution_count": 333,
   "metadata": {},
   "outputs": [],
   "source": [
    "params = {\n",
    "    'booster': 'gbtree', \n",
    "    'objective': 'reg:linear',\n",
    "    'subsample': 0.8, \n",
    "    'colsample_bytree': 0.85, \n",
    "    'eta': 0.01, \n",
    "    'max_depth': 16, \n",
    "    'seed': 42}"
   ]
  },
  {
   "cell_type": "code",
   "execution_count": 334,
   "metadata": {},
   "outputs": [],
   "source": [
    "\n",
    "import xgboost as xgb\n",
    "from xgboost.sklearn import XGBRegressor\n",
    "\n",
    "from sklearn.linear_model import LinearRegression"
   ]
  },
  {
   "cell_type": "code",
   "execution_count": 335,
   "metadata": {},
   "outputs": [],
   "source": [
    "X_train.columns = X_train.columns.str.replace(' ' , '')\n",
    "X_test.columns =  X_test.columns.str.replace(' ' , '')"
   ]
  },
  {
   "cell_type": "code",
   "execution_count": 336,
   "metadata": {},
   "outputs": [],
   "source": [
    "predictors = [x.replace(' ' , '') for x in predictors]"
   ]
  },
  {
   "cell_type": "code",
   "execution_count": 339,
   "metadata": {},
   "outputs": [],
   "source": [
    "X_train.drop('Date', inplace=True, axis=1)"
   ]
  },
  {
   "cell_type": "code",
   "execution_count": 340,
   "metadata": {},
   "outputs": [
    {
     "data": {
      "text/html": [
       "<div>\n",
       "<style scoped>\n",
       "    .dataframe tbody tr th:only-of-type {\n",
       "        vertical-align: middle;\n",
       "    }\n",
       "\n",
       "    .dataframe tbody tr th {\n",
       "        vertical-align: top;\n",
       "    }\n",
       "\n",
       "    .dataframe thead th {\n",
       "        text-align: right;\n",
       "    }\n",
       "</style>\n",
       "<table border=\"1\" class=\"dataframe\">\n",
       "  <thead>\n",
       "    <tr style=\"text-align: right;\">\n",
       "      <th></th>\n",
       "      <th>Year</th>\n",
       "      <th>Month</th>\n",
       "      <th>Day</th>\n",
       "      <th>week</th>\n",
       "    </tr>\n",
       "  </thead>\n",
       "  <tbody>\n",
       "    <tr>\n",
       "      <td>43057</td>\n",
       "      <td>2020</td>\n",
       "      <td>8</td>\n",
       "      <td>1</td>\n",
       "      <td>31</td>\n",
       "    </tr>\n",
       "    <tr>\n",
       "      <td>279493</td>\n",
       "      <td>2020</td>\n",
       "      <td>8</td>\n",
       "      <td>7</td>\n",
       "      <td>32</td>\n",
       "    </tr>\n",
       "    <tr>\n",
       "      <td>251575</td>\n",
       "      <td>2020</td>\n",
       "      <td>8</td>\n",
       "      <td>12</td>\n",
       "      <td>33</td>\n",
       "    </tr>\n",
       "    <tr>\n",
       "      <td>278759</td>\n",
       "      <td>2020</td>\n",
       "      <td>8</td>\n",
       "      <td>10</td>\n",
       "      <td>33</td>\n",
       "    </tr>\n",
       "    <tr>\n",
       "      <td>33649</td>\n",
       "      <td>2020</td>\n",
       "      <td>8</td>\n",
       "      <td>11</td>\n",
       "      <td>33</td>\n",
       "    </tr>\n",
       "    <tr>\n",
       "      <td>...</td>\n",
       "      <td>...</td>\n",
       "      <td>...</td>\n",
       "      <td>...</td>\n",
       "      <td>...</td>\n",
       "    </tr>\n",
       "    <tr>\n",
       "      <td>119879</td>\n",
       "      <td>2020</td>\n",
       "      <td>8</td>\n",
       "      <td>30</td>\n",
       "      <td>35</td>\n",
       "    </tr>\n",
       "    <tr>\n",
       "      <td>259178</td>\n",
       "      <td>2020</td>\n",
       "      <td>8</td>\n",
       "      <td>28</td>\n",
       "      <td>35</td>\n",
       "    </tr>\n",
       "    <tr>\n",
       "      <td>131932</td>\n",
       "      <td>2020</td>\n",
       "      <td>8</td>\n",
       "      <td>18</td>\n",
       "      <td>34</td>\n",
       "    </tr>\n",
       "    <tr>\n",
       "      <td>146867</td>\n",
       "      <td>2020</td>\n",
       "      <td>8</td>\n",
       "      <td>26</td>\n",
       "      <td>35</td>\n",
       "    </tr>\n",
       "    <tr>\n",
       "      <td>121958</td>\n",
       "      <td>2020</td>\n",
       "      <td>8</td>\n",
       "      <td>15</td>\n",
       "      <td>33</td>\n",
       "    </tr>\n",
       "  </tbody>\n",
       "</table>\n",
       "<p>230337 rows × 4 columns</p>\n",
       "</div>"
      ],
      "text/plain": [
       "        Year  Month  Day  week\n",
       "43057   2020      8    1    31\n",
       "279493  2020      8    7    32\n",
       "251575  2020      8   12    33\n",
       "278759  2020      8   10    33\n",
       "33649   2020      8   11    33\n",
       "...      ...    ...  ...   ...\n",
       "119879  2020      8   30    35\n",
       "259178  2020      8   28    35\n",
       "131932  2020      8   18    34\n",
       "146867  2020      8   26    35\n",
       "121958  2020      8   15    33\n",
       "\n",
       "[230337 rows x 4 columns]"
      ]
     },
     "execution_count": 340,
     "metadata": {},
     "output_type": "execute_result"
    }
   ],
   "source": [
    "X_train"
   ]
  },
  {
   "cell_type": "code",
   "execution_count": 341,
   "metadata": {},
   "outputs": [
    {
     "data": {
      "text/plain": [
       "43057      239.00\n",
       "279493       0.86\n",
       "251575    1492.59\n",
       "278759    2799.20\n",
       "33649      550.00\n",
       "           ...   \n",
       "119879    1799.00\n",
       "259178    1499.00\n",
       "131932    1658.16\n",
       "146867    1961.41\n",
       "121958    1999.00\n",
       "Name: NET_AMOUNT, Length: 230337, dtype: float64"
      ]
     },
     "execution_count": 341,
     "metadata": {},
     "output_type": "execute_result"
    }
   ],
   "source": [
    "y_train"
   ]
  },
  {
   "cell_type": "code",
   "execution_count": 319,
   "metadata": {},
   "outputs": [],
   "source": [
    "lin_mod = LinearRegression()"
   ]
  },
  {
   "cell_type": "code",
   "execution_count": 342,
   "metadata": {},
   "outputs": [],
   "source": [
    "X_train[X_train==np.inf]=np.nan\n",
    "X_train.fillna(X_train.mean(), inplace=True)\n",
    "X_train.replace([np.inf, -np.inf], np.nan, inplace=True)"
   ]
  },
  {
   "cell_type": "code",
   "execution_count": 343,
   "metadata": {},
   "outputs": [],
   "source": [
    "y_train[y_train==np.inf]=np.nan\n",
    "y_train.fillna(y_train.mean(), inplace=True)\n",
    "y_train.replace([np.inf, -np.inf], np.nan, inplace=True)"
   ]
  },
  {
   "cell_type": "code",
   "execution_count": 320,
   "metadata": {},
   "outputs": [
    {
     "ename": "ValueError",
     "evalue": "Input contains NaN, infinity or a value too large for dtype('float64').",
     "output_type": "error",
     "traceback": [
      "\u001b[1;31m---------------------------------------------------------------------------\u001b[0m",
      "\u001b[1;31mValueError\u001b[0m                                Traceback (most recent call last)",
      "\u001b[1;32m<ipython-input-320-d813d4755a0d>\u001b[0m in \u001b[0;36m<module>\u001b[1;34m\u001b[0m\n\u001b[1;32m----> 1\u001b[1;33m \u001b[0mmodel_lin\u001b[0m \u001b[1;33m=\u001b[0m \u001b[0mlin_mod\u001b[0m\u001b[1;33m.\u001b[0m\u001b[0mfit\u001b[0m\u001b[1;33m(\u001b[0m\u001b[0mX_train\u001b[0m\u001b[1;33m,\u001b[0m \u001b[0my_train\u001b[0m\u001b[1;33m)\u001b[0m\u001b[1;33m\u001b[0m\u001b[1;33m\u001b[0m\u001b[0m\n\u001b[0m",
      "\u001b[1;32m~\\AppData\\Local\\Continuum\\anaconda3\\lib\\site-packages\\sklearn\\linear_model\\base.py\u001b[0m in \u001b[0;36mfit\u001b[1;34m(self, X, y, sample_weight)\u001b[0m\n\u001b[0;32m    461\u001b[0m         \u001b[0mn_jobs_\u001b[0m \u001b[1;33m=\u001b[0m \u001b[0mself\u001b[0m\u001b[1;33m.\u001b[0m\u001b[0mn_jobs\u001b[0m\u001b[1;33m\u001b[0m\u001b[1;33m\u001b[0m\u001b[0m\n\u001b[0;32m    462\u001b[0m         X, y = check_X_y(X, y, accept_sparse=['csr', 'csc', 'coo'],\n\u001b[1;32m--> 463\u001b[1;33m                          y_numeric=True, multi_output=True)\n\u001b[0m\u001b[0;32m    464\u001b[0m \u001b[1;33m\u001b[0m\u001b[0m\n\u001b[0;32m    465\u001b[0m         \u001b[1;32mif\u001b[0m \u001b[0msample_weight\u001b[0m \u001b[1;32mis\u001b[0m \u001b[1;32mnot\u001b[0m \u001b[1;32mNone\u001b[0m \u001b[1;32mand\u001b[0m \u001b[0mnp\u001b[0m\u001b[1;33m.\u001b[0m\u001b[0matleast_1d\u001b[0m\u001b[1;33m(\u001b[0m\u001b[0msample_weight\u001b[0m\u001b[1;33m)\u001b[0m\u001b[1;33m.\u001b[0m\u001b[0mndim\u001b[0m \u001b[1;33m>\u001b[0m \u001b[1;36m1\u001b[0m\u001b[1;33m:\u001b[0m\u001b[1;33m\u001b[0m\u001b[1;33m\u001b[0m\u001b[0m\n",
      "\u001b[1;32m~\\AppData\\Local\\Continuum\\anaconda3\\lib\\site-packages\\sklearn\\utils\\validation.py\u001b[0m in \u001b[0;36mcheck_X_y\u001b[1;34m(X, y, accept_sparse, accept_large_sparse, dtype, order, copy, force_all_finite, ensure_2d, allow_nd, multi_output, ensure_min_samples, ensure_min_features, y_numeric, warn_on_dtype, estimator)\u001b[0m\n\u001b[0;32m    720\u001b[0m     \u001b[1;32mif\u001b[0m \u001b[0mmulti_output\u001b[0m\u001b[1;33m:\u001b[0m\u001b[1;33m\u001b[0m\u001b[1;33m\u001b[0m\u001b[0m\n\u001b[0;32m    721\u001b[0m         y = check_array(y, 'csr', force_all_finite=True, ensure_2d=False,\n\u001b[1;32m--> 722\u001b[1;33m                         dtype=None)\n\u001b[0m\u001b[0;32m    723\u001b[0m     \u001b[1;32melse\u001b[0m\u001b[1;33m:\u001b[0m\u001b[1;33m\u001b[0m\u001b[1;33m\u001b[0m\u001b[0m\n\u001b[0;32m    724\u001b[0m         \u001b[0my\u001b[0m \u001b[1;33m=\u001b[0m \u001b[0mcolumn_or_1d\u001b[0m\u001b[1;33m(\u001b[0m\u001b[0my\u001b[0m\u001b[1;33m,\u001b[0m \u001b[0mwarn\u001b[0m\u001b[1;33m=\u001b[0m\u001b[1;32mTrue\u001b[0m\u001b[1;33m)\u001b[0m\u001b[1;33m\u001b[0m\u001b[1;33m\u001b[0m\u001b[0m\n",
      "\u001b[1;32m~\\AppData\\Local\\Continuum\\anaconda3\\lib\\site-packages\\sklearn\\utils\\validation.py\u001b[0m in \u001b[0;36mcheck_array\u001b[1;34m(array, accept_sparse, accept_large_sparse, dtype, order, copy, force_all_finite, ensure_2d, allow_nd, ensure_min_samples, ensure_min_features, warn_on_dtype, estimator)\u001b[0m\n\u001b[0;32m    540\u001b[0m         \u001b[1;32mif\u001b[0m \u001b[0mforce_all_finite\u001b[0m\u001b[1;33m:\u001b[0m\u001b[1;33m\u001b[0m\u001b[1;33m\u001b[0m\u001b[0m\n\u001b[0;32m    541\u001b[0m             _assert_all_finite(array,\n\u001b[1;32m--> 542\u001b[1;33m                                allow_nan=force_all_finite == 'allow-nan')\n\u001b[0m\u001b[0;32m    543\u001b[0m \u001b[1;33m\u001b[0m\u001b[0m\n\u001b[0;32m    544\u001b[0m     \u001b[1;32mif\u001b[0m \u001b[0mensure_min_samples\u001b[0m \u001b[1;33m>\u001b[0m \u001b[1;36m0\u001b[0m\u001b[1;33m:\u001b[0m\u001b[1;33m\u001b[0m\u001b[1;33m\u001b[0m\u001b[0m\n",
      "\u001b[1;32m~\\AppData\\Local\\Continuum\\anaconda3\\lib\\site-packages\\sklearn\\utils\\validation.py\u001b[0m in \u001b[0;36m_assert_all_finite\u001b[1;34m(X, allow_nan)\u001b[0m\n\u001b[0;32m     54\u001b[0m                 not allow_nan and not np.isfinite(X).all()):\n\u001b[0;32m     55\u001b[0m             \u001b[0mtype_err\u001b[0m \u001b[1;33m=\u001b[0m \u001b[1;34m'infinity'\u001b[0m \u001b[1;32mif\u001b[0m \u001b[0mallow_nan\u001b[0m \u001b[1;32melse\u001b[0m \u001b[1;34m'NaN, infinity'\u001b[0m\u001b[1;33m\u001b[0m\u001b[1;33m\u001b[0m\u001b[0m\n\u001b[1;32m---> 56\u001b[1;33m             \u001b[1;32mraise\u001b[0m \u001b[0mValueError\u001b[0m\u001b[1;33m(\u001b[0m\u001b[0mmsg_err\u001b[0m\u001b[1;33m.\u001b[0m\u001b[0mformat\u001b[0m\u001b[1;33m(\u001b[0m\u001b[0mtype_err\u001b[0m\u001b[1;33m,\u001b[0m \u001b[0mX\u001b[0m\u001b[1;33m.\u001b[0m\u001b[0mdtype\u001b[0m\u001b[1;33m)\u001b[0m\u001b[1;33m)\u001b[0m\u001b[1;33m\u001b[0m\u001b[1;33m\u001b[0m\u001b[0m\n\u001b[0m\u001b[0;32m     57\u001b[0m     \u001b[1;31m# for object dtype data, we only check for NaNs (GH-13254)\u001b[0m\u001b[1;33m\u001b[0m\u001b[1;33m\u001b[0m\u001b[1;33m\u001b[0m\u001b[0m\n\u001b[0;32m     58\u001b[0m     \u001b[1;32melif\u001b[0m \u001b[0mX\u001b[0m\u001b[1;33m.\u001b[0m\u001b[0mdtype\u001b[0m \u001b[1;33m==\u001b[0m \u001b[0mnp\u001b[0m\u001b[1;33m.\u001b[0m\u001b[0mdtype\u001b[0m\u001b[1;33m(\u001b[0m\u001b[1;34m'object'\u001b[0m\u001b[1;33m)\u001b[0m \u001b[1;32mand\u001b[0m \u001b[1;32mnot\u001b[0m \u001b[0mallow_nan\u001b[0m\u001b[1;33m:\u001b[0m\u001b[1;33m\u001b[0m\u001b[1;33m\u001b[0m\u001b[0m\n",
      "\u001b[1;31mValueError\u001b[0m: Input contains NaN, infinity or a value too large for dtype('float64')."
     ]
    }
   ],
   "source": [
    "model_lin = lin_mod.fit(X_train, y_train)"
   ]
  },
  {
   "cell_type": "code",
   "execution_count": 314,
   "metadata": {},
   "outputs": [
    {
     "data": {
      "text/html": [
       "<div>\n",
       "<style scoped>\n",
       "    .dataframe tbody tr th:only-of-type {\n",
       "        vertical-align: middle;\n",
       "    }\n",
       "\n",
       "    .dataframe tbody tr th {\n",
       "        vertical-align: top;\n",
       "    }\n",
       "\n",
       "    .dataframe thead th {\n",
       "        text-align: right;\n",
       "    }\n",
       "</style>\n",
       "<table border=\"1\" class=\"dataframe\">\n",
       "  <thead>\n",
       "    <tr style=\"text-align: right;\">\n",
       "      <th></th>\n",
       "      <th>Month</th>\n",
       "      <th>Day</th>\n",
       "      <th>week</th>\n",
       "    </tr>\n",
       "  </thead>\n",
       "  <tbody>\n",
       "    <tr>\n",
       "      <td>43057</td>\n",
       "      <td>8</td>\n",
       "      <td>1</td>\n",
       "      <td>31</td>\n",
       "    </tr>\n",
       "    <tr>\n",
       "      <td>279493</td>\n",
       "      <td>8</td>\n",
       "      <td>7</td>\n",
       "      <td>32</td>\n",
       "    </tr>\n",
       "    <tr>\n",
       "      <td>251575</td>\n",
       "      <td>8</td>\n",
       "      <td>12</td>\n",
       "      <td>33</td>\n",
       "    </tr>\n",
       "    <tr>\n",
       "      <td>278759</td>\n",
       "      <td>8</td>\n",
       "      <td>10</td>\n",
       "      <td>33</td>\n",
       "    </tr>\n",
       "    <tr>\n",
       "      <td>33649</td>\n",
       "      <td>8</td>\n",
       "      <td>11</td>\n",
       "      <td>33</td>\n",
       "    </tr>\n",
       "    <tr>\n",
       "      <td>...</td>\n",
       "      <td>...</td>\n",
       "      <td>...</td>\n",
       "      <td>...</td>\n",
       "    </tr>\n",
       "    <tr>\n",
       "      <td>119879</td>\n",
       "      <td>8</td>\n",
       "      <td>30</td>\n",
       "      <td>35</td>\n",
       "    </tr>\n",
       "    <tr>\n",
       "      <td>259178</td>\n",
       "      <td>8</td>\n",
       "      <td>28</td>\n",
       "      <td>35</td>\n",
       "    </tr>\n",
       "    <tr>\n",
       "      <td>131932</td>\n",
       "      <td>8</td>\n",
       "      <td>18</td>\n",
       "      <td>34</td>\n",
       "    </tr>\n",
       "    <tr>\n",
       "      <td>146867</td>\n",
       "      <td>8</td>\n",
       "      <td>26</td>\n",
       "      <td>35</td>\n",
       "    </tr>\n",
       "    <tr>\n",
       "      <td>121958</td>\n",
       "      <td>8</td>\n",
       "      <td>15</td>\n",
       "      <td>33</td>\n",
       "    </tr>\n",
       "  </tbody>\n",
       "</table>\n",
       "<p>230337 rows × 3 columns</p>\n",
       "</div>"
      ],
      "text/plain": [
       "        Month  Day  week\n",
       "43057       8    1    31\n",
       "279493      8    7    32\n",
       "251575      8   12    33\n",
       "278759      8   10    33\n",
       "33649       8   11    33\n",
       "...       ...  ...   ...\n",
       "119879      8   30    35\n",
       "259178      8   28    35\n",
       "131932      8   18    34\n",
       "146867      8   26    35\n",
       "121958      8   15    33\n",
       "\n",
       "[230337 rows x 3 columns]"
      ]
     },
     "execution_count": 314,
     "metadata": {},
     "output_type": "execute_result"
    }
   ],
   "source": [
    "X_train"
   ]
  },
  {
   "cell_type": "code",
   "execution_count": 256,
   "metadata": {},
   "outputs": [
    {
     "data": {
      "text/html": [
       "<div>\n",
       "<style scoped>\n",
       "    .dataframe tbody tr th:only-of-type {\n",
       "        vertical-align: middle;\n",
       "    }\n",
       "\n",
       "    .dataframe tbody tr th {\n",
       "        vertical-align: top;\n",
       "    }\n",
       "\n",
       "    .dataframe thead th {\n",
       "        text-align: right;\n",
       "    }\n",
       "</style>\n",
       "<table border=\"1\" class=\"dataframe\">\n",
       "  <thead>\n",
       "    <tr style=\"text-align: right;\">\n",
       "      <th></th>\n",
       "      <th>Date</th>\n",
       "      <th>NET_AMOUNT</th>\n",
       "      <th>Year</th>\n",
       "      <th>Month</th>\n",
       "      <th>Day</th>\n",
       "      <th>week</th>\n",
       "    </tr>\n",
       "  </thead>\n",
       "  <tbody>\n",
       "    <tr>\n",
       "      <td>43057</td>\n",
       "      <td>2020-08-01</td>\n",
       "      <td>239.00</td>\n",
       "      <td>2020</td>\n",
       "      <td>8</td>\n",
       "      <td>1</td>\n",
       "      <td>31</td>\n",
       "    </tr>\n",
       "    <tr>\n",
       "      <td>279493</td>\n",
       "      <td>2020-08-07</td>\n",
       "      <td>0.86</td>\n",
       "      <td>2020</td>\n",
       "      <td>8</td>\n",
       "      <td>7</td>\n",
       "      <td>32</td>\n",
       "    </tr>\n",
       "    <tr>\n",
       "      <td>251575</td>\n",
       "      <td>2020-08-12</td>\n",
       "      <td>1492.59</td>\n",
       "      <td>2020</td>\n",
       "      <td>8</td>\n",
       "      <td>12</td>\n",
       "      <td>33</td>\n",
       "    </tr>\n",
       "    <tr>\n",
       "      <td>278759</td>\n",
       "      <td>2020-08-10</td>\n",
       "      <td>2799.20</td>\n",
       "      <td>2020</td>\n",
       "      <td>8</td>\n",
       "      <td>10</td>\n",
       "      <td>33</td>\n",
       "    </tr>\n",
       "    <tr>\n",
       "      <td>33649</td>\n",
       "      <td>2020-08-11</td>\n",
       "      <td>550.00</td>\n",
       "      <td>2020</td>\n",
       "      <td>8</td>\n",
       "      <td>11</td>\n",
       "      <td>33</td>\n",
       "    </tr>\n",
       "    <tr>\n",
       "      <td>...</td>\n",
       "      <td>...</td>\n",
       "      <td>...</td>\n",
       "      <td>...</td>\n",
       "      <td>...</td>\n",
       "      <td>...</td>\n",
       "      <td>...</td>\n",
       "    </tr>\n",
       "    <tr>\n",
       "      <td>119879</td>\n",
       "      <td>2020-08-30</td>\n",
       "      <td>1799.00</td>\n",
       "      <td>2020</td>\n",
       "      <td>8</td>\n",
       "      <td>30</td>\n",
       "      <td>35</td>\n",
       "    </tr>\n",
       "    <tr>\n",
       "      <td>259178</td>\n",
       "      <td>2020-08-28</td>\n",
       "      <td>1499.00</td>\n",
       "      <td>2020</td>\n",
       "      <td>8</td>\n",
       "      <td>28</td>\n",
       "      <td>35</td>\n",
       "    </tr>\n",
       "    <tr>\n",
       "      <td>131932</td>\n",
       "      <td>2020-08-18</td>\n",
       "      <td>1658.16</td>\n",
       "      <td>2020</td>\n",
       "      <td>8</td>\n",
       "      <td>18</td>\n",
       "      <td>34</td>\n",
       "    </tr>\n",
       "    <tr>\n",
       "      <td>146867</td>\n",
       "      <td>2020-08-26</td>\n",
       "      <td>1961.41</td>\n",
       "      <td>2020</td>\n",
       "      <td>8</td>\n",
       "      <td>26</td>\n",
       "      <td>35</td>\n",
       "    </tr>\n",
       "    <tr>\n",
       "      <td>121958</td>\n",
       "      <td>2020-08-15</td>\n",
       "      <td>1999.00</td>\n",
       "      <td>2020</td>\n",
       "      <td>8</td>\n",
       "      <td>15</td>\n",
       "      <td>33</td>\n",
       "    </tr>\n",
       "  </tbody>\n",
       "</table>\n",
       "<p>230337 rows × 6 columns</p>\n",
       "</div>"
      ],
      "text/plain": [
       "             Date  NET_AMOUNT  Year  Month  Day  week\n",
       "43057  2020-08-01      239.00  2020      8    1    31\n",
       "279493 2020-08-07        0.86  2020      8    7    32\n",
       "251575 2020-08-12     1492.59  2020      8   12    33\n",
       "278759 2020-08-10     2799.20  2020      8   10    33\n",
       "33649  2020-08-11      550.00  2020      8   11    33\n",
       "...           ...         ...   ...    ...  ...   ...\n",
       "119879 2020-08-30     1799.00  2020      8   30    35\n",
       "259178 2020-08-28     1499.00  2020      8   28    35\n",
       "131932 2020-08-18     1658.16  2020      8   18    34\n",
       "146867 2020-08-26     1961.41  2020      8   26    35\n",
       "121958 2020-08-15     1999.00  2020      8   15    33\n",
       "\n",
       "[230337 rows x 6 columns]"
      ]
     },
     "execution_count": 256,
     "metadata": {},
     "output_type": "execute_result"
    }
   ],
   "source": [
    "X_train"
   ]
  },
  {
   "cell_type": "code",
   "execution_count": 321,
   "metadata": {},
   "outputs": [
    {
     "name": "stdout",
     "output_type": "stream",
     "text": [
      "<class 'pandas.core.frame.DataFrame'>\n",
      "Int64Index: 230337 entries, 43057 to 121958\n",
      "Data columns (total 3 columns):\n",
      "Month    230337 non-null int64\n",
      "Day      230337 non-null int64\n",
      "week     230337 non-null int64\n",
      "dtypes: int64(3)\n",
      "memory usage: 7.0 MB\n"
     ]
    }
   ],
   "source": [
    "X_train.info()"
   ]
  },
  {
   "cell_type": "code",
   "execution_count": 345,
   "metadata": {},
   "outputs": [
    {
     "data": {
      "text/plain": [
       "Year     False\n",
       "Month    False\n",
       "Day      False\n",
       "week     False\n",
       "dtype: bool"
      ]
     },
     "execution_count": 345,
     "metadata": {},
     "output_type": "execute_result"
    }
   ],
   "source": [
    "X_train.isnull().any()"
   ]
  },
  {
   "cell_type": "code",
   "execution_count": 346,
   "metadata": {},
   "outputs": [
    {
     "name": "stdout",
     "output_type": "stream",
     "text": [
      "[15:53:52] WARNING: C:/Users/Administrator/workspace/xgboost-win64_release_1.2.0/src/objective/regression_obj.cu:174: reg:linear is now deprecated in favor of reg:squarederror.\n",
      "[0]\ttrain-rmse:1599.32788\ttest-rmse:1595.16565\n",
      "Multiple eval metrics have been passed: 'test-rmse' will be used for early stopping.\n",
      "\n",
      "Will train until test-rmse hasn't improved in 50 rounds.\n",
      "[1]\ttrain-rmse:1591.80041\ttest-rmse:1587.62830\n",
      "[2]\ttrain-rmse:1584.37769\ttest-rmse:1580.21948\n",
      "[3]\ttrain-rmse:1577.05151\ttest-rmse:1572.89001\n",
      "[4]\ttrain-rmse:1569.91748\ttest-rmse:1565.67737\n",
      "[5]\ttrain-rmse:1562.83166\ttest-rmse:1558.60864\n",
      "[6]\ttrain-rmse:1555.85413\ttest-rmse:1551.64941\n",
      "[7]\ttrain-rmse:1549.03967\ttest-rmse:1544.77087\n",
      "[8]\ttrain-rmse:1542.26184\ttest-rmse:1538.02112\n",
      "[9]\ttrain-rmse:1535.64465\ttest-rmse:1531.35815\n",
      "[10]\ttrain-rmse:1529.06519\ttest-rmse:1524.80701\n",
      "[11]\ttrain-rmse:1522.66931\ttest-rmse:1518.37048\n",
      "[12]\ttrain-rmse:1516.32507\ttest-rmse:1512.02185\n",
      "[13]\ttrain-rmse:1510.07519\ttest-rmse:1505.76562\n",
      "[14]\ttrain-rmse:1503.94446\ttest-rmse:1499.60767\n",
      "[15]\ttrain-rmse:1497.89465\ttest-rmse:1493.55444\n",
      "[16]\ttrain-rmse:1491.92566\ttest-rmse:1487.58130\n",
      "[17]\ttrain-rmse:1486.09424\ttest-rmse:1481.73804\n",
      "[18]\ttrain-rmse:1480.34680\ttest-rmse:1475.97559\n",
      "[19]\ttrain-rmse:1474.67456\ttest-rmse:1470.29981\n",
      "[20]\ttrain-rmse:1469.09119\ttest-rmse:1464.71216\n",
      "[21]\ttrain-rmse:1463.59924\ttest-rmse:1459.20752\n",
      "[22]\ttrain-rmse:1458.20435\ttest-rmse:1453.80884\n",
      "[23]\ttrain-rmse:1452.91187\ttest-rmse:1448.50354\n",
      "[24]\ttrain-rmse:1447.69324\ttest-rmse:1443.27869\n",
      "[25]\ttrain-rmse:1442.56360\ttest-rmse:1438.13294\n",
      "[26]\ttrain-rmse:1437.51379\ttest-rmse:1433.07666\n",
      "[27]\ttrain-rmse:1432.53613\ttest-rmse:1428.08533\n",
      "[28]\ttrain-rmse:1427.64600\ttest-rmse:1423.18640\n",
      "[29]\ttrain-rmse:1422.85413\ttest-rmse:1418.38660\n",
      "[30]\ttrain-rmse:1418.13806\ttest-rmse:1413.66113\n",
      "[31]\ttrain-rmse:1413.49829\ttest-rmse:1409.00915\n",
      "[32]\ttrain-rmse:1408.91565\ttest-rmse:1404.42188\n",
      "[33]\ttrain-rmse:1404.41919\ttest-rmse:1399.91650\n",
      "[34]\ttrain-rmse:1400.01209\ttest-rmse:1395.50317\n",
      "[35]\ttrain-rmse:1395.68628\ttest-rmse:1391.17065\n",
      "[36]\ttrain-rmse:1391.43164\ttest-rmse:1386.90344\n",
      "[37]\ttrain-rmse:1387.23206\ttest-rmse:1382.70508\n",
      "[38]\ttrain-rmse:1383.10901\ttest-rmse:1378.56836\n",
      "[39]\ttrain-rmse:1379.05102\ttest-rmse:1374.50391\n",
      "[40]\ttrain-rmse:1375.06177\ttest-rmse:1370.51086\n",
      "[41]\ttrain-rmse:1371.14038\ttest-rmse:1366.57983\n",
      "[42]\ttrain-rmse:1367.28162\ttest-rmse:1362.71436\n",
      "[43]\ttrain-rmse:1363.49939\ttest-rmse:1358.92407\n",
      "[44]\ttrain-rmse:1359.78210\ttest-rmse:1355.19641\n",
      "[45]\ttrain-rmse:1356.11816\ttest-rmse:1351.52783\n",
      "[46]\ttrain-rmse:1352.51074\ttest-rmse:1347.91675\n",
      "[47]\ttrain-rmse:1348.98816\ttest-rmse:1344.38550\n",
      "[48]\ttrain-rmse:1345.51123\ttest-rmse:1340.90393\n",
      "[49]\ttrain-rmse:1342.10901\ttest-rmse:1337.49146\n",
      "[50]\ttrain-rmse:1338.76977\ttest-rmse:1334.15173\n",
      "[51]\ttrain-rmse:1335.47754\ttest-rmse:1330.85437\n",
      "[52]\ttrain-rmse:1332.25427\ttest-rmse:1327.61865\n",
      "[53]\ttrain-rmse:1329.07959\ttest-rmse:1324.44800\n",
      "[54]\ttrain-rmse:1325.94824\ttest-rmse:1321.31030\n",
      "[55]\ttrain-rmse:1322.87878\ttest-rmse:1318.23657\n",
      "[56]\ttrain-rmse:1319.87585\ttest-rmse:1315.22046\n",
      "[57]\ttrain-rmse:1316.91187\ttest-rmse:1312.25598\n",
      "[58]\ttrain-rmse:1314.00769\ttest-rmse:1309.34326\n",
      "[59]\ttrain-rmse:1311.16113\ttest-rmse:1306.49146\n",
      "[60]\ttrain-rmse:1308.35254\ttest-rmse:1303.67835\n",
      "[61]\ttrain-rmse:1305.60742\ttest-rmse:1300.92737\n",
      "[62]\ttrain-rmse:1302.90759\ttest-rmse:1298.22961\n",
      "[63]\ttrain-rmse:1300.25842\ttest-rmse:1295.57153\n",
      "[64]\ttrain-rmse:1297.65540\ttest-rmse:1292.96008\n",
      "[65]\ttrain-rmse:1295.08374\ttest-rmse:1290.38867\n",
      "[66]\ttrain-rmse:1292.56958\ttest-rmse:1287.86877\n",
      "[67]\ttrain-rmse:1290.10303\ttest-rmse:1285.39868\n",
      "[68]\ttrain-rmse:1287.67407\ttest-rmse:1282.96423\n",
      "[69]\ttrain-rmse:1285.28149\ttest-rmse:1280.57666\n",
      "[70]\ttrain-rmse:1282.94604\ttest-rmse:1278.22607\n",
      "[71]\ttrain-rmse:1280.65869\ttest-rmse:1275.93567\n",
      "[72]\ttrain-rmse:1278.40027\ttest-rmse:1273.68103\n",
      "[73]\ttrain-rmse:1276.19336\ttest-rmse:1271.46204\n",
      "[74]\ttrain-rmse:1274.02563\ttest-rmse:1269.28845\n",
      "[75]\ttrain-rmse:1271.88257\ttest-rmse:1267.14831\n",
      "[76]\ttrain-rmse:1269.77759\ttest-rmse:1265.03943\n",
      "[77]\ttrain-rmse:1267.73303\ttest-rmse:1262.98804\n",
      "[78]\ttrain-rmse:1265.71423\ttest-rmse:1260.97034\n",
      "[79]\ttrain-rmse:1263.74414\ttest-rmse:1258.99487\n",
      "[80]\ttrain-rmse:1261.79456\ttest-rmse:1257.05200\n",
      "[81]\ttrain-rmse:1259.88611\ttest-rmse:1255.13342\n",
      "[82]\ttrain-rmse:1258.00354\ttest-rmse:1253.24853\n",
      "[83]\ttrain-rmse:1256.16248\ttest-rmse:1251.39990\n",
      "[84]\ttrain-rmse:1254.33618\ttest-rmse:1249.58057\n",
      "[85]\ttrain-rmse:1252.56750\ttest-rmse:1247.80054\n",
      "[86]\ttrain-rmse:1250.82459\ttest-rmse:1246.05737\n",
      "[87]\ttrain-rmse:1249.11035\ttest-rmse:1244.34412\n",
      "[88]\ttrain-rmse:1247.43945\ttest-rmse:1242.66602\n",
      "[89]\ttrain-rmse:1245.79309\ttest-rmse:1241.02295\n",
      "[90]\ttrain-rmse:1244.17602\ttest-rmse:1239.40112\n",
      "[91]\ttrain-rmse:1242.59570\ttest-rmse:1237.82044\n",
      "[92]\ttrain-rmse:1241.04346\ttest-rmse:1236.26404\n",
      "[93]\ttrain-rmse:1239.51245\ttest-rmse:1234.73023\n",
      "[94]\ttrain-rmse:1238.01086\ttest-rmse:1233.22864\n",
      "[95]\ttrain-rmse:1236.54040\ttest-rmse:1231.75464\n",
      "[96]\ttrain-rmse:1235.09180\ttest-rmse:1230.30750\n",
      "[97]\ttrain-rmse:1233.68262\ttest-rmse:1228.89124\n",
      "[98]\ttrain-rmse:1232.28748\ttest-rmse:1227.49719\n",
      "[99]\ttrain-rmse:1230.92175\ttest-rmse:1226.13098\n",
      "[100]\ttrain-rmse:1229.60413\ttest-rmse:1224.80286\n",
      "[101]\ttrain-rmse:1228.29273\ttest-rmse:1223.49658\n",
      "[102]\ttrain-rmse:1227.00671\ttest-rmse:1222.20898\n",
      "[103]\ttrain-rmse:1225.74731\ttest-rmse:1220.94568\n",
      "[104]\ttrain-rmse:1224.50562\ttest-rmse:1219.70911\n",
      "[105]\ttrain-rmse:1223.29175\ttest-rmse:1218.48523\n",
      "[106]\ttrain-rmse:1222.10156\ttest-rmse:1217.29858\n",
      "[107]\ttrain-rmse:1220.93335\ttest-rmse:1216.12854\n",
      "[108]\ttrain-rmse:1219.78223\ttest-rmse:1214.97827\n",
      "[109]\ttrain-rmse:1218.65808\ttest-rmse:1213.84900\n",
      "[110]\ttrain-rmse:1217.55408\ttest-rmse:1212.74402\n",
      "[111]\ttrain-rmse:1216.46985\ttest-rmse:1211.65979\n",
      "[112]\ttrain-rmse:1215.40527\ttest-rmse:1210.59583\n",
      "[113]\ttrain-rmse:1214.36621\ttest-rmse:1209.55286\n",
      "[114]\ttrain-rmse:1213.34814\ttest-rmse:1208.53345\n",
      "[115]\ttrain-rmse:1212.33850\ttest-rmse:1207.52502\n",
      "[116]\ttrain-rmse:1211.34851\ttest-rmse:1206.53882\n",
      "[117]\ttrain-rmse:1210.39246\ttest-rmse:1205.57922\n",
      "[118]\ttrain-rmse:1209.45178\ttest-rmse:1204.63989\n",
      "[119]\ttrain-rmse:1208.52417\ttest-rmse:1203.71301\n",
      "[120]\ttrain-rmse:1207.61755\ttest-rmse:1202.80310\n",
      "[121]\ttrain-rmse:1206.72717\ttest-rmse:1201.90686\n",
      "[122]\ttrain-rmse:1205.85681\ttest-rmse:1201.03772\n",
      "[123]\ttrain-rmse:1204.99487\ttest-rmse:1200.17822\n",
      "[124]\ttrain-rmse:1204.15991\ttest-rmse:1199.34399\n",
      "[125]\ttrain-rmse:1203.33423\ttest-rmse:1198.51599\n",
      "[126]\ttrain-rmse:1202.52551\ttest-rmse:1197.70251\n",
      "[127]\ttrain-rmse:1201.72107\ttest-rmse:1196.90454\n",
      "[128]\ttrain-rmse:1200.94385\ttest-rmse:1196.12659\n",
      "[129]\ttrain-rmse:1200.18274\ttest-rmse:1195.36218\n",
      "[130]\ttrain-rmse:1199.42969\ttest-rmse:1194.60962\n",
      "[131]\ttrain-rmse:1198.70056\ttest-rmse:1193.88135\n",
      "[132]\ttrain-rmse:1197.97974\ttest-rmse:1193.16052\n",
      "[133]\ttrain-rmse:1197.27429\ttest-rmse:1192.45776\n",
      "[134]\ttrain-rmse:1196.58826\ttest-rmse:1191.76794\n",
      "[135]\ttrain-rmse:1195.90918\ttest-rmse:1191.08545\n",
      "[136]\ttrain-rmse:1195.24927\ttest-rmse:1190.42773\n",
      "[137]\ttrain-rmse:1194.59265\ttest-rmse:1189.76965\n",
      "[138]\ttrain-rmse:1193.94739\ttest-rmse:1189.12598\n",
      "[139]\ttrain-rmse:1193.31738\ttest-rmse:1188.49670\n",
      "[140]\ttrain-rmse:1192.69092\ttest-rmse:1187.87927\n",
      "[141]\ttrain-rmse:1192.09338\ttest-rmse:1187.27258\n",
      "[142]\ttrain-rmse:1191.50464\ttest-rmse:1186.68274\n",
      "[143]\ttrain-rmse:1190.92285\ttest-rmse:1186.10327\n",
      "[144]\ttrain-rmse:1190.34753\ttest-rmse:1185.52844\n",
      "[145]\ttrain-rmse:1189.78784\ttest-rmse:1184.96973\n",
      "[146]\ttrain-rmse:1189.23779\ttest-rmse:1184.41858\n",
      "[147]\ttrain-rmse:1188.69898\ttest-rmse:1183.87769\n",
      "[148]\ttrain-rmse:1188.17151\ttest-rmse:1183.35095\n",
      "[149]\ttrain-rmse:1187.64868\ttest-rmse:1182.83044\n",
      "[150]\ttrain-rmse:1187.14563\ttest-rmse:1182.32373\n",
      "[151]\ttrain-rmse:1186.64221\ttest-rmse:1181.82263\n",
      "[152]\ttrain-rmse:1186.14819\ttest-rmse:1181.32910\n",
      "[153]\ttrain-rmse:1185.66882\ttest-rmse:1180.85156\n",
      "[154]\ttrain-rmse:1185.20019\ttest-rmse:1180.38269\n",
      "[155]\ttrain-rmse:1184.74316\ttest-rmse:1179.92712\n",
      "[156]\ttrain-rmse:1184.29492\ttest-rmse:1179.47729\n",
      "[157]\ttrain-rmse:1183.85071\ttest-rmse:1179.03345\n",
      "[158]\ttrain-rmse:1183.41773\ttest-rmse:1178.60242\n",
      "[159]\ttrain-rmse:1182.99451\ttest-rmse:1178.17578\n",
      "[160]\ttrain-rmse:1182.57471\ttest-rmse:1177.75952\n",
      "[161]\ttrain-rmse:1182.16760\ttest-rmse:1177.35193\n",
      "[162]\ttrain-rmse:1181.75891\ttest-rmse:1176.94665\n"
     ]
    },
    {
     "name": "stdout",
     "output_type": "stream",
     "text": [
      "[163]\ttrain-rmse:1181.37219\ttest-rmse:1176.55774\n",
      "[164]\ttrain-rmse:1180.99048\ttest-rmse:1176.17688\n",
      "[165]\ttrain-rmse:1180.61279\ttest-rmse:1175.80029\n",
      "[166]\ttrain-rmse:1180.24622\ttest-rmse:1175.43372\n",
      "[167]\ttrain-rmse:1179.88196\ttest-rmse:1175.07275\n",
      "[168]\ttrain-rmse:1179.52417\ttest-rmse:1174.71265\n",
      "[169]\ttrain-rmse:1179.17383\ttest-rmse:1174.36621\n",
      "[170]\ttrain-rmse:1178.83362\ttest-rmse:1174.02319\n",
      "[171]\ttrain-rmse:1178.49976\ttest-rmse:1173.68774\n",
      "[172]\ttrain-rmse:1178.17065\ttest-rmse:1173.35901\n",
      "[173]\ttrain-rmse:1177.84924\ttest-rmse:1173.03906\n",
      "[174]\ttrain-rmse:1177.53198\ttest-rmse:1172.72559\n",
      "[175]\ttrain-rmse:1177.22363\ttest-rmse:1172.41589\n",
      "[176]\ttrain-rmse:1176.92688\ttest-rmse:1172.11816\n",
      "[177]\ttrain-rmse:1176.63171\ttest-rmse:1171.82324\n",
      "[178]\ttrain-rmse:1176.33813\ttest-rmse:1171.53101\n",
      "[179]\ttrain-rmse:1176.05542\ttest-rmse:1171.24768\n",
      "[180]\ttrain-rmse:1175.77258\ttest-rmse:1170.97022\n",
      "[181]\ttrain-rmse:1175.49292\ttest-rmse:1170.69568\n",
      "[182]\ttrain-rmse:1175.22790\ttest-rmse:1170.42651\n",
      "[183]\ttrain-rmse:1174.97083\ttest-rmse:1170.16638\n",
      "[184]\ttrain-rmse:1174.70752\ttest-rmse:1169.90833\n",
      "[185]\ttrain-rmse:1174.45581\ttest-rmse:1169.65283\n",
      "[186]\ttrain-rmse:1174.20422\ttest-rmse:1169.40405\n",
      "[187]\ttrain-rmse:1173.96326\ttest-rmse:1169.16150\n",
      "[188]\ttrain-rmse:1173.72083\ttest-rmse:1168.92566\n",
      "[189]\ttrain-rmse:1173.48816\ttest-rmse:1168.68897\n",
      "[190]\ttrain-rmse:1173.25403\ttest-rmse:1168.45960\n",
      "[191]\ttrain-rmse:1173.02808\ttest-rmse:1168.23218\n",
      "[192]\ttrain-rmse:1172.81018\ttest-rmse:1168.01294\n",
      "[193]\ttrain-rmse:1172.59009\ttest-rmse:1167.79846\n",
      "[194]\ttrain-rmse:1172.37793\ttest-rmse:1167.58813\n",
      "[195]\ttrain-rmse:1172.17310\ttest-rmse:1167.38123\n",
      "[196]\ttrain-rmse:1171.96716\ttest-rmse:1167.17554\n",
      "[197]\ttrain-rmse:1171.76526\ttest-rmse:1166.97424\n",
      "[198]\ttrain-rmse:1171.56799\ttest-rmse:1166.77905\n",
      "[199]\ttrain-rmse:1171.37769\ttest-rmse:1166.58850\n",
      "[200]\ttrain-rmse:1171.18958\ttest-rmse:1166.40186\n",
      "[201]\ttrain-rmse:1171.00720\ttest-rmse:1166.21533\n",
      "[202]\ttrain-rmse:1170.82532\ttest-rmse:1166.03699\n",
      "[203]\ttrain-rmse:1170.64758\ttest-rmse:1165.86096\n",
      "[204]\ttrain-rmse:1170.47437\ttest-rmse:1165.68689\n",
      "[205]\ttrain-rmse:1170.30701\ttest-rmse:1165.51807\n",
      "[206]\ttrain-rmse:1170.13818\ttest-rmse:1165.35107\n",
      "[207]\ttrain-rmse:1169.97620\ttest-rmse:1165.18689\n",
      "[208]\ttrain-rmse:1169.81409\ttest-rmse:1165.02612\n",
      "[209]\ttrain-rmse:1169.65759\ttest-rmse:1164.86841\n",
      "[210]\ttrain-rmse:1169.50391\ttest-rmse:1164.71680\n",
      "[211]\ttrain-rmse:1169.34656\ttest-rmse:1164.56567\n",
      "[212]\ttrain-rmse:1169.20374\ttest-rmse:1164.41992\n",
      "[213]\ttrain-rmse:1169.05713\ttest-rmse:1164.27600\n",
      "[214]\ttrain-rmse:1168.91260\ttest-rmse:1164.13196\n",
      "[215]\ttrain-rmse:1168.77637\ttest-rmse:1163.99536\n",
      "[216]\ttrain-rmse:1168.63916\ttest-rmse:1163.85889\n",
      "[217]\ttrain-rmse:1168.50891\ttest-rmse:1163.72607\n",
      "[218]\ttrain-rmse:1168.37488\ttest-rmse:1163.59497\n",
      "[219]\ttrain-rmse:1168.24390\ttest-rmse:1163.46680\n",
      "[220]\ttrain-rmse:1168.11853\ttest-rmse:1163.33948\n",
      "[221]\ttrain-rmse:1167.99768\ttest-rmse:1163.21692\n",
      "[222]\ttrain-rmse:1167.87134\ttest-rmse:1163.09351\n",
      "[223]\ttrain-rmse:1167.75256\ttest-rmse:1162.97351\n",
      "[224]\ttrain-rmse:1167.62964\ttest-rmse:1162.85779\n",
      "[225]\ttrain-rmse:1167.51575\ttest-rmse:1162.74206\n",
      "[226]\ttrain-rmse:1167.40393\ttest-rmse:1162.63086\n",
      "[227]\ttrain-rmse:1167.28992\ttest-rmse:1162.51843\n",
      "[228]\ttrain-rmse:1167.18420\ttest-rmse:1162.41052\n",
      "[229]\ttrain-rmse:1167.07764\ttest-rmse:1162.30505\n",
      "[230]\ttrain-rmse:1166.97815\ttest-rmse:1162.20532\n",
      "[231]\ttrain-rmse:1166.87622\ttest-rmse:1162.10547\n",
      "[232]\ttrain-rmse:1166.77234\ttest-rmse:1162.00586\n",
      "[233]\ttrain-rmse:1166.67932\ttest-rmse:1161.91125\n",
      "[234]\ttrain-rmse:1166.58386\ttest-rmse:1161.81531\n",
      "[235]\ttrain-rmse:1166.49146\ttest-rmse:1161.72314\n",
      "[236]\ttrain-rmse:1166.39917\ttest-rmse:1161.63318\n",
      "[237]\ttrain-rmse:1166.31152\ttest-rmse:1161.54443\n",
      "[238]\ttrain-rmse:1166.22083\ttest-rmse:1161.45508\n",
      "[239]\ttrain-rmse:1166.13196\ttest-rmse:1161.37036\n",
      "[240]\ttrain-rmse:1166.04834\ttest-rmse:1161.28711\n",
      "[241]\ttrain-rmse:1165.96472\ttest-rmse:1161.20386\n",
      "[242]\ttrain-rmse:1165.88232\ttest-rmse:1161.12341\n",
      "[243]\ttrain-rmse:1165.80225\ttest-rmse:1161.04443\n",
      "[244]\ttrain-rmse:1165.72778\ttest-rmse:1160.96436\n",
      "[245]\ttrain-rmse:1165.64477\ttest-rmse:1160.88904\n",
      "[246]\ttrain-rmse:1165.57373\ttest-rmse:1160.81238\n",
      "[247]\ttrain-rmse:1165.50037\ttest-rmse:1160.74219\n",
      "[248]\ttrain-rmse:1165.43127\ttest-rmse:1160.67041\n",
      "[249]\ttrain-rmse:1165.35486\ttest-rmse:1160.60059\n",
      "[250]\ttrain-rmse:1165.28870\ttest-rmse:1160.53198\n",
      "[251]\ttrain-rmse:1165.21814\ttest-rmse:1160.46399\n",
      "[252]\ttrain-rmse:1165.14929\ttest-rmse:1160.39880\n",
      "[253]\ttrain-rmse:1165.09021\ttest-rmse:1160.33142\n",
      "[254]\ttrain-rmse:1165.02112\ttest-rmse:1160.26892\n",
      "[255]\ttrain-rmse:1164.95374\ttest-rmse:1160.20544\n",
      "[256]\ttrain-rmse:1164.89124\ttest-rmse:1160.14575\n",
      "[257]\ttrain-rmse:1164.83960\ttest-rmse:1160.08496\n",
      "[258]\ttrain-rmse:1164.77588\ttest-rmse:1160.02600\n",
      "[259]\ttrain-rmse:1164.72266\ttest-rmse:1159.97083\n",
      "[260]\ttrain-rmse:1164.66736\ttest-rmse:1159.91638\n",
      "[261]\ttrain-rmse:1164.61157\ttest-rmse:1159.86011\n",
      "[262]\ttrain-rmse:1164.55335\ttest-rmse:1159.80481\n",
      "[263]\ttrain-rmse:1164.49951\ttest-rmse:1159.75024\n",
      "[264]\ttrain-rmse:1164.44714\ttest-rmse:1159.69898\n",
      "[265]\ttrain-rmse:1164.39746\ttest-rmse:1159.65076\n",
      "[266]\ttrain-rmse:1164.34583\ttest-rmse:1159.60083\n",
      "[267]\ttrain-rmse:1164.29614\ttest-rmse:1159.55347\n",
      "[268]\ttrain-rmse:1164.24622\ttest-rmse:1159.50671\n",
      "[269]\ttrain-rmse:1164.20459\ttest-rmse:1159.45776\n",
      "[270]\ttrain-rmse:1164.15601\ttest-rmse:1159.41077\n",
      "[271]\ttrain-rmse:1164.10730\ttest-rmse:1159.36621\n",
      "[272]\ttrain-rmse:1164.06531\ttest-rmse:1159.32239\n",
      "[273]\ttrain-rmse:1164.02454\ttest-rmse:1159.27978\n",
      "[274]\ttrain-rmse:1163.98023\ttest-rmse:1159.23828\n",
      "[275]\ttrain-rmse:1163.94141\ttest-rmse:1159.19849\n",
      "[276]\ttrain-rmse:1163.89624\ttest-rmse:1159.15894\n",
      "[277]\ttrain-rmse:1163.85742\ttest-rmse:1159.11816\n",
      "[278]\ttrain-rmse:1163.81860\ttest-rmse:1159.07739\n",
      "[279]\ttrain-rmse:1163.78003\ttest-rmse:1159.03967\n",
      "[280]\ttrain-rmse:1163.74219\ttest-rmse:1159.00317\n",
      "[281]\ttrain-rmse:1163.70190\ttest-rmse:1158.96472\n",
      "[282]\ttrain-rmse:1163.66882\ttest-rmse:1158.92737\n",
      "[283]\ttrain-rmse:1163.63196\ttest-rmse:1158.89575\n",
      "[284]\ttrain-rmse:1163.59131\ttest-rmse:1158.86133\n",
      "[285]\ttrain-rmse:1163.56592\ttest-rmse:1158.82422\n",
      "[286]\ttrain-rmse:1163.52734\ttest-rmse:1158.79150\n",
      "[287]\ttrain-rmse:1163.49463\ttest-rmse:1158.76025\n",
      "[288]\ttrain-rmse:1163.46643\ttest-rmse:1158.72986\n",
      "[289]\ttrain-rmse:1163.43225\ttest-rmse:1158.69824\n",
      "[290]\ttrain-rmse:1163.39697\ttest-rmse:1158.66760\n",
      "[291]\ttrain-rmse:1163.36682\ttest-rmse:1158.63782\n",
      "[292]\ttrain-rmse:1163.34241\ttest-rmse:1158.60754\n",
      "[293]\ttrain-rmse:1163.30945\ttest-rmse:1158.57837\n",
      "[294]\ttrain-rmse:1163.28479\ttest-rmse:1158.54932\n",
      "[295]\ttrain-rmse:1163.25720\ttest-rmse:1158.52527\n",
      "[296]\ttrain-rmse:1163.22754\ttest-rmse:1158.49634\n",
      "[297]\ttrain-rmse:1163.20056\ttest-rmse:1158.47107\n",
      "[298]\ttrain-rmse:1163.17419\ttest-rmse:1158.44641\n",
      "[299]\ttrain-rmse:1163.14941\ttest-rmse:1158.41907\n",
      "[300]\ttrain-rmse:1163.12390\ttest-rmse:1158.39441\n",
      "[301]\ttrain-rmse:1163.10010\ttest-rmse:1158.37244\n",
      "[302]\ttrain-rmse:1163.07459\ttest-rmse:1158.34583\n",
      "[303]\ttrain-rmse:1163.04895\ttest-rmse:1158.32214\n",
      "[304]\ttrain-rmse:1163.02905\ttest-rmse:1158.29981\n",
      "[305]\ttrain-rmse:1163.00537\ttest-rmse:1158.27734\n",
      "[306]\ttrain-rmse:1162.97974\ttest-rmse:1158.25427\n",
      "[307]\ttrain-rmse:1162.96130\ttest-rmse:1158.23254\n",
      "[308]\ttrain-rmse:1162.93640\ttest-rmse:1158.21277\n",
      "[309]\ttrain-rmse:1162.91882\ttest-rmse:1158.19141\n",
      "[310]\ttrain-rmse:1162.89636\ttest-rmse:1158.17017\n",
      "[311]\ttrain-rmse:1162.87659\ttest-rmse:1158.15015\n",
      "[312]\ttrain-rmse:1162.85474\ttest-rmse:1158.13025\n",
      "[313]\ttrain-rmse:1162.84167\ttest-rmse:1158.11218\n",
      "[314]\ttrain-rmse:1162.81519\ttest-rmse:1158.09387\n",
      "[315]\ttrain-rmse:1162.80249\ttest-rmse:1158.07459\n",
      "[316]\ttrain-rmse:1162.77881\ttest-rmse:1158.05408\n",
      "[317]\ttrain-rmse:1162.76001\ttest-rmse:1158.03821\n",
      "[318]\ttrain-rmse:1162.74255\ttest-rmse:1158.02112\n",
      "[319]\ttrain-rmse:1162.71875\ttest-rmse:1158.00183\n",
      "[320]\ttrain-rmse:1162.70764\ttest-rmse:1157.98462\n",
      "[321]\ttrain-rmse:1162.68970\ttest-rmse:1157.96814\n",
      "[322]\ttrain-rmse:1162.67139\ttest-rmse:1157.95056\n",
      "[323]\ttrain-rmse:1162.65784\ttest-rmse:1157.93750\n",
      "[324]\ttrain-rmse:1162.64185\ttest-rmse:1157.92151\n",
      "[325]\ttrain-rmse:1162.62781\ttest-rmse:1157.90576\n",
      "[326]\ttrain-rmse:1162.60950\ttest-rmse:1157.89356\n",
      "[327]\ttrain-rmse:1162.59619\ttest-rmse:1157.87744\n",
      "[328]\ttrain-rmse:1162.58252\ttest-rmse:1157.86328\n",
      "[329]\ttrain-rmse:1162.56824\ttest-rmse:1157.84729\n",
      "[330]\ttrain-rmse:1162.55603\ttest-rmse:1157.83557\n"
     ]
    },
    {
     "name": "stdout",
     "output_type": "stream",
     "text": [
      "[331]\ttrain-rmse:1162.53870\ttest-rmse:1157.82385\n",
      "[332]\ttrain-rmse:1162.52930\ttest-rmse:1157.80969\n",
      "[333]\ttrain-rmse:1162.51465\ttest-rmse:1157.79736\n",
      "[334]\ttrain-rmse:1162.49915\ttest-rmse:1157.78357\n",
      "[335]\ttrain-rmse:1162.48987\ttest-rmse:1157.77210\n",
      "[336]\ttrain-rmse:1162.47681\ttest-rmse:1157.76099\n",
      "[337]\ttrain-rmse:1162.46570\ttest-rmse:1157.74927\n",
      "[338]\ttrain-rmse:1162.45081\ttest-rmse:1157.73865\n",
      "[339]\ttrain-rmse:1162.44238\ttest-rmse:1157.72595\n",
      "[340]\ttrain-rmse:1162.43030\ttest-rmse:1157.71558\n",
      "[341]\ttrain-rmse:1162.41321\ttest-rmse:1157.70581\n",
      "[342]\ttrain-rmse:1162.40857\ttest-rmse:1157.69421\n",
      "[343]\ttrain-rmse:1162.39807\ttest-rmse:1157.68396\n",
      "[344]\ttrain-rmse:1162.38733\ttest-rmse:1157.67383\n",
      "[345]\ttrain-rmse:1162.37720\ttest-rmse:1157.66357\n",
      "[346]\ttrain-rmse:1162.36389\ttest-rmse:1157.65576\n",
      "[347]\ttrain-rmse:1162.35608\ttest-rmse:1157.64685\n",
      "[348]\ttrain-rmse:1162.34692\ttest-rmse:1157.63757\n",
      "[349]\ttrain-rmse:1162.34290\ttest-rmse:1157.62866\n",
      "[350]\ttrain-rmse:1162.32556\ttest-rmse:1157.61780\n",
      "[351]\ttrain-rmse:1162.31995\ttest-rmse:1157.60999\n",
      "[352]\ttrain-rmse:1162.31177\ttest-rmse:1157.59973\n",
      "[353]\ttrain-rmse:1162.30408\ttest-rmse:1157.59106\n",
      "[354]\ttrain-rmse:1162.29443\ttest-rmse:1157.58435\n",
      "[355]\ttrain-rmse:1162.28491\ttest-rmse:1157.57483\n",
      "[356]\ttrain-rmse:1162.27673\ttest-rmse:1157.56714\n",
      "[357]\ttrain-rmse:1162.26343\ttest-rmse:1157.55920\n",
      "[358]\ttrain-rmse:1162.25806\ttest-rmse:1157.55371\n",
      "[359]\ttrain-rmse:1162.25415\ttest-rmse:1157.54468\n",
      "[360]\ttrain-rmse:1162.24792\ttest-rmse:1157.53699\n",
      "[361]\ttrain-rmse:1162.23731\ttest-rmse:1157.53174\n",
      "[362]\ttrain-rmse:1162.23096\ttest-rmse:1157.52393\n",
      "[363]\ttrain-rmse:1162.21814\ttest-rmse:1157.51672\n",
      "[364]\ttrain-rmse:1162.21423\ttest-rmse:1157.50903\n",
      "[365]\ttrain-rmse:1162.21326\ttest-rmse:1157.50183\n",
      "[366]\ttrain-rmse:1162.20386\ttest-rmse:1157.49426\n",
      "[367]\ttrain-rmse:1162.19775\ttest-rmse:1157.48877\n",
      "[368]\ttrain-rmse:1162.18982\ttest-rmse:1157.48291\n",
      "[369]\ttrain-rmse:1162.18701\ttest-rmse:1157.47790\n",
      "[370]\ttrain-rmse:1162.17334\ttest-rmse:1157.47070\n",
      "[371]\ttrain-rmse:1162.17017\ttest-rmse:1157.46692\n",
      "[372]\ttrain-rmse:1162.16736\ttest-rmse:1157.45947\n",
      "[373]\ttrain-rmse:1162.16064\ttest-rmse:1157.45569\n",
      "[374]\ttrain-rmse:1162.15735\ttest-rmse:1157.44665\n",
      "[375]\ttrain-rmse:1162.14526\ttest-rmse:1157.44238\n",
      "[376]\ttrain-rmse:1162.14124\ttest-rmse:1157.43665\n",
      "[377]\ttrain-rmse:1162.13794\ttest-rmse:1157.43237\n",
      "[378]\ttrain-rmse:1162.12805\ttest-rmse:1157.42664\n",
      "[379]\ttrain-rmse:1162.12341\ttest-rmse:1157.42200\n",
      "[380]\ttrain-rmse:1162.12036\ttest-rmse:1157.41894\n",
      "[381]\ttrain-rmse:1162.11340\ttest-rmse:1157.41272\n",
      "[382]\ttrain-rmse:1162.11206\ttest-rmse:1157.40894\n",
      "[383]\ttrain-rmse:1162.10632\ttest-rmse:1157.40332\n",
      "[384]\ttrain-rmse:1162.09802\ttest-rmse:1157.39905\n",
      "[385]\ttrain-rmse:1162.09326\ttest-rmse:1157.39526\n",
      "[386]\ttrain-rmse:1162.09351\ttest-rmse:1157.38769\n",
      "[387]\ttrain-rmse:1162.08533\ttest-rmse:1157.38464\n",
      "[388]\ttrain-rmse:1162.08106\ttest-rmse:1157.38049\n",
      "[389]\ttrain-rmse:1162.08008\ttest-rmse:1157.37744\n",
      "[390]\ttrain-rmse:1162.07788\ttest-rmse:1157.37451\n",
      "[391]\ttrain-rmse:1162.07190\ttest-rmse:1157.37073\n",
      "[392]\ttrain-rmse:1162.06604\ttest-rmse:1157.36621\n",
      "[393]\ttrain-rmse:1162.06079\ttest-rmse:1157.36304\n",
      "[394]\ttrain-rmse:1162.05884\ttest-rmse:1157.35803\n",
      "[395]\ttrain-rmse:1162.05029\ttest-rmse:1157.35718\n",
      "[396]\ttrain-rmse:1162.04590\ttest-rmse:1157.35254\n",
      "[397]\ttrain-rmse:1162.04797\ttest-rmse:1157.34851\n",
      "[398]\ttrain-rmse:1162.04712\ttest-rmse:1157.34644\n",
      "[399]\ttrain-rmse:1162.04394\ttest-rmse:1157.34497\n",
      "[400]\ttrain-rmse:1162.03894\ttest-rmse:1157.34033\n",
      "[401]\ttrain-rmse:1162.03247\ttest-rmse:1157.33618\n",
      "[402]\ttrain-rmse:1162.02722\ttest-rmse:1157.33398\n",
      "[403]\ttrain-rmse:1162.02637\ttest-rmse:1157.33130\n",
      "[404]\ttrain-rmse:1162.02551\ttest-rmse:1157.32874\n",
      "[405]\ttrain-rmse:1162.01868\ttest-rmse:1157.32703\n",
      "[406]\ttrain-rmse:1162.01221\ttest-rmse:1157.32178\n",
      "[407]\ttrain-rmse:1162.01233\ttest-rmse:1157.32080\n",
      "[408]\ttrain-rmse:1162.01477\ttest-rmse:1157.31653\n",
      "[409]\ttrain-rmse:1162.01123\ttest-rmse:1157.31421\n",
      "[410]\ttrain-rmse:1162.00794\ttest-rmse:1157.31226\n",
      "[411]\ttrain-rmse:1162.00317\ttest-rmse:1157.30750\n",
      "[412]\ttrain-rmse:1162.00244\ttest-rmse:1157.30652\n",
      "[413]\ttrain-rmse:1162.00159\ttest-rmse:1157.30554\n",
      "[414]\ttrain-rmse:1161.99744\ttest-rmse:1157.30335\n",
      "[415]\ttrain-rmse:1161.99426\ttest-rmse:1157.30115\n",
      "[416]\ttrain-rmse:1161.98865\ttest-rmse:1157.29736\n",
      "[417]\ttrain-rmse:1161.98572\ttest-rmse:1157.29578\n",
      "[418]\ttrain-rmse:1161.98254\ttest-rmse:1157.29419\n",
      "[419]\ttrain-rmse:1161.98071\ttest-rmse:1157.29138\n",
      "[420]\ttrain-rmse:1161.97729\ttest-rmse:1157.28845\n",
      "[421]\ttrain-rmse:1161.97644\ttest-rmse:1157.28809\n",
      "[422]\ttrain-rmse:1161.97705\ttest-rmse:1157.28467\n",
      "[423]\ttrain-rmse:1161.97510\ttest-rmse:1157.28589\n",
      "[424]\ttrain-rmse:1161.97278\ttest-rmse:1157.28101\n",
      "[425]\ttrain-rmse:1161.96912\ttest-rmse:1157.28003\n",
      "[426]\ttrain-rmse:1161.96338\ttest-rmse:1157.27686\n",
      "[427]\ttrain-rmse:1161.96252\ttest-rmse:1157.27576\n",
      "[428]\ttrain-rmse:1161.96240\ttest-rmse:1157.27234\n",
      "[429]\ttrain-rmse:1161.96094\ttest-rmse:1157.27197\n",
      "[430]\ttrain-rmse:1161.95886\ttest-rmse:1157.26758\n",
      "[431]\ttrain-rmse:1161.95727\ttest-rmse:1157.26624\n",
      "[432]\ttrain-rmse:1161.95593\ttest-rmse:1157.26477\n",
      "[433]\ttrain-rmse:1161.95630\ttest-rmse:1157.26343\n",
      "[434]\ttrain-rmse:1161.95154\ttest-rmse:1157.26086\n",
      "[435]\ttrain-rmse:1161.94690\ttest-rmse:1157.26013\n",
      "[436]\ttrain-rmse:1161.94568\ttest-rmse:1157.25745\n",
      "[437]\ttrain-rmse:1161.94678\ttest-rmse:1157.25488\n",
      "[438]\ttrain-rmse:1161.94495\ttest-rmse:1157.25439\n",
      "[439]\ttrain-rmse:1161.94519\ttest-rmse:1157.25391\n",
      "[440]\ttrain-rmse:1161.94385\ttest-rmse:1157.25085\n",
      "[441]\ttrain-rmse:1161.94189\ttest-rmse:1157.24915\n",
      "[442]\ttrain-rmse:1161.93701\ttest-rmse:1157.24792\n",
      "[443]\ttrain-rmse:1161.93628\ttest-rmse:1157.24695\n",
      "[444]\ttrain-rmse:1161.93823\ttest-rmse:1157.24487\n",
      "[445]\ttrain-rmse:1161.93713\ttest-rmse:1157.24609\n",
      "[446]\ttrain-rmse:1161.93396\ttest-rmse:1157.24524\n",
      "[447]\ttrain-rmse:1161.93384\ttest-rmse:1157.24390\n",
      "[448]\ttrain-rmse:1161.93091\ttest-rmse:1157.24072\n",
      "[449]\ttrain-rmse:1161.93335\ttest-rmse:1157.23914\n",
      "[450]\ttrain-rmse:1161.92908\ttest-rmse:1157.23852\n",
      "[451]\ttrain-rmse:1161.92590\ttest-rmse:1157.23755\n",
      "[452]\ttrain-rmse:1161.92346\ttest-rmse:1157.23633\n",
      "[453]\ttrain-rmse:1161.92444\ttest-rmse:1157.23572\n",
      "[454]\ttrain-rmse:1161.92541\ttest-rmse:1157.23523\n",
      "[455]\ttrain-rmse:1161.92346\ttest-rmse:1157.23535\n",
      "[456]\ttrain-rmse:1161.92358\ttest-rmse:1157.23218\n",
      "[457]\ttrain-rmse:1161.91980\ttest-rmse:1157.23193\n",
      "[458]\ttrain-rmse:1161.92041\ttest-rmse:1157.23035\n",
      "[459]\ttrain-rmse:1161.91797\ttest-rmse:1157.23157\n",
      "[460]\ttrain-rmse:1161.91675\ttest-rmse:1157.22852\n",
      "[461]\ttrain-rmse:1161.91394\ttest-rmse:1157.22632\n",
      "[462]\ttrain-rmse:1161.91321\ttest-rmse:1157.22717\n",
      "[463]\ttrain-rmse:1161.91284\ttest-rmse:1157.22498\n",
      "[464]\ttrain-rmse:1161.91321\ttest-rmse:1157.22388\n",
      "[465]\ttrain-rmse:1161.91113\ttest-rmse:1157.22534\n",
      "[466]\ttrain-rmse:1161.90930\ttest-rmse:1157.22327\n",
      "[467]\ttrain-rmse:1161.90955\ttest-rmse:1157.22217\n",
      "[468]\ttrain-rmse:1161.90906\ttest-rmse:1157.22168\n",
      "[469]\ttrain-rmse:1161.90808\ttest-rmse:1157.22083\n",
      "[470]\ttrain-rmse:1161.90796\ttest-rmse:1157.21936\n",
      "[471]\ttrain-rmse:1161.90405\ttest-rmse:1157.21826\n",
      "[472]\ttrain-rmse:1161.90454\ttest-rmse:1157.21912\n",
      "[473]\ttrain-rmse:1161.90149\ttest-rmse:1157.21692\n",
      "[474]\ttrain-rmse:1161.90308\ttest-rmse:1157.21619\n",
      "[475]\ttrain-rmse:1161.90161\ttest-rmse:1157.21667\n",
      "[476]\ttrain-rmse:1161.90125\ttest-rmse:1157.21692\n",
      "[477]\ttrain-rmse:1161.89954\ttest-rmse:1157.21411\n",
      "[478]\ttrain-rmse:1161.90112\ttest-rmse:1157.21472\n",
      "[479]\ttrain-rmse:1161.90295\ttest-rmse:1157.21423\n",
      "[480]\ttrain-rmse:1161.90491\ttest-rmse:1157.21179\n",
      "[481]\ttrain-rmse:1161.90186\ttest-rmse:1157.21155\n",
      "[482]\ttrain-rmse:1161.90063\ttest-rmse:1157.21265\n",
      "[483]\ttrain-rmse:1161.89673\ttest-rmse:1157.21277\n",
      "[484]\ttrain-rmse:1161.89319\ttest-rmse:1157.21057\n",
      "[485]\ttrain-rmse:1161.89685\ttest-rmse:1157.20862\n",
      "[486]\ttrain-rmse:1161.89612\ttest-rmse:1157.20972\n",
      "[487]\ttrain-rmse:1161.89416\ttest-rmse:1157.20898\n",
      "[488]\ttrain-rmse:1161.89575\ttest-rmse:1157.20960\n",
      "[489]\ttrain-rmse:1161.89539\ttest-rmse:1157.20752\n",
      "[490]\ttrain-rmse:1161.89539\ttest-rmse:1157.20618\n",
      "[491]\ttrain-rmse:1161.89233\ttest-rmse:1157.20727\n",
      "[492]\ttrain-rmse:1161.89221\ttest-rmse:1157.20557\n",
      "[493]\ttrain-rmse:1161.89038\ttest-rmse:1157.20642\n",
      "[494]\ttrain-rmse:1161.88916\ttest-rmse:1157.20679\n",
      "[495]\ttrain-rmse:1161.88806\ttest-rmse:1157.20581\n",
      "[496]\ttrain-rmse:1161.88818\ttest-rmse:1157.20471\n",
      "[497]\ttrain-rmse:1161.88916\ttest-rmse:1157.20557\n",
      "[498]\ttrain-rmse:1161.88831\ttest-rmse:1157.20642\n"
     ]
    },
    {
     "name": "stdout",
     "output_type": "stream",
     "text": [
      "[499]\ttrain-rmse:1161.88867\ttest-rmse:1157.20422\n",
      "[500]\ttrain-rmse:1161.88879\ttest-rmse:1157.20251\n",
      "[501]\ttrain-rmse:1161.88977\ttest-rmse:1157.20349\n",
      "[502]\ttrain-rmse:1161.88989\ttest-rmse:1157.20361\n",
      "[503]\ttrain-rmse:1161.89148\ttest-rmse:1157.20337\n",
      "[504]\ttrain-rmse:1161.89038\ttest-rmse:1157.20142\n",
      "[505]\ttrain-rmse:1161.88769\ttest-rmse:1157.20056\n",
      "[506]\ttrain-rmse:1161.88684\ttest-rmse:1157.19946\n",
      "[507]\ttrain-rmse:1161.88562\ttest-rmse:1157.20068\n",
      "[508]\ttrain-rmse:1161.88123\ttest-rmse:1157.20093\n",
      "[509]\ttrain-rmse:1161.88086\ttest-rmse:1157.20166\n",
      "[510]\ttrain-rmse:1161.87976\ttest-rmse:1157.20105\n",
      "[511]\ttrain-rmse:1161.88159\ttest-rmse:1157.20093\n",
      "[512]\ttrain-rmse:1161.88184\ttest-rmse:1157.20129\n",
      "[513]\ttrain-rmse:1161.88477\ttest-rmse:1157.20105\n",
      "[514]\ttrain-rmse:1161.88294\ttest-rmse:1157.19959\n",
      "[515]\ttrain-rmse:1161.88501\ttest-rmse:1157.19959\n",
      "[516]\ttrain-rmse:1161.88428\ttest-rmse:1157.19727\n",
      "[517]\ttrain-rmse:1161.88208\ttest-rmse:1157.19873\n",
      "[518]\ttrain-rmse:1161.88184\ttest-rmse:1157.19959\n",
      "[519]\ttrain-rmse:1161.88184\ttest-rmse:1157.19995\n",
      "[520]\ttrain-rmse:1161.88135\ttest-rmse:1157.19873\n",
      "[521]\ttrain-rmse:1161.88184\ttest-rmse:1157.19836\n",
      "[522]\ttrain-rmse:1161.88135\ttest-rmse:1157.19678\n",
      "[523]\ttrain-rmse:1161.87854\ttest-rmse:1157.19678\n",
      "[524]\ttrain-rmse:1161.87988\ttest-rmse:1157.19727\n",
      "[525]\ttrain-rmse:1161.87817\ttest-rmse:1157.19580\n",
      "[526]\ttrain-rmse:1161.87903\ttest-rmse:1157.19629\n",
      "[527]\ttrain-rmse:1161.87817\ttest-rmse:1157.19604\n",
      "[528]\ttrain-rmse:1161.87744\ttest-rmse:1157.19544\n",
      "[529]\ttrain-rmse:1161.87537\ttest-rmse:1157.19702\n",
      "[530]\ttrain-rmse:1161.87537\ttest-rmse:1157.19739\n",
      "[531]\ttrain-rmse:1161.87500\ttest-rmse:1157.19568\n",
      "[532]\ttrain-rmse:1161.87647\ttest-rmse:1157.19495\n",
      "[533]\ttrain-rmse:1161.87744\ttest-rmse:1157.19507\n",
      "[534]\ttrain-rmse:1161.87549\ttest-rmse:1157.19544\n",
      "[535]\ttrain-rmse:1161.87402\ttest-rmse:1157.19373\n",
      "[536]\ttrain-rmse:1161.87451\ttest-rmse:1157.19336\n",
      "[537]\ttrain-rmse:1161.87561\ttest-rmse:1157.19373\n",
      "[538]\ttrain-rmse:1161.87341\ttest-rmse:1157.19482\n",
      "[539]\ttrain-rmse:1161.87219\ttest-rmse:1157.19519\n",
      "[540]\ttrain-rmse:1161.87158\ttest-rmse:1157.19470\n",
      "[541]\ttrain-rmse:1161.87280\ttest-rmse:1157.19544\n",
      "[542]\ttrain-rmse:1161.87329\ttest-rmse:1157.19312\n",
      "[543]\ttrain-rmse:1161.87280\ttest-rmse:1157.19531\n",
      "[544]\ttrain-rmse:1161.87659\ttest-rmse:1157.19507\n",
      "[545]\ttrain-rmse:1161.87610\ttest-rmse:1157.19348\n",
      "[546]\ttrain-rmse:1161.87549\ttest-rmse:1157.19312\n",
      "[547]\ttrain-rmse:1161.87598\ttest-rmse:1157.19275\n",
      "[548]\ttrain-rmse:1161.87366\ttest-rmse:1157.19287\n",
      "[549]\ttrain-rmse:1161.87341\ttest-rmse:1157.19214\n",
      "[550]\ttrain-rmse:1161.87561\ttest-rmse:1157.19238\n",
      "[551]\ttrain-rmse:1161.87524\ttest-rmse:1157.19043\n",
      "[552]\ttrain-rmse:1161.87476\ttest-rmse:1157.19104\n",
      "[553]\ttrain-rmse:1161.87634\ttest-rmse:1157.19104\n",
      "[554]\ttrain-rmse:1161.87427\ttest-rmse:1157.19128\n",
      "[555]\ttrain-rmse:1161.87329\ttest-rmse:1157.19141\n",
      "[556]\ttrain-rmse:1161.87183\ttest-rmse:1157.19348\n",
      "[557]\ttrain-rmse:1161.87244\ttest-rmse:1157.19250\n",
      "[558]\ttrain-rmse:1161.87085\ttest-rmse:1157.18994\n",
      "[559]\ttrain-rmse:1161.87036\ttest-rmse:1157.19250\n",
      "[560]\ttrain-rmse:1161.86853\ttest-rmse:1157.18945\n",
      "[561]\ttrain-rmse:1161.86646\ttest-rmse:1157.19055\n",
      "[562]\ttrain-rmse:1161.86719\ttest-rmse:1157.19080\n",
      "[563]\ttrain-rmse:1161.86841\ttest-rmse:1157.19080\n",
      "[564]\ttrain-rmse:1161.87000\ttest-rmse:1157.18933\n",
      "[565]\ttrain-rmse:1161.87329\ttest-rmse:1157.18921\n",
      "[566]\ttrain-rmse:1161.87244\ttest-rmse:1157.18897\n",
      "[567]\ttrain-rmse:1161.87415\ttest-rmse:1157.18872\n",
      "[568]\ttrain-rmse:1161.87317\ttest-rmse:1157.18701\n",
      "[569]\ttrain-rmse:1161.87183\ttest-rmse:1157.19031\n",
      "[570]\ttrain-rmse:1161.87415\ttest-rmse:1157.18970\n",
      "[571]\ttrain-rmse:1161.87402\ttest-rmse:1157.18848\n",
      "[572]\ttrain-rmse:1161.87122\ttest-rmse:1157.18774\n",
      "[573]\ttrain-rmse:1161.87170\ttest-rmse:1157.18750\n",
      "[574]\ttrain-rmse:1161.86963\ttest-rmse:1157.18921\n",
      "[575]\ttrain-rmse:1161.87036\ttest-rmse:1157.19031\n",
      "[576]\ttrain-rmse:1161.86816\ttest-rmse:1157.18958\n",
      "[577]\ttrain-rmse:1161.86841\ttest-rmse:1157.19019\n",
      "[578]\ttrain-rmse:1161.86706\ttest-rmse:1157.18970\n",
      "[579]\ttrain-rmse:1161.86890\ttest-rmse:1157.18982\n",
      "[580]\ttrain-rmse:1161.86853\ttest-rmse:1157.18799\n",
      "[581]\ttrain-rmse:1161.86804\ttest-rmse:1157.18823\n",
      "[582]\ttrain-rmse:1161.86902\ttest-rmse:1157.18848\n",
      "[583]\ttrain-rmse:1161.86621\ttest-rmse:1157.18774\n",
      "[584]\ttrain-rmse:1161.86829\ttest-rmse:1157.18774\n",
      "[585]\ttrain-rmse:1161.86963\ttest-rmse:1157.18970\n",
      "[586]\ttrain-rmse:1161.86816\ttest-rmse:1157.18823\n",
      "[587]\ttrain-rmse:1161.86743\ttest-rmse:1157.18921\n",
      "[588]\ttrain-rmse:1161.86450\ttest-rmse:1157.18835\n",
      "[589]\ttrain-rmse:1161.86621\ttest-rmse:1157.18909\n",
      "[590]\ttrain-rmse:1161.86450\ttest-rmse:1157.19031\n",
      "[591]\ttrain-rmse:1161.86548\ttest-rmse:1157.19177\n",
      "[592]\ttrain-rmse:1161.86450\ttest-rmse:1157.19043\n",
      "[593]\ttrain-rmse:1161.86597\ttest-rmse:1157.19080\n",
      "[594]\ttrain-rmse:1161.86560\ttest-rmse:1157.19019\n",
      "[595]\ttrain-rmse:1161.86560\ttest-rmse:1157.19043\n",
      "[596]\ttrain-rmse:1161.86816\ttest-rmse:1157.19043\n",
      "[597]\ttrain-rmse:1161.86865\ttest-rmse:1157.18921\n",
      "[598]\ttrain-rmse:1161.86658\ttest-rmse:1157.18872\n",
      "[599]\ttrain-rmse:1161.86694\ttest-rmse:1157.18762\n",
      "[600]\ttrain-rmse:1161.86951\ttest-rmse:1157.19043\n",
      "[601]\ttrain-rmse:1161.86914\ttest-rmse:1157.18933\n",
      "[602]\ttrain-rmse:1161.86902\ttest-rmse:1157.18982\n",
      "[603]\ttrain-rmse:1161.86841\ttest-rmse:1157.18994\n",
      "[604]\ttrain-rmse:1161.86755\ttest-rmse:1157.18909\n",
      "[605]\ttrain-rmse:1161.86743\ttest-rmse:1157.18872\n",
      "[606]\ttrain-rmse:1161.86682\ttest-rmse:1157.18848\n",
      "[607]\ttrain-rmse:1161.86536\ttest-rmse:1157.18884\n",
      "[608]\ttrain-rmse:1161.86646\ttest-rmse:1157.18909\n",
      "[609]\ttrain-rmse:1161.86572\ttest-rmse:1157.18872\n",
      "[610]\ttrain-rmse:1161.86743\ttest-rmse:1157.18884\n",
      "[611]\ttrain-rmse:1161.86731\ttest-rmse:1157.18823\n",
      "[612]\ttrain-rmse:1161.86633\ttest-rmse:1157.18726\n",
      "[613]\ttrain-rmse:1161.86853\ttest-rmse:1157.18897\n",
      "[614]\ttrain-rmse:1161.86682\ttest-rmse:1157.18774\n",
      "[615]\ttrain-rmse:1161.86780\ttest-rmse:1157.18787\n",
      "[616]\ttrain-rmse:1161.86585\ttest-rmse:1157.18835\n",
      "[617]\ttrain-rmse:1161.86804\ttest-rmse:1157.18909\n",
      "[618]\ttrain-rmse:1161.86743\ttest-rmse:1157.18860\n",
      "Stopping. Best iteration:\n",
      "[568]\ttrain-rmse:1161.87317\ttest-rmse:1157.18701\n",
      "\n",
      "[15:54:27] WARNING: C:/Users/Administrator/workspace/xgboost-win64_release_1.2.0/src/objective/regression_obj.cu:174: reg:linear is now deprecated in favor of reg:squarederror.\n"
     ]
    }
   ],
   "source": [
    "dtrain = xgb.DMatrix(X_train[predictors], y_train)\n",
    "dtest = xgb.DMatrix(X_test[predictors], y_test)\n",
    "\n",
    "watchlist = [(dtrain, 'train'), (dtest, 'test')]\n",
    "\n",
    "xgb_model = xgb.train(params, dtrain, 1000, evals = watchlist,\n",
    "                      early_stopping_rounds = 50, verbose_eval = True)"
   ]
  },
  {
   "cell_type": "code",
   "execution_count": 349,
   "metadata": {},
   "outputs": [],
   "source": [
    "yhat = xgb_model.predict(xgb.DMatrix(X_test[predictors]))"
   ]
  },
  {
   "cell_type": "code",
   "execution_count": 350,
   "metadata": {},
   "outputs": [
    {
     "data": {
      "text/html": [
       "<div>\n",
       "<style scoped>\n",
       "    .dataframe tbody tr th:only-of-type {\n",
       "        vertical-align: middle;\n",
       "    }\n",
       "\n",
       "    .dataframe tbody tr th {\n",
       "        vertical-align: top;\n",
       "    }\n",
       "\n",
       "    .dataframe thead th {\n",
       "        text-align: right;\n",
       "    }\n",
       "</style>\n",
       "<table border=\"1\" class=\"dataframe\">\n",
       "  <thead>\n",
       "    <tr style=\"text-align: right;\">\n",
       "      <th></th>\n",
       "      <th>Date</th>\n",
       "      <th>NET_AMOUNT</th>\n",
       "      <th>Year</th>\n",
       "      <th>Month</th>\n",
       "      <th>Day</th>\n",
       "      <th>week</th>\n",
       "      <th>predicted sales</th>\n",
       "      <th>actual sales</th>\n",
       "    </tr>\n",
       "  </thead>\n",
       "  <tbody>\n",
       "    <tr>\n",
       "      <td>12993</td>\n",
       "      <td>2020-08-27</td>\n",
       "      <td>2519.00</td>\n",
       "      <td>2020</td>\n",
       "      <td>8</td>\n",
       "      <td>27</td>\n",
       "      <td>35</td>\n",
       "      <td>1157.777588</td>\n",
       "      <td>2519.00</td>\n",
       "    </tr>\n",
       "    <tr>\n",
       "      <td>72896</td>\n",
       "      <td>2020-08-19</td>\n",
       "      <td>1359.00</td>\n",
       "      <td>2020</td>\n",
       "      <td>8</td>\n",
       "      <td>19</td>\n",
       "      <td>34</td>\n",
       "      <td>1127.911987</td>\n",
       "      <td>1359.00</td>\n",
       "    </tr>\n",
       "    <tr>\n",
       "      <td>316752</td>\n",
       "      <td>2020-08-29</td>\n",
       "      <td>1699.00</td>\n",
       "      <td>2020</td>\n",
       "      <td>8</td>\n",
       "      <td>29</td>\n",
       "      <td>35</td>\n",
       "      <td>1072.575562</td>\n",
       "      <td>1699.00</td>\n",
       "    </tr>\n",
       "    <tr>\n",
       "      <td>108409</td>\n",
       "      <td>2020-08-08</td>\n",
       "      <td>2199.00</td>\n",
       "      <td>2020</td>\n",
       "      <td>8</td>\n",
       "      <td>8</td>\n",
       "      <td>32</td>\n",
       "      <td>1152.793091</td>\n",
       "      <td>2199.00</td>\n",
       "    </tr>\n",
       "    <tr>\n",
       "      <td>42610</td>\n",
       "      <td>2020-08-29</td>\n",
       "      <td>1249.00</td>\n",
       "      <td>2020</td>\n",
       "      <td>8</td>\n",
       "      <td>29</td>\n",
       "      <td>35</td>\n",
       "      <td>1072.575562</td>\n",
       "      <td>1249.00</td>\n",
       "    </tr>\n",
       "    <tr>\n",
       "      <td>143014</td>\n",
       "      <td>2020-08-21</td>\n",
       "      <td>1099.00</td>\n",
       "      <td>2020</td>\n",
       "      <td>8</td>\n",
       "      <td>21</td>\n",
       "      <td>34</td>\n",
       "      <td>1112.120605</td>\n",
       "      <td>1099.00</td>\n",
       "    </tr>\n",
       "    <tr>\n",
       "      <td>13816</td>\n",
       "      <td>2020-08-25</td>\n",
       "      <td>350.00</td>\n",
       "      <td>2020</td>\n",
       "      <td>8</td>\n",
       "      <td>25</td>\n",
       "      <td>35</td>\n",
       "      <td>1065.262695</td>\n",
       "      <td>350.00</td>\n",
       "    </tr>\n",
       "    <tr>\n",
       "      <td>119250</td>\n",
       "      <td>2020-08-30</td>\n",
       "      <td>1899.00</td>\n",
       "      <td>2020</td>\n",
       "      <td>8</td>\n",
       "      <td>30</td>\n",
       "      <td>35</td>\n",
       "      <td>1089.201294</td>\n",
       "      <td>1899.00</td>\n",
       "    </tr>\n",
       "    <tr>\n",
       "      <td>100222</td>\n",
       "      <td>2020-08-13</td>\n",
       "      <td>2086.09</td>\n",
       "      <td>2020</td>\n",
       "      <td>8</td>\n",
       "      <td>13</td>\n",
       "      <td>33</td>\n",
       "      <td>1087.786499</td>\n",
       "      <td>2086.09</td>\n",
       "    </tr>\n",
       "    <tr>\n",
       "      <td>324882</td>\n",
       "      <td>2020-08-12</td>\n",
       "      <td>1499.00</td>\n",
       "      <td>2020</td>\n",
       "      <td>8</td>\n",
       "      <td>12</td>\n",
       "      <td>33</td>\n",
       "      <td>1096.000854</td>\n",
       "      <td>1499.00</td>\n",
       "    </tr>\n",
       "    <tr>\n",
       "      <td>50096</td>\n",
       "      <td>2020-08-21</td>\n",
       "      <td>1999.00</td>\n",
       "      <td>2020</td>\n",
       "      <td>8</td>\n",
       "      <td>21</td>\n",
       "      <td>34</td>\n",
       "      <td>1112.120605</td>\n",
       "      <td>1999.00</td>\n",
       "    </tr>\n",
       "    <tr>\n",
       "      <td>53823</td>\n",
       "      <td>2020-08-25</td>\n",
       "      <td>1999.00</td>\n",
       "      <td>2020</td>\n",
       "      <td>8</td>\n",
       "      <td>25</td>\n",
       "      <td>35</td>\n",
       "      <td>1065.262695</td>\n",
       "      <td>1999.00</td>\n",
       "    </tr>\n",
       "    <tr>\n",
       "      <td>10106</td>\n",
       "      <td>2020-08-07</td>\n",
       "      <td>-2199.00</td>\n",
       "      <td>2020</td>\n",
       "      <td>8</td>\n",
       "      <td>7</td>\n",
       "      <td>32</td>\n",
       "      <td>984.333374</td>\n",
       "      <td>-2199.00</td>\n",
       "    </tr>\n",
       "    <tr>\n",
       "      <td>300584</td>\n",
       "      <td>2020-08-30</td>\n",
       "      <td>1099.50</td>\n",
       "      <td>2020</td>\n",
       "      <td>8</td>\n",
       "      <td>30</td>\n",
       "      <td>35</td>\n",
       "      <td>1089.201294</td>\n",
       "      <td>1099.50</td>\n",
       "    </tr>\n",
       "    <tr>\n",
       "      <td>168792</td>\n",
       "      <td>2020-08-22</td>\n",
       "      <td>0.86</td>\n",
       "      <td>2020</td>\n",
       "      <td>8</td>\n",
       "      <td>22</td>\n",
       "      <td>34</td>\n",
       "      <td>1148.913330</td>\n",
       "      <td>0.86</td>\n",
       "    </tr>\n",
       "    <tr>\n",
       "      <td>173279</td>\n",
       "      <td>2020-08-03</td>\n",
       "      <td>808.62</td>\n",
       "      <td>2020</td>\n",
       "      <td>8</td>\n",
       "      <td>3</td>\n",
       "      <td>32</td>\n",
       "      <td>1127.820068</td>\n",
       "      <td>808.62</td>\n",
       "    </tr>\n",
       "    <tr>\n",
       "      <td>129329</td>\n",
       "      <td>2020-08-16</td>\n",
       "      <td>0.18</td>\n",
       "      <td>2020</td>\n",
       "      <td>8</td>\n",
       "      <td>16</td>\n",
       "      <td>33</td>\n",
       "      <td>1146.678833</td>\n",
       "      <td>0.18</td>\n",
       "    </tr>\n",
       "    <tr>\n",
       "      <td>141073</td>\n",
       "      <td>2020-08-23</td>\n",
       "      <td>1.00</td>\n",
       "      <td>2020</td>\n",
       "      <td>8</td>\n",
       "      <td>23</td>\n",
       "      <td>34</td>\n",
       "      <td>1166.298584</td>\n",
       "      <td>1.00</td>\n",
       "    </tr>\n",
       "    <tr>\n",
       "      <td>67781</td>\n",
       "      <td>2020-08-20</td>\n",
       "      <td>550.00</td>\n",
       "      <td>2020</td>\n",
       "      <td>8</td>\n",
       "      <td>20</td>\n",
       "      <td>34</td>\n",
       "      <td>1126.041504</td>\n",
       "      <td>550.00</td>\n",
       "    </tr>\n",
       "    <tr>\n",
       "      <td>184523</td>\n",
       "      <td>2020-08-26</td>\n",
       "      <td>319.00</td>\n",
       "      <td>2020</td>\n",
       "      <td>8</td>\n",
       "      <td>26</td>\n",
       "      <td>35</td>\n",
       "      <td>1124.697144</td>\n",
       "      <td>319.00</td>\n",
       "    </tr>\n",
       "  </tbody>\n",
       "</table>\n",
       "</div>"
      ],
      "text/plain": [
       "             Date  NET_AMOUNT  Year  Month  Day  week  predicted sales  \\\n",
       "12993  2020-08-27     2519.00  2020      8   27    35      1157.777588   \n",
       "72896  2020-08-19     1359.00  2020      8   19    34      1127.911987   \n",
       "316752 2020-08-29     1699.00  2020      8   29    35      1072.575562   \n",
       "108409 2020-08-08     2199.00  2020      8    8    32      1152.793091   \n",
       "42610  2020-08-29     1249.00  2020      8   29    35      1072.575562   \n",
       "143014 2020-08-21     1099.00  2020      8   21    34      1112.120605   \n",
       "13816  2020-08-25      350.00  2020      8   25    35      1065.262695   \n",
       "119250 2020-08-30     1899.00  2020      8   30    35      1089.201294   \n",
       "100222 2020-08-13     2086.09  2020      8   13    33      1087.786499   \n",
       "324882 2020-08-12     1499.00  2020      8   12    33      1096.000854   \n",
       "50096  2020-08-21     1999.00  2020      8   21    34      1112.120605   \n",
       "53823  2020-08-25     1999.00  2020      8   25    35      1065.262695   \n",
       "10106  2020-08-07    -2199.00  2020      8    7    32       984.333374   \n",
       "300584 2020-08-30     1099.50  2020      8   30    35      1089.201294   \n",
       "168792 2020-08-22        0.86  2020      8   22    34      1148.913330   \n",
       "173279 2020-08-03      808.62  2020      8    3    32      1127.820068   \n",
       "129329 2020-08-16        0.18  2020      8   16    33      1146.678833   \n",
       "141073 2020-08-23        1.00  2020      8   23    34      1166.298584   \n",
       "67781  2020-08-20      550.00  2020      8   20    34      1126.041504   \n",
       "184523 2020-08-26      319.00  2020      8   26    35      1124.697144   \n",
       "\n",
       "        actual sales  \n",
       "12993        2519.00  \n",
       "72896        1359.00  \n",
       "316752       1699.00  \n",
       "108409       2199.00  \n",
       "42610        1249.00  \n",
       "143014       1099.00  \n",
       "13816         350.00  \n",
       "119250       1899.00  \n",
       "100222       2086.09  \n",
       "324882       1499.00  \n",
       "50096        1999.00  \n",
       "53823        1999.00  \n",
       "10106       -2199.00  \n",
       "300584       1099.50  \n",
       "168792          0.86  \n",
       "173279        808.62  \n",
       "129329          0.18  \n",
       "141073          1.00  \n",
       "67781         550.00  \n",
       "184523        319.00  "
      ]
     },
     "execution_count": 350,
     "metadata": {},
     "output_type": "execute_result"
    }
   ],
   "source": [
    "X_test['predicted sales'] = xgb_model.predict(xgb.DMatrix(X_test[predictors]))\n",
    "X_test['actual sales'] = X_test.NET_AMOUNT.values\n",
    "X_test.head(20)"
   ]
  },
  {
   "cell_type": "code",
   "execution_count": 209,
   "metadata": {},
   "outputs": [
    {
     "data": {
      "text/plain": [
       "False"
      ]
     },
     "execution_count": 209,
     "metadata": {},
     "output_type": "execute_result"
    }
   ],
   "source": [
    "df['Year'].isnull().values.any()"
   ]
  },
  {
   "cell_type": "code",
   "execution_count": 220,
   "metadata": {},
   "outputs": [
    {
     "data": {
      "text/plain": [
       "2"
      ]
     },
     "execution_count": 220,
     "metadata": {},
     "output_type": "execute_result"
    }
   ],
   "source": [
    "df['NET_AMOUNT'].isnull().values.sum()"
   ]
  },
  {
   "cell_type": "code",
   "execution_count": 348,
   "metadata": {},
   "outputs": [
    {
     "data": {
      "text/plain": [
       "False"
      ]
     },
     "execution_count": 348,
     "metadata": {},
     "output_type": "execute_result"
    }
   ],
   "source": [
    "y_test.isnull().values.any()\n",
    "#print (check_for_nan)"
   ]
  },
  {
   "cell_type": "code",
   "execution_count": 227,
   "metadata": {},
   "outputs": [
    {
     "data": {
      "text/html": [
       "<div>\n",
       "<style scoped>\n",
       "    .dataframe tbody tr th:only-of-type {\n",
       "        vertical-align: middle;\n",
       "    }\n",
       "\n",
       "    .dataframe tbody tr th {\n",
       "        vertical-align: top;\n",
       "    }\n",
       "\n",
       "    .dataframe thead th {\n",
       "        text-align: right;\n",
       "    }\n",
       "</style>\n",
       "<table border=\"1\" class=\"dataframe\">\n",
       "  <thead>\n",
       "    <tr style=\"text-align: right;\">\n",
       "      <th></th>\n",
       "      <th>CHANNEL</th>\n",
       "      <th>SAP_STORE_ID</th>\n",
       "      <th>XSTORE_STORE_ID</th>\n",
       "      <th>STORE_NAME</th>\n",
       "      <th>OWNERSHIP_TYPE</th>\n",
       "      <th>CITY</th>\n",
       "      <th>STATE</th>\n",
       "      <th>GSTIN_NO</th>\n",
       "      <th>OLD_INVOICE_NO</th>\n",
       "      <th>NEW_INVOICE_NO</th>\n",
       "      <th>...</th>\n",
       "      <th>ORDER_TYPE</th>\n",
       "      <th>EXTERNAL_SYSTEM</th>\n",
       "      <th>AIL_ORDER_ID</th>\n",
       "      <th>AIL_ORDER_STATE</th>\n",
       "      <th>PO_REF_NBR</th>\n",
       "      <th>Date</th>\n",
       "      <th>Year</th>\n",
       "      <th>Month</th>\n",
       "      <th>Day</th>\n",
       "      <th>week</th>\n",
       "    </tr>\n",
       "  </thead>\n",
       "  <tbody>\n",
       "    <tr>\n",
       "      <td>0</td>\n",
       "      <td>EB</td>\n",
       "      <td>7501</td>\n",
       "      <td>7501</td>\n",
       "      <td>ColeHaan Moi</td>\n",
       "      <td>OWN STORE</td>\n",
       "      <td>NOIDA</td>\n",
       "      <td>UTTAR PRADESH</td>\n",
       "      <td>09AAACH7252A1ZX</td>\n",
       "      <td>75010011828</td>\n",
       "      <td>7501010001828</td>\n",
       "      <td>...</td>\n",
       "      <td>TATACLIQ</td>\n",
       "      <td>FMS</td>\n",
       "      <td>200815-008-596161</td>\n",
       "      <td>124904011160110</td>\n",
       "      <td>7501FC200816</td>\n",
       "      <td>2020-08-16</td>\n",
       "      <td>2020</td>\n",
       "      <td>8</td>\n",
       "      <td>16</td>\n",
       "      <td>33</td>\n",
       "    </tr>\n",
       "    <tr>\n",
       "      <td>1</td>\n",
       "      <td>EB</td>\n",
       "      <td>7501</td>\n",
       "      <td>7501</td>\n",
       "      <td>ColeHaan Moi</td>\n",
       "      <td>OWN STORE</td>\n",
       "      <td>NOIDA</td>\n",
       "      <td>UTTAR PRADESH</td>\n",
       "      <td>09AAACH7252A1ZX</td>\n",
       "      <td>75010011833</td>\n",
       "      <td>7501010001833</td>\n",
       "      <td>...</td>\n",
       "      <td>TATACLIQ</td>\n",
       "      <td>FMS</td>\n",
       "      <td>200815-008-596889</td>\n",
       "      <td>124904011161638</td>\n",
       "      <td>7501FC200816</td>\n",
       "      <td>2020-08-16</td>\n",
       "      <td>2020</td>\n",
       "      <td>8</td>\n",
       "      <td>16</td>\n",
       "      <td>33</td>\n",
       "    </tr>\n",
       "    <tr>\n",
       "      <td>2</td>\n",
       "      <td>EB</td>\n",
       "      <td>7501</td>\n",
       "      <td>7501</td>\n",
       "      <td>ColeHaan Moi</td>\n",
       "      <td>OWN STORE</td>\n",
       "      <td>NOIDA</td>\n",
       "      <td>UTTAR PRADESH</td>\n",
       "      <td>09AAACH7252A1ZX</td>\n",
       "      <td>75010011838</td>\n",
       "      <td>7501010001838</td>\n",
       "      <td>...</td>\n",
       "      <td>TATACLIQ</td>\n",
       "      <td>FMS</td>\n",
       "      <td>200816-008-614235</td>\n",
       "      <td>124904011196215</td>\n",
       "      <td>7501FC200816</td>\n",
       "      <td>2020-08-16</td>\n",
       "      <td>2020</td>\n",
       "      <td>8</td>\n",
       "      <td>16</td>\n",
       "      <td>33</td>\n",
       "    </tr>\n",
       "    <tr>\n",
       "      <td>3</td>\n",
       "      <td>EB</td>\n",
       "      <td>7501</td>\n",
       "      <td>7501</td>\n",
       "      <td>ColeHaan Moi</td>\n",
       "      <td>OWN STORE</td>\n",
       "      <td>NOIDA</td>\n",
       "      <td>UTTAR PRADESH</td>\n",
       "      <td>09AAACH7252A1ZX</td>\n",
       "      <td>75010011855</td>\n",
       "      <td>7501010001855</td>\n",
       "      <td>...</td>\n",
       "      <td>TATACLIQ</td>\n",
       "      <td>FMS</td>\n",
       "      <td>200817-008-642963</td>\n",
       "      <td>124904011252064</td>\n",
       "      <td>7501FC200817</td>\n",
       "      <td>2020-08-17</td>\n",
       "      <td>2020</td>\n",
       "      <td>8</td>\n",
       "      <td>17</td>\n",
       "      <td>34</td>\n",
       "    </tr>\n",
       "    <tr>\n",
       "      <td>4</td>\n",
       "      <td>EC</td>\n",
       "      <td>7502</td>\n",
       "      <td>7502</td>\n",
       "      <td>Cole Haan- Palladium</td>\n",
       "      <td>OWN STORE</td>\n",
       "      <td>MUMBAI</td>\n",
       "      <td>MAHARASHTRA</td>\n",
       "      <td>27AAACH7252A1ZZ</td>\n",
       "      <td>75020012078</td>\n",
       "      <td>7502010002078</td>\n",
       "      <td>...</td>\n",
       "      <td>TATACLIQ</td>\n",
       "      <td>FMS</td>\n",
       "      <td>200818-008-657583</td>\n",
       "      <td>124904011277252</td>\n",
       "      <td>7502FC200819</td>\n",
       "      <td>2020-08-19</td>\n",
       "      <td>2020</td>\n",
       "      <td>8</td>\n",
       "      <td>19</td>\n",
       "      <td>34</td>\n",
       "    </tr>\n",
       "    <tr>\n",
       "      <td>...</td>\n",
       "      <td>...</td>\n",
       "      <td>...</td>\n",
       "      <td>...</td>\n",
       "      <td>...</td>\n",
       "      <td>...</td>\n",
       "      <td>...</td>\n",
       "      <td>...</td>\n",
       "      <td>...</td>\n",
       "      <td>...</td>\n",
       "      <td>...</td>\n",
       "      <td>...</td>\n",
       "      <td>...</td>\n",
       "      <td>...</td>\n",
       "      <td>...</td>\n",
       "      <td>...</td>\n",
       "      <td>...</td>\n",
       "      <td>...</td>\n",
       "      <td>...</td>\n",
       "      <td>...</td>\n",
       "      <td>...</td>\n",
       "      <td>...</td>\n",
       "    </tr>\n",
       "    <tr>\n",
       "      <td>329050</td>\n",
       "      <td>EOD</td>\n",
       "      <td>VICU0062</td>\n",
       "      <td>98057</td>\n",
       "      <td>FM - VISHAL MARKETING RANCHI</td>\n",
       "      <td>FRANCHISEE</td>\n",
       "      <td>RANCHI</td>\n",
       "      <td>JHARKHAND</td>\n",
       "      <td>20ADLPK6516H1ZR</td>\n",
       "      <td>980570014856</td>\n",
       "      <td>98057010004856</td>\n",
       "      <td>...</td>\n",
       "      <td>POS</td>\n",
       "      <td>SAP</td>\n",
       "      <td>None</td>\n",
       "      <td>None</td>\n",
       "      <td>VICU0062FM2008281230</td>\n",
       "      <td>2020-08-28</td>\n",
       "      <td>2020</td>\n",
       "      <td>8</td>\n",
       "      <td>28</td>\n",
       "      <td>35</td>\n",
       "    </tr>\n",
       "    <tr>\n",
       "      <td>329051</td>\n",
       "      <td>EOD</td>\n",
       "      <td>VICU0062</td>\n",
       "      <td>98057</td>\n",
       "      <td>FM - VISHAL MARKETING RANCHI</td>\n",
       "      <td>FRANCHISEE</td>\n",
       "      <td>RANCHI</td>\n",
       "      <td>JHARKHAND</td>\n",
       "      <td>20ADLPK6516H1ZR</td>\n",
       "      <td>980570014865</td>\n",
       "      <td>98057010004865</td>\n",
       "      <td>...</td>\n",
       "      <td>POS</td>\n",
       "      <td>SAP</td>\n",
       "      <td>None</td>\n",
       "      <td>None</td>\n",
       "      <td>VICU0062FM2008291230</td>\n",
       "      <td>2020-08-29</td>\n",
       "      <td>2020</td>\n",
       "      <td>8</td>\n",
       "      <td>29</td>\n",
       "      <td>35</td>\n",
       "    </tr>\n",
       "    <tr>\n",
       "      <td>329052</td>\n",
       "      <td>EOD</td>\n",
       "      <td>VICU0062</td>\n",
       "      <td>98057</td>\n",
       "      <td>FM - VISHAL MARKETING RANCHI</td>\n",
       "      <td>FRANCHISEE</td>\n",
       "      <td>RANCHI</td>\n",
       "      <td>JHARKHAND</td>\n",
       "      <td>20ADLPK6516H1ZR</td>\n",
       "      <td>980570014836</td>\n",
       "      <td>98057010004836</td>\n",
       "      <td>...</td>\n",
       "      <td>POS</td>\n",
       "      <td>SAP</td>\n",
       "      <td>None</td>\n",
       "      <td>None</td>\n",
       "      <td>VICU0062FM2008261230</td>\n",
       "      <td>2020-08-26</td>\n",
       "      <td>2020</td>\n",
       "      <td>8</td>\n",
       "      <td>26</td>\n",
       "      <td>35</td>\n",
       "    </tr>\n",
       "    <tr>\n",
       "      <td>329053</td>\n",
       "      <td>EOD</td>\n",
       "      <td>VICU0062</td>\n",
       "      <td>98057</td>\n",
       "      <td>FM - VISHAL MARKETING RANCHI</td>\n",
       "      <td>FRANCHISEE</td>\n",
       "      <td>RANCHI</td>\n",
       "      <td>JHARKHAND</td>\n",
       "      <td>20ADLPK6516H1ZR</td>\n",
       "      <td>980570014836</td>\n",
       "      <td>98057010004836</td>\n",
       "      <td>...</td>\n",
       "      <td>POS</td>\n",
       "      <td>SAP</td>\n",
       "      <td>None</td>\n",
       "      <td>None</td>\n",
       "      <td>VICU0062FM2008261230</td>\n",
       "      <td>2020-08-26</td>\n",
       "      <td>2020</td>\n",
       "      <td>8</td>\n",
       "      <td>26</td>\n",
       "      <td>35</td>\n",
       "    </tr>\n",
       "    <tr>\n",
       "      <td>329054</td>\n",
       "      <td>EOD</td>\n",
       "      <td>VICU0062</td>\n",
       "      <td>98057</td>\n",
       "      <td>FM - VISHAL MARKETING RANCHI</td>\n",
       "      <td>FRANCHISEE</td>\n",
       "      <td>RANCHI</td>\n",
       "      <td>JHARKHAND</td>\n",
       "      <td>20ADLPK6516H1ZR</td>\n",
       "      <td>980570014847</td>\n",
       "      <td>98057010004847</td>\n",
       "      <td>...</td>\n",
       "      <td>POS</td>\n",
       "      <td>SAP</td>\n",
       "      <td>None</td>\n",
       "      <td>None</td>\n",
       "      <td>VICU0062FM2008271230</td>\n",
       "      <td>2020-08-27</td>\n",
       "      <td>2020</td>\n",
       "      <td>8</td>\n",
       "      <td>27</td>\n",
       "      <td>35</td>\n",
       "    </tr>\n",
       "  </tbody>\n",
       "</table>\n",
       "<p>329055 rows × 42 columns</p>\n",
       "</div>"
      ],
      "text/plain": [
       "       CHANNEL SAP_STORE_ID  XSTORE_STORE_ID                    STORE_NAME  \\\n",
       "0           EB         7501             7501                  ColeHaan Moi   \n",
       "1           EB         7501             7501                  ColeHaan Moi   \n",
       "2           EB         7501             7501                  ColeHaan Moi   \n",
       "3           EB         7501             7501                  ColeHaan Moi   \n",
       "4           EC         7502             7502          Cole Haan- Palladium   \n",
       "...        ...          ...              ...                           ...   \n",
       "329050     EOD     VICU0062            98057  FM - VISHAL MARKETING RANCHI   \n",
       "329051     EOD     VICU0062            98057  FM - VISHAL MARKETING RANCHI   \n",
       "329052     EOD     VICU0062            98057  FM - VISHAL MARKETING RANCHI   \n",
       "329053     EOD     VICU0062            98057  FM - VISHAL MARKETING RANCHI   \n",
       "329054     EOD     VICU0062            98057  FM - VISHAL MARKETING RANCHI   \n",
       "\n",
       "       OWNERSHIP_TYPE    CITY          STATE         GSTIN_NO  OLD_INVOICE_NO  \\\n",
       "0           OWN STORE   NOIDA  UTTAR PRADESH  09AAACH7252A1ZX     75010011828   \n",
       "1           OWN STORE   NOIDA  UTTAR PRADESH  09AAACH7252A1ZX     75010011833   \n",
       "2           OWN STORE   NOIDA  UTTAR PRADESH  09AAACH7252A1ZX     75010011838   \n",
       "3           OWN STORE   NOIDA  UTTAR PRADESH  09AAACH7252A1ZX     75010011855   \n",
       "4           OWN STORE  MUMBAI    MAHARASHTRA  27AAACH7252A1ZZ     75020012078   \n",
       "...               ...     ...            ...              ...             ...   \n",
       "329050     FRANCHISEE  RANCHI      JHARKHAND  20ADLPK6516H1ZR    980570014856   \n",
       "329051     FRANCHISEE  RANCHI      JHARKHAND  20ADLPK6516H1ZR    980570014865   \n",
       "329052     FRANCHISEE  RANCHI      JHARKHAND  20ADLPK6516H1ZR    980570014836   \n",
       "329053     FRANCHISEE  RANCHI      JHARKHAND  20ADLPK6516H1ZR    980570014836   \n",
       "329054     FRANCHISEE  RANCHI      JHARKHAND  20ADLPK6516H1ZR    980570014847   \n",
       "\n",
       "        NEW_INVOICE_NO  ... ORDER_TYPE EXTERNAL_SYSTEM       AIL_ORDER_ID  \\\n",
       "0        7501010001828  ...   TATACLIQ             FMS  200815-008-596161   \n",
       "1        7501010001833  ...   TATACLIQ             FMS  200815-008-596889   \n",
       "2        7501010001838  ...   TATACLIQ             FMS  200816-008-614235   \n",
       "3        7501010001855  ...   TATACLIQ             FMS  200817-008-642963   \n",
       "4        7502010002078  ...   TATACLIQ             FMS  200818-008-657583   \n",
       "...                ...  ...        ...             ...                ...   \n",
       "329050  98057010004856  ...        POS             SAP               None   \n",
       "329051  98057010004865  ...        POS             SAP               None   \n",
       "329052  98057010004836  ...        POS             SAP               None   \n",
       "329053  98057010004836  ...        POS             SAP               None   \n",
       "329054  98057010004847  ...        POS             SAP               None   \n",
       "\n",
       "        AIL_ORDER_STATE            PO_REF_NBR       Date  Year Month  Day week  \n",
       "0       124904011160110          7501FC200816 2020-08-16  2020     8   16   33  \n",
       "1       124904011161638          7501FC200816 2020-08-16  2020     8   16   33  \n",
       "2       124904011196215          7501FC200816 2020-08-16  2020     8   16   33  \n",
       "3       124904011252064          7501FC200817 2020-08-17  2020     8   17   34  \n",
       "4       124904011277252          7502FC200819 2020-08-19  2020     8   19   34  \n",
       "...                 ...                   ...        ...   ...   ...  ...  ...  \n",
       "329050             None  VICU0062FM2008281230 2020-08-28  2020     8   28   35  \n",
       "329051             None  VICU0062FM2008291230 2020-08-29  2020     8   29   35  \n",
       "329052             None  VICU0062FM2008261230 2020-08-26  2020     8   26   35  \n",
       "329053             None  VICU0062FM2008261230 2020-08-26  2020     8   26   35  \n",
       "329054             None  VICU0062FM2008271230 2020-08-27  2020     8   27   35  \n",
       "\n",
       "[329055 rows x 42 columns]"
      ]
     },
     "execution_count": 227,
     "metadata": {},
     "output_type": "execute_result"
    }
   ],
   "source": [
    "df"
   ]
  },
  {
   "cell_type": "code",
   "execution_count": 351,
   "metadata": {},
   "outputs": [
    {
     "data": {
      "text/html": [
       "<div>\n",
       "<style scoped>\n",
       "    .dataframe tbody tr th:only-of-type {\n",
       "        vertical-align: middle;\n",
       "    }\n",
       "\n",
       "    .dataframe tbody tr th {\n",
       "        vertical-align: top;\n",
       "    }\n",
       "\n",
       "    .dataframe thead th {\n",
       "        text-align: right;\n",
       "    }\n",
       "</style>\n",
       "<table border=\"1\" class=\"dataframe\">\n",
       "  <thead>\n",
       "    <tr style=\"text-align: right;\">\n",
       "      <th></th>\n",
       "      <th>CHANNEL</th>\n",
       "      <th>SAP_STORE_ID</th>\n",
       "      <th>XSTORE_STORE_ID</th>\n",
       "      <th>STORE_NAME</th>\n",
       "      <th>OWNERSHIP_TYPE</th>\n",
       "      <th>CITY</th>\n",
       "      <th>STATE</th>\n",
       "      <th>GSTIN_NO</th>\n",
       "      <th>OLD_INVOICE_NO</th>\n",
       "      <th>NEW_INVOICE_NO</th>\n",
       "      <th>...</th>\n",
       "      <th>NET_AMOUNT</th>\n",
       "      <th>ORDER_TYPE</th>\n",
       "      <th>EXTERNAL_SYSTEM</th>\n",
       "      <th>AIL_ORDER_ID</th>\n",
       "      <th>AIL_ORDER_STATE</th>\n",
       "      <th>PO_REF_NBR</th>\n",
       "      <th>Year</th>\n",
       "      <th>Month</th>\n",
       "      <th>Day</th>\n",
       "      <th>week</th>\n",
       "    </tr>\n",
       "  </thead>\n",
       "  <tbody>\n",
       "    <tr>\n",
       "      <td>0</td>\n",
       "      <td>EB</td>\n",
       "      <td>7501</td>\n",
       "      <td>7501</td>\n",
       "      <td>ColeHaan Moi</td>\n",
       "      <td>OWN STORE</td>\n",
       "      <td>NOIDA</td>\n",
       "      <td>UTTAR PRADESH</td>\n",
       "      <td>09AAACH7252A1ZX</td>\n",
       "      <td>75010011828</td>\n",
       "      <td>7501010001828</td>\n",
       "      <td>...</td>\n",
       "      <td>9498.5</td>\n",
       "      <td>TATACLIQ</td>\n",
       "      <td>FMS</td>\n",
       "      <td>200815-008-596161</td>\n",
       "      <td>124904011160110</td>\n",
       "      <td>7501FC200816</td>\n",
       "      <td>2020</td>\n",
       "      <td>8</td>\n",
       "      <td>16</td>\n",
       "      <td>33</td>\n",
       "    </tr>\n",
       "    <tr>\n",
       "      <td>1</td>\n",
       "      <td>EB</td>\n",
       "      <td>7501</td>\n",
       "      <td>7501</td>\n",
       "      <td>ColeHaan Moi</td>\n",
       "      <td>OWN STORE</td>\n",
       "      <td>NOIDA</td>\n",
       "      <td>UTTAR PRADESH</td>\n",
       "      <td>09AAACH7252A1ZX</td>\n",
       "      <td>75010011833</td>\n",
       "      <td>7501010001833</td>\n",
       "      <td>...</td>\n",
       "      <td>6498.5</td>\n",
       "      <td>TATACLIQ</td>\n",
       "      <td>FMS</td>\n",
       "      <td>200815-008-596889</td>\n",
       "      <td>124904011161638</td>\n",
       "      <td>7501FC200816</td>\n",
       "      <td>2020</td>\n",
       "      <td>8</td>\n",
       "      <td>16</td>\n",
       "      <td>33</td>\n",
       "    </tr>\n",
       "    <tr>\n",
       "      <td>2</td>\n",
       "      <td>EB</td>\n",
       "      <td>7501</td>\n",
       "      <td>7501</td>\n",
       "      <td>ColeHaan Moi</td>\n",
       "      <td>OWN STORE</td>\n",
       "      <td>NOIDA</td>\n",
       "      <td>UTTAR PRADESH</td>\n",
       "      <td>09AAACH7252A1ZX</td>\n",
       "      <td>75010011838</td>\n",
       "      <td>7501010001838</td>\n",
       "      <td>...</td>\n",
       "      <td>9498.5</td>\n",
       "      <td>TATACLIQ</td>\n",
       "      <td>FMS</td>\n",
       "      <td>200816-008-614235</td>\n",
       "      <td>124904011196215</td>\n",
       "      <td>7501FC200816</td>\n",
       "      <td>2020</td>\n",
       "      <td>8</td>\n",
       "      <td>16</td>\n",
       "      <td>33</td>\n",
       "    </tr>\n",
       "    <tr>\n",
       "      <td>3</td>\n",
       "      <td>EB</td>\n",
       "      <td>7501</td>\n",
       "      <td>7501</td>\n",
       "      <td>ColeHaan Moi</td>\n",
       "      <td>OWN STORE</td>\n",
       "      <td>NOIDA</td>\n",
       "      <td>UTTAR PRADESH</td>\n",
       "      <td>09AAACH7252A1ZX</td>\n",
       "      <td>75010011855</td>\n",
       "      <td>7501010001855</td>\n",
       "      <td>...</td>\n",
       "      <td>7498.5</td>\n",
       "      <td>TATACLIQ</td>\n",
       "      <td>FMS</td>\n",
       "      <td>200817-008-642963</td>\n",
       "      <td>124904011252064</td>\n",
       "      <td>7501FC200817</td>\n",
       "      <td>2020</td>\n",
       "      <td>8</td>\n",
       "      <td>17</td>\n",
       "      <td>34</td>\n",
       "    </tr>\n",
       "    <tr>\n",
       "      <td>4</td>\n",
       "      <td>EC</td>\n",
       "      <td>7502</td>\n",
       "      <td>7502</td>\n",
       "      <td>Cole Haan- Palladium</td>\n",
       "      <td>OWN STORE</td>\n",
       "      <td>MUMBAI</td>\n",
       "      <td>MAHARASHTRA</td>\n",
       "      <td>27AAACH7252A1ZZ</td>\n",
       "      <td>75020012078</td>\n",
       "      <td>7502010002078</td>\n",
       "      <td>...</td>\n",
       "      <td>17999.0</td>\n",
       "      <td>TATACLIQ</td>\n",
       "      <td>FMS</td>\n",
       "      <td>200818-008-657583</td>\n",
       "      <td>124904011277252</td>\n",
       "      <td>7502FC200819</td>\n",
       "      <td>2020</td>\n",
       "      <td>8</td>\n",
       "      <td>19</td>\n",
       "      <td>34</td>\n",
       "    </tr>\n",
       "    <tr>\n",
       "      <td>...</td>\n",
       "      <td>...</td>\n",
       "      <td>...</td>\n",
       "      <td>...</td>\n",
       "      <td>...</td>\n",
       "      <td>...</td>\n",
       "      <td>...</td>\n",
       "      <td>...</td>\n",
       "      <td>...</td>\n",
       "      <td>...</td>\n",
       "      <td>...</td>\n",
       "      <td>...</td>\n",
       "      <td>...</td>\n",
       "      <td>...</td>\n",
       "      <td>...</td>\n",
       "      <td>...</td>\n",
       "      <td>...</td>\n",
       "      <td>...</td>\n",
       "      <td>...</td>\n",
       "      <td>...</td>\n",
       "      <td>...</td>\n",
       "      <td>...</td>\n",
       "    </tr>\n",
       "    <tr>\n",
       "      <td>329050</td>\n",
       "      <td>EOD</td>\n",
       "      <td>VICU0062</td>\n",
       "      <td>98057</td>\n",
       "      <td>FM - VISHAL MARKETING RANCHI</td>\n",
       "      <td>FRANCHISEE</td>\n",
       "      <td>RANCHI</td>\n",
       "      <td>JHARKHAND</td>\n",
       "      <td>20ADLPK6516H1ZR</td>\n",
       "      <td>980570014856</td>\n",
       "      <td>98057010004856</td>\n",
       "      <td>...</td>\n",
       "      <td>539.4</td>\n",
       "      <td>POS</td>\n",
       "      <td>SAP</td>\n",
       "      <td>None</td>\n",
       "      <td>None</td>\n",
       "      <td>VICU0062FM2008281230</td>\n",
       "      <td>2020</td>\n",
       "      <td>8</td>\n",
       "      <td>28</td>\n",
       "      <td>35</td>\n",
       "    </tr>\n",
       "    <tr>\n",
       "      <td>329051</td>\n",
       "      <td>EOD</td>\n",
       "      <td>VICU0062</td>\n",
       "      <td>98057</td>\n",
       "      <td>FM - VISHAL MARKETING RANCHI</td>\n",
       "      <td>FRANCHISEE</td>\n",
       "      <td>RANCHI</td>\n",
       "      <td>JHARKHAND</td>\n",
       "      <td>20ADLPK6516H1ZR</td>\n",
       "      <td>980570014865</td>\n",
       "      <td>98057010004865</td>\n",
       "      <td>...</td>\n",
       "      <td>399.5</td>\n",
       "      <td>POS</td>\n",
       "      <td>SAP</td>\n",
       "      <td>None</td>\n",
       "      <td>None</td>\n",
       "      <td>VICU0062FM2008291230</td>\n",
       "      <td>2020</td>\n",
       "      <td>8</td>\n",
       "      <td>29</td>\n",
       "      <td>35</td>\n",
       "    </tr>\n",
       "    <tr>\n",
       "      <td>329052</td>\n",
       "      <td>EOD</td>\n",
       "      <td>VICU0062</td>\n",
       "      <td>98057</td>\n",
       "      <td>FM - VISHAL MARKETING RANCHI</td>\n",
       "      <td>FRANCHISEE</td>\n",
       "      <td>RANCHI</td>\n",
       "      <td>JHARKHAND</td>\n",
       "      <td>20ADLPK6516H1ZR</td>\n",
       "      <td>980570014836</td>\n",
       "      <td>98057010004836</td>\n",
       "      <td>...</td>\n",
       "      <td>1499.4</td>\n",
       "      <td>POS</td>\n",
       "      <td>SAP</td>\n",
       "      <td>None</td>\n",
       "      <td>None</td>\n",
       "      <td>VICU0062FM2008261230</td>\n",
       "      <td>2020</td>\n",
       "      <td>8</td>\n",
       "      <td>26</td>\n",
       "      <td>35</td>\n",
       "    </tr>\n",
       "    <tr>\n",
       "      <td>329053</td>\n",
       "      <td>EOD</td>\n",
       "      <td>VICU0062</td>\n",
       "      <td>98057</td>\n",
       "      <td>FM - VISHAL MARKETING RANCHI</td>\n",
       "      <td>FRANCHISEE</td>\n",
       "      <td>RANCHI</td>\n",
       "      <td>JHARKHAND</td>\n",
       "      <td>20ADLPK6516H1ZR</td>\n",
       "      <td>980570014836</td>\n",
       "      <td>98057010004836</td>\n",
       "      <td>...</td>\n",
       "      <td>1499.4</td>\n",
       "      <td>POS</td>\n",
       "      <td>SAP</td>\n",
       "      <td>None</td>\n",
       "      <td>None</td>\n",
       "      <td>VICU0062FM2008261230</td>\n",
       "      <td>2020</td>\n",
       "      <td>8</td>\n",
       "      <td>26</td>\n",
       "      <td>35</td>\n",
       "    </tr>\n",
       "    <tr>\n",
       "      <td>329054</td>\n",
       "      <td>EOD</td>\n",
       "      <td>VICU0062</td>\n",
       "      <td>98057</td>\n",
       "      <td>FM - VISHAL MARKETING RANCHI</td>\n",
       "      <td>FRANCHISEE</td>\n",
       "      <td>RANCHI</td>\n",
       "      <td>JHARKHAND</td>\n",
       "      <td>20ADLPK6516H1ZR</td>\n",
       "      <td>980570014847</td>\n",
       "      <td>98057010004847</td>\n",
       "      <td>...</td>\n",
       "      <td>1499.4</td>\n",
       "      <td>POS</td>\n",
       "      <td>SAP</td>\n",
       "      <td>None</td>\n",
       "      <td>None</td>\n",
       "      <td>VICU0062FM2008271230</td>\n",
       "      <td>2020</td>\n",
       "      <td>8</td>\n",
       "      <td>27</td>\n",
       "      <td>35</td>\n",
       "    </tr>\n",
       "  </tbody>\n",
       "</table>\n",
       "<p>329055 rows × 41 columns</p>\n",
       "</div>"
      ],
      "text/plain": [
       "       CHANNEL SAP_STORE_ID  XSTORE_STORE_ID                    STORE_NAME  \\\n",
       "0           EB         7501             7501                  ColeHaan Moi   \n",
       "1           EB         7501             7501                  ColeHaan Moi   \n",
       "2           EB         7501             7501                  ColeHaan Moi   \n",
       "3           EB         7501             7501                  ColeHaan Moi   \n",
       "4           EC         7502             7502          Cole Haan- Palladium   \n",
       "...        ...          ...              ...                           ...   \n",
       "329050     EOD     VICU0062            98057  FM - VISHAL MARKETING RANCHI   \n",
       "329051     EOD     VICU0062            98057  FM - VISHAL MARKETING RANCHI   \n",
       "329052     EOD     VICU0062            98057  FM - VISHAL MARKETING RANCHI   \n",
       "329053     EOD     VICU0062            98057  FM - VISHAL MARKETING RANCHI   \n",
       "329054     EOD     VICU0062            98057  FM - VISHAL MARKETING RANCHI   \n",
       "\n",
       "       OWNERSHIP_TYPE    CITY          STATE         GSTIN_NO  OLD_INVOICE_NO  \\\n",
       "0           OWN STORE   NOIDA  UTTAR PRADESH  09AAACH7252A1ZX     75010011828   \n",
       "1           OWN STORE   NOIDA  UTTAR PRADESH  09AAACH7252A1ZX     75010011833   \n",
       "2           OWN STORE   NOIDA  UTTAR PRADESH  09AAACH7252A1ZX     75010011838   \n",
       "3           OWN STORE   NOIDA  UTTAR PRADESH  09AAACH7252A1ZX     75010011855   \n",
       "4           OWN STORE  MUMBAI    MAHARASHTRA  27AAACH7252A1ZZ     75020012078   \n",
       "...               ...     ...            ...              ...             ...   \n",
       "329050     FRANCHISEE  RANCHI      JHARKHAND  20ADLPK6516H1ZR    980570014856   \n",
       "329051     FRANCHISEE  RANCHI      JHARKHAND  20ADLPK6516H1ZR    980570014865   \n",
       "329052     FRANCHISEE  RANCHI      JHARKHAND  20ADLPK6516H1ZR    980570014836   \n",
       "329053     FRANCHISEE  RANCHI      JHARKHAND  20ADLPK6516H1ZR    980570014836   \n",
       "329054     FRANCHISEE  RANCHI      JHARKHAND  20ADLPK6516H1ZR    980570014847   \n",
       "\n",
       "        NEW_INVOICE_NO  ... NET_AMOUNT ORDER_TYPE EXTERNAL_SYSTEM  \\\n",
       "0        7501010001828  ...     9498.5   TATACLIQ             FMS   \n",
       "1        7501010001833  ...     6498.5   TATACLIQ             FMS   \n",
       "2        7501010001838  ...     9498.5   TATACLIQ             FMS   \n",
       "3        7501010001855  ...     7498.5   TATACLIQ             FMS   \n",
       "4        7502010002078  ...    17999.0   TATACLIQ             FMS   \n",
       "...                ...  ...        ...        ...             ...   \n",
       "329050  98057010004856  ...      539.4        POS             SAP   \n",
       "329051  98057010004865  ...      399.5        POS             SAP   \n",
       "329052  98057010004836  ...     1499.4        POS             SAP   \n",
       "329053  98057010004836  ...     1499.4        POS             SAP   \n",
       "329054  98057010004847  ...     1499.4        POS             SAP   \n",
       "\n",
       "             AIL_ORDER_ID  AIL_ORDER_STATE            PO_REF_NBR  Year Month  \\\n",
       "0       200815-008-596161  124904011160110          7501FC200816  2020     8   \n",
       "1       200815-008-596889  124904011161638          7501FC200816  2020     8   \n",
       "2       200816-008-614235  124904011196215          7501FC200816  2020     8   \n",
       "3       200817-008-642963  124904011252064          7501FC200817  2020     8   \n",
       "4       200818-008-657583  124904011277252          7502FC200819  2020     8   \n",
       "...                   ...              ...                   ...   ...   ...   \n",
       "329050               None             None  VICU0062FM2008281230  2020     8   \n",
       "329051               None             None  VICU0062FM2008291230  2020     8   \n",
       "329052               None             None  VICU0062FM2008261230  2020     8   \n",
       "329053               None             None  VICU0062FM2008261230  2020     8   \n",
       "329054               None             None  VICU0062FM2008271230  2020     8   \n",
       "\n",
       "        Day week  \n",
       "0        16   33  \n",
       "1        16   33  \n",
       "2        16   33  \n",
       "3        17   34  \n",
       "4        19   34  \n",
       "...     ...  ...  \n",
       "329050   28   35  \n",
       "329051   29   35  \n",
       "329052   26   35  \n",
       "329053   26   35  \n",
       "329054   27   35  \n",
       "\n",
       "[329055 rows x 41 columns]"
      ]
     },
     "execution_count": 351,
     "metadata": {},
     "output_type": "execute_result"
    }
   ],
   "source": [
    "df"
   ]
  },
  {
   "cell_type": "code",
   "execution_count": 352,
   "metadata": {},
   "outputs": [
    {
     "data": {
      "text/plain": [
       "CHANNEL            329055\n",
       "SAP_STORE_ID       329055\n",
       "XSTORE_STORE_ID    329055\n",
       "STORE_NAME         329055\n",
       "OWNERSHIP_TYPE     329055\n",
       "CITY               329055\n",
       "STATE              329055\n",
       "GSTIN_NO           329055\n",
       "OLD_INVOICE_NO     329055\n",
       "NEW_INVOICE_NO     329055\n",
       "BUSINESS_DATE      329055\n",
       "SALE_TYPE          329055\n",
       "BRAND              325846\n",
       "SUBBRAND           325846\n",
       "CLASS              317302\n",
       "SUB_CLASS          321787\n",
       "MATERIAL_TYPE      329008\n",
       "MANUFACTURER       323153\n",
       "BARCODE            325825\n",
       "ITEM               329055\n",
       "STYLE              329055\n",
       "MRP                329055\n",
       "QUANTITY           329055\n",
       "DISCOUNT           329055\n",
       "TAXABLE_AMOUNT     329053\n",
       "HSN_CODE           328330\n",
       "SGST               328975\n",
       "CGST               328975\n",
       "IGST               328975\n",
       "CESS               329055\n",
       "TAX_RATE           328975\n",
       "NET_AMOUNT         329053\n",
       "ORDER_TYPE         329055\n",
       "EXTERNAL_SYSTEM    329053\n",
       "AIL_ORDER_ID        73752\n",
       "AIL_ORDER_STATE     64152\n",
       "PO_REF_NBR         329055\n",
       "Year               329055\n",
       "Month              329055\n",
       "Day                329055\n",
       "week               329055\n",
       "dtype: int64"
      ]
     },
     "execution_count": 352,
     "metadata": {},
     "output_type": "execute_result"
    }
   ],
   "source": [
    "\n",
    "df.count()"
   ]
  },
  {
   "cell_type": "code",
   "execution_count": 362,
   "metadata": {},
   "outputs": [
    {
     "name": "stdout",
     "output_type": "stream",
     "text": [
      "<class 'pandas.core.frame.DataFrame'>\n",
      "RangeIndex: 329055 entries, 0 to 329054\n",
      "Data columns (total 41 columns):\n",
      "CHANNEL            329055 non-null object\n",
      "SAP_STORE_ID       329055 non-null object\n",
      "XSTORE_STORE_ID    329055 non-null int64\n",
      "STORE_NAME         329055 non-null object\n",
      "OWNERSHIP_TYPE     329055 non-null object\n",
      "CITY               329055 non-null object\n",
      "STATE              329055 non-null object\n",
      "GSTIN_NO           329055 non-null object\n",
      "OLD_INVOICE_NO     329055 non-null int64\n",
      "NEW_INVOICE_NO     329055 non-null int64\n",
      "BUSINESS_DATE      329055 non-null datetime64[ns]\n",
      "SALE_TYPE          329055 non-null object\n",
      "BRAND              325846 non-null object\n",
      "SUBBRAND           325846 non-null object\n",
      "CLASS              317302 non-null object\n",
      "SUB_CLASS          321787 non-null object\n",
      "MATERIAL_TYPE      329008 non-null object\n",
      "MANUFACTURER       323153 non-null object\n",
      "BARCODE            325825 non-null float64\n",
      "ITEM               329055 non-null object\n",
      "STYLE              329055 non-null object\n",
      "MRP                329055 non-null float64\n",
      "QUANTITY           329055 non-null int64\n",
      "DISCOUNT           329055 non-null float64\n",
      "TAXABLE_AMOUNT     329053 non-null float64\n",
      "HSN_CODE           328330 non-null float64\n",
      "SGST               328975 non-null float64\n",
      "CGST               328975 non-null float64\n",
      "IGST               328975 non-null float64\n",
      "CESS               329055 non-null float64\n",
      "TAX_RATE           328975 non-null float64\n",
      "NET_AMOUNT         329053 non-null float64\n",
      "ORDER_TYPE         329055 non-null object\n",
      "EXTERNAL_SYSTEM    329053 non-null object\n",
      "AIL_ORDER_ID       73752 non-null object\n",
      "AIL_ORDER_STATE    64152 non-null object\n",
      "PO_REF_NBR         329055 non-null object\n",
      "Year               329055 non-null int64\n",
      "Month              329055 non-null int64\n",
      "Day                329055 non-null int64\n",
      "week               329055 non-null int64\n",
      "dtypes: datetime64[ns](1), float64(11), int64(8), object(21)\n",
      "memory usage: 102.9+ MB\n"
     ]
    }
   ],
   "source": [
    "sample = df\n",
    "sample.info()"
   ]
  },
  {
   "cell_type": "code",
   "execution_count": 367,
   "metadata": {},
   "outputs": [
    {
     "data": {
      "text/html": [
       "<div>\n",
       "<style scoped>\n",
       "    .dataframe tbody tr th:only-of-type {\n",
       "        vertical-align: middle;\n",
       "    }\n",
       "\n",
       "    .dataframe tbody tr th {\n",
       "        vertical-align: top;\n",
       "    }\n",
       "\n",
       "    .dataframe thead th {\n",
       "        text-align: right;\n",
       "    }\n",
       "</style>\n",
       "<table border=\"1\" class=\"dataframe\">\n",
       "  <thead>\n",
       "    <tr style=\"text-align: right;\">\n",
       "      <th></th>\n",
       "      <th>BUSINESS_DATE</th>\n",
       "      <th>QUANTITY</th>\n",
       "      <th>DISCOUNT</th>\n",
       "      <th>NET_AMOUNT</th>\n",
       "      <th>Year</th>\n",
       "      <th>Month</th>\n",
       "      <th>Day</th>\n",
       "      <th>week</th>\n",
       "    </tr>\n",
       "  </thead>\n",
       "  <tbody>\n",
       "    <tr>\n",
       "      <td>0</td>\n",
       "      <td>2020-08-16</td>\n",
       "      <td>1</td>\n",
       "      <td>0.0</td>\n",
       "      <td>9498.5</td>\n",
       "      <td>2020</td>\n",
       "      <td>8</td>\n",
       "      <td>16</td>\n",
       "      <td>33</td>\n",
       "    </tr>\n",
       "    <tr>\n",
       "      <td>1</td>\n",
       "      <td>2020-08-16</td>\n",
       "      <td>1</td>\n",
       "      <td>0.0</td>\n",
       "      <td>6498.5</td>\n",
       "      <td>2020</td>\n",
       "      <td>8</td>\n",
       "      <td>16</td>\n",
       "      <td>33</td>\n",
       "    </tr>\n",
       "    <tr>\n",
       "      <td>2</td>\n",
       "      <td>2020-08-16</td>\n",
       "      <td>1</td>\n",
       "      <td>0.0</td>\n",
       "      <td>9498.5</td>\n",
       "      <td>2020</td>\n",
       "      <td>8</td>\n",
       "      <td>16</td>\n",
       "      <td>33</td>\n",
       "    </tr>\n",
       "    <tr>\n",
       "      <td>3</td>\n",
       "      <td>2020-08-17</td>\n",
       "      <td>1</td>\n",
       "      <td>0.0</td>\n",
       "      <td>7498.5</td>\n",
       "      <td>2020</td>\n",
       "      <td>8</td>\n",
       "      <td>17</td>\n",
       "      <td>34</td>\n",
       "    </tr>\n",
       "    <tr>\n",
       "      <td>4</td>\n",
       "      <td>2020-08-19</td>\n",
       "      <td>1</td>\n",
       "      <td>0.0</td>\n",
       "      <td>17999.0</td>\n",
       "      <td>2020</td>\n",
       "      <td>8</td>\n",
       "      <td>19</td>\n",
       "      <td>34</td>\n",
       "    </tr>\n",
       "    <tr>\n",
       "      <td>...</td>\n",
       "      <td>...</td>\n",
       "      <td>...</td>\n",
       "      <td>...</td>\n",
       "      <td>...</td>\n",
       "      <td>...</td>\n",
       "      <td>...</td>\n",
       "      <td>...</td>\n",
       "      <td>...</td>\n",
       "    </tr>\n",
       "    <tr>\n",
       "      <td>329050</td>\n",
       "      <td>2020-08-28</td>\n",
       "      <td>1</td>\n",
       "      <td>359.6</td>\n",
       "      <td>539.4</td>\n",
       "      <td>2020</td>\n",
       "      <td>8</td>\n",
       "      <td>28</td>\n",
       "      <td>35</td>\n",
       "    </tr>\n",
       "    <tr>\n",
       "      <td>329051</td>\n",
       "      <td>2020-08-29</td>\n",
       "      <td>1</td>\n",
       "      <td>399.5</td>\n",
       "      <td>399.5</td>\n",
       "      <td>2020</td>\n",
       "      <td>8</td>\n",
       "      <td>29</td>\n",
       "      <td>35</td>\n",
       "    </tr>\n",
       "    <tr>\n",
       "      <td>329052</td>\n",
       "      <td>2020-08-26</td>\n",
       "      <td>1</td>\n",
       "      <td>999.6</td>\n",
       "      <td>1499.4</td>\n",
       "      <td>2020</td>\n",
       "      <td>8</td>\n",
       "      <td>26</td>\n",
       "      <td>35</td>\n",
       "    </tr>\n",
       "    <tr>\n",
       "      <td>329053</td>\n",
       "      <td>2020-08-26</td>\n",
       "      <td>1</td>\n",
       "      <td>999.6</td>\n",
       "      <td>1499.4</td>\n",
       "      <td>2020</td>\n",
       "      <td>8</td>\n",
       "      <td>26</td>\n",
       "      <td>35</td>\n",
       "    </tr>\n",
       "    <tr>\n",
       "      <td>329054</td>\n",
       "      <td>2020-08-27</td>\n",
       "      <td>1</td>\n",
       "      <td>999.6</td>\n",
       "      <td>1499.4</td>\n",
       "      <td>2020</td>\n",
       "      <td>8</td>\n",
       "      <td>27</td>\n",
       "      <td>35</td>\n",
       "    </tr>\n",
       "  </tbody>\n",
       "</table>\n",
       "<p>329055 rows × 8 columns</p>\n",
       "</div>"
      ],
      "text/plain": [
       "       BUSINESS_DATE  QUANTITY  DISCOUNT  NET_AMOUNT  Year  Month  Day  week\n",
       "0         2020-08-16         1       0.0      9498.5  2020      8   16    33\n",
       "1         2020-08-16         1       0.0      6498.5  2020      8   16    33\n",
       "2         2020-08-16         1       0.0      9498.5  2020      8   16    33\n",
       "3         2020-08-17         1       0.0      7498.5  2020      8   17    34\n",
       "4         2020-08-19         1       0.0     17999.0  2020      8   19    34\n",
       "...              ...       ...       ...         ...   ...    ...  ...   ...\n",
       "329050    2020-08-28         1     359.6       539.4  2020      8   28    35\n",
       "329051    2020-08-29         1     399.5       399.5  2020      8   29    35\n",
       "329052    2020-08-26         1     999.6      1499.4  2020      8   26    35\n",
       "329053    2020-08-26         1     999.6      1499.4  2020      8   26    35\n",
       "329054    2020-08-27         1     999.6      1499.4  2020      8   27    35\n",
       "\n",
       "[329055 rows x 8 columns]"
      ]
     },
     "execution_count": 367,
     "metadata": {},
     "output_type": "execute_result"
    }
   ],
   "source": [
    "sample_use = pd.DataFrame(sample, columns = ['BUSINESS_DATE','QUANTITY','DISCOUNT','NET_AMOUNT','Year','Month','Day','week']) \n",
    "  \n",
    "# print dataframe. \n",
    "sample_use"
   ]
  },
  {
   "cell_type": "code",
   "execution_count": 370,
   "metadata": {},
   "outputs": [
    {
     "data": {
      "text/plain": [
       "BUSINESS_DATE    False\n",
       "QUANTITY         False\n",
       "DISCOUNT         False\n",
       "NET_AMOUNT       False\n",
       "Year             False\n",
       "Month            False\n",
       "Day              False\n",
       "week             False\n",
       "dtype: bool"
      ]
     },
     "execution_count": 370,
     "metadata": {},
     "output_type": "execute_result"
    }
   ],
   "source": [
    "sample_use.isnull().any()"
   ]
  },
  {
   "cell_type": "code",
   "execution_count": 369,
   "metadata": {},
   "outputs": [],
   "source": [
    "sample_use = sample_use.dropna(axis=0)"
   ]
  },
  {
   "cell_type": "markdown",
   "metadata": {},
   "source": [
    "sample_use.info()"
   ]
  },
  {
   "cell_type": "code",
   "execution_count": 371,
   "metadata": {},
   "outputs": [
    {
     "name": "stdout",
     "output_type": "stream",
     "text": [
      "<class 'pandas.core.frame.DataFrame'>\n",
      "Int64Index: 329053 entries, 0 to 329054\n",
      "Data columns (total 8 columns):\n",
      "BUSINESS_DATE    329053 non-null datetime64[ns]\n",
      "QUANTITY         329053 non-null int64\n",
      "DISCOUNT         329053 non-null float64\n",
      "NET_AMOUNT       329053 non-null float64\n",
      "Year             329053 non-null int64\n",
      "Month            329053 non-null int64\n",
      "Day              329053 non-null int64\n",
      "week             329053 non-null int64\n",
      "dtypes: datetime64[ns](1), float64(2), int64(5)\n",
      "memory usage: 22.6 MB\n"
     ]
    }
   ],
   "source": [
    "sample_use.info()"
   ]
  },
  {
   "cell_type": "code",
   "execution_count": 381,
   "metadata": {},
   "outputs": [],
   "source": [
    "correct_use = sample_use.groupby(['BUSINESS_DATE'])['NET_AMOUNT'].sum().reset_index()"
   ]
  },
  {
   "cell_type": "code",
   "execution_count": 385,
   "metadata": {},
   "outputs": [
    {
     "data": {
      "text/html": [
       "<div>\n",
       "<style scoped>\n",
       "    .dataframe tbody tr th:only-of-type {\n",
       "        vertical-align: middle;\n",
       "    }\n",
       "\n",
       "    .dataframe tbody tr th {\n",
       "        vertical-align: top;\n",
       "    }\n",
       "\n",
       "    .dataframe thead th {\n",
       "        text-align: right;\n",
       "    }\n",
       "</style>\n",
       "<table border=\"1\" class=\"dataframe\">\n",
       "  <thead>\n",
       "    <tr style=\"text-align: right;\">\n",
       "      <th></th>\n",
       "      <th>BUSINESS_DATE</th>\n",
       "      <th>NET_AMOUNT</th>\n",
       "      <th>Year</th>\n",
       "      <th>Month</th>\n",
       "      <th>Day</th>\n",
       "      <th>Week</th>\n",
       "    </tr>\n",
       "  </thead>\n",
       "  <tbody>\n",
       "    <tr>\n",
       "      <td>0</td>\n",
       "      <td>2020-08-01</td>\n",
       "      <td>14933544.40</td>\n",
       "      <td>2020</td>\n",
       "      <td>8</td>\n",
       "      <td>1</td>\n",
       "      <td>31</td>\n",
       "    </tr>\n",
       "    <tr>\n",
       "      <td>1</td>\n",
       "      <td>2020-08-02</td>\n",
       "      <td>14477436.92</td>\n",
       "      <td>2020</td>\n",
       "      <td>8</td>\n",
       "      <td>2</td>\n",
       "      <td>31</td>\n",
       "    </tr>\n",
       "    <tr>\n",
       "      <td>2</td>\n",
       "      <td>2020-08-03</td>\n",
       "      <td>10591800.32</td>\n",
       "      <td>2020</td>\n",
       "      <td>8</td>\n",
       "      <td>3</td>\n",
       "      <td>32</td>\n",
       "    </tr>\n",
       "    <tr>\n",
       "      <td>3</td>\n",
       "      <td>2020-08-04</td>\n",
       "      <td>9512712.82</td>\n",
       "      <td>2020</td>\n",
       "      <td>8</td>\n",
       "      <td>4</td>\n",
       "      <td>32</td>\n",
       "    </tr>\n",
       "    <tr>\n",
       "      <td>4</td>\n",
       "      <td>2020-08-05</td>\n",
       "      <td>8748338.31</td>\n",
       "      <td>2020</td>\n",
       "      <td>8</td>\n",
       "      <td>5</td>\n",
       "      <td>32</td>\n",
       "    </tr>\n",
       "    <tr>\n",
       "      <td>5</td>\n",
       "      <td>2020-08-06</td>\n",
       "      <td>10273655.32</td>\n",
       "      <td>2020</td>\n",
       "      <td>8</td>\n",
       "      <td>6</td>\n",
       "      <td>32</td>\n",
       "    </tr>\n",
       "    <tr>\n",
       "      <td>6</td>\n",
       "      <td>2020-08-07</td>\n",
       "      <td>10354692.04</td>\n",
       "      <td>2020</td>\n",
       "      <td>8</td>\n",
       "      <td>7</td>\n",
       "      <td>32</td>\n",
       "    </tr>\n",
       "    <tr>\n",
       "      <td>7</td>\n",
       "      <td>2020-08-08</td>\n",
       "      <td>12831887.36</td>\n",
       "      <td>2020</td>\n",
       "      <td>8</td>\n",
       "      <td>8</td>\n",
       "      <td>32</td>\n",
       "    </tr>\n",
       "    <tr>\n",
       "      <td>8</td>\n",
       "      <td>2020-08-09</td>\n",
       "      <td>11898715.50</td>\n",
       "      <td>2020</td>\n",
       "      <td>8</td>\n",
       "      <td>9</td>\n",
       "      <td>32</td>\n",
       "    </tr>\n",
       "    <tr>\n",
       "      <td>9</td>\n",
       "      <td>2020-08-10</td>\n",
       "      <td>11108390.57</td>\n",
       "      <td>2020</td>\n",
       "      <td>8</td>\n",
       "      <td>10</td>\n",
       "      <td>33</td>\n",
       "    </tr>\n",
       "    <tr>\n",
       "      <td>10</td>\n",
       "      <td>2020-08-11</td>\n",
       "      <td>11610893.38</td>\n",
       "      <td>2020</td>\n",
       "      <td>8</td>\n",
       "      <td>11</td>\n",
       "      <td>33</td>\n",
       "    </tr>\n",
       "    <tr>\n",
       "      <td>11</td>\n",
       "      <td>2020-08-12</td>\n",
       "      <td>12880261.34</td>\n",
       "      <td>2020</td>\n",
       "      <td>8</td>\n",
       "      <td>12</td>\n",
       "      <td>33</td>\n",
       "    </tr>\n",
       "    <tr>\n",
       "      <td>12</td>\n",
       "      <td>2020-08-13</td>\n",
       "      <td>11038635.91</td>\n",
       "      <td>2020</td>\n",
       "      <td>8</td>\n",
       "      <td>13</td>\n",
       "      <td>33</td>\n",
       "    </tr>\n",
       "    <tr>\n",
       "      <td>13</td>\n",
       "      <td>2020-08-14</td>\n",
       "      <td>13369334.31</td>\n",
       "      <td>2020</td>\n",
       "      <td>8</td>\n",
       "      <td>14</td>\n",
       "      <td>33</td>\n",
       "    </tr>\n",
       "    <tr>\n",
       "      <td>14</td>\n",
       "      <td>2020-08-15</td>\n",
       "      <td>17960994.61</td>\n",
       "      <td>2020</td>\n",
       "      <td>8</td>\n",
       "      <td>15</td>\n",
       "      <td>33</td>\n",
       "    </tr>\n",
       "    <tr>\n",
       "      <td>15</td>\n",
       "      <td>2020-08-16</td>\n",
       "      <td>13252483.66</td>\n",
       "      <td>2020</td>\n",
       "      <td>8</td>\n",
       "      <td>16</td>\n",
       "      <td>33</td>\n",
       "    </tr>\n",
       "    <tr>\n",
       "      <td>16</td>\n",
       "      <td>2020-08-17</td>\n",
       "      <td>11654444.32</td>\n",
       "      <td>2020</td>\n",
       "      <td>8</td>\n",
       "      <td>17</td>\n",
       "      <td>34</td>\n",
       "    </tr>\n",
       "    <tr>\n",
       "      <td>17</td>\n",
       "      <td>2020-08-18</td>\n",
       "      <td>10928549.46</td>\n",
       "      <td>2020</td>\n",
       "      <td>8</td>\n",
       "      <td>18</td>\n",
       "      <td>34</td>\n",
       "    </tr>\n",
       "    <tr>\n",
       "      <td>18</td>\n",
       "      <td>2020-08-19</td>\n",
       "      <td>11348427.03</td>\n",
       "      <td>2020</td>\n",
       "      <td>8</td>\n",
       "      <td>19</td>\n",
       "      <td>34</td>\n",
       "    </tr>\n",
       "    <tr>\n",
       "      <td>19</td>\n",
       "      <td>2020-08-20</td>\n",
       "      <td>12228108.45</td>\n",
       "      <td>2020</td>\n",
       "      <td>8</td>\n",
       "      <td>20</td>\n",
       "      <td>34</td>\n",
       "    </tr>\n",
       "    <tr>\n",
       "      <td>20</td>\n",
       "      <td>2020-08-21</td>\n",
       "      <td>13817991.84</td>\n",
       "      <td>2020</td>\n",
       "      <td>8</td>\n",
       "      <td>21</td>\n",
       "      <td>34</td>\n",
       "    </tr>\n",
       "    <tr>\n",
       "      <td>21</td>\n",
       "      <td>2020-08-22</td>\n",
       "      <td>11089385.48</td>\n",
       "      <td>2020</td>\n",
       "      <td>8</td>\n",
       "      <td>22</td>\n",
       "      <td>34</td>\n",
       "    </tr>\n",
       "    <tr>\n",
       "      <td>22</td>\n",
       "      <td>2020-08-23</td>\n",
       "      <td>10758472.74</td>\n",
       "      <td>2020</td>\n",
       "      <td>8</td>\n",
       "      <td>23</td>\n",
       "      <td>34</td>\n",
       "    </tr>\n",
       "    <tr>\n",
       "      <td>23</td>\n",
       "      <td>2020-08-24</td>\n",
       "      <td>11022228.99</td>\n",
       "      <td>2020</td>\n",
       "      <td>8</td>\n",
       "      <td>24</td>\n",
       "      <td>35</td>\n",
       "    </tr>\n",
       "    <tr>\n",
       "      <td>24</td>\n",
       "      <td>2020-08-25</td>\n",
       "      <td>11087731.60</td>\n",
       "      <td>2020</td>\n",
       "      <td>8</td>\n",
       "      <td>25</td>\n",
       "      <td>35</td>\n",
       "    </tr>\n",
       "    <tr>\n",
       "      <td>25</td>\n",
       "      <td>2020-08-26</td>\n",
       "      <td>11022778.01</td>\n",
       "      <td>2020</td>\n",
       "      <td>8</td>\n",
       "      <td>26</td>\n",
       "      <td>35</td>\n",
       "    </tr>\n",
       "    <tr>\n",
       "      <td>26</td>\n",
       "      <td>2020-08-27</td>\n",
       "      <td>12087917.23</td>\n",
       "      <td>2020</td>\n",
       "      <td>8</td>\n",
       "      <td>27</td>\n",
       "      <td>35</td>\n",
       "    </tr>\n",
       "    <tr>\n",
       "      <td>27</td>\n",
       "      <td>2020-08-28</td>\n",
       "      <td>13595276.00</td>\n",
       "      <td>2020</td>\n",
       "      <td>8</td>\n",
       "      <td>28</td>\n",
       "      <td>35</td>\n",
       "    </tr>\n",
       "    <tr>\n",
       "      <td>28</td>\n",
       "      <td>2020-08-29</td>\n",
       "      <td>15018761.88</td>\n",
       "      <td>2020</td>\n",
       "      <td>8</td>\n",
       "      <td>29</td>\n",
       "      <td>35</td>\n",
       "    </tr>\n",
       "    <tr>\n",
       "      <td>29</td>\n",
       "      <td>2020-08-30</td>\n",
       "      <td>14599054.63</td>\n",
       "      <td>2020</td>\n",
       "      <td>8</td>\n",
       "      <td>30</td>\n",
       "      <td>35</td>\n",
       "    </tr>\n",
       "  </tbody>\n",
       "</table>\n",
       "</div>"
      ],
      "text/plain": [
       "   BUSINESS_DATE   NET_AMOUNT  Year  Month  Day  Week\n",
       "0     2020-08-01  14933544.40  2020      8    1    31\n",
       "1     2020-08-02  14477436.92  2020      8    2    31\n",
       "2     2020-08-03  10591800.32  2020      8    3    32\n",
       "3     2020-08-04   9512712.82  2020      8    4    32\n",
       "4     2020-08-05   8748338.31  2020      8    5    32\n",
       "5     2020-08-06  10273655.32  2020      8    6    32\n",
       "6     2020-08-07  10354692.04  2020      8    7    32\n",
       "7     2020-08-08  12831887.36  2020      8    8    32\n",
       "8     2020-08-09  11898715.50  2020      8    9    32\n",
       "9     2020-08-10  11108390.57  2020      8   10    33\n",
       "10    2020-08-11  11610893.38  2020      8   11    33\n",
       "11    2020-08-12  12880261.34  2020      8   12    33\n",
       "12    2020-08-13  11038635.91  2020      8   13    33\n",
       "13    2020-08-14  13369334.31  2020      8   14    33\n",
       "14    2020-08-15  17960994.61  2020      8   15    33\n",
       "15    2020-08-16  13252483.66  2020      8   16    33\n",
       "16    2020-08-17  11654444.32  2020      8   17    34\n",
       "17    2020-08-18  10928549.46  2020      8   18    34\n",
       "18    2020-08-19  11348427.03  2020      8   19    34\n",
       "19    2020-08-20  12228108.45  2020      8   20    34\n",
       "20    2020-08-21  13817991.84  2020      8   21    34\n",
       "21    2020-08-22  11089385.48  2020      8   22    34\n",
       "22    2020-08-23  10758472.74  2020      8   23    34\n",
       "23    2020-08-24  11022228.99  2020      8   24    35\n",
       "24    2020-08-25  11087731.60  2020      8   25    35\n",
       "25    2020-08-26  11022778.01  2020      8   26    35\n",
       "26    2020-08-27  12087917.23  2020      8   27    35\n",
       "27    2020-08-28  13595276.00  2020      8   28    35\n",
       "28    2020-08-29  15018761.88  2020      8   29    35\n",
       "29    2020-08-30  14599054.63  2020      8   30    35"
      ]
     },
     "execution_count": 385,
     "metadata": {},
     "output_type": "execute_result"
    }
   ],
   "source": [
    "correct_use"
   ]
  },
  {
   "cell_type": "code",
   "execution_count": 384,
   "metadata": {},
   "outputs": [],
   "source": [
    "correct_use['Year'] = correct_use['BUSINESS_DATE'].dt.year\n",
    "correct_use['Month'] = correct_use['BUSINESS_DATE'].dt.month\n",
    "correct_use['Day'] = correct_use['BUSINESS_DATE'].dt.day\n",
    "correct_use['Week'] = correct_use['BUSINESS_DATE'].dt.week"
   ]
  },
  {
   "cell_type": "code",
   "execution_count": 386,
   "metadata": {},
   "outputs": [],
   "source": [
    "import numpy as np\n",
    "from sklearn.model_selection import train_test_split, GridSearchCV, RandomizedSearchCV\n",
    "predictors = [x for x in correct_use.columns if x  in ['Year' , 'Month' , 'Day' , 'Week']]\n",
    "y = np.log (correct_use.NET_AMOUNT)\n",
    "X = correct_use"
   ]
  },
  {
   "cell_type": "code",
   "execution_count": 387,
   "metadata": {},
   "outputs": [
    {
     "data": {
      "text/plain": [
       "BUSINESS_DATE    False\n",
       "NET_AMOUNT       False\n",
       "Year             False\n",
       "Month            False\n",
       "Day              False\n",
       "Week             False\n",
       "dtype: bool"
      ]
     },
     "execution_count": 387,
     "metadata": {},
     "output_type": "execute_result"
    }
   ],
   "source": [
    "correct_use.isnull().any()"
   ]
  },
  {
   "cell_type": "code",
   "execution_count": 388,
   "metadata": {},
   "outputs": [
    {
     "data": {
      "text/html": [
       "<div>\n",
       "<style scoped>\n",
       "    .dataframe tbody tr th:only-of-type {\n",
       "        vertical-align: middle;\n",
       "    }\n",
       "\n",
       "    .dataframe tbody tr th {\n",
       "        vertical-align: top;\n",
       "    }\n",
       "\n",
       "    .dataframe thead th {\n",
       "        text-align: right;\n",
       "    }\n",
       "</style>\n",
       "<table border=\"1\" class=\"dataframe\">\n",
       "  <thead>\n",
       "    <tr style=\"text-align: right;\">\n",
       "      <th></th>\n",
       "      <th>BUSINESS_DATE</th>\n",
       "      <th>NET_AMOUNT</th>\n",
       "      <th>Year</th>\n",
       "      <th>Month</th>\n",
       "      <th>Day</th>\n",
       "      <th>Week</th>\n",
       "    </tr>\n",
       "  </thead>\n",
       "  <tbody>\n",
       "    <tr>\n",
       "      <td>0</td>\n",
       "      <td>2020-08-01</td>\n",
       "      <td>14933544.40</td>\n",
       "      <td>2020</td>\n",
       "      <td>8</td>\n",
       "      <td>1</td>\n",
       "      <td>31</td>\n",
       "    </tr>\n",
       "    <tr>\n",
       "      <td>1</td>\n",
       "      <td>2020-08-02</td>\n",
       "      <td>14477436.92</td>\n",
       "      <td>2020</td>\n",
       "      <td>8</td>\n",
       "      <td>2</td>\n",
       "      <td>31</td>\n",
       "    </tr>\n",
       "    <tr>\n",
       "      <td>2</td>\n",
       "      <td>2020-08-03</td>\n",
       "      <td>10591800.32</td>\n",
       "      <td>2020</td>\n",
       "      <td>8</td>\n",
       "      <td>3</td>\n",
       "      <td>32</td>\n",
       "    </tr>\n",
       "    <tr>\n",
       "      <td>3</td>\n",
       "      <td>2020-08-04</td>\n",
       "      <td>9512712.82</td>\n",
       "      <td>2020</td>\n",
       "      <td>8</td>\n",
       "      <td>4</td>\n",
       "      <td>32</td>\n",
       "    </tr>\n",
       "    <tr>\n",
       "      <td>4</td>\n",
       "      <td>2020-08-05</td>\n",
       "      <td>8748338.31</td>\n",
       "      <td>2020</td>\n",
       "      <td>8</td>\n",
       "      <td>5</td>\n",
       "      <td>32</td>\n",
       "    </tr>\n",
       "    <tr>\n",
       "      <td>5</td>\n",
       "      <td>2020-08-06</td>\n",
       "      <td>10273655.32</td>\n",
       "      <td>2020</td>\n",
       "      <td>8</td>\n",
       "      <td>6</td>\n",
       "      <td>32</td>\n",
       "    </tr>\n",
       "    <tr>\n",
       "      <td>6</td>\n",
       "      <td>2020-08-07</td>\n",
       "      <td>10354692.04</td>\n",
       "      <td>2020</td>\n",
       "      <td>8</td>\n",
       "      <td>7</td>\n",
       "      <td>32</td>\n",
       "    </tr>\n",
       "    <tr>\n",
       "      <td>7</td>\n",
       "      <td>2020-08-08</td>\n",
       "      <td>12831887.36</td>\n",
       "      <td>2020</td>\n",
       "      <td>8</td>\n",
       "      <td>8</td>\n",
       "      <td>32</td>\n",
       "    </tr>\n",
       "    <tr>\n",
       "      <td>8</td>\n",
       "      <td>2020-08-09</td>\n",
       "      <td>11898715.50</td>\n",
       "      <td>2020</td>\n",
       "      <td>8</td>\n",
       "      <td>9</td>\n",
       "      <td>32</td>\n",
       "    </tr>\n",
       "    <tr>\n",
       "      <td>9</td>\n",
       "      <td>2020-08-10</td>\n",
       "      <td>11108390.57</td>\n",
       "      <td>2020</td>\n",
       "      <td>8</td>\n",
       "      <td>10</td>\n",
       "      <td>33</td>\n",
       "    </tr>\n",
       "    <tr>\n",
       "      <td>10</td>\n",
       "      <td>2020-08-11</td>\n",
       "      <td>11610893.38</td>\n",
       "      <td>2020</td>\n",
       "      <td>8</td>\n",
       "      <td>11</td>\n",
       "      <td>33</td>\n",
       "    </tr>\n",
       "    <tr>\n",
       "      <td>11</td>\n",
       "      <td>2020-08-12</td>\n",
       "      <td>12880261.34</td>\n",
       "      <td>2020</td>\n",
       "      <td>8</td>\n",
       "      <td>12</td>\n",
       "      <td>33</td>\n",
       "    </tr>\n",
       "    <tr>\n",
       "      <td>12</td>\n",
       "      <td>2020-08-13</td>\n",
       "      <td>11038635.91</td>\n",
       "      <td>2020</td>\n",
       "      <td>8</td>\n",
       "      <td>13</td>\n",
       "      <td>33</td>\n",
       "    </tr>\n",
       "    <tr>\n",
       "      <td>13</td>\n",
       "      <td>2020-08-14</td>\n",
       "      <td>13369334.31</td>\n",
       "      <td>2020</td>\n",
       "      <td>8</td>\n",
       "      <td>14</td>\n",
       "      <td>33</td>\n",
       "    </tr>\n",
       "    <tr>\n",
       "      <td>14</td>\n",
       "      <td>2020-08-15</td>\n",
       "      <td>17960994.61</td>\n",
       "      <td>2020</td>\n",
       "      <td>8</td>\n",
       "      <td>15</td>\n",
       "      <td>33</td>\n",
       "    </tr>\n",
       "    <tr>\n",
       "      <td>15</td>\n",
       "      <td>2020-08-16</td>\n",
       "      <td>13252483.66</td>\n",
       "      <td>2020</td>\n",
       "      <td>8</td>\n",
       "      <td>16</td>\n",
       "      <td>33</td>\n",
       "    </tr>\n",
       "    <tr>\n",
       "      <td>16</td>\n",
       "      <td>2020-08-17</td>\n",
       "      <td>11654444.32</td>\n",
       "      <td>2020</td>\n",
       "      <td>8</td>\n",
       "      <td>17</td>\n",
       "      <td>34</td>\n",
       "    </tr>\n",
       "    <tr>\n",
       "      <td>17</td>\n",
       "      <td>2020-08-18</td>\n",
       "      <td>10928549.46</td>\n",
       "      <td>2020</td>\n",
       "      <td>8</td>\n",
       "      <td>18</td>\n",
       "      <td>34</td>\n",
       "    </tr>\n",
       "    <tr>\n",
       "      <td>18</td>\n",
       "      <td>2020-08-19</td>\n",
       "      <td>11348427.03</td>\n",
       "      <td>2020</td>\n",
       "      <td>8</td>\n",
       "      <td>19</td>\n",
       "      <td>34</td>\n",
       "    </tr>\n",
       "    <tr>\n",
       "      <td>19</td>\n",
       "      <td>2020-08-20</td>\n",
       "      <td>12228108.45</td>\n",
       "      <td>2020</td>\n",
       "      <td>8</td>\n",
       "      <td>20</td>\n",
       "      <td>34</td>\n",
       "    </tr>\n",
       "    <tr>\n",
       "      <td>20</td>\n",
       "      <td>2020-08-21</td>\n",
       "      <td>13817991.84</td>\n",
       "      <td>2020</td>\n",
       "      <td>8</td>\n",
       "      <td>21</td>\n",
       "      <td>34</td>\n",
       "    </tr>\n",
       "    <tr>\n",
       "      <td>21</td>\n",
       "      <td>2020-08-22</td>\n",
       "      <td>11089385.48</td>\n",
       "      <td>2020</td>\n",
       "      <td>8</td>\n",
       "      <td>22</td>\n",
       "      <td>34</td>\n",
       "    </tr>\n",
       "    <tr>\n",
       "      <td>22</td>\n",
       "      <td>2020-08-23</td>\n",
       "      <td>10758472.74</td>\n",
       "      <td>2020</td>\n",
       "      <td>8</td>\n",
       "      <td>23</td>\n",
       "      <td>34</td>\n",
       "    </tr>\n",
       "    <tr>\n",
       "      <td>23</td>\n",
       "      <td>2020-08-24</td>\n",
       "      <td>11022228.99</td>\n",
       "      <td>2020</td>\n",
       "      <td>8</td>\n",
       "      <td>24</td>\n",
       "      <td>35</td>\n",
       "    </tr>\n",
       "    <tr>\n",
       "      <td>24</td>\n",
       "      <td>2020-08-25</td>\n",
       "      <td>11087731.60</td>\n",
       "      <td>2020</td>\n",
       "      <td>8</td>\n",
       "      <td>25</td>\n",
       "      <td>35</td>\n",
       "    </tr>\n",
       "    <tr>\n",
       "      <td>25</td>\n",
       "      <td>2020-08-26</td>\n",
       "      <td>11022778.01</td>\n",
       "      <td>2020</td>\n",
       "      <td>8</td>\n",
       "      <td>26</td>\n",
       "      <td>35</td>\n",
       "    </tr>\n",
       "    <tr>\n",
       "      <td>26</td>\n",
       "      <td>2020-08-27</td>\n",
       "      <td>12087917.23</td>\n",
       "      <td>2020</td>\n",
       "      <td>8</td>\n",
       "      <td>27</td>\n",
       "      <td>35</td>\n",
       "    </tr>\n",
       "    <tr>\n",
       "      <td>27</td>\n",
       "      <td>2020-08-28</td>\n",
       "      <td>13595276.00</td>\n",
       "      <td>2020</td>\n",
       "      <td>8</td>\n",
       "      <td>28</td>\n",
       "      <td>35</td>\n",
       "    </tr>\n",
       "    <tr>\n",
       "      <td>28</td>\n",
       "      <td>2020-08-29</td>\n",
       "      <td>15018761.88</td>\n",
       "      <td>2020</td>\n",
       "      <td>8</td>\n",
       "      <td>29</td>\n",
       "      <td>35</td>\n",
       "    </tr>\n",
       "    <tr>\n",
       "      <td>29</td>\n",
       "      <td>2020-08-30</td>\n",
       "      <td>14599054.63</td>\n",
       "      <td>2020</td>\n",
       "      <td>8</td>\n",
       "      <td>30</td>\n",
       "      <td>35</td>\n",
       "    </tr>\n",
       "  </tbody>\n",
       "</table>\n",
       "</div>"
      ],
      "text/plain": [
       "   BUSINESS_DATE   NET_AMOUNT  Year  Month  Day  Week\n",
       "0     2020-08-01  14933544.40  2020      8    1    31\n",
       "1     2020-08-02  14477436.92  2020      8    2    31\n",
       "2     2020-08-03  10591800.32  2020      8    3    32\n",
       "3     2020-08-04   9512712.82  2020      8    4    32\n",
       "4     2020-08-05   8748338.31  2020      8    5    32\n",
       "5     2020-08-06  10273655.32  2020      8    6    32\n",
       "6     2020-08-07  10354692.04  2020      8    7    32\n",
       "7     2020-08-08  12831887.36  2020      8    8    32\n",
       "8     2020-08-09  11898715.50  2020      8    9    32\n",
       "9     2020-08-10  11108390.57  2020      8   10    33\n",
       "10    2020-08-11  11610893.38  2020      8   11    33\n",
       "11    2020-08-12  12880261.34  2020      8   12    33\n",
       "12    2020-08-13  11038635.91  2020      8   13    33\n",
       "13    2020-08-14  13369334.31  2020      8   14    33\n",
       "14    2020-08-15  17960994.61  2020      8   15    33\n",
       "15    2020-08-16  13252483.66  2020      8   16    33\n",
       "16    2020-08-17  11654444.32  2020      8   17    34\n",
       "17    2020-08-18  10928549.46  2020      8   18    34\n",
       "18    2020-08-19  11348427.03  2020      8   19    34\n",
       "19    2020-08-20  12228108.45  2020      8   20    34\n",
       "20    2020-08-21  13817991.84  2020      8   21    34\n",
       "21    2020-08-22  11089385.48  2020      8   22    34\n",
       "22    2020-08-23  10758472.74  2020      8   23    34\n",
       "23    2020-08-24  11022228.99  2020      8   24    35\n",
       "24    2020-08-25  11087731.60  2020      8   25    35\n",
       "25    2020-08-26  11022778.01  2020      8   26    35\n",
       "26    2020-08-27  12087917.23  2020      8   27    35\n",
       "27    2020-08-28  13595276.00  2020      8   28    35\n",
       "28    2020-08-29  15018761.88  2020      8   29    35\n",
       "29    2020-08-30  14599054.63  2020      8   30    35"
      ]
     },
     "execution_count": 388,
     "metadata": {},
     "output_type": "execute_result"
    }
   ],
   "source": [
    "X"
   ]
  },
  {
   "cell_type": "code",
   "execution_count": 389,
   "metadata": {},
   "outputs": [],
   "source": [
    "X_train, X_test, y_train, y_test = train_test_split(X, y, \n",
    "                                                    test_size = 0.3, # 30% for the evaluation set\n",
    "                                                    random_state = 42)"
   ]
  },
  {
   "cell_type": "code",
   "execution_count": 390,
   "metadata": {},
   "outputs": [],
   "source": [
    "params = {\n",
    "    'booster': 'gbtree', \n",
    "    'objective': 'reg:linear',\n",
    "    'subsample': 0.8, \n",
    "    'colsample_bytree': 0.85, \n",
    "    'eta': 0.01, \n",
    "    'max_depth': 16, \n",
    "    'seed': 42}"
   ]
  },
  {
   "cell_type": "code",
   "execution_count": 391,
   "metadata": {},
   "outputs": [],
   "source": [
    "import xgboost as xgb\n",
    "from xgboost.sklearn import XGBRegressor"
   ]
  },
  {
   "cell_type": "code",
   "execution_count": 392,
   "metadata": {},
   "outputs": [],
   "source": [
    "\n",
    "X_train.columns = X_train.columns.str.replace(' ' , '')\n",
    "X_test.columns =  X_test.columns.str.replace(' ' , '')\n"
   ]
  },
  {
   "cell_type": "code",
   "execution_count": 393,
   "metadata": {},
   "outputs": [],
   "source": [
    "predictors = [x.replace(' ' , '') for x in predictors]"
   ]
  },
  {
   "cell_type": "code",
   "execution_count": 394,
   "metadata": {},
   "outputs": [
    {
     "name": "stdout",
     "output_type": "stream",
     "text": [
      "[16:52:43] WARNING: C:/Users/Administrator/workspace/xgboost-win64_release_1.2.0/src/objective/regression_obj.cu:174: reg:linear is now deprecated in favor of reg:squarederror.\n",
      "[0]\ttrain-rmse:15.65438\ttest-rmse:15.65386\n",
      "Multiple eval metrics have been passed: 'test-rmse' will be used for early stopping.\n",
      "\n",
      "Will train until test-rmse hasn't improved in 50 rounds.\n",
      "[1]\ttrain-rmse:15.50730\ttest-rmse:15.50677\n",
      "[2]\ttrain-rmse:15.36136\ttest-rmse:15.36083\n",
      "[3]\ttrain-rmse:15.21603\ttest-rmse:15.21549\n",
      "[4]\ttrain-rmse:15.07132\ttest-rmse:15.07077\n",
      "[5]\ttrain-rmse:14.92901\ttest-rmse:14.92845\n",
      "[6]\ttrain-rmse:14.78782\ttest-rmse:14.78727\n",
      "[7]\ttrain-rmse:14.64796\ttest-rmse:14.64740\n",
      "[8]\ttrain-rmse:14.51072\ttest-rmse:14.51015\n",
      "[9]\ttrain-rmse:14.37621\ttest-rmse:14.37564\n",
      "[10]\ttrain-rmse:14.23982\ttest-rmse:14.23925\n",
      "[11]\ttrain-rmse:14.10635\ttest-rmse:14.10577\n",
      "[12]\ttrain-rmse:13.97418\ttest-rmse:13.97360\n",
      "[13]\ttrain-rmse:13.84398\ttest-rmse:13.84339\n",
      "[14]\ttrain-rmse:13.71272\ttest-rmse:13.71212\n",
      "[15]\ttrain-rmse:13.58242\ttest-rmse:13.58182\n",
      "[16]\ttrain-rmse:13.45368\ttest-rmse:13.45308\n",
      "[17]\ttrain-rmse:13.32593\ttest-rmse:13.32532\n",
      "[18]\ttrain-rmse:13.20193\ttest-rmse:13.20131\n",
      "[19]\ttrain-rmse:13.07791\ttest-rmse:13.07729\n",
      "[20]\ttrain-rmse:12.95480\ttest-rmse:12.95417\n",
      "[21]\ttrain-rmse:12.83222\ttest-rmse:12.83158\n",
      "[22]\ttrain-rmse:12.71148\ttest-rmse:12.71085\n",
      "[23]\ttrain-rmse:12.59114\ttest-rmse:12.59049\n",
      "[24]\ttrain-rmse:12.47736\ttest-rmse:12.47671\n",
      "[25]\ttrain-rmse:12.35963\ttest-rmse:12.35897\n",
      "[26]\ttrain-rmse:12.24301\ttest-rmse:12.24235\n",
      "[27]\ttrain-rmse:12.12730\ttest-rmse:12.12664\n",
      "[28]\ttrain-rmse:12.01247\ttest-rmse:12.01179\n",
      "[29]\ttrain-rmse:11.89864\ttest-rmse:11.89796\n",
      "[30]\ttrain-rmse:11.78541\ttest-rmse:11.78472\n",
      "[31]\ttrain-rmse:11.67652\ttest-rmse:11.67584\n",
      "[32]\ttrain-rmse:11.56585\ttest-rmse:11.56516\n",
      "[33]\ttrain-rmse:11.45741\ttest-rmse:11.45671\n",
      "[34]\ttrain-rmse:11.34956\ttest-rmse:11.34885\n",
      "[35]\ttrain-rmse:11.24169\ttest-rmse:11.24097\n",
      "[36]\ttrain-rmse:11.13511\ttest-rmse:11.13439\n",
      "[37]\ttrain-rmse:11.02965\ttest-rmse:11.02892\n",
      "[38]\ttrain-rmse:10.92547\ttest-rmse:10.92474\n",
      "[39]\ttrain-rmse:10.82206\ttest-rmse:10.82132\n",
      "[40]\ttrain-rmse:10.71931\ttest-rmse:10.71856\n",
      "[41]\ttrain-rmse:10.61962\ttest-rmse:10.61887\n",
      "[42]\ttrain-rmse:10.51973\ttest-rmse:10.51897\n",
      "[43]\ttrain-rmse:10.41996\ttest-rmse:10.41919\n",
      "[44]\ttrain-rmse:10.32115\ttest-rmse:10.32038\n",
      "[45]\ttrain-rmse:10.22388\ttest-rmse:10.22310\n",
      "[46]\ttrain-rmse:10.12764\ttest-rmse:10.12685\n",
      "[47]\ttrain-rmse:10.03126\ttest-rmse:10.03046\n",
      "[48]\ttrain-rmse:9.93657\ttest-rmse:9.93576\n",
      "[49]\ttrain-rmse:9.84227\ttest-rmse:9.84146\n",
      "[50]\ttrain-rmse:9.74972\ttest-rmse:9.74891\n",
      "[51]\ttrain-rmse:9.65886\ttest-rmse:9.65803\n",
      "[52]\ttrain-rmse:9.56772\ttest-rmse:9.56689\n",
      "[53]\ttrain-rmse:9.47791\ttest-rmse:9.47707\n",
      "[54]\ttrain-rmse:9.38857\ttest-rmse:9.38772\n",
      "[55]\ttrain-rmse:9.29995\ttest-rmse:9.29910\n",
      "[56]\ttrain-rmse:9.21221\ttest-rmse:9.21135\n",
      "[57]\ttrain-rmse:9.12460\ttest-rmse:9.12373\n",
      "[58]\ttrain-rmse:9.03783\ttest-rmse:9.03695\n",
      "[59]\ttrain-rmse:8.95279\ttest-rmse:8.95190\n",
      "[60]\ttrain-rmse:8.86895\ttest-rmse:8.86806\n",
      "[61]\ttrain-rmse:8.78461\ttest-rmse:8.78371\n",
      "[62]\ttrain-rmse:8.70186\ttest-rmse:8.70096\n",
      "[63]\ttrain-rmse:8.61908\ttest-rmse:8.61817\n",
      "[64]\ttrain-rmse:8.53766\ttest-rmse:8.53674\n",
      "[65]\ttrain-rmse:8.45690\ttest-rmse:8.45597\n",
      "[66]\ttrain-rmse:8.37741\ttest-rmse:8.37647\n",
      "[67]\ttrain-rmse:8.29920\ttest-rmse:8.29825\n",
      "[68]\ttrain-rmse:8.22106\ttest-rmse:8.22010\n",
      "[69]\ttrain-rmse:8.14376\ttest-rmse:8.14279\n",
      "[70]\ttrain-rmse:8.06714\ttest-rmse:8.06616\n",
      "[71]\ttrain-rmse:7.99163\ttest-rmse:7.99064\n",
      "[72]\ttrain-rmse:7.91639\ttest-rmse:7.91540\n",
      "[73]\ttrain-rmse:7.84102\ttest-rmse:7.84001\n",
      "[74]\ttrain-rmse:7.76715\ttest-rmse:7.76614\n",
      "[75]\ttrain-rmse:7.69377\ttest-rmse:7.69276\n",
      "[76]\ttrain-rmse:7.62122\ttest-rmse:7.62019\n",
      "[77]\ttrain-rmse:7.54907\ttest-rmse:7.54804\n",
      "[78]\ttrain-rmse:7.47795\ttest-rmse:7.47690\n",
      "[79]\ttrain-rmse:7.40706\ttest-rmse:7.40600\n",
      "[80]\ttrain-rmse:7.33729\ttest-rmse:7.33623\n",
      "[81]\ttrain-rmse:7.26762\ttest-rmse:7.26654\n",
      "[82]\ttrain-rmse:7.19895\ttest-rmse:7.19787\n",
      "[83]\ttrain-rmse:7.13195\ttest-rmse:7.13086\n",
      "[84]\ttrain-rmse:7.06410\ttest-rmse:7.06299\n",
      "[85]\ttrain-rmse:6.99706\ttest-rmse:6.99594\n",
      "[86]\ttrain-rmse:6.93187\ttest-rmse:6.93075\n",
      "[87]\ttrain-rmse:6.86637\ttest-rmse:6.86524\n",
      "[88]\ttrain-rmse:6.80155\ttest-rmse:6.80040\n",
      "[89]\ttrain-rmse:6.73681\ttest-rmse:6.73566\n",
      "[90]\ttrain-rmse:6.67308\ttest-rmse:6.67191\n",
      "[91]\ttrain-rmse:6.61039\ttest-rmse:6.60922\n",
      "[92]\ttrain-rmse:6.54789\ttest-rmse:6.54670\n",
      "[93]\ttrain-rmse:6.48571\ttest-rmse:6.48451\n",
      "[94]\ttrain-rmse:6.42483\ttest-rmse:6.42362\n",
      "[95]\ttrain-rmse:6.36399\ttest-rmse:6.36277\n",
      "[96]\ttrain-rmse:6.30407\ttest-rmse:6.30284\n",
      "[97]\ttrain-rmse:6.24417\ttest-rmse:6.24292\n",
      "[98]\ttrain-rmse:6.18578\ttest-rmse:6.18453\n",
      "[99]\ttrain-rmse:6.12813\ttest-rmse:6.12686\n",
      "[100]\ttrain-rmse:6.07020\ttest-rmse:6.06892\n",
      "[101]\ttrain-rmse:6.01328\ttest-rmse:6.01200\n",
      "[102]\ttrain-rmse:5.95701\ttest-rmse:5.95571\n",
      "[103]\ttrain-rmse:5.90077\ttest-rmse:5.89946\n",
      "[104]\ttrain-rmse:5.84553\ttest-rmse:5.84420\n",
      "[105]\ttrain-rmse:5.79075\ttest-rmse:5.78942\n",
      "[106]\ttrain-rmse:5.73566\ttest-rmse:5.73431\n",
      "[107]\ttrain-rmse:5.68199\ttest-rmse:5.68063\n",
      "[108]\ttrain-rmse:5.62794\ttest-rmse:5.62657\n",
      "[109]\ttrain-rmse:5.57490\ttest-rmse:5.57351\n",
      "[110]\ttrain-rmse:5.52255\ttest-rmse:5.52115\n",
      "[111]\ttrain-rmse:5.47020\ttest-rmse:5.46879\n",
      "[112]\ttrain-rmse:5.41870\ttest-rmse:5.41727\n",
      "[113]\ttrain-rmse:5.36778\ttest-rmse:5.36634\n",
      "[114]\ttrain-rmse:5.31694\ttest-rmse:5.31549\n",
      "[115]\ttrain-rmse:5.26632\ttest-rmse:5.26485\n",
      "[116]\ttrain-rmse:5.21754\ttest-rmse:5.21606\n",
      "[117]\ttrain-rmse:5.16843\ttest-rmse:5.16693\n",
      "[118]\ttrain-rmse:5.11989\ttest-rmse:5.11838\n",
      "[119]\ttrain-rmse:5.07174\ttest-rmse:5.07022\n",
      "[120]\ttrain-rmse:5.02369\ttest-rmse:5.02216\n",
      "[121]\ttrain-rmse:4.97691\ttest-rmse:4.97536\n",
      "[122]\ttrain-rmse:4.92975\ttest-rmse:4.92819\n",
      "[123]\ttrain-rmse:4.88312\ttest-rmse:4.88154\n",
      "[124]\ttrain-rmse:4.83697\ttest-rmse:4.83538\n",
      "[125]\ttrain-rmse:4.79119\ttest-rmse:4.78958\n",
      "[126]\ttrain-rmse:4.74576\ttest-rmse:4.74414\n",
      "[127]\ttrain-rmse:4.70137\ttest-rmse:4.69973\n",
      "[128]\ttrain-rmse:4.65692\ttest-rmse:4.65526\n",
      "[129]\ttrain-rmse:4.61296\ttest-rmse:4.61130\n",
      "[130]\ttrain-rmse:4.56962\ttest-rmse:4.56794\n",
      "[131]\ttrain-rmse:4.52765\ttest-rmse:4.52595\n",
      "[132]\ttrain-rmse:4.48488\ttest-rmse:4.48317\n",
      "[133]\ttrain-rmse:4.44285\ttest-rmse:4.44112\n",
      "[134]\ttrain-rmse:4.40087\ttest-rmse:4.39912\n",
      "[135]\ttrain-rmse:4.35935\ttest-rmse:4.35759\n",
      "[136]\ttrain-rmse:4.31813\ttest-rmse:4.31635\n",
      "[137]\ttrain-rmse:4.27724\ttest-rmse:4.27544\n",
      "[138]\ttrain-rmse:4.23710\ttest-rmse:4.23530\n",
      "[139]\ttrain-rmse:4.19757\ttest-rmse:4.19574\n",
      "[140]\ttrain-rmse:4.15772\ttest-rmse:4.15587\n",
      "[141]\ttrain-rmse:4.11840\ttest-rmse:4.11654\n",
      "[142]\ttrain-rmse:4.07928\ttest-rmse:4.07741\n",
      "[143]\ttrain-rmse:4.04078\ttest-rmse:4.03889\n",
      "[144]\ttrain-rmse:4.00269\ttest-rmse:4.00078\n",
      "[145]\ttrain-rmse:3.96472\ttest-rmse:3.96279\n",
      "[146]\ttrain-rmse:3.92736\ttest-rmse:3.92541\n",
      "[147]\ttrain-rmse:3.89030\ttest-rmse:3.88834\n",
      "[148]\ttrain-rmse:3.85379\ttest-rmse:3.85181\n",
      "[149]\ttrain-rmse:3.81733\ttest-rmse:3.81533\n",
      "[150]\ttrain-rmse:3.78100\ttest-rmse:3.77898\n",
      "[151]\ttrain-rmse:3.74538\ttest-rmse:3.74334\n",
      "[152]\ttrain-rmse:3.71095\ttest-rmse:3.70890\n",
      "[153]\ttrain-rmse:3.67588\ttest-rmse:3.67380\n",
      "[154]\ttrain-rmse:3.64107\ttest-rmse:3.63897\n",
      "[155]\ttrain-rmse:3.60694\ttest-rmse:3.60482\n",
      "[156]\ttrain-rmse:3.57272\ttest-rmse:3.57058\n",
      "[157]\ttrain-rmse:3.53899\ttest-rmse:3.53684\n",
      "[158]\ttrain-rmse:3.50568\ttest-rmse:3.50351\n",
      "[159]\ttrain-rmse:3.47268\ttest-rmse:3.47049\n",
      "[160]\ttrain-rmse:3.43986\ttest-rmse:3.43765\n",
      "[161]\ttrain-rmse:3.40790\ttest-rmse:3.40567\n",
      "[162]\ttrain-rmse:3.37614\ttest-rmse:3.37388\n",
      "[163]\ttrain-rmse:3.34415\ttest-rmse:3.34187\n",
      "[164]\ttrain-rmse:3.31246\ttest-rmse:3.31016\n",
      "[165]\ttrain-rmse:3.28107\ttest-rmse:3.27875\n",
      "[166]\ttrain-rmse:3.25016\ttest-rmse:3.24782\n",
      "[167]\ttrain-rmse:3.21959\ttest-rmse:3.21722\n",
      "[168]\ttrain-rmse:3.18920\ttest-rmse:3.18682\n",
      "[169]\ttrain-rmse:3.15917\ttest-rmse:3.15676\n",
      "[170]\ttrain-rmse:3.12904\ttest-rmse:3.12661\n",
      "[171]\ttrain-rmse:3.09947\ttest-rmse:3.09701\n",
      "[172]\ttrain-rmse:3.07036\ttest-rmse:3.06788\n",
      "[173]\ttrain-rmse:3.04160\ttest-rmse:3.03910\n",
      "[174]\ttrain-rmse:3.01293\ttest-rmse:3.01040\n",
      "[175]\ttrain-rmse:2.98448\ttest-rmse:2.98193\n",
      "[176]\ttrain-rmse:2.95670\ttest-rmse:2.95413\n",
      "[177]\ttrain-rmse:2.92865\ttest-rmse:2.92606\n",
      "[178]\ttrain-rmse:2.90141\ttest-rmse:2.89879\n",
      "[179]\ttrain-rmse:2.87404\ttest-rmse:2.87139\n",
      "[180]\ttrain-rmse:2.84721\ttest-rmse:2.84455\n",
      "[181]\ttrain-rmse:2.82042\ttest-rmse:2.81773\n",
      "[182]\ttrain-rmse:2.79397\ttest-rmse:2.79125\n",
      "[183]\ttrain-rmse:2.76785\ttest-rmse:2.76511\n"
     ]
    },
    {
     "name": "stdout",
     "output_type": "stream",
     "text": [
      "[184]\ttrain-rmse:2.74182\ttest-rmse:2.73906\n",
      "[185]\ttrain-rmse:2.71587\ttest-rmse:2.71308\n",
      "[186]\ttrain-rmse:2.69009\ttest-rmse:2.68727\n",
      "[187]\ttrain-rmse:2.66461\ttest-rmse:2.66176\n",
      "[188]\ttrain-rmse:2.63992\ttest-rmse:2.63705\n",
      "[189]\ttrain-rmse:2.61521\ttest-rmse:2.61231\n",
      "[190]\ttrain-rmse:2.59054\ttest-rmse:2.58761\n",
      "[191]\ttrain-rmse:2.56683\ttest-rmse:2.56388\n",
      "[192]\ttrain-rmse:2.54271\ttest-rmse:2.53973\n",
      "[193]\ttrain-rmse:2.51923\ttest-rmse:2.51622\n",
      "[194]\ttrain-rmse:2.49548\ttest-rmse:2.49245\n",
      "[195]\ttrain-rmse:2.47189\ttest-rmse:2.46883\n",
      "[196]\ttrain-rmse:2.44902\ttest-rmse:2.44593\n",
      "[197]\ttrain-rmse:2.42608\ttest-rmse:2.42296\n",
      "[198]\ttrain-rmse:2.40298\ttest-rmse:2.39983\n",
      "[199]\ttrain-rmse:2.38049\ttest-rmse:2.37731\n",
      "[200]\ttrain-rmse:2.35825\ttest-rmse:2.35504\n",
      "[201]\ttrain-rmse:2.33645\ttest-rmse:2.33321\n",
      "[202]\ttrain-rmse:2.31437\ttest-rmse:2.31110\n",
      "[203]\ttrain-rmse:2.29260\ttest-rmse:2.28930\n",
      "[204]\ttrain-rmse:2.27108\ttest-rmse:2.26775\n",
      "[205]\ttrain-rmse:2.24968\ttest-rmse:2.24632\n",
      "[206]\ttrain-rmse:2.22835\ttest-rmse:2.22496\n",
      "[207]\ttrain-rmse:2.20755\ttest-rmse:2.20412\n",
      "[208]\ttrain-rmse:2.18659\ttest-rmse:2.18314\n",
      "[209]\ttrain-rmse:2.16587\ttest-rmse:2.16238\n",
      "[210]\ttrain-rmse:2.14529\ttest-rmse:2.14177\n",
      "[211]\ttrain-rmse:2.12537\ttest-rmse:2.12181\n",
      "[212]\ttrain-rmse:2.10533\ttest-rmse:2.10174\n",
      "[213]\ttrain-rmse:2.08534\ttest-rmse:2.08172\n",
      "[214]\ttrain-rmse:2.06664\ttest-rmse:2.06298\n",
      "[215]\ttrain-rmse:2.04716\ttest-rmse:2.04347\n",
      "[216]\ttrain-rmse:2.02805\ttest-rmse:2.02433\n",
      "[217]\ttrain-rmse:2.00919\ttest-rmse:2.00543\n",
      "[218]\ttrain-rmse:1.99014\ttest-rmse:1.98634\n",
      "[219]\ttrain-rmse:1.97158\ttest-rmse:1.96775\n",
      "[220]\ttrain-rmse:1.95322\ttest-rmse:1.94936\n",
      "[221]\ttrain-rmse:1.93530\ttest-rmse:1.93140\n",
      "[222]\ttrain-rmse:1.91693\ttest-rmse:1.91299\n",
      "[223]\ttrain-rmse:1.89873\ttest-rmse:1.89475\n",
      "[224]\ttrain-rmse:1.88078\ttest-rmse:1.87677\n",
      "[225]\ttrain-rmse:1.86299\ttest-rmse:1.85894\n",
      "[226]\ttrain-rmse:1.84528\ttest-rmse:1.84119\n",
      "[227]\ttrain-rmse:1.82804\ttest-rmse:1.82392\n",
      "[228]\ttrain-rmse:1.81075\ttest-rmse:1.80659\n",
      "[229]\ttrain-rmse:1.79390\ttest-rmse:1.78970\n",
      "[230]\ttrain-rmse:1.77687\ttest-rmse:1.77263\n",
      "[231]\ttrain-rmse:1.76051\ttest-rmse:1.75623\n",
      "[232]\ttrain-rmse:1.74413\ttest-rmse:1.73981\n",
      "[233]\ttrain-rmse:1.72776\ttest-rmse:1.72339\n",
      "[234]\ttrain-rmse:1.71168\ttest-rmse:1.70728\n",
      "[235]\ttrain-rmse:1.69602\ttest-rmse:1.69157\n",
      "[236]\ttrain-rmse:1.68013\ttest-rmse:1.67565\n",
      "[237]\ttrain-rmse:1.66468\ttest-rmse:1.66016\n",
      "[238]\ttrain-rmse:1.64896\ttest-rmse:1.64439\n",
      "[239]\ttrain-rmse:1.63362\ttest-rmse:1.62901\n",
      "[240]\ttrain-rmse:1.61881\ttest-rmse:1.61415\n",
      "[241]\ttrain-rmse:1.60405\ttest-rmse:1.59936\n",
      "[242]\ttrain-rmse:1.58916\ttest-rmse:1.58442\n",
      "[243]\ttrain-rmse:1.57424\ttest-rmse:1.56946\n",
      "[244]\ttrain-rmse:1.56006\ttest-rmse:1.55523\n",
      "[245]\ttrain-rmse:1.54532\ttest-rmse:1.54045\n",
      "[246]\ttrain-rmse:1.53104\ttest-rmse:1.52612\n",
      "[247]\ttrain-rmse:1.51677\ttest-rmse:1.51181\n",
      "[248]\ttrain-rmse:1.50285\ttest-rmse:1.49784\n",
      "[249]\ttrain-rmse:1.48916\ttest-rmse:1.48411\n",
      "[250]\ttrain-rmse:1.47521\ttest-rmse:1.47011\n",
      "[251]\ttrain-rmse:1.46120\ttest-rmse:1.45605\n",
      "[252]\ttrain-rmse:1.44773\ttest-rmse:1.44253\n",
      "[253]\ttrain-rmse:1.43419\ttest-rmse:1.42894\n",
      "[254]\ttrain-rmse:1.42097\ttest-rmse:1.41568\n",
      "[255]\ttrain-rmse:1.40760\ttest-rmse:1.40226\n",
      "[256]\ttrain-rmse:1.39457\ttest-rmse:1.38917\n",
      "[257]\ttrain-rmse:1.38142\ttest-rmse:1.37597\n",
      "[258]\ttrain-rmse:1.36851\ttest-rmse:1.36302\n",
      "[259]\ttrain-rmse:1.35596\ttest-rmse:1.35041\n",
      "[260]\ttrain-rmse:1.34339\ttest-rmse:1.33779\n",
      "[261]\ttrain-rmse:1.33067\ttest-rmse:1.32502\n",
      "[262]\ttrain-rmse:1.31824\ttest-rmse:1.31253\n",
      "[263]\ttrain-rmse:1.30594\ttest-rmse:1.30018\n",
      "[264]\ttrain-rmse:1.29365\ttest-rmse:1.28784\n",
      "[265]\ttrain-rmse:1.28164\ttest-rmse:1.27577\n",
      "[266]\ttrain-rmse:1.26945\ttest-rmse:1.26353\n",
      "[267]\ttrain-rmse:1.25756\ttest-rmse:1.25158\n",
      "[268]\ttrain-rmse:1.24570\ttest-rmse:1.23966\n",
      "[269]\ttrain-rmse:1.23400\ttest-rmse:1.22790\n",
      "[270]\ttrain-rmse:1.22250\ttest-rmse:1.21635\n",
      "[271]\ttrain-rmse:1.21108\ttest-rmse:1.20487\n",
      "[272]\ttrain-rmse:1.19982\ttest-rmse:1.19355\n",
      "[273]\ttrain-rmse:1.18882\ttest-rmse:1.18250\n",
      "[274]\ttrain-rmse:1.17778\ttest-rmse:1.17140\n",
      "[275]\ttrain-rmse:1.16658\ttest-rmse:1.16013\n",
      "[276]\ttrain-rmse:1.15574\ttest-rmse:1.14923\n",
      "[277]\ttrain-rmse:1.14551\ttest-rmse:1.13895\n",
      "[278]\ttrain-rmse:1.13485\ttest-rmse:1.12822\n",
      "[279]\ttrain-rmse:1.12451\ttest-rmse:1.11783\n",
      "[280]\ttrain-rmse:1.11441\ttest-rmse:1.10766\n",
      "[281]\ttrain-rmse:1.10411\ttest-rmse:1.09730\n",
      "[282]\ttrain-rmse:1.09379\ttest-rmse:1.08691\n",
      "[283]\ttrain-rmse:1.08365\ttest-rmse:1.07672\n",
      "[284]\ttrain-rmse:1.07353\ttest-rmse:1.06652\n",
      "[285]\ttrain-rmse:1.06330\ttest-rmse:1.05623\n",
      "[286]\ttrain-rmse:1.05338\ttest-rmse:1.04625\n",
      "[287]\ttrain-rmse:1.04358\ttest-rmse:1.03637\n",
      "[288]\ttrain-rmse:1.03410\ttest-rmse:1.02683\n",
      "[289]\ttrain-rmse:1.02441\ttest-rmse:1.01707\n",
      "[290]\ttrain-rmse:1.01492\ttest-rmse:1.00751\n",
      "[291]\ttrain-rmse:1.00553\ttest-rmse:0.99805\n",
      "[292]\ttrain-rmse:0.99631\ttest-rmse:0.98877\n",
      "[293]\ttrain-rmse:0.98695\ttest-rmse:0.97933\n",
      "[294]\ttrain-rmse:0.97786\ttest-rmse:0.97017\n",
      "[295]\ttrain-rmse:0.96922\ttest-rmse:0.96146\n",
      "[296]\ttrain-rmse:0.96058\ttest-rmse:0.95276\n",
      "[297]\ttrain-rmse:0.95176\ttest-rmse:0.94387\n",
      "[298]\ttrain-rmse:0.94314\ttest-rmse:0.93517\n",
      "[299]\ttrain-rmse:0.93440\ttest-rmse:0.92635\n",
      "[300]\ttrain-rmse:0.92575\ttest-rmse:0.91763\n",
      "[301]\ttrain-rmse:0.91726\ttest-rmse:0.90907\n",
      "[302]\ttrain-rmse:0.90930\ttest-rmse:0.90103\n",
      "[303]\ttrain-rmse:0.90111\ttest-rmse:0.89277\n",
      "[304]\ttrain-rmse:0.89307\ttest-rmse:0.88465\n",
      "[305]\ttrain-rmse:0.88480\ttest-rmse:0.87631\n",
      "[306]\ttrain-rmse:0.87687\ttest-rmse:0.86829\n",
      "[307]\ttrain-rmse:0.86894\ttest-rmse:0.86029\n",
      "[308]\ttrain-rmse:0.86066\ttest-rmse:0.85193\n",
      "[309]\ttrain-rmse:0.85282\ttest-rmse:0.84401\n",
      "[310]\ttrain-rmse:0.84507\ttest-rmse:0.83617\n",
      "[311]\ttrain-rmse:0.83725\ttest-rmse:0.82827\n",
      "[312]\ttrain-rmse:0.82983\ttest-rmse:0.82077\n",
      "[313]\ttrain-rmse:0.82267\ttest-rmse:0.81353\n",
      "[314]\ttrain-rmse:0.81539\ttest-rmse:0.80617\n",
      "[315]\ttrain-rmse:0.80789\ttest-rmse:0.79858\n",
      "[316]\ttrain-rmse:0.80037\ttest-rmse:0.79098\n",
      "[317]\ttrain-rmse:0.79313\ttest-rmse:0.78365\n",
      "[318]\ttrain-rmse:0.78573\ttest-rmse:0.77615\n",
      "[319]\ttrain-rmse:0.77850\ttest-rmse:0.76884\n",
      "[320]\ttrain-rmse:0.77151\ttest-rmse:0.76176\n",
      "[321]\ttrain-rmse:0.76475\ttest-rmse:0.75491\n",
      "[322]\ttrain-rmse:0.75774\ttest-rmse:0.74781\n",
      "[323]\ttrain-rmse:0.75119\ttest-rmse:0.74117\n",
      "[324]\ttrain-rmse:0.74440\ttest-rmse:0.73429\n",
      "[325]\ttrain-rmse:0.73757\ttest-rmse:0.72737\n",
      "[326]\ttrain-rmse:0.73077\ttest-rmse:0.72047\n",
      "[327]\ttrain-rmse:0.72441\ttest-rmse:0.71402\n",
      "[328]\ttrain-rmse:0.71791\ttest-rmse:0.70743\n",
      "[329]\ttrain-rmse:0.71158\ttest-rmse:0.70100\n",
      "[330]\ttrain-rmse:0.70527\ttest-rmse:0.69459\n",
      "[331]\ttrain-rmse:0.69905\ttest-rmse:0.68828\n",
      "[332]\ttrain-rmse:0.69281\ttest-rmse:0.68195\n",
      "[333]\ttrain-rmse:0.68630\ttest-rmse:0.67532\n",
      "[334]\ttrain-rmse:0.68012\ttest-rmse:0.66905\n",
      "[335]\ttrain-rmse:0.67481\ttest-rmse:0.66260\n",
      "[336]\ttrain-rmse:0.66883\ttest-rmse:0.65652\n",
      "[337]\ttrain-rmse:0.66281\ttest-rmse:0.65040\n",
      "[338]\ttrain-rmse:0.65685\ttest-rmse:0.64434\n",
      "[339]\ttrain-rmse:0.65064\ttest-rmse:0.63802\n",
      "[340]\ttrain-rmse:0.64479\ttest-rmse:0.63206\n",
      "[341]\ttrain-rmse:0.63902\ttest-rmse:0.62619\n",
      "[342]\ttrain-rmse:0.63337\ttest-rmse:0.62043\n",
      "[343]\ttrain-rmse:0.62775\ttest-rmse:0.61471\n",
      "[344]\ttrain-rmse:0.62224\ttest-rmse:0.60909\n",
      "[345]\ttrain-rmse:0.61697\ttest-rmse:0.60372\n",
      "[346]\ttrain-rmse:0.61169\ttest-rmse:0.59833\n",
      "[347]\ttrain-rmse:0.60648\ttest-rmse:0.59301\n",
      "[348]\ttrain-rmse:0.60147\ttest-rmse:0.58790\n",
      "[349]\ttrain-rmse:0.59629\ttest-rmse:0.58261\n",
      "[350]\ttrain-rmse:0.59098\ttest-rmse:0.57719\n",
      "[351]\ttrain-rmse:0.58600\ttest-rmse:0.57210\n",
      "[352]\ttrain-rmse:0.58082\ttest-rmse:0.56680\n",
      "[353]\ttrain-rmse:0.57659\ttest-rmse:0.56248\n",
      "[354]\ttrain-rmse:0.57174\ttest-rmse:0.55752\n",
      "[355]\ttrain-rmse:0.56698\ttest-rmse:0.55264\n",
      "[356]\ttrain-rmse:0.56200\ttest-rmse:0.54754\n",
      "[357]\ttrain-rmse:0.55701\ttest-rmse:0.54243\n",
      "[358]\ttrain-rmse:0.55214\ttest-rmse:0.53744\n",
      "[359]\ttrain-rmse:0.54737\ttest-rmse:0.53256\n",
      "[360]\ttrain-rmse:0.54266\ttest-rmse:0.52772\n",
      "[361]\ttrain-rmse:0.53789\ttest-rmse:0.52283\n",
      "[362]\ttrain-rmse:0.53353\ttest-rmse:0.51836\n",
      "[363]\ttrain-rmse:0.52903\ttest-rmse:0.51373\n",
      "[364]\ttrain-rmse:0.52445\ttest-rmse:0.50902\n",
      "[365]\ttrain-rmse:0.52004\ttest-rmse:0.50449\n",
      "[366]\ttrain-rmse:0.51570\ttest-rmse:0.50002\n",
      "[367]\ttrain-rmse:0.51166\ttest-rmse:0.49587\n",
      "[368]\ttrain-rmse:0.50734\ttest-rmse:0.49142\n",
      "[369]\ttrain-rmse:0.50278\ttest-rmse:0.48672\n",
      "[370]\ttrain-rmse:0.49842\ttest-rmse:0.48223\n",
      "[371]\ttrain-rmse:0.49424\ttest-rmse:0.47792\n",
      "[372]\ttrain-rmse:0.49002\ttest-rmse:0.47356\n",
      "[373]\ttrain-rmse:0.48590\ttest-rmse:0.46931\n",
      "[374]\ttrain-rmse:0.48158\ttest-rmse:0.46485\n"
     ]
    },
    {
     "name": "stdout",
     "output_type": "stream",
     "text": [
      "[375]\ttrain-rmse:0.47779\ttest-rmse:0.46093\n",
      "[376]\ttrain-rmse:0.47369\ttest-rmse:0.45669\n",
      "[377]\ttrain-rmse:0.46983\ttest-rmse:0.45270\n",
      "[378]\ttrain-rmse:0.46613\ttest-rmse:0.44886\n",
      "[379]\ttrain-rmse:0.46240\ttest-rmse:0.44500\n",
      "[380]\ttrain-rmse:0.45875\ttest-rmse:0.44122\n",
      "[381]\ttrain-rmse:0.45526\ttest-rmse:0.43760\n",
      "[382]\ttrain-rmse:0.45141\ttest-rmse:0.43361\n",
      "[383]\ttrain-rmse:0.44763\ttest-rmse:0.42967\n",
      "[384]\ttrain-rmse:0.44427\ttest-rmse:0.42556\n",
      "[385]\ttrain-rmse:0.44075\ttest-rmse:0.42190\n",
      "[386]\ttrain-rmse:0.43736\ttest-rmse:0.41838\n",
      "[387]\ttrain-rmse:0.43395\ttest-rmse:0.41437\n",
      "[388]\ttrain-rmse:0.43023\ttest-rmse:0.41050\n",
      "[389]\ttrain-rmse:0.42666\ttest-rmse:0.40679\n",
      "[390]\ttrain-rmse:0.42332\ttest-rmse:0.40283\n",
      "[391]\ttrain-rmse:0.42008\ttest-rmse:0.39945\n",
      "[392]\ttrain-rmse:0.41698\ttest-rmse:0.39622\n",
      "[393]\ttrain-rmse:0.41430\ttest-rmse:0.39304\n",
      "[394]\ttrain-rmse:0.41115\ttest-rmse:0.38974\n",
      "[395]\ttrain-rmse:0.40803\ttest-rmse:0.38611\n",
      "[396]\ttrain-rmse:0.40474\ttest-rmse:0.38267\n",
      "[397]\ttrain-rmse:0.40147\ttest-rmse:0.37925\n",
      "[398]\ttrain-rmse:0.39802\ttest-rmse:0.37564\n",
      "[399]\ttrain-rmse:0.39493\ttest-rmse:0.37240\n",
      "[400]\ttrain-rmse:0.39164\ttest-rmse:0.36895\n",
      "[401]\ttrain-rmse:0.38876\ttest-rmse:0.36541\n",
      "[402]\ttrain-rmse:0.38576\ttest-rmse:0.36227\n",
      "[403]\ttrain-rmse:0.38294\ttest-rmse:0.35931\n",
      "[404]\ttrain-rmse:0.37999\ttest-rmse:0.35620\n",
      "[405]\ttrain-rmse:0.37701\ttest-rmse:0.35307\n",
      "[406]\ttrain-rmse:0.37411\ttest-rmse:0.35002\n",
      "[407]\ttrain-rmse:0.37133\ttest-rmse:0.34708\n",
      "[408]\ttrain-rmse:0.36819\ttest-rmse:0.34377\n",
      "[409]\ttrain-rmse:0.36536\ttest-rmse:0.34079\n",
      "[410]\ttrain-rmse:0.36275\ttest-rmse:0.33803\n",
      "[411]\ttrain-rmse:0.36012\ttest-rmse:0.33525\n",
      "[412]\ttrain-rmse:0.35734\ttest-rmse:0.33232\n",
      "[413]\ttrain-rmse:0.35460\ttest-rmse:0.32941\n",
      "[414]\ttrain-rmse:0.35200\ttest-rmse:0.32665\n",
      "[415]\ttrain-rmse:0.34934\ttest-rmse:0.32383\n",
      "[416]\ttrain-rmse:0.34687\ttest-rmse:0.32096\n",
      "[417]\ttrain-rmse:0.34424\ttest-rmse:0.31816\n",
      "[418]\ttrain-rmse:0.34159\ttest-rmse:0.31501\n",
      "[419]\ttrain-rmse:0.33904\ttest-rmse:0.31229\n",
      "[420]\ttrain-rmse:0.33643\ttest-rmse:0.30952\n",
      "[421]\ttrain-rmse:0.33394\ttest-rmse:0.30686\n",
      "[422]\ttrain-rmse:0.33148\ttest-rmse:0.30424\n",
      "[423]\ttrain-rmse:0.32886\ttest-rmse:0.30144\n",
      "[424]\ttrain-rmse:0.32625\ttest-rmse:0.29866\n",
      "[425]\ttrain-rmse:0.32377\ttest-rmse:0.29600\n",
      "[426]\ttrain-rmse:0.32138\ttest-rmse:0.29318\n",
      "[427]\ttrain-rmse:0.31916\ttest-rmse:0.29060\n",
      "[428]\ttrain-rmse:0.31697\ttest-rmse:0.28826\n",
      "[429]\ttrain-rmse:0.31471\ttest-rmse:0.28584\n",
      "[430]\ttrain-rmse:0.31266\ttest-rmse:0.28364\n",
      "[431]\ttrain-rmse:0.31113\ttest-rmse:0.28203\n",
      "[432]\ttrain-rmse:0.30885\ttest-rmse:0.27945\n",
      "[433]\ttrain-rmse:0.30707\ttest-rmse:0.27754\n",
      "[434]\ttrain-rmse:0.30483\ttest-rmse:0.27513\n",
      "[435]\ttrain-rmse:0.30288\ttest-rmse:0.27304\n",
      "[436]\ttrain-rmse:0.30070\ttest-rmse:0.27069\n",
      "[437]\ttrain-rmse:0.29884\ttest-rmse:0.26869\n",
      "[438]\ttrain-rmse:0.29637\ttest-rmse:0.26588\n",
      "[439]\ttrain-rmse:0.29414\ttest-rmse:0.26341\n",
      "[440]\ttrain-rmse:0.29229\ttest-rmse:0.26141\n",
      "[441]\ttrain-rmse:0.29024\ttest-rmse:0.25921\n",
      "[442]\ttrain-rmse:0.28846\ttest-rmse:0.25729\n",
      "[443]\ttrain-rmse:0.28646\ttest-rmse:0.25512\n",
      "[444]\ttrain-rmse:0.28446\ttest-rmse:0.25297\n",
      "[445]\ttrain-rmse:0.28232\ttest-rmse:0.25060\n",
      "[446]\ttrain-rmse:0.28041\ttest-rmse:0.24860\n",
      "[447]\ttrain-rmse:0.27872\ttest-rmse:0.24671\n",
      "[448]\ttrain-rmse:0.27686\ttest-rmse:0.24470\n",
      "[449]\ttrain-rmse:0.27523\ttest-rmse:0.24256\n",
      "[450]\ttrain-rmse:0.27362\ttest-rmse:0.24083\n",
      "[451]\ttrain-rmse:0.27165\ttest-rmse:0.23869\n",
      "[452]\ttrain-rmse:0.26987\ttest-rmse:0.23653\n",
      "[453]\ttrain-rmse:0.26819\ttest-rmse:0.23507\n",
      "[454]\ttrain-rmse:0.26637\ttest-rmse:0.23297\n",
      "[455]\ttrain-rmse:0.26463\ttest-rmse:0.23116\n",
      "[456]\ttrain-rmse:0.26283\ttest-rmse:0.22922\n",
      "[457]\ttrain-rmse:0.26125\ttest-rmse:0.22740\n",
      "[458]\ttrain-rmse:0.25983\ttest-rmse:0.22618\n",
      "[459]\ttrain-rmse:0.25793\ttest-rmse:0.22413\n",
      "[460]\ttrain-rmse:0.25629\ttest-rmse:0.22237\n",
      "[461]\ttrain-rmse:0.25467\ttest-rmse:0.22062\n",
      "[462]\ttrain-rmse:0.25288\ttest-rmse:0.21872\n",
      "[463]\ttrain-rmse:0.25133\ttest-rmse:0.21704\n",
      "[464]\ttrain-rmse:0.25019\ttest-rmse:0.21557\n",
      "[465]\ttrain-rmse:0.24860\ttest-rmse:0.21386\n",
      "[466]\ttrain-rmse:0.24693\ttest-rmse:0.21191\n",
      "[467]\ttrain-rmse:0.24541\ttest-rmse:0.21026\n",
      "[468]\ttrain-rmse:0.24383\ttest-rmse:0.20857\n",
      "[469]\ttrain-rmse:0.24229\ttest-rmse:0.20691\n",
      "[470]\ttrain-rmse:0.24076\ttest-rmse:0.20572\n",
      "[471]\ttrain-rmse:0.23944\ttest-rmse:0.20448\n",
      "[472]\ttrain-rmse:0.23789\ttest-rmse:0.20281\n",
      "[473]\ttrain-rmse:0.23630\ttest-rmse:0.20117\n",
      "[474]\ttrain-rmse:0.23496\ttest-rmse:0.19990\n",
      "[475]\ttrain-rmse:0.23350\ttest-rmse:0.19833\n",
      "[476]\ttrain-rmse:0.23203\ttest-rmse:0.19676\n",
      "[477]\ttrain-rmse:0.23075\ttest-rmse:0.19507\n",
      "[478]\ttrain-rmse:0.22946\ttest-rmse:0.19385\n",
      "[479]\ttrain-rmse:0.22822\ttest-rmse:0.19262\n",
      "[480]\ttrain-rmse:0.22691\ttest-rmse:0.19133\n",
      "[481]\ttrain-rmse:0.22551\ttest-rmse:0.18983\n",
      "[482]\ttrain-rmse:0.22424\ttest-rmse:0.18876\n",
      "[483]\ttrain-rmse:0.22283\ttest-rmse:0.18722\n",
      "[484]\ttrain-rmse:0.22180\ttest-rmse:0.18612\n",
      "[485]\ttrain-rmse:0.22029\ttest-rmse:0.18457\n",
      "[486]\ttrain-rmse:0.21894\ttest-rmse:0.18313\n",
      "[487]\ttrain-rmse:0.21799\ttest-rmse:0.18219\n",
      "[488]\ttrain-rmse:0.21660\ttest-rmse:0.18104\n",
      "[489]\ttrain-rmse:0.21546\ttest-rmse:0.18009\n",
      "[490]\ttrain-rmse:0.21422\ttest-rmse:0.17877\n",
      "[491]\ttrain-rmse:0.21305\ttest-rmse:0.17770\n",
      "[492]\ttrain-rmse:0.21186\ttest-rmse:0.17638\n",
      "[493]\ttrain-rmse:0.21082\ttest-rmse:0.17576\n",
      "[494]\ttrain-rmse:0.20963\ttest-rmse:0.17450\n",
      "[495]\ttrain-rmse:0.20842\ttest-rmse:0.17366\n",
      "[496]\ttrain-rmse:0.20723\ttest-rmse:0.17278\n",
      "[497]\ttrain-rmse:0.20610\ttest-rmse:0.17159\n",
      "[498]\ttrain-rmse:0.20487\ttest-rmse:0.17056\n",
      "[499]\ttrain-rmse:0.20351\ttest-rmse:0.16954\n",
      "[500]\ttrain-rmse:0.20236\ttest-rmse:0.16859\n",
      "[501]\ttrain-rmse:0.20122\ttest-rmse:0.16779\n",
      "[502]\ttrain-rmse:0.20014\ttest-rmse:0.16658\n",
      "[503]\ttrain-rmse:0.19895\ttest-rmse:0.16601\n",
      "[504]\ttrain-rmse:0.19791\ttest-rmse:0.16495\n",
      "[505]\ttrain-rmse:0.19688\ttest-rmse:0.16431\n",
      "[506]\ttrain-rmse:0.19566\ttest-rmse:0.16345\n",
      "[507]\ttrain-rmse:0.19444\ttest-rmse:0.16230\n",
      "[508]\ttrain-rmse:0.19337\ttest-rmse:0.16125\n",
      "[509]\ttrain-rmse:0.19261\ttest-rmse:0.16048\n",
      "[510]\ttrain-rmse:0.19152\ttest-rmse:0.15978\n",
      "[511]\ttrain-rmse:0.19039\ttest-rmse:0.15870\n",
      "[512]\ttrain-rmse:0.18930\ttest-rmse:0.15759\n",
      "[513]\ttrain-rmse:0.18812\ttest-rmse:0.15651\n",
      "[514]\ttrain-rmse:0.18707\ttest-rmse:0.15545\n",
      "[515]\ttrain-rmse:0.18594\ttest-rmse:0.15466\n",
      "[516]\ttrain-rmse:0.18481\ttest-rmse:0.15365\n",
      "[517]\ttrain-rmse:0.18388\ttest-rmse:0.15306\n",
      "[518]\ttrain-rmse:0.18302\ttest-rmse:0.15236\n",
      "[519]\ttrain-rmse:0.18189\ttest-rmse:0.15144\n",
      "[520]\ttrain-rmse:0.18119\ttest-rmse:0.15069\n",
      "[521]\ttrain-rmse:0.18031\ttest-rmse:0.15006\n",
      "[522]\ttrain-rmse:0.17930\ttest-rmse:0.14933\n",
      "[523]\ttrain-rmse:0.17833\ttest-rmse:0.14839\n",
      "[524]\ttrain-rmse:0.17733\ttest-rmse:0.14768\n",
      "[525]\ttrain-rmse:0.17648\ttest-rmse:0.14702\n",
      "[526]\ttrain-rmse:0.17570\ttest-rmse:0.14660\n",
      "[527]\ttrain-rmse:0.17479\ttest-rmse:0.14597\n",
      "[528]\ttrain-rmse:0.17384\ttest-rmse:0.14574\n",
      "[529]\ttrain-rmse:0.17307\ttest-rmse:0.14533\n",
      "[530]\ttrain-rmse:0.17207\ttest-rmse:0.14479\n",
      "[531]\ttrain-rmse:0.17142\ttest-rmse:0.14437\n",
      "[532]\ttrain-rmse:0.17065\ttest-rmse:0.14379\n",
      "[533]\ttrain-rmse:0.16966\ttest-rmse:0.14320\n",
      "[534]\ttrain-rmse:0.16861\ttest-rmse:0.14257\n",
      "[535]\ttrain-rmse:0.16779\ttest-rmse:0.14202\n",
      "[536]\ttrain-rmse:0.16693\ttest-rmse:0.14117\n",
      "[537]\ttrain-rmse:0.16594\ttest-rmse:0.14043\n",
      "[538]\ttrain-rmse:0.16515\ttest-rmse:0.13995\n",
      "[539]\ttrain-rmse:0.16428\ttest-rmse:0.13935\n",
      "[540]\ttrain-rmse:0.16345\ttest-rmse:0.13864\n",
      "[541]\ttrain-rmse:0.16259\ttest-rmse:0.13786\n",
      "[542]\ttrain-rmse:0.16176\ttest-rmse:0.13707\n",
      "[543]\ttrain-rmse:0.16099\ttest-rmse:0.13652\n",
      "[544]\ttrain-rmse:0.16026\ttest-rmse:0.13586\n",
      "[545]\ttrain-rmse:0.15963\ttest-rmse:0.13546\n",
      "[546]\ttrain-rmse:0.15896\ttest-rmse:0.13500\n",
      "[547]\ttrain-rmse:0.15833\ttest-rmse:0.13437\n",
      "[548]\ttrain-rmse:0.15760\ttest-rmse:0.13369\n",
      "[549]\ttrain-rmse:0.15688\ttest-rmse:0.13320\n",
      "[550]\ttrain-rmse:0.15639\ttest-rmse:0.13275\n",
      "[551]\ttrain-rmse:0.15546\ttest-rmse:0.13209\n",
      "[552]\ttrain-rmse:0.15481\ttest-rmse:0.13152\n",
      "[553]\ttrain-rmse:0.15408\ttest-rmse:0.13138\n",
      "[554]\ttrain-rmse:0.15339\ttest-rmse:0.13078\n",
      "[555]\ttrain-rmse:0.15257\ttest-rmse:0.13043\n",
      "[556]\ttrain-rmse:0.15179\ttest-rmse:0.12979\n",
      "[557]\ttrain-rmse:0.15100\ttest-rmse:0.12907\n",
      "[558]\ttrain-rmse:0.15058\ttest-rmse:0.12910\n",
      "[559]\ttrain-rmse:0.14973\ttest-rmse:0.12854\n",
      "[560]\ttrain-rmse:0.14911\ttest-rmse:0.12810\n",
      "[561]\ttrain-rmse:0.14842\ttest-rmse:0.12759\n",
      "[562]\ttrain-rmse:0.14776\ttest-rmse:0.12717\n",
      "[563]\ttrain-rmse:0.14715\ttest-rmse:0.12703\n",
      "[564]\ttrain-rmse:0.14650\ttest-rmse:0.12703\n",
      "[565]\ttrain-rmse:0.14575\ttest-rmse:0.12658\n"
     ]
    },
    {
     "name": "stdout",
     "output_type": "stream",
     "text": [
      "[566]\ttrain-rmse:0.14494\ttest-rmse:0.12623\n",
      "[567]\ttrain-rmse:0.14435\ttest-rmse:0.12609\n",
      "[568]\ttrain-rmse:0.14391\ttest-rmse:0.12581\n",
      "[569]\ttrain-rmse:0.14326\ttest-rmse:0.12549\n",
      "[570]\ttrain-rmse:0.14253\ttest-rmse:0.12536\n",
      "[571]\ttrain-rmse:0.14180\ttest-rmse:0.12489\n",
      "[572]\ttrain-rmse:0.14104\ttest-rmse:0.12455\n",
      "[573]\ttrain-rmse:0.14041\ttest-rmse:0.12415\n",
      "[574]\ttrain-rmse:0.13970\ttest-rmse:0.12404\n",
      "[575]\ttrain-rmse:0.13906\ttest-rmse:0.12357\n",
      "[576]\ttrain-rmse:0.13835\ttest-rmse:0.12309\n",
      "[577]\ttrain-rmse:0.13764\ttest-rmse:0.12278\n",
      "[578]\ttrain-rmse:0.13706\ttest-rmse:0.12256\n",
      "[579]\ttrain-rmse:0.13638\ttest-rmse:0.12213\n",
      "[580]\ttrain-rmse:0.13562\ttest-rmse:0.12182\n",
      "[581]\ttrain-rmse:0.13503\ttest-rmse:0.12149\n",
      "[582]\ttrain-rmse:0.13452\ttest-rmse:0.12119\n",
      "[583]\ttrain-rmse:0.13396\ttest-rmse:0.12085\n",
      "[584]\ttrain-rmse:0.13332\ttest-rmse:0.12084\n",
      "[585]\ttrain-rmse:0.13256\ttest-rmse:0.12062\n",
      "[586]\ttrain-rmse:0.13209\ttest-rmse:0.12048\n",
      "[587]\ttrain-rmse:0.13144\ttest-rmse:0.12019\n",
      "[588]\ttrain-rmse:0.13095\ttest-rmse:0.11996\n",
      "[589]\ttrain-rmse:0.13042\ttest-rmse:0.11964\n",
      "[590]\ttrain-rmse:0.12981\ttest-rmse:0.11922\n",
      "[591]\ttrain-rmse:0.12922\ttest-rmse:0.11880\n",
      "[592]\ttrain-rmse:0.12858\ttest-rmse:0.11853\n",
      "[593]\ttrain-rmse:0.12802\ttest-rmse:0.11804\n",
      "[594]\ttrain-rmse:0.12738\ttest-rmse:0.11776\n",
      "[595]\ttrain-rmse:0.12670\ttest-rmse:0.11745\n",
      "[596]\ttrain-rmse:0.12601\ttest-rmse:0.11698\n",
      "[597]\ttrain-rmse:0.12542\ttest-rmse:0.11690\n",
      "[598]\ttrain-rmse:0.12476\ttest-rmse:0.11664\n",
      "[599]\ttrain-rmse:0.12405\ttest-rmse:0.11631\n",
      "[600]\ttrain-rmse:0.12328\ttest-rmse:0.11592\n",
      "[601]\ttrain-rmse:0.12265\ttest-rmse:0.11568\n",
      "[602]\ttrain-rmse:0.12239\ttest-rmse:0.11540\n",
      "[603]\ttrain-rmse:0.12201\ttest-rmse:0.11528\n",
      "[604]\ttrain-rmse:0.12139\ttest-rmse:0.11503\n",
      "[605]\ttrain-rmse:0.12079\ttest-rmse:0.11466\n",
      "[606]\ttrain-rmse:0.12027\ttest-rmse:0.11426\n",
      "[607]\ttrain-rmse:0.11963\ttest-rmse:0.11389\n",
      "[608]\ttrain-rmse:0.11907\ttest-rmse:0.11383\n",
      "[609]\ttrain-rmse:0.11869\ttest-rmse:0.11382\n",
      "[610]\ttrain-rmse:0.11804\ttest-rmse:0.11335\n",
      "[611]\ttrain-rmse:0.11762\ttest-rmse:0.11321\n",
      "[612]\ttrain-rmse:0.11721\ttest-rmse:0.11315\n",
      "[613]\ttrain-rmse:0.11660\ttest-rmse:0.11281\n",
      "[614]\ttrain-rmse:0.11623\ttest-rmse:0.11259\n",
      "[615]\ttrain-rmse:0.11580\ttest-rmse:0.11247\n",
      "[616]\ttrain-rmse:0.11518\ttest-rmse:0.11225\n",
      "[617]\ttrain-rmse:0.11473\ttest-rmse:0.11181\n",
      "[618]\ttrain-rmse:0.11434\ttest-rmse:0.11162\n",
      "[619]\ttrain-rmse:0.11372\ttest-rmse:0.11141\n",
      "[620]\ttrain-rmse:0.11311\ttest-rmse:0.11096\n",
      "[621]\ttrain-rmse:0.11255\ttest-rmse:0.11058\n",
      "[622]\ttrain-rmse:0.11194\ttest-rmse:0.11019\n",
      "[623]\ttrain-rmse:0.11145\ttest-rmse:0.11028\n",
      "[624]\ttrain-rmse:0.11124\ttest-rmse:0.11020\n",
      "[625]\ttrain-rmse:0.11066\ttest-rmse:0.10999\n",
      "[626]\ttrain-rmse:0.11040\ttest-rmse:0.10983\n",
      "[627]\ttrain-rmse:0.10991\ttest-rmse:0.10952\n",
      "[628]\ttrain-rmse:0.10954\ttest-rmse:0.10950\n",
      "[629]\ttrain-rmse:0.10914\ttest-rmse:0.10921\n",
      "[630]\ttrain-rmse:0.10856\ttest-rmse:0.10879\n",
      "[631]\ttrain-rmse:0.10801\ttest-rmse:0.10857\n",
      "[632]\ttrain-rmse:0.10762\ttest-rmse:0.10843\n",
      "[633]\ttrain-rmse:0.10719\ttest-rmse:0.10823\n",
      "[634]\ttrain-rmse:0.10662\ttest-rmse:0.10803\n",
      "[635]\ttrain-rmse:0.10620\ttest-rmse:0.10784\n",
      "[636]\ttrain-rmse:0.10573\ttest-rmse:0.10732\n",
      "[637]\ttrain-rmse:0.10525\ttest-rmse:0.10707\n",
      "[638]\ttrain-rmse:0.10495\ttest-rmse:0.10705\n",
      "[639]\ttrain-rmse:0.10438\ttest-rmse:0.10682\n",
      "[640]\ttrain-rmse:0.10407\ttest-rmse:0.10692\n",
      "[641]\ttrain-rmse:0.10380\ttest-rmse:0.10667\n",
      "[642]\ttrain-rmse:0.10341\ttest-rmse:0.10649\n",
      "[643]\ttrain-rmse:0.10297\ttest-rmse:0.10626\n",
      "[644]\ttrain-rmse:0.10261\ttest-rmse:0.10616\n",
      "[645]\ttrain-rmse:0.10227\ttest-rmse:0.10604\n",
      "[646]\ttrain-rmse:0.10192\ttest-rmse:0.10584\n",
      "[647]\ttrain-rmse:0.10150\ttest-rmse:0.10577\n",
      "[648]\ttrain-rmse:0.10103\ttest-rmse:0.10550\n",
      "[649]\ttrain-rmse:0.10053\ttest-rmse:0.10530\n",
      "[650]\ttrain-rmse:0.10017\ttest-rmse:0.10507\n",
      "[651]\ttrain-rmse:0.09961\ttest-rmse:0.10460\n",
      "[652]\ttrain-rmse:0.09910\ttest-rmse:0.10428\n",
      "[653]\ttrain-rmse:0.09875\ttest-rmse:0.10419\n",
      "[654]\ttrain-rmse:0.09819\ttest-rmse:0.10396\n",
      "[655]\ttrain-rmse:0.09795\ttest-rmse:0.10390\n",
      "[656]\ttrain-rmse:0.09743\ttest-rmse:0.10368\n",
      "[657]\ttrain-rmse:0.09691\ttest-rmse:0.10347\n",
      "[658]\ttrain-rmse:0.09642\ttest-rmse:0.10327\n",
      "[659]\ttrain-rmse:0.09608\ttest-rmse:0.10295\n",
      "[660]\ttrain-rmse:0.09560\ttest-rmse:0.10264\n",
      "[661]\ttrain-rmse:0.09530\ttest-rmse:0.10251\n",
      "[662]\ttrain-rmse:0.09500\ttest-rmse:0.10224\n",
      "[663]\ttrain-rmse:0.09451\ttest-rmse:0.10209\n",
      "[664]\ttrain-rmse:0.09400\ttest-rmse:0.10189\n",
      "[665]\ttrain-rmse:0.09368\ttest-rmse:0.10160\n",
      "[666]\ttrain-rmse:0.09327\ttest-rmse:0.10159\n",
      "[667]\ttrain-rmse:0.09288\ttest-rmse:0.10140\n",
      "[668]\ttrain-rmse:0.09249\ttest-rmse:0.10120\n",
      "[669]\ttrain-rmse:0.09217\ttest-rmse:0.10108\n",
      "[670]\ttrain-rmse:0.09177\ttest-rmse:0.10099\n",
      "[671]\ttrain-rmse:0.09148\ttest-rmse:0.10071\n",
      "[672]\ttrain-rmse:0.09127\ttest-rmse:0.10051\n",
      "[673]\ttrain-rmse:0.09088\ttest-rmse:0.10046\n",
      "[674]\ttrain-rmse:0.09063\ttest-rmse:0.10042\n",
      "[675]\ttrain-rmse:0.09014\ttest-rmse:0.10039\n",
      "[676]\ttrain-rmse:0.08981\ttest-rmse:0.10021\n",
      "[677]\ttrain-rmse:0.08953\ttest-rmse:0.10014\n",
      "[678]\ttrain-rmse:0.08935\ttest-rmse:0.10017\n",
      "[679]\ttrain-rmse:0.08884\ttest-rmse:0.10001\n",
      "[680]\ttrain-rmse:0.08856\ttest-rmse:0.09993\n",
      "[681]\ttrain-rmse:0.08828\ttest-rmse:0.09985\n",
      "[682]\ttrain-rmse:0.08805\ttest-rmse:0.09979\n",
      "[683]\ttrain-rmse:0.08780\ttest-rmse:0.09974\n",
      "[684]\ttrain-rmse:0.08747\ttest-rmse:0.09965\n",
      "[685]\ttrain-rmse:0.08731\ttest-rmse:0.09965\n",
      "[686]\ttrain-rmse:0.08691\ttest-rmse:0.09968\n",
      "[687]\ttrain-rmse:0.08664\ttest-rmse:0.09962\n",
      "[688]\ttrain-rmse:0.08628\ttest-rmse:0.09946\n",
      "[689]\ttrain-rmse:0.08594\ttest-rmse:0.09929\n",
      "[690]\ttrain-rmse:0.08553\ttest-rmse:0.09925\n",
      "[691]\ttrain-rmse:0.08536\ttest-rmse:0.09913\n",
      "[692]\ttrain-rmse:0.08511\ttest-rmse:0.09906\n",
      "[693]\ttrain-rmse:0.08466\ttest-rmse:0.09879\n",
      "[694]\ttrain-rmse:0.08426\ttest-rmse:0.09861\n",
      "[695]\ttrain-rmse:0.08405\ttest-rmse:0.09870\n",
      "[696]\ttrain-rmse:0.08361\ttest-rmse:0.09861\n",
      "[697]\ttrain-rmse:0.08327\ttest-rmse:0.09857\n",
      "[698]\ttrain-rmse:0.08286\ttest-rmse:0.09849\n",
      "[699]\ttrain-rmse:0.08246\ttest-rmse:0.09832\n",
      "[700]\ttrain-rmse:0.08216\ttest-rmse:0.09813\n",
      "[701]\ttrain-rmse:0.08194\ttest-rmse:0.09807\n",
      "[702]\ttrain-rmse:0.08165\ttest-rmse:0.09791\n",
      "[703]\ttrain-rmse:0.08127\ttest-rmse:0.09778\n",
      "[704]\ttrain-rmse:0.08108\ttest-rmse:0.09786\n",
      "[705]\ttrain-rmse:0.08094\ttest-rmse:0.09797\n",
      "[706]\ttrain-rmse:0.08054\ttest-rmse:0.09785\n",
      "[707]\ttrain-rmse:0.08039\ttest-rmse:0.09766\n",
      "[708]\ttrain-rmse:0.08002\ttest-rmse:0.09757\n",
      "[709]\ttrain-rmse:0.07987\ttest-rmse:0.09749\n",
      "[710]\ttrain-rmse:0.07957\ttest-rmse:0.09746\n",
      "[711]\ttrain-rmse:0.07925\ttest-rmse:0.09722\n",
      "[712]\ttrain-rmse:0.07889\ttest-rmse:0.09718\n",
      "[713]\ttrain-rmse:0.07868\ttest-rmse:0.09730\n",
      "[714]\ttrain-rmse:0.07853\ttest-rmse:0.09742\n",
      "[715]\ttrain-rmse:0.07834\ttest-rmse:0.09739\n",
      "[716]\ttrain-rmse:0.07798\ttest-rmse:0.09720\n",
      "[717]\ttrain-rmse:0.07763\ttest-rmse:0.09705\n",
      "[718]\ttrain-rmse:0.07741\ttest-rmse:0.09698\n",
      "[719]\ttrain-rmse:0.07707\ttest-rmse:0.09681\n",
      "[720]\ttrain-rmse:0.07689\ttest-rmse:0.09670\n",
      "[721]\ttrain-rmse:0.07671\ttest-rmse:0.09662\n",
      "[722]\ttrain-rmse:0.07631\ttest-rmse:0.09646\n",
      "[723]\ttrain-rmse:0.07611\ttest-rmse:0.09631\n",
      "[724]\ttrain-rmse:0.07571\ttest-rmse:0.09615\n",
      "[725]\ttrain-rmse:0.07532\ttest-rmse:0.09592\n",
      "[726]\ttrain-rmse:0.07511\ttest-rmse:0.09577\n",
      "[727]\ttrain-rmse:0.07492\ttest-rmse:0.09575\n",
      "[728]\ttrain-rmse:0.07451\ttest-rmse:0.09551\n",
      "[729]\ttrain-rmse:0.07412\ttest-rmse:0.09535\n",
      "[730]\ttrain-rmse:0.07381\ttest-rmse:0.09528\n",
      "[731]\ttrain-rmse:0.07348\ttest-rmse:0.09513\n",
      "[732]\ttrain-rmse:0.07317\ttest-rmse:0.09490\n",
      "[733]\ttrain-rmse:0.07296\ttest-rmse:0.09475\n",
      "[734]\ttrain-rmse:0.07265\ttest-rmse:0.09460\n",
      "[735]\ttrain-rmse:0.07250\ttest-rmse:0.09469\n",
      "[736]\ttrain-rmse:0.07219\ttest-rmse:0.09466\n",
      "[737]\ttrain-rmse:0.07182\ttest-rmse:0.09452\n",
      "[738]\ttrain-rmse:0.07150\ttest-rmse:0.09438\n",
      "[739]\ttrain-rmse:0.07112\ttest-rmse:0.09423\n",
      "[740]\ttrain-rmse:0.07087\ttest-rmse:0.09419\n",
      "[741]\ttrain-rmse:0.07057\ttest-rmse:0.09405\n",
      "[742]\ttrain-rmse:0.07037\ttest-rmse:0.09391\n",
      "[743]\ttrain-rmse:0.07026\ttest-rmse:0.09383\n",
      "[744]\ttrain-rmse:0.06994\ttest-rmse:0.09359\n",
      "[745]\ttrain-rmse:0.06982\ttest-rmse:0.09350\n",
      "[746]\ttrain-rmse:0.06952\ttest-rmse:0.09355\n",
      "[747]\ttrain-rmse:0.06932\ttest-rmse:0.09359\n",
      "[748]\ttrain-rmse:0.06900\ttest-rmse:0.09332\n",
      "[749]\ttrain-rmse:0.06884\ttest-rmse:0.09310\n",
      "[750]\ttrain-rmse:0.06864\ttest-rmse:0.09316\n",
      "[751]\ttrain-rmse:0.06829\ttest-rmse:0.09298\n",
      "[752]\ttrain-rmse:0.06809\ttest-rmse:0.09271\n",
      "[753]\ttrain-rmse:0.06772\ttest-rmse:0.09248\n",
      "[754]\ttrain-rmse:0.06756\ttest-rmse:0.09251\n",
      "[755]\ttrain-rmse:0.06731\ttest-rmse:0.09246\n",
      "[756]\ttrain-rmse:0.06702\ttest-rmse:0.09236\n"
     ]
    },
    {
     "name": "stdout",
     "output_type": "stream",
     "text": [
      "[757]\ttrain-rmse:0.06695\ttest-rmse:0.09232\n",
      "[758]\ttrain-rmse:0.06660\ttest-rmse:0.09219\n",
      "[759]\ttrain-rmse:0.06627\ttest-rmse:0.09209\n",
      "[760]\ttrain-rmse:0.06622\ttest-rmse:0.09212\n",
      "[761]\ttrain-rmse:0.06589\ttest-rmse:0.09190\n",
      "[762]\ttrain-rmse:0.06577\ttest-rmse:0.09188\n",
      "[763]\ttrain-rmse:0.06547\ttest-rmse:0.09175\n",
      "[764]\ttrain-rmse:0.06527\ttest-rmse:0.09161\n",
      "[765]\ttrain-rmse:0.06511\ttest-rmse:0.09165\n",
      "[766]\ttrain-rmse:0.06495\ttest-rmse:0.09152\n",
      "[767]\ttrain-rmse:0.06483\ttest-rmse:0.09151\n",
      "[768]\ttrain-rmse:0.06452\ttest-rmse:0.09138\n",
      "[769]\ttrain-rmse:0.06417\ttest-rmse:0.09110\n",
      "[770]\ttrain-rmse:0.06387\ttest-rmse:0.09083\n",
      "[771]\ttrain-rmse:0.06358\ttest-rmse:0.09079\n",
      "[772]\ttrain-rmse:0.06324\ttest-rmse:0.09066\n",
      "[773]\ttrain-rmse:0.06309\ttest-rmse:0.09057\n",
      "[774]\ttrain-rmse:0.06277\ttest-rmse:0.09037\n",
      "[775]\ttrain-rmse:0.06261\ttest-rmse:0.09026\n",
      "[776]\ttrain-rmse:0.06249\ttest-rmse:0.09025\n",
      "[777]\ttrain-rmse:0.06221\ttest-rmse:0.09031\n",
      "[778]\ttrain-rmse:0.06215\ttest-rmse:0.09022\n",
      "[779]\ttrain-rmse:0.06187\ttest-rmse:0.09010\n",
      "[780]\ttrain-rmse:0.06170\ttest-rmse:0.09001\n",
      "[781]\ttrain-rmse:0.06139\ttest-rmse:0.08992\n",
      "[782]\ttrain-rmse:0.06107\ttest-rmse:0.08980\n",
      "[783]\ttrain-rmse:0.06094\ttest-rmse:0.08981\n",
      "[784]\ttrain-rmse:0.06070\ttest-rmse:0.08977\n",
      "[785]\ttrain-rmse:0.06042\ttest-rmse:0.08959\n",
      "[786]\ttrain-rmse:0.06024\ttest-rmse:0.08940\n",
      "[787]\ttrain-rmse:0.05994\ttest-rmse:0.08920\n",
      "[788]\ttrain-rmse:0.05983\ttest-rmse:0.08921\n",
      "[789]\ttrain-rmse:0.05956\ttest-rmse:0.08909\n",
      "[790]\ttrain-rmse:0.05945\ttest-rmse:0.08904\n",
      "[791]\ttrain-rmse:0.05933\ttest-rmse:0.08904\n",
      "[792]\ttrain-rmse:0.05919\ttest-rmse:0.08891\n",
      "[793]\ttrain-rmse:0.05894\ttest-rmse:0.08880\n",
      "[794]\ttrain-rmse:0.05867\ttest-rmse:0.08872\n",
      "[795]\ttrain-rmse:0.05856\ttest-rmse:0.08872\n",
      "[796]\ttrain-rmse:0.05847\ttest-rmse:0.08880\n",
      "[797]\ttrain-rmse:0.05818\ttest-rmse:0.08870\n",
      "[798]\ttrain-rmse:0.05793\ttest-rmse:0.08857\n",
      "[799]\ttrain-rmse:0.05782\ttest-rmse:0.08858\n",
      "[800]\ttrain-rmse:0.05755\ttest-rmse:0.08847\n",
      "[801]\ttrain-rmse:0.05729\ttest-rmse:0.08835\n",
      "[802]\ttrain-rmse:0.05704\ttest-rmse:0.08850\n",
      "[803]\ttrain-rmse:0.05674\ttest-rmse:0.08833\n",
      "[804]\ttrain-rmse:0.05658\ttest-rmse:0.08838\n",
      "[805]\ttrain-rmse:0.05633\ttest-rmse:0.08830\n",
      "[806]\ttrain-rmse:0.05622\ttest-rmse:0.08832\n",
      "[807]\ttrain-rmse:0.05593\ttest-rmse:0.08838\n",
      "[808]\ttrain-rmse:0.05577\ttest-rmse:0.08826\n",
      "[809]\ttrain-rmse:0.05548\ttest-rmse:0.08816\n",
      "[810]\ttrain-rmse:0.05531\ttest-rmse:0.08817\n",
      "[811]\ttrain-rmse:0.05525\ttest-rmse:0.08809\n",
      "[812]\ttrain-rmse:0.05510\ttest-rmse:0.08798\n",
      "[813]\ttrain-rmse:0.05488\ttest-rmse:0.08788\n",
      "[814]\ttrain-rmse:0.05466\ttest-rmse:0.08776\n",
      "[815]\ttrain-rmse:0.05442\ttest-rmse:0.08790\n",
      "[816]\ttrain-rmse:0.05418\ttest-rmse:0.08786\n",
      "[817]\ttrain-rmse:0.05397\ttest-rmse:0.08770\n",
      "[818]\ttrain-rmse:0.05369\ttest-rmse:0.08759\n",
      "[819]\ttrain-rmse:0.05342\ttest-rmse:0.08746\n",
      "[820]\ttrain-rmse:0.05331\ttest-rmse:0.08742\n",
      "[821]\ttrain-rmse:0.05308\ttest-rmse:0.08743\n",
      "[822]\ttrain-rmse:0.05293\ttest-rmse:0.08732\n",
      "[823]\ttrain-rmse:0.05272\ttest-rmse:0.08724\n",
      "[824]\ttrain-rmse:0.05263\ttest-rmse:0.08725\n",
      "[825]\ttrain-rmse:0.05257\ttest-rmse:0.08726\n",
      "[826]\ttrain-rmse:0.05237\ttest-rmse:0.08721\n",
      "[827]\ttrain-rmse:0.05213\ttest-rmse:0.08710\n",
      "[828]\ttrain-rmse:0.05193\ttest-rmse:0.08702\n",
      "[829]\ttrain-rmse:0.05179\ttest-rmse:0.08691\n",
      "[830]\ttrain-rmse:0.05171\ttest-rmse:0.08698\n",
      "[831]\ttrain-rmse:0.05163\ttest-rmse:0.08698\n",
      "[832]\ttrain-rmse:0.05139\ttest-rmse:0.08686\n",
      "[833]\ttrain-rmse:0.05131\ttest-rmse:0.08687\n",
      "[834]\ttrain-rmse:0.05106\ttest-rmse:0.08671\n",
      "[835]\ttrain-rmse:0.05083\ttest-rmse:0.08667\n",
      "[836]\ttrain-rmse:0.05060\ttest-rmse:0.08650\n",
      "[837]\ttrain-rmse:0.05036\ttest-rmse:0.08640\n",
      "[838]\ttrain-rmse:0.05026\ttest-rmse:0.08647\n",
      "[839]\ttrain-rmse:0.05017\ttest-rmse:0.08656\n",
      "[840]\ttrain-rmse:0.04998\ttest-rmse:0.08650\n",
      "[841]\ttrain-rmse:0.04978\ttest-rmse:0.08635\n",
      "[842]\ttrain-rmse:0.04958\ttest-rmse:0.08627\n",
      "[843]\ttrain-rmse:0.04934\ttest-rmse:0.08614\n",
      "[844]\ttrain-rmse:0.04912\ttest-rmse:0.08605\n",
      "[845]\ttrain-rmse:0.04891\ttest-rmse:0.08590\n",
      "[846]\ttrain-rmse:0.04866\ttest-rmse:0.08575\n",
      "[847]\ttrain-rmse:0.04841\ttest-rmse:0.08565\n",
      "[848]\ttrain-rmse:0.04816\ttest-rmse:0.08555\n",
      "[849]\ttrain-rmse:0.04810\ttest-rmse:0.08563\n",
      "[850]\ttrain-rmse:0.04801\ttest-rmse:0.08565\n",
      "[851]\ttrain-rmse:0.04777\ttest-rmse:0.08555\n",
      "[852]\ttrain-rmse:0.04755\ttest-rmse:0.08544\n",
      "[853]\ttrain-rmse:0.04734\ttest-rmse:0.08533\n",
      "[854]\ttrain-rmse:0.04714\ttest-rmse:0.08531\n",
      "[855]\ttrain-rmse:0.04691\ttest-rmse:0.08522\n",
      "[856]\ttrain-rmse:0.04673\ttest-rmse:0.08514\n",
      "[857]\ttrain-rmse:0.04663\ttest-rmse:0.08518\n",
      "[858]\ttrain-rmse:0.04640\ttest-rmse:0.08511\n",
      "[859]\ttrain-rmse:0.04620\ttest-rmse:0.08496\n",
      "[860]\ttrain-rmse:0.04596\ttest-rmse:0.08503\n",
      "[861]\ttrain-rmse:0.04589\ttest-rmse:0.08504\n",
      "[862]\ttrain-rmse:0.04573\ttest-rmse:0.08501\n",
      "[863]\ttrain-rmse:0.04553\ttest-rmse:0.08489\n",
      "[864]\ttrain-rmse:0.04540\ttest-rmse:0.08479\n",
      "[865]\ttrain-rmse:0.04517\ttest-rmse:0.08470\n",
      "[866]\ttrain-rmse:0.04504\ttest-rmse:0.08462\n",
      "[867]\ttrain-rmse:0.04481\ttest-rmse:0.08453\n",
      "[868]\ttrain-rmse:0.04462\ttest-rmse:0.08466\n",
      "[869]\ttrain-rmse:0.04452\ttest-rmse:0.08457\n",
      "[870]\ttrain-rmse:0.04444\ttest-rmse:0.08471\n",
      "[871]\ttrain-rmse:0.04443\ttest-rmse:0.08470\n",
      "[872]\ttrain-rmse:0.04423\ttest-rmse:0.08460\n",
      "[873]\ttrain-rmse:0.04416\ttest-rmse:0.08458\n",
      "[874]\ttrain-rmse:0.04401\ttest-rmse:0.08460\n",
      "[875]\ttrain-rmse:0.04380\ttest-rmse:0.08450\n",
      "[876]\ttrain-rmse:0.04363\ttest-rmse:0.08442\n",
      "[877]\ttrain-rmse:0.04340\ttest-rmse:0.08428\n",
      "[878]\ttrain-rmse:0.04318\ttest-rmse:0.08419\n",
      "[879]\ttrain-rmse:0.04296\ttest-rmse:0.08410\n",
      "[880]\ttrain-rmse:0.04276\ttest-rmse:0.08400\n",
      "[881]\ttrain-rmse:0.04273\ttest-rmse:0.08393\n",
      "[882]\ttrain-rmse:0.04254\ttest-rmse:0.08386\n",
      "[883]\ttrain-rmse:0.04244\ttest-rmse:0.08378\n",
      "[884]\ttrain-rmse:0.04228\ttest-rmse:0.08373\n",
      "[885]\ttrain-rmse:0.04224\ttest-rmse:0.08368\n",
      "[886]\ttrain-rmse:0.04204\ttest-rmse:0.08353\n",
      "[887]\ttrain-rmse:0.04198\ttest-rmse:0.08354\n",
      "[888]\ttrain-rmse:0.04180\ttest-rmse:0.08346\n",
      "[889]\ttrain-rmse:0.04172\ttest-rmse:0.08347\n",
      "[890]\ttrain-rmse:0.04160\ttest-rmse:0.08341\n",
      "[891]\ttrain-rmse:0.04154\ttest-rmse:0.08340\n",
      "[892]\ttrain-rmse:0.04147\ttest-rmse:0.08343\n",
      "[893]\ttrain-rmse:0.04127\ttest-rmse:0.08333\n",
      "[894]\ttrain-rmse:0.04109\ttest-rmse:0.08326\n",
      "[895]\ttrain-rmse:0.04104\ttest-rmse:0.08326\n",
      "[896]\ttrain-rmse:0.04087\ttest-rmse:0.08317\n",
      "[897]\ttrain-rmse:0.04069\ttest-rmse:0.08310\n",
      "[898]\ttrain-rmse:0.04051\ttest-rmse:0.08300\n",
      "[899]\ttrain-rmse:0.04033\ttest-rmse:0.08297\n",
      "[900]\ttrain-rmse:0.04027\ttest-rmse:0.08299\n",
      "[901]\ttrain-rmse:0.04019\ttest-rmse:0.08294\n",
      "[902]\ttrain-rmse:0.03998\ttest-rmse:0.08286\n",
      "[903]\ttrain-rmse:0.03984\ttest-rmse:0.08272\n",
      "[904]\ttrain-rmse:0.03964\ttest-rmse:0.08260\n",
      "[905]\ttrain-rmse:0.03945\ttest-rmse:0.08250\n",
      "[906]\ttrain-rmse:0.03938\ttest-rmse:0.08254\n",
      "[907]\ttrain-rmse:0.03919\ttest-rmse:0.08244\n",
      "[908]\ttrain-rmse:0.03899\ttest-rmse:0.08241\n",
      "[909]\ttrain-rmse:0.03893\ttest-rmse:0.08240\n",
      "[910]\ttrain-rmse:0.03873\ttest-rmse:0.08232\n",
      "[911]\ttrain-rmse:0.03857\ttest-rmse:0.08230\n",
      "[912]\ttrain-rmse:0.03840\ttest-rmse:0.08227\n",
      "[913]\ttrain-rmse:0.03835\ttest-rmse:0.08231\n",
      "[914]\ttrain-rmse:0.03825\ttest-rmse:0.08227\n",
      "[915]\ttrain-rmse:0.03811\ttest-rmse:0.08225\n",
      "[916]\ttrain-rmse:0.03792\ttest-rmse:0.08218\n",
      "[917]\ttrain-rmse:0.03773\ttest-rmse:0.08210\n",
      "[918]\ttrain-rmse:0.03756\ttest-rmse:0.08198\n",
      "[919]\ttrain-rmse:0.03739\ttest-rmse:0.08190\n",
      "[920]\ttrain-rmse:0.03724\ttest-rmse:0.08189\n",
      "[921]\ttrain-rmse:0.03721\ttest-rmse:0.08196\n",
      "[922]\ttrain-rmse:0.03708\ttest-rmse:0.08190\n",
      "[923]\ttrain-rmse:0.03699\ttest-rmse:0.08184\n",
      "[924]\ttrain-rmse:0.03681\ttest-rmse:0.08177\n",
      "[925]\ttrain-rmse:0.03669\ttest-rmse:0.08183\n",
      "[926]\ttrain-rmse:0.03664\ttest-rmse:0.08174\n",
      "[927]\ttrain-rmse:0.03646\ttest-rmse:0.08168\n",
      "[928]\ttrain-rmse:0.03635\ttest-rmse:0.08163\n",
      "[929]\ttrain-rmse:0.03629\ttest-rmse:0.08150\n",
      "[930]\ttrain-rmse:0.03611\ttest-rmse:0.08143\n",
      "[931]\ttrain-rmse:0.03593\ttest-rmse:0.08146\n",
      "[932]\ttrain-rmse:0.03578\ttest-rmse:0.08138\n",
      "[933]\ttrain-rmse:0.03560\ttest-rmse:0.08133\n",
      "[934]\ttrain-rmse:0.03554\ttest-rmse:0.08124\n",
      "[935]\ttrain-rmse:0.03548\ttest-rmse:0.08116\n",
      "[936]\ttrain-rmse:0.03533\ttest-rmse:0.08109\n",
      "[937]\ttrain-rmse:0.03519\ttest-rmse:0.08102\n",
      "[938]\ttrain-rmse:0.03508\ttest-rmse:0.08098\n",
      "[939]\ttrain-rmse:0.03501\ttest-rmse:0.08089\n",
      "[940]\ttrain-rmse:0.03499\ttest-rmse:0.08083\n",
      "[941]\ttrain-rmse:0.03493\ttest-rmse:0.08091\n",
      "[942]\ttrain-rmse:0.03479\ttest-rmse:0.08085\n",
      "[943]\ttrain-rmse:0.03465\ttest-rmse:0.08082\n",
      "[944]\ttrain-rmse:0.03461\ttest-rmse:0.08082\n",
      "[945]\ttrain-rmse:0.03452\ttest-rmse:0.08072\n",
      "[946]\ttrain-rmse:0.03442\ttest-rmse:0.08073\n",
      "[947]\ttrain-rmse:0.03438\ttest-rmse:0.08075\n"
     ]
    },
    {
     "name": "stdout",
     "output_type": "stream",
     "text": [
      "[948]\ttrain-rmse:0.03423\ttest-rmse:0.08066\n",
      "[949]\ttrain-rmse:0.03406\ttest-rmse:0.08061\n",
      "[950]\ttrain-rmse:0.03390\ttest-rmse:0.08057\n",
      "[951]\ttrain-rmse:0.03379\ttest-rmse:0.08048\n",
      "[952]\ttrain-rmse:0.03364\ttest-rmse:0.08041\n",
      "[953]\ttrain-rmse:0.03348\ttest-rmse:0.08037\n",
      "[954]\ttrain-rmse:0.03340\ttest-rmse:0.08033\n",
      "[955]\ttrain-rmse:0.03323\ttest-rmse:0.08023\n",
      "[956]\ttrain-rmse:0.03320\ttest-rmse:0.08024\n",
      "[957]\ttrain-rmse:0.03316\ttest-rmse:0.08025\n",
      "[958]\ttrain-rmse:0.03304\ttest-rmse:0.08021\n",
      "[959]\ttrain-rmse:0.03288\ttest-rmse:0.08012\n",
      "[960]\ttrain-rmse:0.03275\ttest-rmse:0.08011\n",
      "[961]\ttrain-rmse:0.03258\ttest-rmse:0.08004\n",
      "[962]\ttrain-rmse:0.03248\ttest-rmse:0.08002\n",
      "[963]\ttrain-rmse:0.03245\ttest-rmse:0.08003\n",
      "[964]\ttrain-rmse:0.03244\ttest-rmse:0.07998\n",
      "[965]\ttrain-rmse:0.03237\ttest-rmse:0.07992\n",
      "[966]\ttrain-rmse:0.03232\ttest-rmse:0.07994\n",
      "[967]\ttrain-rmse:0.03229\ttest-rmse:0.07996\n",
      "[968]\ttrain-rmse:0.03216\ttest-rmse:0.07990\n",
      "[969]\ttrain-rmse:0.03204\ttest-rmse:0.07983\n",
      "[970]\ttrain-rmse:0.03188\ttest-rmse:0.07970\n",
      "[971]\ttrain-rmse:0.03172\ttest-rmse:0.07962\n",
      "[972]\ttrain-rmse:0.03169\ttest-rmse:0.07963\n",
      "[973]\ttrain-rmse:0.03166\ttest-rmse:0.07961\n",
      "[974]\ttrain-rmse:0.03160\ttest-rmse:0.07957\n",
      "[975]\ttrain-rmse:0.03146\ttest-rmse:0.07947\n",
      "[976]\ttrain-rmse:0.03143\ttest-rmse:0.07949\n",
      "[977]\ttrain-rmse:0.03139\ttest-rmse:0.07951\n",
      "[978]\ttrain-rmse:0.03130\ttest-rmse:0.07945\n",
      "[979]\ttrain-rmse:0.03116\ttest-rmse:0.07939\n",
      "[980]\ttrain-rmse:0.03104\ttest-rmse:0.07928\n",
      "[981]\ttrain-rmse:0.03088\ttest-rmse:0.07919\n",
      "[982]\ttrain-rmse:0.03086\ttest-rmse:0.07920\n",
      "[983]\ttrain-rmse:0.03083\ttest-rmse:0.07923\n",
      "[984]\ttrain-rmse:0.03069\ttest-rmse:0.07918\n",
      "[985]\ttrain-rmse:0.03065\ttest-rmse:0.07920\n",
      "[986]\ttrain-rmse:0.03063\ttest-rmse:0.07917\n",
      "[987]\ttrain-rmse:0.03057\ttest-rmse:0.07909\n",
      "[988]\ttrain-rmse:0.03043\ttest-rmse:0.07897\n",
      "[989]\ttrain-rmse:0.03040\ttest-rmse:0.07897\n",
      "[990]\ttrain-rmse:0.03031\ttest-rmse:0.07892\n",
      "[991]\ttrain-rmse:0.03031\ttest-rmse:0.07891\n",
      "[992]\ttrain-rmse:0.03030\ttest-rmse:0.07888\n",
      "[993]\ttrain-rmse:0.03019\ttest-rmse:0.07884\n",
      "[994]\ttrain-rmse:0.03007\ttest-rmse:0.07881\n",
      "[995]\ttrain-rmse:0.03004\ttest-rmse:0.07885\n",
      "[996]\ttrain-rmse:0.03002\ttest-rmse:0.07885\n",
      "[997]\ttrain-rmse:0.02987\ttest-rmse:0.07876\n",
      "[998]\ttrain-rmse:0.02974\ttest-rmse:0.07870\n",
      "[999]\ttrain-rmse:0.02971\ttest-rmse:0.07873\n",
      "[16:52:44] WARNING: C:/Users/Administrator/workspace/xgboost-win64_release_1.2.0/src/objective/regression_obj.cu:174: reg:linear is now deprecated in favor of reg:squarederror.\n"
     ]
    }
   ],
   "source": [
    "dtrain = xgb.DMatrix(X_train[predictors], y_train)\n",
    "dtest = xgb.DMatrix(X_test[predictors], y_test)\n",
    "\n",
    "watchlist = [(dtrain, 'train'), (dtest, 'test')]\n",
    "\n",
    "xgb_model = xgb.train(params, dtrain, 1000, evals = watchlist,\n",
    "                      early_stopping_rounds = 50, verbose_eval = True)"
   ]
  },
  {
   "cell_type": "code",
   "execution_count": 395,
   "metadata": {},
   "outputs": [],
   "source": [
    "yhat = xgb_model.predict(xgb.DMatrix(X_test[predictors]))\n",
    "#error = rmspe(X_test.Sales.values, np.exp(yhat))"
   ]
  },
  {
   "cell_type": "code",
   "execution_count": 411,
   "metadata": {},
   "outputs": [
    {
     "name": "stdout",
     "output_type": "stream",
     "text": [
      "<class 'pandas.core.frame.DataFrame'>\n",
      "Int64Index: 9 entries, 27 to 12\n",
      "Data columns (total 4 columns):\n",
      "Year     9 non-null int64\n",
      "Month    9 non-null int64\n",
      "Day      9 non-null int64\n",
      "Week     9 non-null int64\n",
      "dtypes: int64(4)\n",
      "memory usage: 360.0 bytes\n"
     ]
    }
   ],
   "source": [
    "X_test[predictors]\n",
    "X_test[predictors].info()"
   ]
  },
  {
   "cell_type": "code",
   "execution_count": 420,
   "metadata": {},
   "outputs": [
    {
     "data": {
      "text/html": [
       "<div>\n",
       "<style scoped>\n",
       "    .dataframe tbody tr th:only-of-type {\n",
       "        vertical-align: middle;\n",
       "    }\n",
       "\n",
       "    .dataframe tbody tr th {\n",
       "        vertical-align: top;\n",
       "    }\n",
       "\n",
       "    .dataframe thead th {\n",
       "        text-align: right;\n",
       "    }\n",
       "</style>\n",
       "<table border=\"1\" class=\"dataframe\">\n",
       "  <thead>\n",
       "    <tr style=\"text-align: right;\">\n",
       "      <th></th>\n",
       "      <th>BUSINESS_DATE</th>\n",
       "      <th>NET_AMOUNT</th>\n",
       "      <th>Year</th>\n",
       "      <th>Month</th>\n",
       "      <th>Day</th>\n",
       "      <th>Week</th>\n",
       "      <th>predicted sales</th>\n",
       "      <th>actual sales</th>\n",
       "    </tr>\n",
       "  </thead>\n",
       "  <tbody>\n",
       "    <tr>\n",
       "      <td>27</td>\n",
       "      <td>2020-08-28</td>\n",
       "      <td>13595276.00</td>\n",
       "      <td>2020</td>\n",
       "      <td>8</td>\n",
       "      <td>28</td>\n",
       "      <td>35</td>\n",
       "      <td>16.342045</td>\n",
       "      <td>16.425233</td>\n",
       "    </tr>\n",
       "    <tr>\n",
       "      <td>15</td>\n",
       "      <td>2020-08-16</td>\n",
       "      <td>13252483.66</td>\n",
       "      <td>2020</td>\n",
       "      <td>8</td>\n",
       "      <td>16</td>\n",
       "      <td>33</td>\n",
       "      <td>16.354830</td>\n",
       "      <td>16.399696</td>\n",
       "    </tr>\n",
       "    <tr>\n",
       "      <td>23</td>\n",
       "      <td>2020-08-24</td>\n",
       "      <td>11022228.99</td>\n",
       "      <td>2020</td>\n",
       "      <td>8</td>\n",
       "      <td>24</td>\n",
       "      <td>35</td>\n",
       "      <td>16.214157</td>\n",
       "      <td>16.215425</td>\n",
       "    </tr>\n",
       "    <tr>\n",
       "      <td>17</td>\n",
       "      <td>2020-08-18</td>\n",
       "      <td>10928549.46</td>\n",
       "      <td>2020</td>\n",
       "      <td>8</td>\n",
       "      <td>18</td>\n",
       "      <td>34</td>\n",
       "      <td>16.249973</td>\n",
       "      <td>16.206889</td>\n",
       "    </tr>\n",
       "    <tr>\n",
       "      <td>8</td>\n",
       "      <td>2020-08-09</td>\n",
       "      <td>11898715.50</td>\n",
       "      <td>2020</td>\n",
       "      <td>8</td>\n",
       "      <td>9</td>\n",
       "      <td>32</td>\n",
       "      <td>16.327358</td>\n",
       "      <td>16.291941</td>\n",
       "    </tr>\n",
       "    <tr>\n",
       "      <td>9</td>\n",
       "      <td>2020-08-10</td>\n",
       "      <td>11108390.57</td>\n",
       "      <td>2020</td>\n",
       "      <td>8</td>\n",
       "      <td>10</td>\n",
       "      <td>33</td>\n",
       "      <td>16.298546</td>\n",
       "      <td>16.223211</td>\n",
       "    </tr>\n",
       "    <tr>\n",
       "      <td>28</td>\n",
       "      <td>2020-08-29</td>\n",
       "      <td>15018761.88</td>\n",
       "      <td>2020</td>\n",
       "      <td>8</td>\n",
       "      <td>29</td>\n",
       "      <td>35</td>\n",
       "      <td>16.442684</td>\n",
       "      <td>16.524811</td>\n",
       "    </tr>\n",
       "    <tr>\n",
       "      <td>24</td>\n",
       "      <td>2020-08-25</td>\n",
       "      <td>11087731.60</td>\n",
       "      <td>2020</td>\n",
       "      <td>8</td>\n",
       "      <td>25</td>\n",
       "      <td>35</td>\n",
       "      <td>16.230085</td>\n",
       "      <td>16.221350</td>\n",
       "    </tr>\n",
       "    <tr>\n",
       "      <td>12</td>\n",
       "      <td>2020-08-13</td>\n",
       "      <td>11038635.91</td>\n",
       "      <td>2020</td>\n",
       "      <td>8</td>\n",
       "      <td>13</td>\n",
       "      <td>33</td>\n",
       "      <td>16.393654</td>\n",
       "      <td>16.216912</td>\n",
       "    </tr>\n",
       "  </tbody>\n",
       "</table>\n",
       "</div>"
      ],
      "text/plain": [
       "   BUSINESS_DATE   NET_AMOUNT  Year  Month  Day  Week  predicted sales  \\\n",
       "27    2020-08-28  13595276.00  2020      8   28    35        16.342045   \n",
       "15    2020-08-16  13252483.66  2020      8   16    33        16.354830   \n",
       "23    2020-08-24  11022228.99  2020      8   24    35        16.214157   \n",
       "17    2020-08-18  10928549.46  2020      8   18    34        16.249973   \n",
       "8     2020-08-09  11898715.50  2020      8    9    32        16.327358   \n",
       "9     2020-08-10  11108390.57  2020      8   10    33        16.298546   \n",
       "28    2020-08-29  15018761.88  2020      8   29    35        16.442684   \n",
       "24    2020-08-25  11087731.60  2020      8   25    35        16.230085   \n",
       "12    2020-08-13  11038635.91  2020      8   13    33        16.393654   \n",
       "\n",
       "    actual sales  \n",
       "27     16.425233  \n",
       "15     16.399696  \n",
       "23     16.215425  \n",
       "17     16.206889  \n",
       "8      16.291941  \n",
       "9      16.223211  \n",
       "28     16.524811  \n",
       "24     16.221350  \n",
       "12     16.216912  "
      ]
     },
     "execution_count": 420,
     "metadata": {},
     "output_type": "execute_result"
    }
   ],
   "source": [
    "X_test['predicted sales'] = xgb_model.predict(xgb.DMatrix(X_test[predictors]))\n",
    "X_test['actual sales'] = np.log(X_test.NET_AMOUNT.values)\n",
    "X_test.head(15)"
   ]
  },
  {
   "cell_type": "code",
   "execution_count": 461,
   "metadata": {},
   "outputs": [
    {
     "data": {
      "text/html": [
       "<div>\n",
       "<style scoped>\n",
       "    .dataframe tbody tr th:only-of-type {\n",
       "        vertical-align: middle;\n",
       "    }\n",
       "\n",
       "    .dataframe tbody tr th {\n",
       "        vertical-align: top;\n",
       "    }\n",
       "\n",
       "    .dataframe thead th {\n",
       "        text-align: right;\n",
       "    }\n",
       "</style>\n",
       "<table border=\"1\" class=\"dataframe\">\n",
       "  <thead>\n",
       "    <tr style=\"text-align: right;\">\n",
       "      <th></th>\n",
       "      <th>BUSINESS_DATE</th>\n",
       "      <th>NET_AMOUNT</th>\n",
       "      <th>Year</th>\n",
       "      <th>Month</th>\n",
       "      <th>Day</th>\n",
       "      <th>Week</th>\n",
       "      <th>predicted sales</th>\n",
       "      <th>actual sales</th>\n",
       "      <th>predict_sales</th>\n",
       "      <th>act_sales</th>\n",
       "      <th>predict_sales_real</th>\n",
       "      <th>act_sales_real</th>\n",
       "    </tr>\n",
       "  </thead>\n",
       "  <tbody>\n",
       "    <tr>\n",
       "      <td>27</td>\n",
       "      <td>2020-08-28</td>\n",
       "      <td>13595276.00</td>\n",
       "      <td>2020</td>\n",
       "      <td>8</td>\n",
       "      <td>28</td>\n",
       "      <td>35</td>\n",
       "      <td>16.342045</td>\n",
       "      <td>16.425233</td>\n",
       "      <td>16.342045</td>\n",
       "      <td>16.425233</td>\n",
       "      <td>12510074.0</td>\n",
       "      <td>13595276.00</td>\n",
       "    </tr>\n",
       "    <tr>\n",
       "      <td>15</td>\n",
       "      <td>2020-08-16</td>\n",
       "      <td>13252483.66</td>\n",
       "      <td>2020</td>\n",
       "      <td>8</td>\n",
       "      <td>16</td>\n",
       "      <td>33</td>\n",
       "      <td>16.354830</td>\n",
       "      <td>16.399696</td>\n",
       "      <td>16.354830</td>\n",
       "      <td>16.399696</td>\n",
       "      <td>12671042.0</td>\n",
       "      <td>13252483.66</td>\n",
       "    </tr>\n",
       "    <tr>\n",
       "      <td>23</td>\n",
       "      <td>2020-08-24</td>\n",
       "      <td>11022228.99</td>\n",
       "      <td>2020</td>\n",
       "      <td>8</td>\n",
       "      <td>24</td>\n",
       "      <td>35</td>\n",
       "      <td>16.214157</td>\n",
       "      <td>16.215425</td>\n",
       "      <td>16.214157</td>\n",
       "      <td>16.215425</td>\n",
       "      <td>11008267.0</td>\n",
       "      <td>11022228.99</td>\n",
       "    </tr>\n",
       "    <tr>\n",
       "      <td>17</td>\n",
       "      <td>2020-08-18</td>\n",
       "      <td>10928549.46</td>\n",
       "      <td>2020</td>\n",
       "      <td>8</td>\n",
       "      <td>18</td>\n",
       "      <td>34</td>\n",
       "      <td>16.249973</td>\n",
       "      <td>16.206889</td>\n",
       "      <td>16.249973</td>\n",
       "      <td>16.206889</td>\n",
       "      <td>11409687.0</td>\n",
       "      <td>10928549.46</td>\n",
       "    </tr>\n",
       "    <tr>\n",
       "      <td>8</td>\n",
       "      <td>2020-08-09</td>\n",
       "      <td>11898715.50</td>\n",
       "      <td>2020</td>\n",
       "      <td>8</td>\n",
       "      <td>9</td>\n",
       "      <td>32</td>\n",
       "      <td>16.327358</td>\n",
       "      <td>16.291941</td>\n",
       "      <td>16.327358</td>\n",
       "      <td>16.291941</td>\n",
       "      <td>12327687.0</td>\n",
       "      <td>11898715.50</td>\n",
       "    </tr>\n",
       "    <tr>\n",
       "      <td>9</td>\n",
       "      <td>2020-08-10</td>\n",
       "      <td>11108390.57</td>\n",
       "      <td>2020</td>\n",
       "      <td>8</td>\n",
       "      <td>10</td>\n",
       "      <td>33</td>\n",
       "      <td>16.298546</td>\n",
       "      <td>16.223211</td>\n",
       "      <td>16.298546</td>\n",
       "      <td>16.223211</td>\n",
       "      <td>11977565.0</td>\n",
       "      <td>11108390.57</td>\n",
       "    </tr>\n",
       "    <tr>\n",
       "      <td>28</td>\n",
       "      <td>2020-08-29</td>\n",
       "      <td>15018761.88</td>\n",
       "      <td>2020</td>\n",
       "      <td>8</td>\n",
       "      <td>29</td>\n",
       "      <td>35</td>\n",
       "      <td>16.442684</td>\n",
       "      <td>16.524811</td>\n",
       "      <td>16.442684</td>\n",
       "      <td>16.524811</td>\n",
       "      <td>13834613.0</td>\n",
       "      <td>15018761.88</td>\n",
       "    </tr>\n",
       "    <tr>\n",
       "      <td>24</td>\n",
       "      <td>2020-08-25</td>\n",
       "      <td>11087731.60</td>\n",
       "      <td>2020</td>\n",
       "      <td>8</td>\n",
       "      <td>25</td>\n",
       "      <td>35</td>\n",
       "      <td>16.230085</td>\n",
       "      <td>16.221350</td>\n",
       "      <td>16.230085</td>\n",
       "      <td>16.221350</td>\n",
       "      <td>11185014.0</td>\n",
       "      <td>11087731.60</td>\n",
       "    </tr>\n",
       "    <tr>\n",
       "      <td>12</td>\n",
       "      <td>2020-08-13</td>\n",
       "      <td>11038635.91</td>\n",
       "      <td>2020</td>\n",
       "      <td>8</td>\n",
       "      <td>13</td>\n",
       "      <td>33</td>\n",
       "      <td>16.393654</td>\n",
       "      <td>16.216912</td>\n",
       "      <td>16.393654</td>\n",
       "      <td>16.216912</td>\n",
       "      <td>13172658.0</td>\n",
       "      <td>11038635.91</td>\n",
       "    </tr>\n",
       "  </tbody>\n",
       "</table>\n",
       "</div>"
      ],
      "text/plain": [
       "   BUSINESS_DATE   NET_AMOUNT  Year  Month  Day  Week  predicted sales  \\\n",
       "27    2020-08-28  13595276.00  2020      8   28    35        16.342045   \n",
       "15    2020-08-16  13252483.66  2020      8   16    33        16.354830   \n",
       "23    2020-08-24  11022228.99  2020      8   24    35        16.214157   \n",
       "17    2020-08-18  10928549.46  2020      8   18    34        16.249973   \n",
       "8     2020-08-09  11898715.50  2020      8    9    32        16.327358   \n",
       "9     2020-08-10  11108390.57  2020      8   10    33        16.298546   \n",
       "28    2020-08-29  15018761.88  2020      8   29    35        16.442684   \n",
       "24    2020-08-25  11087731.60  2020      8   25    35        16.230085   \n",
       "12    2020-08-13  11038635.91  2020      8   13    33        16.393654   \n",
       "\n",
       "    actual sales  predict_sales  act_sales  predict_sales_real  act_sales_real  \n",
       "27     16.425233      16.342045  16.425233          12510074.0     13595276.00  \n",
       "15     16.399696      16.354830  16.399696          12671042.0     13252483.66  \n",
       "23     16.215425      16.214157  16.215425          11008267.0     11022228.99  \n",
       "17     16.206889      16.249973  16.206889          11409687.0     10928549.46  \n",
       "8      16.291941      16.327358  16.291941          12327687.0     11898715.50  \n",
       "9      16.223211      16.298546  16.223211          11977565.0     11108390.57  \n",
       "28     16.524811      16.442684  16.524811          13834613.0     15018761.88  \n",
       "24     16.221350      16.230085  16.221350          11185014.0     11087731.60  \n",
       "12     16.216912      16.393654  16.216912          13172658.0     11038635.91  "
      ]
     },
     "execution_count": 461,
     "metadata": {},
     "output_type": "execute_result"
    }
   ],
   "source": [
    "X_test['predict_sales'] = xgb_model.predict(xgb.DMatrix(X_test[predictors]))\n",
    "X_test['act_sales'] = np.log(X_test.NET_AMOUNT.values)\n",
    "#X_test.head(15)\n",
    "X_test['predict_sales_real'] = np.exp(X_test['predict_sales'])\n",
    "X_test['act_sales_real'] = np.exp(X_test['act_sales'])\n",
    "X_test.head(15)"
   ]
  },
  {
   "cell_type": "code",
   "execution_count": 428,
   "metadata": {},
   "outputs": [],
   "source": [
    "df_testing = pd.DataFrame() \n",
    "  \n",
    "  \n",
    "# append columns to an empty DataFrame \n",
    "df_testing['Year'] = [2020, 2021, 2022] \n",
    "df_testing['Month'] = [8, 8, 8] \n",
    "df_testing['Day'] = [22, 23, 100] \n",
    "df_testing['Week'] = [35,45,30]"
   ]
  },
  {
   "cell_type": "code",
   "execution_count": 429,
   "metadata": {},
   "outputs": [
    {
     "data": {
      "text/html": [
       "<div>\n",
       "<style scoped>\n",
       "    .dataframe tbody tr th:only-of-type {\n",
       "        vertical-align: middle;\n",
       "    }\n",
       "\n",
       "    .dataframe tbody tr th {\n",
       "        vertical-align: top;\n",
       "    }\n",
       "\n",
       "    .dataframe thead th {\n",
       "        text-align: right;\n",
       "    }\n",
       "</style>\n",
       "<table border=\"1\" class=\"dataframe\">\n",
       "  <thead>\n",
       "    <tr style=\"text-align: right;\">\n",
       "      <th></th>\n",
       "      <th>Year</th>\n",
       "      <th>Month</th>\n",
       "      <th>Day</th>\n",
       "      <th>Week</th>\n",
       "    </tr>\n",
       "  </thead>\n",
       "  <tbody>\n",
       "    <tr>\n",
       "      <td>0</td>\n",
       "      <td>2020</td>\n",
       "      <td>8</td>\n",
       "      <td>22</td>\n",
       "      <td>35</td>\n",
       "    </tr>\n",
       "    <tr>\n",
       "      <td>1</td>\n",
       "      <td>2021</td>\n",
       "      <td>8</td>\n",
       "      <td>23</td>\n",
       "      <td>45</td>\n",
       "    </tr>\n",
       "    <tr>\n",
       "      <td>2</td>\n",
       "      <td>2022</td>\n",
       "      <td>8</td>\n",
       "      <td>100</td>\n",
       "      <td>30</td>\n",
       "    </tr>\n",
       "  </tbody>\n",
       "</table>\n",
       "</div>"
      ],
      "text/plain": [
       "   Year  Month  Day  Week\n",
       "0  2020      8   22    35\n",
       "1  2021      8   23    45\n",
       "2  2022      8  100    30"
      ]
     },
     "execution_count": 429,
     "metadata": {},
     "output_type": "execute_result"
    }
   ],
   "source": [
    "df_testing"
   ]
  },
  {
   "cell_type": "code",
   "execution_count": 430,
   "metadata": {},
   "outputs": [],
   "source": [
    "pred = [x for x in df_testing.columns if x  in ['Day' , 'Month' , 'Week' , 'Year']]\n"
   ]
  },
  {
   "cell_type": "code",
   "execution_count": 436,
   "metadata": {},
   "outputs": [
    {
     "data": {
      "text/html": [
       "<div>\n",
       "<style scoped>\n",
       "    .dataframe tbody tr th:only-of-type {\n",
       "        vertical-align: middle;\n",
       "    }\n",
       "\n",
       "    .dataframe tbody tr th {\n",
       "        vertical-align: top;\n",
       "    }\n",
       "\n",
       "    .dataframe thead th {\n",
       "        text-align: right;\n",
       "    }\n",
       "</style>\n",
       "<table border=\"1\" class=\"dataframe\">\n",
       "  <thead>\n",
       "    <tr style=\"text-align: right;\">\n",
       "      <th></th>\n",
       "      <th>Year</th>\n",
       "      <th>Month</th>\n",
       "      <th>Day</th>\n",
       "      <th>Week</th>\n",
       "      <th>predict_sales</th>\n",
       "      <th>predict_sales_real</th>\n",
       "    </tr>\n",
       "  </thead>\n",
       "  <tbody>\n",
       "    <tr>\n",
       "      <td>0</td>\n",
       "      <td>2020</td>\n",
       "      <td>8</td>\n",
       "      <td>22</td>\n",
       "      <td>35</td>\n",
       "      <td>16.239548</td>\n",
       "      <td>11291353.0</td>\n",
       "    </tr>\n",
       "    <tr>\n",
       "      <td>1</td>\n",
       "      <td>2021</td>\n",
       "      <td>8</td>\n",
       "      <td>23</td>\n",
       "      <td>45</td>\n",
       "      <td>16.218449</td>\n",
       "      <td>11055611.0</td>\n",
       "    </tr>\n",
       "    <tr>\n",
       "      <td>2</td>\n",
       "      <td>2022</td>\n",
       "      <td>8</td>\n",
       "      <td>100</td>\n",
       "      <td>30</td>\n",
       "      <td>16.470463</td>\n",
       "      <td>14224307.0</td>\n",
       "    </tr>\n",
       "  </tbody>\n",
       "</table>\n",
       "</div>"
      ],
      "text/plain": [
       "   Year  Month  Day  Week  predict_sales  predict_sales_real\n",
       "0  2020      8   22    35      16.239548          11291353.0\n",
       "1  2021      8   23    45      16.218449          11055611.0\n",
       "2  2022      8  100    30      16.470463          14224307.0"
      ]
     },
     "execution_count": 436,
     "metadata": {},
     "output_type": "execute_result"
    }
   ],
   "source": [
    "df_testing['predict_sales'] = xgb_model.predict(xgb.DMatrix(df_testing[pred]))\n",
    "df_testing['predict_sales_real'] = np.exp(df_testing['predict_sales'])\n",
    "df_testing.head(15)"
   ]
  },
  {
   "cell_type": "code",
   "execution_count": 458,
   "metadata": {},
   "outputs": [
    {
     "data": {
      "text/plain": [
       "<matplotlib.axes._subplots.AxesSubplot at 0x1ad7c47de08>"
      ]
     },
     "execution_count": 458,
     "metadata": {},
     "output_type": "execute_result"
    },
    {
     "data": {
      "image/png": "[encoded data removed]",
      "text/plain": [
       "<Figure size 720x360 with 1 Axes>"
      ]
     },
     "metadata": {
      "needs_background": "light"
     },
     "output_type": "display_data"
    }
   ],
   "source": [
    "X_test.plot(x='BUSINESS_DATE', y=['predict_sales_real', 'act_sales_real'], figsize=(10,5), grid=True)"
   ]
  },
  {
   "cell_type": "code",
   "execution_count": 449,
   "metadata": {},
   "outputs": [
    {
     "data": {
      "text/plain": [
       "27    16.425233\n",
       "15    16.399696\n",
       "23    16.215425\n",
       "17    16.206889\n",
       "8     16.291941\n",
       "9     16.223211\n",
       "28    16.524811\n",
       "24    16.221350\n",
       "12    16.216912\n",
       "Name: NET_AMOUNT, dtype: float64"
      ]
     },
     "execution_count": 449,
     "metadata": {},
     "output_type": "execute_result"
    }
   ],
   "source": [
    "y_test"
   ]
  },
  {
   "cell_type": "code",
   "execution_count": 457,
   "metadata": {},
   "outputs": [
    {
     "data": {
      "text/plain": [
       "0.5437294393162808"
      ]
     },
     "execution_count": 457,
     "metadata": {},
     "output_type": "execute_result"
    }
   ],
   "source": [
    "from sklearn.metrics import accuracy_score\n",
    "from sklearn.metrics import explained_variance_score\n",
    "accuracy = explained_variance_score(y_test, X_test['predict_sales'])\n",
    "accuracy"
   ]
  },
  {
   "cell_type": "code",
   "execution_count": 456,
   "metadata": {},
   "outputs": [
    {
     "data": {
      "text/html": [
       "<div>\n",
       "<style scoped>\n",
       "    .dataframe tbody tr th:only-of-type {\n",
       "        vertical-align: middle;\n",
       "    }\n",
       "\n",
       "    .dataframe tbody tr th {\n",
       "        vertical-align: top;\n",
       "    }\n",
       "\n",
       "    .dataframe thead th {\n",
       "        text-align: right;\n",
       "    }\n",
       "</style>\n",
       "<table border=\"1\" class=\"dataframe\">\n",
       "  <thead>\n",
       "    <tr style=\"text-align: right;\">\n",
       "      <th></th>\n",
       "      <th>BUSINESS_DATE</th>\n",
       "      <th>NET_AMOUNT</th>\n",
       "      <th>Year</th>\n",
       "      <th>Month</th>\n",
       "      <th>Day</th>\n",
       "      <th>Week</th>\n",
       "      <th>predicted sales</th>\n",
       "      <th>actual sales</th>\n",
       "      <th>predict_sales</th>\n",
       "      <th>act_sales</th>\n",
       "      <th>predict_sales_real</th>\n",
       "      <th>act_sales_real</th>\n",
       "    </tr>\n",
       "  </thead>\n",
       "  <tbody>\n",
       "    <tr>\n",
       "      <td>27</td>\n",
       "      <td>2020-08-28</td>\n",
       "      <td>13595276.00</td>\n",
       "      <td>2020</td>\n",
       "      <td>8</td>\n",
       "      <td>28</td>\n",
       "      <td>35</td>\n",
       "      <td>16.342045</td>\n",
       "      <td>16.425233</td>\n",
       "      <td>16.354085</td>\n",
       "      <td>16.425233</td>\n",
       "      <td>1.266161e+07</td>\n",
       "      <td>13595276.00</td>\n",
       "    </tr>\n",
       "    <tr>\n",
       "      <td>15</td>\n",
       "      <td>2020-08-16</td>\n",
       "      <td>13252483.66</td>\n",
       "      <td>2020</td>\n",
       "      <td>8</td>\n",
       "      <td>16</td>\n",
       "      <td>33</td>\n",
       "      <td>16.354830</td>\n",
       "      <td>16.399696</td>\n",
       "      <td>16.430763</td>\n",
       "      <td>16.399696</td>\n",
       "      <td>1.367066e+07</td>\n",
       "      <td>13252483.66</td>\n",
       "    </tr>\n",
       "    <tr>\n",
       "      <td>23</td>\n",
       "      <td>2020-08-24</td>\n",
       "      <td>11022228.99</td>\n",
       "      <td>2020</td>\n",
       "      <td>8</td>\n",
       "      <td>24</td>\n",
       "      <td>35</td>\n",
       "      <td>16.214157</td>\n",
       "      <td>16.215425</td>\n",
       "      <td>16.164354</td>\n",
       "      <td>16.215425</td>\n",
       "      <td>1.047345e+07</td>\n",
       "      <td>11022228.99</td>\n",
       "    </tr>\n",
       "    <tr>\n",
       "      <td>17</td>\n",
       "      <td>2020-08-18</td>\n",
       "      <td>10928549.46</td>\n",
       "      <td>2020</td>\n",
       "      <td>8</td>\n",
       "      <td>18</td>\n",
       "      <td>34</td>\n",
       "      <td>16.249973</td>\n",
       "      <td>16.206889</td>\n",
       "      <td>16.202693</td>\n",
       "      <td>16.206889</td>\n",
       "      <td>1.088279e+07</td>\n",
       "      <td>10928549.46</td>\n",
       "    </tr>\n",
       "    <tr>\n",
       "      <td>8</td>\n",
       "      <td>2020-08-09</td>\n",
       "      <td>11898715.50</td>\n",
       "      <td>2020</td>\n",
       "      <td>8</td>\n",
       "      <td>9</td>\n",
       "      <td>32</td>\n",
       "      <td>16.327358</td>\n",
       "      <td>16.291941</td>\n",
       "      <td>16.421669</td>\n",
       "      <td>16.291941</td>\n",
       "      <td>1.354691e+07</td>\n",
       "      <td>11898715.50</td>\n",
       "    </tr>\n",
       "    <tr>\n",
       "      <td>9</td>\n",
       "      <td>2020-08-10</td>\n",
       "      <td>11108390.57</td>\n",
       "      <td>2020</td>\n",
       "      <td>8</td>\n",
       "      <td>10</td>\n",
       "      <td>33</td>\n",
       "      <td>16.298546</td>\n",
       "      <td>16.223211</td>\n",
       "      <td>16.146167</td>\n",
       "      <td>16.223211</td>\n",
       "      <td>1.028469e+07</td>\n",
       "      <td>11108390.57</td>\n",
       "    </tr>\n",
       "    <tr>\n",
       "      <td>28</td>\n",
       "      <td>2020-08-29</td>\n",
       "      <td>15018761.88</td>\n",
       "      <td>2020</td>\n",
       "      <td>8</td>\n",
       "      <td>29</td>\n",
       "      <td>35</td>\n",
       "      <td>16.442684</td>\n",
       "      <td>16.524811</td>\n",
       "      <td>16.401518</td>\n",
       "      <td>16.524811</td>\n",
       "      <td>1.327666e+07</td>\n",
       "      <td>15018761.88</td>\n",
       "    </tr>\n",
       "    <tr>\n",
       "      <td>24</td>\n",
       "      <td>2020-08-25</td>\n",
       "      <td>11087731.60</td>\n",
       "      <td>2020</td>\n",
       "      <td>8</td>\n",
       "      <td>25</td>\n",
       "      <td>35</td>\n",
       "      <td>16.230085</td>\n",
       "      <td>16.221350</td>\n",
       "      <td>16.211787</td>\n",
       "      <td>16.221350</td>\n",
       "      <td>1.098221e+07</td>\n",
       "      <td>11087731.60</td>\n",
       "    </tr>\n",
       "    <tr>\n",
       "      <td>12</td>\n",
       "      <td>2020-08-13</td>\n",
       "      <td>11038635.91</td>\n",
       "      <td>2020</td>\n",
       "      <td>8</td>\n",
       "      <td>13</td>\n",
       "      <td>33</td>\n",
       "      <td>16.393654</td>\n",
       "      <td>16.216912</td>\n",
       "      <td>16.288465</td>\n",
       "      <td>16.216912</td>\n",
       "      <td>1.185742e+07</td>\n",
       "      <td>11038635.91</td>\n",
       "    </tr>\n",
       "  </tbody>\n",
       "</table>\n",
       "</div>"
      ],
      "text/plain": [
       "   BUSINESS_DATE   NET_AMOUNT  Year  Month  Day  Week  predicted sales  \\\n",
       "27    2020-08-28  13595276.00  2020      8   28    35        16.342045   \n",
       "15    2020-08-16  13252483.66  2020      8   16    33        16.354830   \n",
       "23    2020-08-24  11022228.99  2020      8   24    35        16.214157   \n",
       "17    2020-08-18  10928549.46  2020      8   18    34        16.249973   \n",
       "8     2020-08-09  11898715.50  2020      8    9    32        16.327358   \n",
       "9     2020-08-10  11108390.57  2020      8   10    33        16.298546   \n",
       "28    2020-08-29  15018761.88  2020      8   29    35        16.442684   \n",
       "24    2020-08-25  11087731.60  2020      8   25    35        16.230085   \n",
       "12    2020-08-13  11038635.91  2020      8   13    33        16.393654   \n",
       "\n",
       "    actual sales  predict_sales  act_sales  predict_sales_real  act_sales_real  \n",
       "27     16.425233      16.354085  16.425233        1.266161e+07     13595276.00  \n",
       "15     16.399696      16.430763  16.399696        1.367066e+07     13252483.66  \n",
       "23     16.215425      16.164354  16.215425        1.047345e+07     11022228.99  \n",
       "17     16.206889      16.202693  16.206889        1.088279e+07     10928549.46  \n",
       "8      16.291941      16.421669  16.291941        1.354691e+07     11898715.50  \n",
       "9      16.223211      16.146167  16.223211        1.028469e+07     11108390.57  \n",
       "28     16.524811      16.401518  16.524811        1.327666e+07     15018761.88  \n",
       "24     16.221350      16.211787  16.221350        1.098221e+07     11087731.60  \n",
       "12     16.216912      16.288465  16.216912        1.185742e+07     11038635.91  "
      ]
     },
     "execution_count": 456,
     "metadata": {},
     "output_type": "execute_result"
    }
   ],
   "source": [
    "X_test['predict_sales'] = model.predict((X_test[predictors]))\n",
    "X_test['act_sales'] = np.log(X_test.NET_AMOUNT.values)\n",
    "#X_test.head(15)\n",
    "X_test['predict_sales_real'] = np.exp(X_test['predict_sales'])\n",
    "X_test['act_sales_real'] = np.exp(X_test['act_sales'])\n",
    "X_test.head(15)"
   ]
  },
  {
   "cell_type": "code",
   "execution_count": 462,
   "metadata": {},
   "outputs": [],
   "source": [
    "import pickle\n",
    "pickle_out = open(\"classifier_xgb.pkl\",\"wb\")\n",
    "pickle.dump(xgb_model, pickle_out)\n",
    "pickle_out.close()"
   ]
  },
  {
   "cell_type": "code",
   "execution_count": null,
   "metadata": {},
   "outputs": [],
   "source": []
  }
 ],
 "metadata": {
  "kernelspec": {
   "display_name": "Python 3",
   "language": "python",
   "name": "python3"
  },
  "language_info": {
   "codemirror_mode": {
    "name": "ipython",
    "version": 3
   },
   "file_extension": ".py",
   "mimetype": "text/x-python",
   "name": "python",
   "nbconvert_exporter": "python",
   "pygments_lexer": "ipython3",
   "version": "3.7.4"
  }
 },
 "nbformat": 4,
 "nbformat_minor": 2
}
